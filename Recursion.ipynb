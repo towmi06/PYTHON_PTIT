{
 "cells": [
  {
   "cell_type": "code",
   "execution_count": 8,
   "id": "34076585-4a87-45e7-8a46-1d2d2f12b5c5",
   "metadata": {},
   "outputs": [
    {
     "name": "stdin",
     "output_type": "stream",
     "text": [
      " 773\n"
     ]
    },
    {
     "name": "stdout",
     "output_type": "stream",
     "text": [
      "299151\n"
     ]
    }
   ],
   "source": [
    "#S(n) = 1 + 2 + 3 + 4 + .. + n\n",
    "from math import*\n",
    "\n",
    "def S(n):\n",
    "    if n == 0:\n",
    "        return 0\n",
    "    else:\n",
    "        return n + S(n - 1)\n",
    "\n",
    "n = int(input())\n",
    "print(S(n))"
   ]
  },
  {
   "cell_type": "code",
   "execution_count": 10,
   "id": "d1ba6c55-c6ee-4f23-aa59-7bba45c3a791",
   "metadata": {},
   "outputs": [
    {
     "name": "stdin",
     "output_type": "stream",
     "text": [
      " 53\n"
     ]
    },
    {
     "name": "stdout",
     "output_type": "stream",
     "text": [
      "51039\n"
     ]
    }
   ],
   "source": [
    "#S(n) = 1^2 + 2^2 + 3^2 + 4^2 + .. + n^2 \n",
    "from math import*\n",
    "\n",
    "def s2(n):\n",
    "    if n == 1:\n",
    "        return n\n",
    "    return n ** 2 + s2(n-1)\n",
    "n = int(input())\n",
    "print (s2(n))"
   ]
  },
  {
   "cell_type": "code",
   "execution_count": 12,
   "id": "264e65eb-89ec-48ea-94d1-f8130a13da62",
   "metadata": {},
   "outputs": [
    {
     "name": "stdin",
     "output_type": "stream",
     "text": [
      " 435\n"
     ]
    },
    {
     "name": "stdout",
     "output_type": "stream",
     "text": [
      "8992728900\n"
     ]
    }
   ],
   "source": [
    "# tong mu 3# \n",
    "from math import*\n",
    "def s3(n):\n",
    "    if n == 1:\n",
    "        return n\n",
    "    return n**3 + s3(n-1)\n",
    "\n",
    "n = int(input())\n",
    "print(s3(n))\n"
   ]
  },
  {
   "cell_type": "code",
   "execution_count": 22,
   "id": "c1fce957-0a2e-4361-befa-bc9c4b9cb964",
   "metadata": {},
   "outputs": [
    {
     "name": "stdin",
     "output_type": "stream",
     "text": [
      " 919\n"
     ]
    },
    {
     "name": "stdout",
     "output_type": "stream",
     "text": [
      "-460\n"
     ]
    }
   ],
   "source": [
    "#chan cong le tru\n",
    "from math import*\n",
    "\n",
    "def s4(n):\n",
    "    if n == 0:\n",
    "        return 0\n",
    "    if n% 2 != 0:\n",
    "        return n *(-1) + s4(n-1)\n",
    "    return n + s4(n-1)\n",
    "n = int(input())\n",
    "print(s4(n))"
   ]
  },
  {
   "cell_type": "code",
   "execution_count": 24,
   "id": "648d2c74-03dd-4852-b503-8a80db64984a",
   "metadata": {},
   "outputs": [
    {
     "name": "stdin",
     "output_type": "stream",
     "text": [
      " 6\n"
     ]
    },
    {
     "name": "stdout",
     "output_type": "stream",
     "text": [
      "720\n"
     ]
    }
   ],
   "source": [
    "from math import*\n",
    "\n",
    "def gt(n):\n",
    "    if n == 0:\n",
    "        return 1\n",
    "    return n * gt(n-1)\n",
    "\n",
    "n = int(input())\n",
    "print(gt(n))"
   ]
  },
  {
   "cell_type": "code",
   "execution_count": 30,
   "id": "7e006540-bcda-4070-bbc8-02d7e5f1d379",
   "metadata": {},
   "outputs": [
    {
     "name": "stdin",
     "output_type": "stream",
     "text": [
      " 5\n"
     ]
    },
    {
     "name": "stdout",
     "output_type": "stream",
     "text": [
      "3\n"
     ]
    }
   ],
   "source": [
    "#fibo \n",
    "from math import*\n",
    "def fibo(n):\n",
    "    if n == 1 or n ==2:\n",
    "        return n -1 \n",
    "    return fibo(n-1) + fibo(n-2)\n",
    "n = int(input())\n",
    "print(fibo(n))"
   ]
  },
  {
   "cell_type": "code",
   "execution_count": 44,
   "id": "b6746dd2-2f80-44f9-8b65-d1f5ac5616b1",
   "metadata": {},
   "outputs": [
    {
     "name": "stdin",
     "output_type": "stream",
     "text": [
      " 10 2\n"
     ]
    },
    {
     "name": "stdout",
     "output_type": "stream",
     "text": [
      "45\n"
     ]
    }
   ],
   "source": [
    "#to hop \n",
    "from math import*\n",
    "\n",
    "def C (n,k):\n",
    "    if k == 0 or k == n:\n",
    "        return 1\n",
    "    return C(n -1, k -1) + C(n-1 , k )\n",
    "n, k = map(int,input().split())\n",
    "print (C(n,k))"
   ]
  },
  {
   "cell_type": "code",
   "execution_count": 50,
   "id": "fa6b13e6-4a01-4f4b-a78a-c923781d8100",
   "metadata": {},
   "outputs": [
    {
     "name": "stdin",
     "output_type": "stream",
     "text": [
      " 10 20\n"
     ]
    },
    {
     "name": "stdout",
     "output_type": "stream",
     "text": [
      "10 20\n"
     ]
    }
   ],
   "source": [
    "from math import*\n",
    "\n",
    "def gcd(a,b):\n",
    "    if  b == 0:\n",
    "        return a\n",
    "    return gcd(b, a% b)\n",
    "a,b = map(int,input().split())\n",
    "c = gcd(a,b)\n",
    "print(c,  a // c * b )"
   ]
  },
  {
   "cell_type": "code",
   "execution_count": 58,
   "id": "31e1aa24-d641-48f9-a1cd-fdc04069bf30",
   "metadata": {},
   "outputs": [
    {
     "name": "stdin",
     "output_type": "stream",
     "text": [
      " 18\n"
     ]
    },
    {
     "name": "stdout",
     "output_type": "stream",
     "text": [
      "3.495\n"
     ]
    }
   ],
   "source": [
    "# S(n) = 1/1 + 1/2 + 1/3 + ... + 1/n\n",
    "\n",
    "from math import*\n",
    "def s5(n):\n",
    "    if n == 0:\n",
    "        return 0\n",
    "    return 1/n + s5(n-1)\n",
    "\n",
    "n = int(input())\n",
    "print (f\"{s5(n):.3f}\")"
   ]
  },
  {
   "cell_type": "code",
   "execution_count": 64,
   "id": "bf1cc172-360d-4977-8f56-e3f810f43d7c",
   "metadata": {},
   "outputs": [
    {
     "name": "stdin",
     "output_type": "stream",
     "text": [
      " 7\n"
     ]
    },
    {
     "name": "stdout",
     "output_type": "stream",
     "text": [
      "111"
     ]
    }
   ],
   "source": [
    "from math import*\n",
    "\n",
    "def deToBi(n):\n",
    "    if n < 2:\n",
    "        print (n, end = '')\n",
    "        return\n",
    "    deToBi(n // 2)\n",
    "    print ( n % 2, end= '')\n",
    "n = int(input())\n",
    "deToBi(n)"
   ]
  },
  {
   "cell_type": "code",
   "execution_count": 68,
   "id": "1f2cb7c5-4a56-45ba-bb49-d402f27d4b43",
   "metadata": {},
   "outputs": [
    {
     "name": "stdin",
     "output_type": "stream",
     "text": [
      " 995\n"
     ]
    },
    {
     "name": "stdout",
     "output_type": "stream",
     "text": [
      "3E3\n"
     ]
    }
   ],
   "source": [
    "def deToTh(n):\n",
    "    if n < 16:\n",
    "        if n < 10:\n",
    "            return chr(n + ord('0'))\n",
    "        else:\n",
    "            return chr(n + 55)\n",
    "    return deToTh( n // 16) + ( chr(n % 16 + ord('0')) if n % 16 < 10 else chr(n % 16 + 55))\n",
    "\n",
    "n = int(input())\n",
    "print(deToTh(n))"
   ]
  },
  {
   "cell_type": "code",
   "execution_count": 78,
   "id": "f5adba52-eef9-445b-8bb7-0149b3b9f473",
   "metadata": {},
   "outputs": [
    {
     "name": "stdin",
     "output_type": "stream",
     "text": [
      " 12345\n"
     ]
    },
    {
     "name": "stdout",
     "output_type": "stream",
     "text": [
      "1\n"
     ]
    }
   ],
   "source": [
    "#tong chu so cua n \n",
    "# chu so dau tien \\\n",
    "\n",
    "def s1(n):\n",
    "    if n < 10:\n",
    "        return n\n",
    "    return n % 10 + s(n//10)\n",
    "def s2(n):# dem \n",
    "    if n < 10:\n",
    "        return 1\n",
    "    return 1+ s(n//10)\n",
    "\n",
    "n = int(input())\n",
    "print(s(n))\n",
    "def s3(n):\n",
    "    if n < 10:\n",
    "        return n\n",
    "    return s(n//10)\n",
    "\n",
    "n = int(input())\n",
    "print(s(n))"
   ]
  },
  {
   "cell_type": "code",
   "execution_count": 84,
   "id": "5f76a8b5-6a1d-4a4a-a75d-111c1c6ab4ec",
   "metadata": {},
   "outputs": [
    {
     "name": "stdin",
     "output_type": "stream",
     "text": [
      " 2280820\n"
     ]
    },
    {
     "name": "stdout",
     "output_type": "stream",
     "text": [
      "YES\n"
     ]
    }
   ],
   "source": [
    "def check(n):\n",
    "    if n == 0:\n",
    "        return 1\n",
    "    r = n% 10\n",
    "    if r % 2 != 0:\n",
    "        return 0\n",
    "    return check(n // 10)\n",
    "\n",
    "n = int(input())\n",
    "\n",
    "if check(n):\n",
    "    print('YES')\n",
    "else:\n",
    "    print('NO')\n",
    "        \n",
    "        "
   ]
  },
  {
   "cell_type": "code",
   "execution_count": 4,
   "id": "e7cc3f6c-702a-465d-b054-a9d0882eff8a",
   "metadata": {},
   "outputs": [
    {
     "name": "stdin",
     "output_type": "stream",
     "text": [
      " 1256782\n"
     ]
    },
    {
     "name": "stdout",
     "output_type": "stream",
     "text": [
      "8 1 "
     ]
    }
   ],
   "source": [
    "def maxD(n):\n",
    "    r = n % 10\n",
    "    if n == 0:\n",
    "        return 0\n",
    "    return max( r, maxD(n // 10))\n",
    "\n",
    "def minD(n):\n",
    "    if n == 0:\n",
    "        return 9\n",
    "    r = n % 10\n",
    "    return min(r, minD(n // 10))\n",
    "\n",
    "n = int(input())\n",
    "print (maxD(n),minD(n), end =' ')"
   ]
  },
  {
   "cell_type": "code",
   "execution_count": 16,
   "id": "b4fe58dd-2f29-4b21-9f35-e2527c068613",
   "metadata": {},
   "outputs": [
    {
     "name": "stdin",
     "output_type": "stream",
     "text": [
      " 123456\n"
     ]
    },
    {
     "name": "stdout",
     "output_type": "stream",
     "text": [
      "12\n",
      "9\n"
     ]
    }
   ],
   "source": [
    "# Tong chu so chan le \n",
    "def sum(n):\n",
    "    if n == 0:\n",
    "        return 0\n",
    "    r = n % 10\n",
    "    return (r if r % 2 == 0 else 0) + sum(n // 10)\n",
    "\n",
    "def sumO(n):\n",
    "    if n == 0:\n",
    "        return 0\n",
    "    r = n % 10\n",
    "    return (r if r % 2 != 0 else 0) + sumO(n // 10)\n",
    "\n",
    "n = int(input())\n",
    "print(sum(n))\n",
    "print(sumO(n))\n"
   ]
  },
  {
   "cell_type": "code",
   "execution_count": 30,
   "id": "04d1d4b2-fa4e-45f5-a876-97601b6c95cb",
   "metadata": {},
   "outputs": [
    {
     "name": "stdin",
     "output_type": "stream",
     "text": [
      " 2 10\n"
     ]
    },
    {
     "name": "stdout",
     "output_type": "stream",
     "text": [
      "1024\n"
     ]
    }
   ],
   "source": [
    "def lthuaNP(a, b):\n",
    "    if b == 0: \n",
    "        return 1\n",
    "    k = lthuaNP(a, b // 2) \n",
    "    k = (k * k) % mod\n",
    "    return k if b % 2 == 0 else (k * a) % mod\n",
    "\n",
    "mod = 10**9 + 7\n",
    "\n",
    "a, b = map(int, input().split())\n",
    "print(lthuaNP(a, b))\n"
   ]
  },
  {
   "cell_type": "code",
   "execution_count": 34,
   "id": "5f37fa99-5d2d-41cc-9bb8-bdb5843913ed",
   "metadata": {},
   "outputs": [
    {
     "name": "stdin",
     "output_type": "stream",
     "text": [
      " 21218\n"
     ]
    },
    {
     "name": "stdout",
     "output_type": "stream",
     "text": [
      "2 1 2 1 8 \n",
      "8 1 2 1 2 "
     ]
    }
   ],
   "source": [
    "\n",
    "def thuan(n):\n",
    "    if n < 10:\n",
    "        print (n, end= ' ')\n",
    "        return \n",
    "    thuan(n//10)\n",
    "    print (n % 10, end = ' ')\n",
    "   \n",
    "def nghich(n):\n",
    "    r = n % 10 \n",
    "    if n < 10:\n",
    "        print (n, end= ' ')\n",
    "        return \n",
    "    print (r, end = ' ')\n",
    "    return nghich(n //10 ) \n",
    "\n",
    "n = int(input())\n",
    "thuan(n)\n",
    "print()\n",
    "nghich(n)"
   ]
  },
  {
   "cell_type": "code",
   "execution_count": 38,
   "id": "ea5c86c0-8f42-440f-ae64-de0b0da3ba9a",
   "metadata": {
    "scrolled": true
   },
   "outputs": [
    {
     "name": "stdin",
     "output_type": "stream",
     "text": [
      " 38\n"
     ]
    },
    {
     "name": "stdout",
     "output_type": "stream",
     "text": [
      "5\n"
     ]
    }
   ],
   "source": [
    "#Dem so thao tac \n",
    "def f(n):\n",
    "    if n == 1:\n",
    "        return 0\n",
    "    t1, t2, t3 = 10** 9 , 10** 9, 10** 9\n",
    "    if  n % 2 == 0:\n",
    "        t1 = 1 + f(n//2)\n",
    "    if n % 3 == 0:\n",
    "        t2 = 1 + f(n // 3)\n",
    "    if n > 1:\n",
    "        t3 = 1 + f(n-1)\n",
    "    return min( t1, t2, t3)\n",
    "if __name__ == \"__main__\":\n",
    "    n = int(input())\n",
    "    print(f(n))\n",
    "    \n"
   ]
  },
  {
   "cell_type": "code",
   "execution_count": null,
   "id": "85f14b5f-a237-44f1-8135-bf7ab9e4207d",
   "metadata": {},
   "outputs": [],
   "source": [
    "# Kiem tra mang doi xung \n",
    "def check(a, left, right):\n",
    "    if left >= right:\n",
    "        return 1\n",
    "    else:\n",
    "        return 0 if a[left] != a[right] else check(a, left + 1, right - 1)\n",
    "\n",
    "n = int(input())\n",
    "a = list(map(int, input().split()))\n",
    "print('YES' if check(a, 0, n - 1) else 'NO')"
   ]
  },
  {
   "cell_type": "code",
   "execution_count": 50,
   "id": "ecfcf5c6-d08d-43ac-badf-e0ee681b5d0f",
   "metadata": {},
   "outputs": [
    {
     "name": "stdin",
     "output_type": "stream",
     "text": [
      " 5\n",
      " 1 2 3 4 5\n"
     ]
    },
    {
     "name": "stdout",
     "output_type": "stream",
     "text": [
      "1 2 3 4 5 \n",
      "5 4 3 2 1 "
     ]
    }
   ],
   "source": [
    "# in mang\n",
    "def in1(a,n):\n",
    "    if n >= 1:\n",
    "        print (a[n-1], end = ' ')\n",
    "        in1(a, n-1)\n",
    "\n",
    "def in2(a, n):\n",
    "    if n >= 1:\n",
    "        in2(a,n-1)\n",
    "        print(a[n-1],end =' ' )\n",
    "n = int(input())\n",
    "a= list(map(int,input().split()))\n",
    "in2(a,n)\n",
    "print()\n",
    "in1(a,n)"
   ]
  },
  {
   "cell_type": "code",
   "execution_count": 70,
   "id": "93d57c3e-719f-4994-8e2c-2e0c063d28b8",
   "metadata": {},
   "outputs": [
    {
     "name": "stdin",
     "output_type": "stream",
     "text": [
      " 5\n",
      " 1 1 2 8 20\n"
     ]
    },
    {
     "name": "stdout",
     "output_type": "stream",
     "text": [
      "NO\n"
     ]
    }
   ],
   "source": [
    "# Kiem tra mang tang dan \n",
    "def check(a, n):\n",
    "    if n == 1:\n",
    "        return 0\n",
    "    else:\n",
    "        return 0 if a[n-1] <= a[n-2] else check (a, n-1)\n",
    "\n",
    "n = int(input())\n",
    "a = list(map(int, input().split()))\n",
    "print('YES' if check(a,n) else 'NO')"
   ]
  },
  {
   "cell_type": "code",
   "execution_count": 60,
   "id": "ae116fec-519e-4a38-86ed-6fcdcaa22745",
   "metadata": {},
   "outputs": [
    {
     "name": "stdin",
     "output_type": "stream",
     "text": [
      " 3\n",
      " 1 3 2\n"
     ]
    },
    {
     "name": "stdout",
     "output_type": "stream",
     "text": [
      "NO\n"
     ]
    }
   ],
   "source": [
    "#mang toan chan \n",
    "def check (a, n):\n",
    "    if n >= 1:\n",
    "        return 0 if a[n-1]% 2 == 1 else check(a, n -1)\n",
    "    else:\n",
    "        return 1\n",
    "\n",
    "n= int(input())\n",
    "a = list(map(int,input().split()))\n",
    "print( 'YES' if check(a,n) else 'NO')"
   ]
  },
  {
   "cell_type": "code",
   "execution_count": 78,
   "id": "6bba50a6-f154-4add-80e0-0b309cfe2cea",
   "metadata": {},
   "outputs": [
    {
     "ename": "KeyboardInterrupt",
     "evalue": "Interrupted by user",
     "output_type": "error",
     "traceback": [
      "\u001b[1;31m---------------------------------------------------------------------------\u001b[0m",
      "\u001b[1;31mKeyboardInterrupt\u001b[0m                         Traceback (most recent call last)",
      "Cell \u001b[1;32mIn[78], line 8\u001b[0m\n\u001b[0;32m      1\u001b[0m \u001b[38;5;28;01mdef\u001b[39;00m \u001b[38;5;21mbs\u001b[39m(a, left, right, x):\n\u001b[0;32m      2\u001b[0m     \u001b[38;5;28;01mreturn\u001b[39;00m \u001b[38;5;241m0\u001b[39m \u001b[38;5;28;01mif\u001b[39;00m left \u001b[38;5;241m>\u001b[39m right \u001b[38;5;28;01melse\u001b[39;00m (\n\u001b[0;32m      3\u001b[0m         \u001b[38;5;241m1\u001b[39m \u001b[38;5;28;01mif\u001b[39;00m a[(left \u001b[38;5;241m+\u001b[39m right) \u001b[38;5;241m/\u001b[39m\u001b[38;5;241m/\u001b[39m \u001b[38;5;241m2\u001b[39m] \u001b[38;5;241m==\u001b[39m x \u001b[38;5;28;01melse\u001b[39;00m\n\u001b[0;32m      4\u001b[0m         bs(a, (left \u001b[38;5;241m+\u001b[39m right) \u001b[38;5;241m/\u001b[39m\u001b[38;5;241m/\u001b[39m \u001b[38;5;241m2\u001b[39m \u001b[38;5;241m+\u001b[39m \u001b[38;5;241m1\u001b[39m, right, x) \u001b[38;5;28;01mif\u001b[39;00m a[(left \u001b[38;5;241m+\u001b[39m right) \u001b[38;5;241m/\u001b[39m\u001b[38;5;241m/\u001b[39m \u001b[38;5;241m2\u001b[39m] \u001b[38;5;241m<\u001b[39m x \u001b[38;5;28;01melse\u001b[39;00m\n\u001b[0;32m      5\u001b[0m         bs(a, left, (left \u001b[38;5;241m+\u001b[39m right) \u001b[38;5;241m/\u001b[39m\u001b[38;5;241m/\u001b[39m \u001b[38;5;241m2\u001b[39m \u001b[38;5;241m-\u001b[39m \u001b[38;5;241m1\u001b[39m, x)\n\u001b[0;32m      6\u001b[0m     )\n\u001b[1;32m----> 8\u001b[0m n \u001b[38;5;241m=\u001b[39m \u001b[38;5;28mint\u001b[39m(\u001b[38;5;28minput\u001b[39m())\n\u001b[0;32m      9\u001b[0m a \u001b[38;5;241m=\u001b[39m \u001b[38;5;28mlist\u001b[39m(\u001b[38;5;28mmap\u001b[39m(\u001b[38;5;28mint\u001b[39m, \u001b[38;5;28minput\u001b[39m()\u001b[38;5;241m.\u001b[39msplit()))\n\u001b[0;32m     10\u001b[0m a\u001b[38;5;241m.\u001b[39msort()\n",
      "File \u001b[1;32mD:\\setApp\\anaconda3\\Lib\\site-packages\\ipykernel\\kernelbase.py:1262\u001b[0m, in \u001b[0;36mKernel.raw_input\u001b[1;34m(self, prompt)\u001b[0m\n\u001b[0;32m   1260\u001b[0m     msg \u001b[38;5;241m=\u001b[39m \u001b[38;5;124m\"\u001b[39m\u001b[38;5;124mraw_input was called, but this frontend does not support input requests.\u001b[39m\u001b[38;5;124m\"\u001b[39m\n\u001b[0;32m   1261\u001b[0m     \u001b[38;5;28;01mraise\u001b[39;00m StdinNotImplementedError(msg)\n\u001b[1;32m-> 1262\u001b[0m \u001b[38;5;28;01mreturn\u001b[39;00m \u001b[38;5;28mself\u001b[39m\u001b[38;5;241m.\u001b[39m_input_request(\n\u001b[0;32m   1263\u001b[0m     \u001b[38;5;28mstr\u001b[39m(prompt),\n\u001b[0;32m   1264\u001b[0m     \u001b[38;5;28mself\u001b[39m\u001b[38;5;241m.\u001b[39m_parent_ident[\u001b[38;5;124m\"\u001b[39m\u001b[38;5;124mshell\u001b[39m\u001b[38;5;124m\"\u001b[39m],\n\u001b[0;32m   1265\u001b[0m     \u001b[38;5;28mself\u001b[39m\u001b[38;5;241m.\u001b[39mget_parent(\u001b[38;5;124m\"\u001b[39m\u001b[38;5;124mshell\u001b[39m\u001b[38;5;124m\"\u001b[39m),\n\u001b[0;32m   1266\u001b[0m     password\u001b[38;5;241m=\u001b[39m\u001b[38;5;28;01mFalse\u001b[39;00m,\n\u001b[0;32m   1267\u001b[0m )\n",
      "File \u001b[1;32mD:\\setApp\\anaconda3\\Lib\\site-packages\\ipykernel\\kernelbase.py:1305\u001b[0m, in \u001b[0;36mKernel._input_request\u001b[1;34m(self, prompt, ident, parent, password)\u001b[0m\n\u001b[0;32m   1302\u001b[0m \u001b[38;5;28;01mexcept\u001b[39;00m \u001b[38;5;167;01mKeyboardInterrupt\u001b[39;00m:\n\u001b[0;32m   1303\u001b[0m     \u001b[38;5;66;03m# re-raise KeyboardInterrupt, to truncate traceback\u001b[39;00m\n\u001b[0;32m   1304\u001b[0m     msg \u001b[38;5;241m=\u001b[39m \u001b[38;5;124m\"\u001b[39m\u001b[38;5;124mInterrupted by user\u001b[39m\u001b[38;5;124m\"\u001b[39m\n\u001b[1;32m-> 1305\u001b[0m     \u001b[38;5;28;01mraise\u001b[39;00m \u001b[38;5;167;01mKeyboardInterrupt\u001b[39;00m(msg) \u001b[38;5;28;01mfrom\u001b[39;00m \u001b[38;5;28;01mNone\u001b[39;00m\n\u001b[0;32m   1306\u001b[0m \u001b[38;5;28;01mexcept\u001b[39;00m \u001b[38;5;167;01mException\u001b[39;00m:\n\u001b[0;32m   1307\u001b[0m     \u001b[38;5;28mself\u001b[39m\u001b[38;5;241m.\u001b[39mlog\u001b[38;5;241m.\u001b[39mwarning(\u001b[38;5;124m\"\u001b[39m\u001b[38;5;124mInvalid Message:\u001b[39m\u001b[38;5;124m\"\u001b[39m, exc_info\u001b[38;5;241m=\u001b[39m\u001b[38;5;28;01mTrue\u001b[39;00m)\n",
      "\u001b[1;31mKeyboardInterrupt\u001b[0m: Interrupted by user"
     ]
    }
   ],
   "source": [
    "# Binary search\n",
    "# mang giam dan nen sort tang dan\n",
    "def bs(a, left, right, x): \n",
    "    return 0 if left > right else (\n",
    "        1 if a[(left + right) // 2] == x else\n",
    "        bs(a, (left + right) // 2 + 1, right, x) if a[(left + right) // 2] < x else\n",
    "        bs(a, left, (left + right) // 2 - 1, x)\n",
    "    )\n",
    "\n",
    "n = int(input())\n",
    "a = list(map(int, input().split()))\n",
    "a.sort()\n",
    "x = int(input())\n",
    "print('1' if bs(a, 0, n - 1, x) else '0')\n"
   ]
  },
  {
   "cell_type": "code",
   "execution_count": null,
   "id": "ae83885b-a289-4e3f-a20f-38d44eb97579",
   "metadata": {},
   "outputs": [],
   "source": []
  }
 ],
 "metadata": {
  "kernelspec": {
   "display_name": "Python 3 (ipykernel)",
   "language": "python",
   "name": "python3"
  },
  "language_info": {
   "codemirror_mode": {
    "name": "ipython",
    "version": 3
   },
   "file_extension": ".py",
   "mimetype": "text/x-python",
   "name": "python",
   "nbconvert_exporter": "python",
   "pygments_lexer": "ipython3",
   "version": "3.12.4"
  }
 },
 "nbformat": 4,
 "nbformat_minor": 5
}
