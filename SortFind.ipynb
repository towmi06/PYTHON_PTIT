{
 "cells": [
  {
   "cell_type": "markdown",
   "id": "cc3a9768-202c-4098-9cef-9a562ed670b7",
   "metadata": {},
   "source": [
    "# tim sort: là sự kết hợp của 2 thuật toán merge + insertion sort: O(nlogn)\n",
    "và có tính Stable, bình thường sẽ sxep tăng dần "
   ]
  },
  {
   "cell_type": "code",
   "execution_count": 4,
   "id": "dc406744-ac4c-4f56-9bc4-64fb2089a428",
   "metadata": {},
   "outputs": [
    {
     "name": "stdout",
     "output_type": "stream",
     "text": [
      "[2, -9, 10, 11, -22, 33, 98, -123, -1100, 1568, -3303]\n"
     ]
    }
   ],
   "source": [
    "from math import*\n",
    "if __name__ == '__main__':\n",
    "    a = [-3303,11,2,-1100,98,-9,10,-22,-123,33,1568]\n",
    "    a.sort(key= lambda x: abs(x))\n",
    "    print(a)"
   ]
  },
  {
   "cell_type": "code",
   "execution_count": 10,
   "id": "a317244a-0357-4811-9abb-23c2fedcffa9",
   "metadata": {},
   "outputs": [
    {
     "name": "stdout",
     "output_type": "stream",
     "text": [
      "[[1, 2], [3, 2], [4, 1], [5, 2], [5, 6]]\n",
      "[[5, 2], [5, 6], [4, 1], [3, 2], [1, 2]]\n"
     ]
    }
   ],
   "source": [
    "from math import*\n",
    "\n",
    "if __name__ == '__main__':\n",
    "    #nested list: list trong list or cap so \n",
    "    a = [ [1 ,2 ], [3 ,2 ] , [5 , 2], [4 , 1], [5 , 6] ] \n",
    "        # sort LIST lon  theo tung phan tu dau tien cua list nho  \n",
    "    a.sort(key = lambda x : x[0])\n",
    "    print(a)\n",
    "        # tuc la lay ra cac x0 ow trong cac list con\n",
    "        # sap xep giam dan \n",
    "    a.sort(key = lambda x: -x[0])\n",
    "        # or : a.sort(key = lambda x: x[0] , reverse = True)\n",
    "    print (a)"
   ]
  },
  {
   "cell_type": "code",
   "execution_count": 14,
   "id": "53b7e452-5724-4065-8fb4-fb5ab6be6941",
   "metadata": {},
   "outputs": [
    {
     "name": "stdout",
     "output_type": "stream",
     "text": [
      "[[1, 2], [1, 5], [3, 1], [3, 2], [4, 3], [4, 12]]\n",
      "[[1, 5], [1, 2], [3, 2], [3, 1], [4, 12], [4, 3]]\n"
     ]
    }
   ],
   "source": [
    "# Sap xep theo phan tu thu nhat cua list con tang dan\n",
    "# x1 co nhieu gia tri trung nhau, sap xep so t2 tang dan \n",
    "\n",
    "if __name__ == '__main__':\n",
    "    a = [[1,2], [3,2], [1,5] , [3,1], [4,12], [4,3]]\n",
    "    a.sort(key = lambda x : (x[0], x[1]))\n",
    "    print (a)\n",
    "\n",
    "# thang t2 giam dan thi \n",
    "    a. sort(key = lambda x : (x[0], -x[1]))\n",
    "    print (a)\n"
   ]
  },
  {
   "cell_type": "markdown",
   "id": "2aa30069-0e2d-42af-81d1-9916ff59f4c9",
   "metadata": {},
   "source": [
    "### from functools import cmp_to_key\n",
    "Xây dựng hàm so sánh cho sort, so sánh các phần tử trong list, tuple, interable ..."
   ]
  },
  {
   "cell_type": "code",
   "execution_count": 21,
   "id": "0805d467-018d-430e-b8a2-0c990baadbb3",
   "metadata": {},
   "outputs": [
    {
     "name": "stdout",
     "output_type": "stream",
     "text": [
      "[0, 1, 2, 3, 3, 4, 5, 10]\n"
     ]
    }
   ],
   "source": [
    "from math import*\n",
    "from functools import cmp_to_key\n",
    "\n",
    "# ham cmp nay cho tk sort biet rang thu tu so sanh cua list a la ntn \n",
    "def cmp(a,b):\n",
    "    # ham nay tra ve 3 gia tri -1, 1, 0\n",
    "    # neu  a là st1, b la st2 sau khi sắp xếp: \n",
    "            # Nếu a và b trả về đúng thứ tự bạn muốn thì trả về -1\n",
    "            # Ngc lại trả về 1\n",
    "            # else trả về giá trị 0: có thể k trả về 0 (a==b)\n",
    "    return a-b # Tăng đần \n",
    "    # return b- a: giam dan , hoac co th if _ else  or cac ham phuc tap hon \n",
    "\n",
    "a = [10,2,3,1,4,5,3,0]\n",
    "a.sort(key = cmp_to_key(cmp))\n",
    "print (a)\n"
   ]
  },
  {
   "cell_type": "code",
   "execution_count": 29,
   "id": "bd8b89e2-b865-4036-ab45-b19effedbd10",
   "metadata": {},
   "outputs": [
    {
     "name": "stdin",
     "output_type": "stream",
     "text": [
      " 6\n",
      " 155 546 125 356 154 26\n"
     ]
    },
    {
     "name": "stdout",
     "output_type": "stream",
     "text": [
      "26 125 154 155 356 546\n"
     ]
    }
   ],
   "source": [
    "#Sắp xếp các phần tử [] theo tt tăng đần,\n",
    "# nếu 2 số sum băng nhau thì số nhỏ hơn xếp trước\n",
    "\n",
    "\n",
    "from functools import cmp_to_key\n",
    "\n",
    "# Hàm tính tổng các chữ số của một số\n",
    "def tong(n):\n",
    "    res = 0\n",
    "    while n != 0:\n",
    "        res += n % 10\n",
    "        n //= 10\n",
    "    return res \n",
    "\n",
    "# Hàm so sánh giữa hai số a và b\n",
    "def cmp(a, b):\n",
    "    sum1, sum2 = tong(a), tong(b)  # Tính tổng chữ số của a và b\n",
    "    if sum1 != sum2:\n",
    "        return sum1 - sum2  # Sắp xếp theo tổng chữ số\n",
    "    else:\n",
    "        return a - b  # Nếu tổng chữ số bằng nhau, sắp xếp theo giá trị\n",
    "\n",
    "if __name__ == '__main__':\n",
    "    n = int(input())  # Số lượng phần tử trong mảng\n",
    "    a = list(map(int, input().split()))  # Đọc mảng\n",
    "    # Sắp xếp mảng theo tổng chữ số, nếu tổng bằng thì so theo giá trị\n",
    "    a.sort(key=cmp_to_key(cmp))  \n",
    "    print(*a)  # In mảng đã sắp xếp\n"
   ]
  },
  {
   "cell_type": "markdown",
   "id": "efa04680-4bea-4a21-bb72-5dfdcb8862a6",
   "metadata": {},
   "source": [
    "## Thuật toán tìm kiếm nhị phân - Binary search O(logn) - cần sắp xếp trước khi dùng \n",
    "\n",
    "- tim kiem tuyen tinh : linear seach O(n)\n",
    "- tim kiem nhi phan : list / tuple da dc sap xep O(logn)\n",
    "\n",
    "  -> tìm kiếm từ đoạn Left -> right => tính mid m = (l + r)/2\n",
    "\n",
    "1. a[m] == x: => True\n",
    "2. a[m] < x: Tìm ở bên phải (l = m +1)\n",
    "3. a[m] > x : Tìm bên trái (r = m -1)\n"
   ]
  },
  {
   "cell_type": "code",
   "execution_count": 11,
   "id": "cee0ad97-10c0-465b-84d0-a8c4a2ef2ac6",
   "metadata": {},
   "outputs": [
    {
     "name": "stdin",
     "output_type": "stream",
     "text": [
      " 5\n",
      "  12 54 1 23 3\n",
      " 3\n"
     ]
    },
    {
     "name": "stdout",
     "output_type": "stream",
     "text": [
      "OK\n"
     ]
    }
   ],
   "source": [
    "def binary_search (a,l,r,x):\n",
    "    while l <= r:\n",
    "        m = (l + r) // 2\n",
    "        if a[m] == x:\n",
    "            return True \n",
    "        elif a[m] < x:\n",
    "            l = (m + 1)\n",
    "        else: \n",
    "            r = m -1\n",
    "    return False\n",
    "\n",
    "if __name__ == '__main__':\n",
    "    n = int(input())  \n",
    "    a = list(map(int, input().split()))  \n",
    "    x = int(input()) \n",
    "    a.sort()  \n",
    "    if binary_search(a, 0, n - 1, x):  \n",
    "        print('OK')\n",
    "    else:\n",
    "        print('NOT FOUND')"
   ]
  },
  {
   "cell_type": "markdown",
   "id": "1a76935d-7ec9-4b81-bd24-111b814a3906",
   "metadata": {},
   "source": [
    "## Các biến thể ứng dụng Binary Search \n",
    "1. Tìm vị trí xh đầu tiên của ptu có giá trị x trong mảng đã được sort: tăng đần\n",
    "2. Vị trí cuối cùng...\n",
    "3. Tìm vị trí xh đầu tiên >= x\n",
    "4. Tìm vị trí xh đầu tiên > x"
   ]
  },
  {
   "cell_type": "code",
   "execution_count": 13,
   "id": "dbaf4882-22cb-4bba-a187-b408ce8e0c4e",
   "metadata": {},
   "outputs": [
    {
     "name": "stdin",
     "output_type": "stream",
     "text": [
      " 5\n",
      " 12 36 1 65 5\n",
      " 12\n"
     ]
    },
    {
     "name": "stdout",
     "output_type": "stream",
     "text": [
      "2\n"
     ]
    }
   ],
   "source": [
    "# Bài toán 1:\n",
    "def firstPoint(a, l, r, x):\n",
    "    res = -1  \n",
    "    while l <= r:\n",
    "        m = (l + r) // 2 \n",
    "        if a[m] == x:\n",
    "            res = m  # Cập nhật vị trí hiện tại (chưa chắc là vị trí đầu tiên)\n",
    "            r = m - 1  # Tiếp tục tìm về bên trái để tìm vị trí đầu tiên\n",
    "        elif a[m] < x:\n",
    "            l = m + 1  # Tìm về phía bên phải\n",
    "        else:\n",
    "            r = m - 1  # Tìm về phía bên trái\n",
    "    return res\n",
    "\n",
    "if __name__ == '__main__':\n",
    "    n = int(input()) \n",
    "    a = list(map(int, input().split()))  \n",
    "    x = int(input())  \n",
    "    a.sort()\n",
    "    print(firstPoint(a, 0, n - 1, x))  \n"
   ]
  },
  {
   "cell_type": "code",
   "execution_count": 9,
   "id": "80117861-15a2-429c-8cbc-de2bb0644c07",
   "metadata": {},
   "outputs": [
    {
     "name": "stdin",
     "output_type": "stream",
     "text": [
      " 5\n",
      " 12 36 1 65 5\n",
      " 5\n"
     ]
    },
    {
     "name": "stdout",
     "output_type": "stream",
     "text": [
      "-1\n"
     ]
    }
   ],
   "source": [
    "#bài toán 2\n",
    "def lastPoint(a, l, r, x):\n",
    "    res = -1  # lưu kết quả\n",
    "    while l <= r:\n",
    "        m = (l + r) // 2  # tìm chỉ số giữa\n",
    "        if a[m] == x:\n",
    "            res = m  # cập nhật kết quả\n",
    "            l = m + 1  # tiếp tục tìm về bên phải trái để tìm vị trí đầu tiên\n",
    "        elif a[m] < x:\n",
    "            l = m + 1  # tiếp tục tìm bên phải\n",
    "        else:\n",
    "            r = m - 1  # tiếp tục tìm bên trái\n",
    "    return res\n",
    "\n",
    "if __name__ == '__main__':\n",
    "    n = int(input())  \n",
    "    a = list(map(int, input().split()))  \n",
    "    x = int(input())  \n",
    "    print(lastPoint(a, 0, n - 1, x)) \n"
   ]
  },
  {
   "cell_type": "code",
   "execution_count": null,
   "id": "699f06f3-1130-4eb4-8a59-a59eb49ee3a9",
   "metadata": {},
   "outputs": [],
   "source": [
    "#Bài toán 3:\n",
    "def firstPoint(a, l, r, x):\n",
    "    res = -1  # lưu kết quả\n",
    "    while l <= r:\n",
    "        m = (l + r) // 2  # tìm chỉ số giữa\n",
    "        if a[m] >= x:\n",
    "            res = m  # cập nhật kết quả\n",
    "            r = m - 1  # tiếp tục tìm về bên trái để tìm vị trí đầu tiên\n",
    "        else:\n",
    "            l = m + 1  # tiếp tục tìm bên phải\n",
    "    return res\n",
    "\n",
    "if __name__ == '__main__':\n",
    "    n = int(input())  # số phần tử trong mảng\n",
    "    a = list(map(int, input().split()))  # đọc mảng\n",
    "    x = int(input())  # giá trị cần tìm\n",
    "    print(firstPoint(a, 0, n - 1, x))  # in ra kết quả tìm kiếm\n"
   ]
  },
  {
   "cell_type": "code",
   "execution_count": null,
   "id": "70e7d4f7-bf68-43cf-be53-5f46d6aa4ee6",
   "metadata": {},
   "outputs": [],
   "source": [
    "#Bài toán 4:\n",
    "def firstPoint(a, l, r, x):\n",
    "    res = -1  # lưu kết quả\n",
    "    while l <= r:\n",
    "        m = (l + r) // 2  # tìm chỉ số giữa\n",
    "        if a[m] > x:\n",
    "            res = m  # cập nhật kết quả\n",
    "            r = m - 1  # tiếp tục tìm về bên trái để tìm vị trí đầu tiên\n",
    "        else:\n",
    "            l = m + 1  # tiếp tục tìm bên phải\n",
    "    return res\n",
    "\n",
    "if __name__ == '__main__':\n",
    "    n = int(input())  # số phần tử trong mảng\n",
    "    a = list(map(int, input().split()))  # đọc mảng\n",
    "    x = int(input())  # giá trị cần tìm\n",
    "    print(firstPoint(a, 0, n - 1, x))  # in ra kết quả tìm kiếm\n"
   ]
  },
  {
   "cell_type": "code",
   "execution_count": 8,
   "id": "72d10391-e368-4a48-9f1b-60f5f5468fbb",
   "metadata": {},
   "outputs": [
    {
     "name": "stdin",
     "output_type": "stream",
     "text": [
      " 10\n",
      " 2 2 2 1 3 2 5 1 4 2\n"
     ]
    },
    {
     "name": "stdout",
     "output_type": "stream",
     "text": [
      "5\n"
     ]
    }
   ],
   "source": [
    "from math import*\n",
    "\n",
    "if __name__== '__main__':\n",
    "    n = int(input())\n",
    "    a = list(map(int,input().split()))\n",
    "    b = set(a)\n",
    "    print (len(b))"
   ]
  },
  {
   "cell_type": "code",
   "execution_count": 14,
   "id": "2f677533-40e1-4f8a-a587-4283be02bf1c",
   "metadata": {},
   "outputs": [
    {
     "name": "stdin",
     "output_type": "stream",
     "text": [
      " 5\n",
      " 1 -3 2 -5 4\n"
     ]
    },
    {
     "name": "stdout",
     "output_type": "stream",
     "text": [
      "[1, 2, -3, 4, -5]\n"
     ]
    }
   ],
   "source": [
    "from math import*\n",
    "\n",
    "if __name__ == '__main__':\n",
    "    n = int(input())\n",
    "    a = list(map(int, input().split()))\n",
    "    a.sort(key  = lambda x : abs(x))\n",
    "    print(*a)"
   ]
  },
  {
   "cell_type": "code",
   "execution_count": 22,
   "id": "4031fd7e-da6c-4b27-bd03-deead60cb669",
   "metadata": {},
   "outputs": [
    {
     "name": "stdin",
     "output_type": "stream",
     "text": [
      " 5\n",
      " 10000 2 100 11 990\n"
     ]
    },
    {
     "name": "stdout",
     "output_type": "stream",
     "text": [
      "[100, 10000, 2, 11, 990]\n"
     ]
    }
   ],
   "source": [
    "from math import*\n",
    "from functools import cmp_to_key\n",
    "\n",
    "def sumDigit(n):\n",
    "    sum = 0\n",
    "    while n != 0:\n",
    "        sum += n%10\n",
    "        n //= 10\n",
    "    return sum \n",
    "\n",
    "def cmp(a,b):\n",
    "    sum1,sum2 = sumDigit(a), sumDigit(b)\n",
    "    if sum1 != sum2:\n",
    "        return sum1 - sum2\n",
    "    else:\n",
    "        return a -b\n",
    "    \n",
    "    \n",
    "if __name__ == '__main__':\n",
    "    n = int(input())\n",
    "    a = list(map(int,input().split()))\n",
    "\n",
    "    # việc sử dụng cmp_to_key tạo thêm một lớp overhead\n",
    "    # Sử dụng sắp xếp dựa trên tuple (tổng chữ số, giá trị thực)\n",
    "    a.sort(key=lambda x: (sumDigit(x), x))\n",
    "    #a.sort(key = cmp_to_key(cmp))\n",
    "    \n",
    "    print(*a)"
   ]
  },
  {
   "cell_type": "code",
   "execution_count": 34,
   "id": "c7ae4e06-d1b8-4434-9949-d79384947c21",
   "metadata": {},
   "outputs": [
    {
     "name": "stdin",
     "output_type": "stream",
     "text": [
      " 5\n",
      " 1 2 7 9 0\n"
     ]
    },
    {
     "name": "stdout",
     "output_type": "stream",
     "text": [
      "1\n"
     ]
    }
   ],
   "source": [
    "#khoang cach min \n",
    "from math import*\n",
    "\n",
    "if __name__ == '__main__':\n",
    "    n = int(input())\n",
    "    a = list(map(int,input().split()))\n",
    "    a.sort()\n",
    "    minV = 10**18\n",
    "    for i in range(1, n):\n",
    "        minV = min(minV, a[i] - a[i - 1])\n",
    "    print(minV)"
   ]
  },
  {
   "cell_type": "code",
   "execution_count": 50,
   "id": "10df0fca-8fca-4091-bed5-3c81e545201a",
   "metadata": {},
   "outputs": [
    {
     "name": "stdin",
     "output_type": "stream",
     "text": [
      " 5\n",
      " 1 2  2 1 3\n"
     ]
    },
    {
     "name": "stdout",
     "output_type": "stream",
     "text": [
      "1 2\n"
     ]
    }
   ],
   "source": [
    "if __name__ == '__main__':\n",
    "    n = int(input())\n",
    "    a = list(map(int, input().split()))\n",
    "    \n",
    "    a.sort()\n",
    "    count_max, cur_cnt = 1, 1\n",
    "    fre_val = a[0]\n",
    "    \n",
    "    # Duyệt qua mảng đã sắp xếp\n",
    "    for i in range(1, n):\n",
    "        if a[i] == a[i - 1]:\n",
    "            cur_cnt += 1\n",
    "        else:\n",
    "            if cur_cnt > count_max:\n",
    "                count_max = cur_cnt\n",
    "                fre_val = a[i - 1]\n",
    "            # Đặt lại số đếm cho phần tử mới\n",
    "            cur_cnt = 1\n",
    "    \n",
    "    # Kiểm tra phần tử cuối cùng\n",
    "    if cur_cnt > count_max:\n",
    "        count_max = cur_cnt\n",
    "        fre_val = a[n - 1]\n",
    "    \n",
    "    print(fre_val, count_max)\n"
   ]
  },
  {
   "cell_type": "code",
   "execution_count": 54,
   "id": "ee015ab1-e569-4710-837c-84693f76503c",
   "metadata": {},
   "outputs": [
    {
     "name": "stdin",
     "output_type": "stream",
     "text": [
      " 5\n",
      " 5 4 3 2 1\n",
      " 2\n",
      " 2\n"
     ]
    },
    {
     "name": "stdout",
     "output_type": "stream",
     "text": [
      "YES\n"
     ]
    },
    {
     "name": "stdin",
     "output_type": "stream",
     "text": [
      " 8\n"
     ]
    },
    {
     "name": "stdout",
     "output_type": "stream",
     "text": [
      "NO\n"
     ]
    }
   ],
   "source": [
    "from math import*\n",
    "\n",
    "def binary_search(a,l,r,x):\n",
    "    while l <= r:\n",
    "        m = (l + r)//2\n",
    "        if a[m] == x:\n",
    "            return True\n",
    "        elif a[m] > x:\n",
    "            r = m-1\n",
    "        else:\n",
    "            l = m + 1\n",
    "    return False\n",
    "\n",
    "if __name__ == '__main__':\n",
    "    n = int(input())\n",
    "    a = list(map(int,input().split()))\n",
    "    q = int(input())\n",
    "    a.sort()\n",
    "    for _ in range(1, q+1):\n",
    "        x = int(input())\n",
    "        print('YES' if binary_search(a,0,n-1,x) else 'NO')"
   ]
  },
  {
   "cell_type": "code",
   "execution_count": 78,
   "id": "3fcc291c-7ba6-4363-8794-6279e3e58573",
   "metadata": {},
   "outputs": [
    {
     "name": "stdin",
     "output_type": "stream",
     "text": [
      " 5 5\n",
      " 4760 9724 9798 20124 25974 \n",
      " 3397 9166 13054 18273 30455\n"
     ]
    },
    {
     "name": "stdout",
     "output_type": "stream",
     "text": [
      "c1 c2 c3 c4 c5 b1 b2 b3 b4 b5 "
     ]
    }
   ],
   "source": [
    "from math import*\n",
    "# tron list tang dan \n",
    "if __name__== '__main__':\n",
    "    n, m = map(int,input().split())\n",
    "    b = list(map(int,input().split()))\n",
    "    c = list(map(int,input().split()))\n",
    "    i, j = 0, 0\n",
    "    while i < n and j < m:\n",
    "        if b[i] <= c[j]:\n",
    "            print(f'b{i+1}',sep = '', end = ' ')\n",
    "            i +=1\n",
    "        else:\n",
    "            print(f'c{j+1}',sep = '', end = ' ' )\n",
    "            j +=1\n",
    "    # xử lí nếu list b và c còn dư lại \n",
    "    while i < n:\n",
    "        print(f'b{i+1}',sep = '', end = ' ')\n",
    "        i+=1\n",
    "    while j < m:\n",
    "        print(f'c{j+1}',sep = '', end = ' ' )\n",
    "        j +=1"
   ]
  },
  {
   "cell_type": "code",
   "execution_count": 91,
   "id": "900a5c53-c0de-4143-8b0a-6e6e603e797b",
   "metadata": {},
   "outputs": [
    {
     "name": "stdin",
     "output_type": "stream",
     "text": [
      " 12 4\n",
      " 1 1 2 2 3 3 4 4 4 5 6 7\n"
     ]
    },
    {
     "name": "stdout",
     "output_type": "stream",
     "text": [
      "6\n",
      "8\n",
      "6\n",
      "9\n",
      "3\n"
     ]
    }
   ],
   "source": [
    "from math import *\n",
    "\n",
    "def firstP(a, l, r, x):\n",
    "    point = -1\n",
    "    while l <= r:\n",
    "        m =  (r + l) // 2\n",
    "        if a[m] == x:\n",
    "            point = m\n",
    "            r = m - 1\n",
    "        elif a[m] < x:\n",
    "            l = m + 1\n",
    "        else:\n",
    "            r = m - 1\n",
    "    return point\n",
    "\n",
    "def lastP(a, l, r, x):\n",
    "    point = -1\n",
    "    while l <= r:\n",
    "        m =  (r + l) // 2\n",
    "        if a[m] == x:\n",
    "            point = m\n",
    "            l = m + 1\n",
    "        elif a[m] < x:\n",
    "            l = m + 1\n",
    "        else:\n",
    "            r = m - 1\n",
    "    return point\n",
    "\n",
    "def firstPx(a, l, r, x):\n",
    "    point = -1\n",
    "    while l <= r:\n",
    "        m =  (r + l) // 2\n",
    "        if a[m] >= x:\n",
    "            point = m\n",
    "            r = m - 1\n",
    "        else:\n",
    "            l = m + 1\n",
    "    return point\n",
    "\n",
    "def firstPthan(a, l, r, x):\n",
    "    point = -1\n",
    "    while l <= r:\n",
    "        m =  (r + l) // 2\n",
    "        if a[m] > x:\n",
    "            point = m\n",
    "            r = m - 1\n",
    "        else:\n",
    "            l = m + 1\n",
    "    return point\n",
    "\n",
    "if __name__ == '__main__':\n",
    "    n, x = map(int, input().split())\n",
    "    a = list(map(int, input().split()))\n",
    "    a.sort()\n",
    "    \n",
    "    # Tìm vị trí xuất hiện đầu tiên của x\n",
    "    first_pos = firstP(a, 0, n - 1, x)\n",
    "    print(first_pos if first_pos != -1 else -1)\n",
    "\n",
    "    # Tìm vị trí xuất hiện cuối cùng của x\n",
    "    last_pos = lastP(a, 0, n - 1, x)\n",
    "    print(last_pos if last_pos != -1 else -1)\n",
    "\n",
    "    # Tìm vị trí đầu tiên lớn hơn hoặc bằng x\n",
    "    first_px_pos = firstPx(a, 0, n - 1, x)\n",
    "    print(first_px_pos if first_px_pos != -1 else -1)\n",
    "\n",
    "    # Tìm vị trí đầu tiên lớn hơn x\n",
    "    first_pthan_pos = firstPthan(a, 0, n - 1, x)\n",
    "    print(first_pthan_pos if first_pthan_pos != -1 else -1)\n",
    "\n",
    "    # Nếu tìm thấy cả vị trí đầu tiên và cuối cùng của x\n",
    "    if first_pos != -1 and last_pos != -1:\n",
    "        print(last_pos - first_pos + 1)\n",
    "    else:\n",
    "        print(0)\n"
   ]
  },
  {
   "cell_type": "code",
   "execution_count": 97,
   "id": "9bab7df2-12d1-4a8c-97e2-ce77ea44741b",
   "metadata": {},
   "outputs": [
    {
     "name": "stdin",
     "output_type": "stream",
     "text": [
      " 5 5\n",
      " 1 7 8 9 2\n",
      " 3 4 4 5 8\n"
     ]
    },
    {
     "name": "stdout",
     "output_type": "stream",
     "text": [
      "3\n"
     ]
    }
   ],
   "source": [
    "#Khieu vu \n",
    "from math import*\n",
    "\n",
    "\n",
    "if __name__== '__main__':\n",
    "    n, m = map(int,input().split())\n",
    "    a = list(map(int,input().split()))\n",
    "    b = list(map(int,input().split()))\n",
    "    a.sort()\n",
    "    b.sort()\n",
    "    i, j,cnt  = 0,0, 0\n",
    "    while i < n and j < m :\n",
    "        if a[i] > b[j]:\n",
    "            cnt += 1\n",
    "            i += 1\n",
    "            j += 1\n",
    "        else:\n",
    "            i+= 1\n",
    "    print(cnt)\n",
    "            "
   ]
  },
  {
   "cell_type": "code",
   "execution_count": 107,
   "id": "b79f4ef0-0355-46e6-8cbc-09722d7021f5",
   "metadata": {},
   "outputs": [
    {
     "name": "stdin",
     "output_type": "stream",
     "text": [
      " 6\n",
      " 8 3 1 1 1 1\n"
     ]
    },
    {
     "name": "stdout",
     "output_type": "stream",
     "text": [
      "4\n"
     ]
    }
   ],
   "source": [
    "from math import*\n",
    "#xep chong vien gach\n",
    "if __name__ == '__main__':\n",
    "    n = int(input())\n",
    "    a = list(map(int,input().split()))\n",
    "    a.sort(reverse = 1)\n",
    "    cnt = 1\n",
    "    docung = a[0]\n",
    "    for i in range ( 1, n):\n",
    "        if docung <= 0:\n",
    "            break\n",
    "        cnt +=1\n",
    "        docung = min(docung -1, a[i])\n",
    "        # vi sau khi chong len 1 vien thi do cung cu no se giam di 1 vien \n",
    "        # va vien tiep theo se follow theo do cung cua a[i]\n",
    "    print(cnt)\n",
    "        "
   ]
  },
  {
   "cell_type": "code",
   "execution_count": 127,
   "id": "202ab407-0594-48ba-902b-d7912f842f39",
   "metadata": {},
   "outputs": [
    {
     "name": "stdin",
     "output_type": "stream",
     "text": [
      " 5\n",
      " 9 8 3 1 1\n"
     ]
    },
    {
     "name": "stdout",
     "output_type": "stream",
     "text": [
      "17\n"
     ]
    }
   ],
   "source": [
    "from math import*\n",
    "\n",
    "if __name__ == '__main__':\n",
    "    n = int(input())\n",
    "    a = list(map(int,input().split()))\n",
    "    a.sort(reverse = 1)\n",
    "    sua = a[0]\n",
    "\n",
    "    for i in range (1, n):\n",
    "        a[i] = a[i] -i\n",
    "        if a[i] > 0:\n",
    "            sua += a[i]\n",
    "    print(sua)"
   ]
  },
  {
   "cell_type": "code",
   "execution_count": 145,
   "id": "0ad5a7ef-33f3-48a2-b92a-1c651ad9a635",
   "metadata": {},
   "outputs": [
    {
     "name": "stdin",
     "output_type": "stream",
     "text": [
      " 4 4\n",
      " 2 2 2 2\n"
     ]
    },
    {
     "name": "stdout",
     "output_type": "stream",
     "text": [
      "6\n"
     ]
    }
   ],
   "source": [
    "from math import*\n",
    "def firstP(a, l, r, x):\n",
    "    point = -1\n",
    "    while l <= r:\n",
    "        m =  (r + l) // 2\n",
    "        if a[m] == x:\n",
    "            point = m\n",
    "            r = m - 1\n",
    "        elif a[m] < x:\n",
    "            l = m + 1\n",
    "        else:\n",
    "            r = m - 1\n",
    "    return point\n",
    "\n",
    "def lastP(a, l, r, x):\n",
    "    point = -1\n",
    "    while l <= r:\n",
    "        m =  (r + l) // 2\n",
    "        if a[m] == x:\n",
    "            point = m\n",
    "            l = m + 1\n",
    "        elif a[m] < x:\n",
    "            l = m + 1\n",
    "        else:\n",
    "            r = m - 1\n",
    "    return point\n",
    "if __name__ == '__main__':\n",
    "    n, k = map(int,input().split())\n",
    "    a = list(map(int,input().split()))\n",
    "    a.sort()\n",
    "    m = 0\n",
    "    for i in range(n):\n",
    "        x = k - a[i]\n",
    "        c, d = lastP(a, i+1, n-1, x), firstP(a,i+1, n-1,x)\n",
    "        if d != -1:\n",
    "            m += c-d +1      \n",
    "    print(m)"
   ]
  },
  {
   "cell_type": "code",
   "execution_count": 153,
   "id": "01ec4701-d0a1-47f6-bd27-c87b874599f2",
   "metadata": {},
   "outputs": [
    {
     "name": "stdin",
     "output_type": "stream",
     "text": [
      " 4 5\n",
      " 2 2 2 2\n"
     ]
    },
    {
     "name": "stdout",
     "output_type": "stream",
     "text": [
      "6\n"
     ]
    }
   ],
   "source": [
    "from math import*\n",
    "\n",
    "def lastP(a, l, r, x):\n",
    "    point = -1\n",
    "    while l <= r:\n",
    "        m =  (r + l) // 2\n",
    "        if a[m] < x:\n",
    "            point = m\n",
    "            l = m + 1\n",
    "        else:\n",
    "            r = m - 1\n",
    "    return point\n",
    "if __name__ == '__main__':\n",
    "    n, k = map(int,input().split())\n",
    "    a = list(map(int,input().split()))\n",
    "    a.sort()\n",
    "    m = 0\n",
    "    for i in range(n):\n",
    "        x = k - a[i]\n",
    "        p1 = last(a, i+1, n-1, x)\n",
    "        if p1 != -1\n",
    "            m += p1 - i\n",
    "    print(m)"
   ]
  },
  {
   "cell_type": "code",
   "execution_count": 167,
   "id": "a0064f08-7998-4666-bf6b-fbff86679e37",
   "metadata": {},
   "outputs": [
    {
     "name": "stdin",
     "output_type": "stream",
     "text": [
      " 4 5\n",
      " 2 3 4 5\n"
     ]
    },
    {
     "name": "stdout",
     "output_type": "stream",
     "text": [
      "5\n"
     ]
    }
   ],
   "source": [
    "from math import*\n",
    "def firstP(a, l, r, x):\n",
    "    point = -1\n",
    "    while l <= r:\n",
    "        m =  (r + l) // 2\n",
    "        if a[m] >= x:\n",
    "            point = m\n",
    "            r = m - 1\n",
    "        else:\n",
    "            l = m + 1\n",
    "    return point\n",
    "\n",
    "if __name__ == '__main__':\n",
    "    n, k = map(int,input().split())\n",
    "    a = list(map(int,input().split()))\n",
    "    a.sort()\n",
    "    ans = 0\n",
    "    # tim so co tong > k\n",
    "    for i in range(n):\n",
    "        c =  firstP(a,i+1, n-1,k - a[i] + 1)\n",
    "        if c != -1:\n",
    "            ans += n- c \n",
    "    print(ans)"
   ]
  },
  {
   "cell_type": "code",
   "execution_count": 183,
   "id": "1025bfb8-a9ee-4e28-b689-7efb786a729e",
   "metadata": {},
   "outputs": [
    {
     "name": "stdin",
     "output_type": "stream",
     "text": [
      " 4 5\n",
      " 2 3 4 5\n"
     ]
    },
    {
     "name": "stdout",
     "output_type": "stream",
     "text": [
      "5\n"
     ]
    }
   ],
   "source": [
    "def pos(a, l, r, x):\n",
    "    res = -1\n",
    "    while l <= r:\n",
    "        m = (l + r) // 2\n",
    "        if a[m] > x:\n",
    "            res = m\n",
    "            r=m-1\n",
    "        else:\n",
    "            l =m+ 1\n",
    "    return res\n",
    "\n",
    "if __name__ == '__main__':\n",
    "    n, k = map(int, input().split())\n",
    "    a = list(map(int, input().split()))\n",
    "    a.sort()\n",
    "    ans = 0\n",
    "    for i in range(n):\n",
    "        #tim [i + 1, n - 1] > k - a[i]\n",
    "        p1 = pos(a, i + 1, n - 1, k - a[i])\n",
    "        if p1 != -1:\n",
    "            ans += n - p1\n",
    "    print (ans)"
   ]
  },
  {
   "cell_type": "code",
   "execution_count": 190,
   "id": "e26005ff-83f7-4d10-9d07-fec20f090505",
   "metadata": {},
   "outputs": [
    {
     "name": "stdin",
     "output_type": "stream",
     "text": [
      " 5\n",
      " 4 5 3 8 6\n"
     ]
    },
    {
     "name": "stdout",
     "output_type": "stream",
     "text": [
      "1\n"
     ]
    }
   ],
   "source": [
    "#dien so con thieu \n",
    "\n",
    "\n",
    "if __name__ == '__main__':\n",
    "    n = int(input())\n",
    "    a = list(map(int,input().split()))\n",
    "    l,r = min(a), max(a)\n",
    "    cnt = [0] *(10**6 +1)\n",
    "    for i in a:\n",
    "        cnt[i] = 1\n",
    "    ans = 0\n",
    "    for i in range(l,r+1):\n",
    "        if cnt[i] == 0:\n",
    "            ans += 1\n",
    "    print (ans)"
   ]
  },
  {
   "cell_type": "code",
   "execution_count": 200,
   "id": "110c4952-bd8e-41cc-9c7c-76a4946648c8",
   "metadata": {},
   "outputs": [
    {
     "name": "stdin",
     "output_type": "stream",
     "text": [
      " 5 3\n",
      " 1 1 2 3 5\n"
     ]
    },
    {
     "name": "stdout",
     "output_type": "stream",
     "text": [
      "1\n"
     ]
    }
   ],
   "source": [
    "#tim cap co hieu bang x\n",
    "\n",
    "def binary_search(a, l,r,x):\n",
    "    while l <= r:\n",
    "        m = (l+r) //2\n",
    "        if a[m] == x:\n",
    "            return 1\n",
    "        elif a[m] < x:\n",
    "            l = m +1\n",
    "        else:\n",
    "            r = m -1\n",
    "    return 0\n",
    "\n",
    "if __name__ == '__main__':\n",
    "    n, x = map(int,input().split())\n",
    "    a = list(map(int,input().split()))\n",
    "    a.sort()\n",
    "    for i in range(n):\n",
    "        # tim xem a[i] => a[i] + x\n",
    "        if binary_search(a, 0, n-1,a[i] + x):\n",
    "            print (1)\n",
    "            exit()\n",
    "    else:\n",
    "       print(0)"
   ]
  },
  {
   "cell_type": "code",
   "execution_count": 214,
   "id": "92b59810-8859-4c3f-90e0-8c82f093bf57",
   "metadata": {},
   "outputs": [
    {
     "name": "stdin",
     "output_type": "stream",
     "text": [
      " 7 15\n",
      " 15 5 3 7 9 14 0\n"
     ]
    },
    {
     "name": "stdout",
     "output_type": "stream",
     "text": [
      "2.5000000000\n"
     ]
    }
   ],
   "source": [
    "#Tim ban kinh  chieu sang cua den long \n",
    "# 2 den loong dau va cuoi phai chieu sang het 2 dau \n",
    "# l : do dai S\n",
    "\n",
    "if __name__ == '__main__':\n",
    "    n, l = map(int,input().split())\n",
    "    a = list(map(int,input().split()))\n",
    "    a.sort()\n",
    "    ans = max(a[0] -0, l - a[-1])\n",
    "    for i in range(1, n):\n",
    "        #tinh khoang cach 2 long den gan nhau \n",
    "        ans = max(ans, (a[i]- a[i-1]) / 2)\n",
    "    print(f'{ans:.10f}')"
   ]
  },
  {
   "cell_type": "code",
   "execution_count": 220,
   "id": "6d41eb4e-6020-4b2f-b2f2-667d62f49373",
   "metadata": {},
   "outputs": [
    {
     "name": "stdin",
     "output_type": "stream",
     "text": [
      " 2 2\n",
      " 54 99\n",
      " 100 0\n"
     ]
    },
    {
     "name": "stdout",
     "output_type": "stream",
     "text": [
      "NO\n"
     ]
    }
   ],
   "source": [
    "#Dragon \n",
    "if __name__ =='__main__':\n",
    "    n, s = map(int,input().split())\n",
    "    a = []\n",
    "    for _ in range(n):\n",
    "        b = list(map(int,input().split()))\n",
    "        a.append(b)\n",
    "    a.sort(key = lambda x: x[0])\n",
    "    ok = 1\n",
    "    for x,y in a:\n",
    "        # x la suc  manh cua dragon, y la diem thuong \n",
    "        if s <= x:\n",
    "            ok = 0\n",
    "            break\n",
    "        s += y\n",
    "    print('YES' if ok else 'NO')"
   ]
  },
  {
   "cell_type": "code",
   "execution_count": 228,
   "id": "0453bdfd-6678-4c27-9332-d79ae2134834",
   "metadata": {},
   "outputs": [
    {
     "name": "stdin",
     "output_type": "stream",
     "text": [
      " 4 10\n",
      " 7 2 3 9\n"
     ]
    },
    {
     "name": "stdout",
     "output_type": "stream",
     "text": [
      "3\n"
     ]
    }
   ],
   "source": [
    "from math import*\n",
    "\n",
    "if __name__ == '__main__':\n",
    "    n,x = map(int,input().split())\n",
    "    a = list(map(int,input().split()))\n",
    "    a.sort()\n",
    "    l, r = 0, n-1\n",
    "    cnt = 0\n",
    "    while l <= r:\n",
    "        if a[l] + a[r] <= x:\n",
    "            cnt+=1\n",
    "            l +=1\n",
    "            r -=1\n",
    "        else: # th tre lon nhat + be nhat > x thi bat buoc no di 1 thuyen \n",
    "            cnt += 1\n",
    "            r -=1\n",
    "    print (cnt)"
   ]
  },
  {
   "cell_type": "code",
   "execution_count": 230,
   "id": "b63ff8f9-986c-41b7-b761-c31b6cc4a7db",
   "metadata": {},
   "outputs": [
    {
     "name": "stdin",
     "output_type": "stream",
     "text": [
      " 5 2\n",
      " 10 2 1 8 9\n"
     ]
    },
    {
     "name": "stdout",
     "output_type": "stream",
     "text": [
      "24\n"
     ]
    }
   ],
   "source": [
    "from math import*\n",
    "# fx max, k la so luong dau + , dat dau tru vao so be nhat va dau + so lon\n",
    "# sort tu thang t2, khong duoc sort t1 \n",
    "if __name__ == '__main__':\n",
    "    n, k = map(int, input().split())\n",
    "    a = list(map(int,input().split()))\n",
    "    a[1:] = sorted(a[1:], reverse = 1)\n",
    "    ans = a[0]\n",
    "    '''\n",
    "a[1:] là phần mảng từ chỉ số 1 đến hết mảng: [4, 3, 7, 6]\n",
    "Sắp xếp [4, 3, 7, 6] theo thứ tự giảm dần sẽ được [7, 6, 4, 3]\n",
    "Gán lại giá trị cho mảng a: [10, 7, 6, 4, 3]\n",
    "    '''\n",
    "    for i in range(1, n):\n",
    "        if i <= k:\n",
    "            ans +=a[i]\n",
    "        else:\n",
    "            ans -= a[i]\n",
    "    print (ans)"
   ]
  },
  {
   "cell_type": "code",
   "execution_count": null,
   "id": "3350d606-ef49-414b-a12a-c5a8099ed3cb",
   "metadata": {},
   "outputs": [],
   "source": []
  }
 ],
 "metadata": {
  "kernelspec": {
   "display_name": "Python 3 (ipykernel)",
   "language": "python",
   "name": "python3"
  },
  "language_info": {
   "codemirror_mode": {
    "name": "ipython",
    "version": 3
   },
   "file_extension": ".py",
   "mimetype": "text/x-python",
   "name": "python",
   "nbconvert_exporter": "python",
   "pygments_lexer": "ipython3",
   "version": "3.12.4"
  }
 },
 "nbformat": 4,
 "nbformat_minor": 5
}
