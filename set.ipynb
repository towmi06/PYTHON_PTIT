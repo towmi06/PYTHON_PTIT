{
 "cells": [
  {
   "cell_type": "markdown",
   "id": "a3bb0a93-9ddf-4b62-bdf7-6da44593241d",
   "metadata": {},
   "source": [
    "### Set là 1 tập hợp k chứa các phần tử trùng nhau và k có thứ tự, k chỉ số, không thể sửa set được \n",
    "các phần tử giống nhau sẽ bị loại bỏ\n",
    "Tìm kiếm nhanh/ truy vấn nhiều kâbf, liệt kê những phần tử khác nhau \n",
    "set không chứa list nhưng có chưa tuple vì set k thể thêm thay \n",
    "s= { }\n",
    "\n",
    "1. thêm phần tư : s.add( gia tri them)\n",
    "2.  thêm nhiều giá trị ptu bang update()\n",
    "   \n",
    "                           s.update([100,'abs')\n",
    "    \n",
    "                           print(s)\n",
    "3.  Xóa phần tử trong set ta có thể dùng :\n",
    "\n",
    "   \n",
    "               * remove(): lưu ý nếu k hông có phần tử đó trong set sẽ báo lỗi\n",
    "               * discard(): không báo  lỗi như remove \n",
    "               * pop(): xóa phần tử bất kì/ ngẫu nhiên \n",
    "               * clear(): xóa hết các phần tử trong set\n",
    "\n",
    "5. Các phép toán trên tập hợp:\n",
    "\n",
    "   - **union()**: phép hợp, lấy ra các phần tử thuộc 1 trong 2 tập hợp  tức những phần tử của tập A và tập B nhưng trừ đi phần giống nhau , sử dụng hàm **union()** or phép toán **|** để tìm hợp của 2 tập\n",
    "  \n",
    "6. **intersection()**: phép giao lấy ra các phần tử thuộc cả 2 tập , sử dụng hàm **intersection()** or toán tử **&** để tìm giao\n",
    "7. **Difference()**: lấy các phần tử thuộc tập A nhưng không thuộc tập B có thể dùng hàm **difference() or '-'**\n",
    "\n",
    "8. **isdisjoin()**: kiểm tra xem 2 tâoj có phần tử nào chung hay không ( trả về T/F)\n",
    "9. **issubset()**: kiểm tra xem hàm này có là tập con của hàm kia không  và ng lại ktra 1 hàm có là cha của hàm kia hay không thì dùng **issuperset()**"
   ]
  },
  {
   "cell_type": "code",
   "execution_count": 22,
   "id": "144bab63-e2ec-4f91-9f85-54f5fd67afab",
   "metadata": {},
   "outputs": [
    {
     "name": "stdout",
     "output_type": "stream",
     "text": [
      "{1, 2, 3, 4, 5, 6}\n",
      "{1, 2, 7, 8, 9}\n",
      "{1, 2, 3, 4, 5, 6, 7, 8, 9}\n",
      "{1, 2, 3, 4, 5, 6, 7, 8, 9}\n",
      "\n",
      "{1, 2}\n",
      "{1, 2}\n",
      "\n",
      "{3, 4, 5, 6}\n",
      "{3, 4, 5, 6}\n"
     ]
    }
   ],
   "source": [
    "s = {1, 2, 3,4 ,5 ,6 }\n",
    "t = {1, 2,7, 8, 9}\n",
    "u = s.union(t)\n",
    "v = s|t\n",
    "\n",
    "k = s.intersection(t)\n",
    "l = s & t\n",
    "\n",
    "a = s.difference(t)\n",
    "b = s-t\n",
    "print (s, t,u, v, sep = '\\n')\n",
    "print()\n",
    "\n",
    "print (k, l, sep = '\\n')\n",
    "print()\n",
    "print (a, b, sep = '\\n')"
   ]
  },
  {
   "cell_type": "markdown",
   "id": "881279b7-fe6f-4463-a019-ef48df00b7e6",
   "metadata": {},
   "source": [
    "### Dictionary: từ điển\n",
    "1. Là 1 ctdl thuộc associative array hay hashmap, key khong the thay doi \n",
    "2. Lưu các cặp phần tử **key: value** : ánh xạ key sang value tương ứng và mỗi key là duy nhất\n",
    "3. Có thể tạo **dict()** từ constructor\n",
    "4. Hoặc nếu có 2 list có thể sử dụng **dict(zip(a,b)) or tao bang dict.fromkeys()**\n",
    "5. Truy cập phần tử qua key dùng **dict[key] or get('key\n",
    "6. Duyệt dict():  có thể lấy **key(), value(), item()** trong list"
   ]
  },
  {
   "cell_type": "code",
   "execution_count": 68,
   "id": "085af65a-3ee6-4823-a516-0a9b23e3872e",
   "metadata": {},
   "outputs": [
    {
     "name": "stdout",
     "output_type": "stream",
     "text": [
      "{1: 'thom', 'hey': 'nga'}\n",
      "\n",
      "{'name': 'thom', 'job': 'it', 'age': '20'}\n",
      "\n",
      "{1: 'one', 2: 'two', 3: 'three', 4: 'four', 210: 'two hundred ten'}\n",
      "\n",
      "{6: 0, 111: 0, 310: 0}\n",
      "\n",
      "thom\n",
      "thom\n"
     ]
    }
   ],
   "source": [
    "infor = {\n",
    "    1: 'thom',\n",
    "    'hey': 'nga'\n",
    "    }\n",
    "# Tạo từ constructor()\n",
    "a = [['name', 'thom'], ['job', 'it'], ['age','20']]\n",
    "b = dict(a)\n",
    "\n",
    "m = [1, 2, 3, 4, 210]\n",
    "n = ['one', 'two', 'three', 'four', 'two hundred ten']\n",
    "k = dict(zip(m,n))\n",
    "\n",
    "c = [6, 111, 310]\n",
    "defaultValue = 0\n",
    "h = dict.fromkeys(c,defaultValue)\n",
    "\n",
    "\n",
    "print(infor)\n",
    "print()\n",
    "\n",
    "print(b)\n",
    "print()\n",
    "\n",
    "print(k)\n",
    "print()\n",
    "\n",
    "print(h)\n",
    "print()\n",
    "\n",
    "\n",
    "print (b['name'])\n",
    "print(b.get('name'))"
   ]
  },
  {
   "cell_type": "code",
   "execution_count": 91,
   "id": "59aeed8f-046b-4e17-a27f-808ab77533b3",
   "metadata": {},
   "outputs": [
    {
     "name": "stdout",
     "output_type": "stream",
     "text": [
      "[1, 'hey']\n",
      "['thom', 'nga']\n",
      "[(1, 'thom'), ('hey', 'nga')]\n",
      "\n",
      "1 thom\n",
      "hey nga\n",
      "\n",
      "1 thom\n",
      "hey nga\n",
      "\n",
      "1\n",
      "hey\n",
      "1 thom\n",
      "hey nga\n"
     ]
    }
   ],
   "source": [
    "#duyẹt dict()\n",
    "infor = {\n",
    "    1: 'thom',\n",
    "    'hey': 'nga'\n",
    "    }\n",
    "#C1\n",
    "a = list(infor.keys())\n",
    "b = list(infor.values())\n",
    "c = list(infor.items())\n",
    "print(a,b,c,sep = '\\n')\n",
    "print()\n",
    "#c2\n",
    "for key in infor.keys():\n",
    "    print(key,infor[key])\n",
    "print()\n",
    "for key, value in infor.items():\n",
    "    print(key, value)\n",
    "print()\n",
    "#c3:\n",
    "for x in infor:\n",
    "    print(x)\n",
    "    # chi duy moi key  \n",
    "for i in infor:\n",
    "    print(i, infor[i])\n"
   ]
  },
  {
   "cell_type": "code",
   "execution_count": 1,
   "id": "2a4c2998-281f-4428-8cf4-f95db756145a",
   "metadata": {},
   "outputs": [
    {
     "name": "stdout",
     "output_type": "stream",
     "text": [
      "{'name': 'thom', 'job': 'it', 'web': 'python'}\n",
      "{'a': 0, 'b': 0, 'c': 0}\n"
     ]
    }
   ],
   "source": [
    "a= ['name', 'job', 'web']\n",
    "b = ['thom', 'it', 'python']\n",
    "c = dict(zip(a,b))\n",
    "\n",
    "#c2\n",
    "a = ['a', 'b','c']\n",
    "defaultValue = 0\n",
    "b = dict.fromkeys(a,defaultValue)\n",
    "\n",
    "print(c)\n",
    "print(b)"
   ]
  },
  {
   "cell_type": "markdown",
   "id": "afc42196",
   "metadata": {},
   "source": [
    "### Đếm nhanh tần suẩt xuất hiện theo thu tu xh \n",
    "\n",
    "sử dụng Counter(): nó gần như dictionary\n",
    "\n",
    "dem tam suat xh trong xau ki tu \n",
    "\n",
    "from collection import Counter"
   ]
  },
  {
   "cell_type": "code",
   "execution_count": 2,
   "id": "547a43d4",
   "metadata": {},
   "outputs": [
    {
     "name": "stdout",
     "output_type": "stream",
     "text": [
      "[(1, 2), (2, 1), (3, 2), (4, 2), (5, 2), (6, 1), (7, 1), (8, 1), (9, 1), (0, 1)]\n",
      "[('t', 4), ('r', 1), ('a', 1), ('n', 2), (' ', 4), ('h', 3), ('i', 2), ('q', 1), ('u', 1), ('y', 1), ('o', 2), ('m', 2), ('(', 1), ('w', 1), ('e', 1), ('s', 2), (')', 1)]\n"
     ]
    }
   ],
   "source": [
    "from collections import Counter\n",
    "\n",
    "a = [1, 2, 3, 4, 5,1,3,4,5,6,7,8,9,0]\n",
    "s= 'tran thi quynh thom (towmiess)'\n",
    "b = Counter(a)\n",
    "# hoac co the dung dict.items()\n",
    "c = list(dict(Counter(a)).items())\n",
    "d = list(dict(Counter(s)).items())\n",
    "print(c)\n",
    "print(d)"
   ]
  },
  {
   "cell_type": "code",
   "execution_count": 7,
   "id": "e9da6ee6",
   "metadata": {},
   "outputs": [
    {
     "name": "stdin",
     "output_type": "stream",
     "text": [
      " 5\n",
      " 1 2 3 2 6\n",
      " 2\n",
      " 1\n"
     ]
    },
    {
     "name": "stdout",
     "output_type": "stream",
     "text": [
      "YES\n"
     ]
    },
    {
     "name": "stdin",
     "output_type": "stream",
     "text": [
      " 3\n"
     ]
    },
    {
     "name": "stdout",
     "output_type": "stream",
     "text": [
      "YES\n"
     ]
    }
   ],
   "source": [
    "n = int(input())\n",
    "a= set(map(int,input().split()))\n",
    "q = int(input())\n",
    "while q != 0:\n",
    "    x = int(input())\n",
    "    print('YES' if x in a else 'NO')\n",
    "    q-=1\n"
   ]
  },
  {
   "cell_type": "code",
   "execution_count": 13,
   "id": "a868dde9-5567-42de-b8f1-bf2d0a49345e",
   "metadata": {},
   "outputs": [
    {
     "name": "stdin",
     "output_type": "stream",
     "text": [
      " 8\n",
      " 1 3 5 8 4 6 2 1\n"
     ]
    },
    {
     "name": "stdout",
     "output_type": "stream",
     "text": [
      "[1, 3, 5, 8, 4, 6, 2]\n"
     ]
    }
   ],
   "source": [
    "n = int(input())\n",
    "a = list(dict.fromkeys(map(int,input().split())))\n",
    "print(*a)"
   ]
  },
  {
   "cell_type": "code",
   "execution_count": 21,
   "id": "71cf674a-c6d2-484f-9e69-5f6691b02c47",
   "metadata": {},
   "outputs": [
    {
     "name": "stdin",
     "output_type": "stream",
     "text": [
      " 6\n",
      " 1 2 3 4 5 6\n",
      " 4\n",
      " 1 1\n",
      " 2 6\n",
      " 3 1\n"
     ]
    },
    {
     "name": "stdout",
     "output_type": "stream",
     "text": [
      "YES\n"
     ]
    },
    {
     "name": "stdin",
     "output_type": "stream",
     "text": [
      " 3 6\n"
     ]
    },
    {
     "name": "stdout",
     "output_type": "stream",
     "text": [
      "NO\n"
     ]
    }
   ],
   "source": [
    "n =int(input())\n",
    "a = list(map(int,input().split()))\n",
    "q = int(input())\n",
    "while q > 0:\n",
    "    b,x = map(int,input().split())\n",
    "    if b == 1:\n",
    "        a.append(x)\n",
    "    elif b == 2:\n",
    "        if x in a: \n",
    "            a.remove(x)\n",
    "    elif b == 3:\n",
    "        print('YES' if x in a else 'NO')\n",
    "    q-=1\n",
    "            "
   ]
  },
  {
   "cell_type": "code",
   "execution_count": 47,
   "id": "0043cf92-3b95-4be8-a75d-59d6db5cb41a",
   "metadata": {},
   "outputs": [
    {
     "name": "stdin",
     "output_type": "stream",
     "text": [
      " 9 8\n",
      " 7 5 0 0 1 6 2 7 3\n",
      " 6 4 9 4 2 8 3 5\n"
     ]
    },
    {
     "name": "stdout",
     "output_type": "stream",
     "text": [
      "5 6 2 3 "
     ]
    }
   ],
   "source": [
    "#intersection: giao \n",
    "m,n = map(int,input().split())\n",
    "a= list(map(int,input().split()))\n",
    "b = set(map(int,input().split()))\n",
    "c = set(a)&b\n",
    "# in theo thứ tự xh của mảng a\n",
    "for x in a:\n",
    "    if x in c:\n",
    "        print(x, end = ' ')\n",
    "        c.remove(x)"
   ]
  },
  {
   "cell_type": "code",
   "execution_count": 50,
   "id": "06695089-ec52-48a0-96d2-9c72e36c3514",
   "metadata": {},
   "outputs": [
    {
     "name": "stdin",
     "output_type": "stream",
     "text": [
      " 6 6\n",
      " 1 9 3 8 0 7\n",
      " 3 1 7 3 7 5\n"
     ]
    },
    {
     "name": "stdout",
     "output_type": "stream",
     "text": [
      "0 8 9\n"
     ]
    }
   ],
   "source": [
    "#difference()\n",
    "m,n = map(int,input().split())\n",
    "a= set(map(int,input().split()))\n",
    "b = set(map(int,input().split()))\n",
    "c = list(a-b)\n",
    "c.sort()\n",
    "print (*c)"
   ]
  },
  {
   "cell_type": "code",
   "execution_count": 52,
   "id": "525c6e7b-0c6c-49d6-a33e-4b1dcd598eb2",
   "metadata": {},
   "outputs": [
    {
     "name": "stdin",
     "output_type": "stream",
     "text": [
      " 9 8\n",
      " 9 0 2 3 9 7 8 1 4\n",
      " 1 0 2 1 1 2 0 5\n"
     ]
    },
    {
     "name": "stdout",
     "output_type": "stream",
     "text": [
      "3 4 5 7 8 9\n"
     ]
    }
   ],
   "source": [
    "m,n = map(int,input().split())\n",
    "a= set(map(int,input().split()))\n",
    "b = set(map(int,input().split()))\n",
    "c = list(a-b) + list(b-a)\n",
    "c.sort()\n",
    "print (*c)"
   ]
  },
  {
   "cell_type": "code",
   "execution_count": 56,
   "id": "1ed8bba5-41f2-45e6-9bf3-5ebe2e76aa9e",
   "metadata": {},
   "outputs": [
    {
     "name": "stdin",
     "output_type": "stream",
     "text": [
      " 9\n",
      " 3 3 3 4 2 0 3 1 2\n",
      " 4\n",
      " 8\n"
     ]
    },
    {
     "name": "stdout",
     "output_type": "stream",
     "text": [
      "1\n"
     ]
    },
    {
     "name": "stdin",
     "output_type": "stream",
     "text": [
      " 6\n"
     ]
    },
    {
     "name": "stdout",
     "output_type": "stream",
     "text": [
      "3\n"
     ]
    },
    {
     "name": "stdin",
     "output_type": "stream",
     "text": [
      " 1\n"
     ]
    },
    {
     "name": "stdout",
     "output_type": "stream",
     "text": [
      "5\n"
     ]
    },
    {
     "name": "stdin",
     "output_type": "stream",
     "text": [
      " 7\n"
     ]
    },
    {
     "name": "stdout",
     "output_type": "stream",
     "text": [
      "2\n"
     ]
    }
   ],
   "source": [
    "n = int(input())\n",
    "a = list(map(int,input().split()))\n",
    "q= int(input())\n",
    "\n",
    "f = [0] * n # Mảng F để lưu số phần tử khác nhau từ i đến N-1\n",
    "b = set()# Tập hợp để theo dõi các phần tử khác nhau\n",
    "for i in range(n-1, -1, -1):\n",
    "    b.add(a[i])\n",
    "    f[i] = len(b) # Cập nhật số phần tử khác nhau từ i tới N-1\n",
    "while q > 0:\n",
    "    l = int(input())\n",
    "    print(f[l])\n",
    "    q-=1"
   ]
  },
  {
   "cell_type": "code",
   "execution_count": 72,
   "id": "63c6bfa6-cc32-493b-87ba-63e17a8b3ca3",
   "metadata": {},
   "outputs": [
    {
     "name": "stdin",
     "output_type": "stream",
     "text": [
      " 8\n",
      " 2 1 2 3 4 8 2 3\n"
     ]
    },
    {
     "name": "stdout",
     "output_type": "stream",
     "text": [
      "1 1\n",
      "2 3\n",
      "3 2\n",
      "4 1\n",
      "8 1\n",
      "\n",
      "2 3\n",
      "1 1\n",
      "3 2\n",
      "4 1\n",
      "8 1\n"
     ]
    }
   ],
   "source": [
    "from collections import Counter\n",
    "n = int(input())\n",
    "a = list(map(int, input().split()))\n",
    "\n",
    "cnt = Counter(a)\n",
    "#in tu be den lon\n",
    "for key in sorted( cnt ):\n",
    "    print(f'{key} {cnt[key]}')\n",
    "print()\n",
    "\n",
    "#in theo tan xuat xh\n",
    "b = set()\n",
    "for x in a:\n",
    "    if x not in b:\n",
    "        print(f'{x} {cnt[x]}')\n",
    "        b.add(x)"
   ]
  },
  {
   "cell_type": "code",
   "execution_count": 82,
   "id": "6df7d5e8-6da1-403b-9b7b-e2a28bf62bcc",
   "metadata": {},
   "outputs": [
    {
     "name": "stdin",
     "output_type": "stream",
     "text": [
      " 5 6\n",
      " 1 2 1 2 7\n",
      " 1 2 3 4 5 6\n"
     ]
    },
    {
     "name": "stdout",
     "output_type": "stream",
     "text": [
      "2 1\n",
      "7 6 5 4 3 2 1\n"
     ]
    }
   ],
   "source": [
    "m,n = map(int,input().split())\n",
    "a = set(map(int,input().split()))\n",
    "b = set(map(int,input().split()))\n",
    "\n",
    "c= list(a & b)\n",
    "c.sort(reverse = 0)\n",
    "d = list(a|b)\n",
    "d.sort(reverse = 0)\n",
    "print (*c)\n",
    "print(*d)"
   ]
  },
  {
   "cell_type": "code",
   "execution_count": 107,
   "id": "0153e8d5-79c4-44ec-a400-2ea7b4ed2ba6",
   "metadata": {},
   "outputs": [],
   "source": [
    "from collections import Counter\n",
    "from math import isqrt\n",
    "import sys\n",
    "\n",
    "# Hàm kiểm tra số nguyên tố\n",
    "def is_prime(n):\n",
    "    if n < 2:\n",
    "        return False\n",
    "    if n in (2, 3):\n",
    "        return True\n",
    "    if n % 2 == 0 or n % 3 == 0:\n",
    "        return False\n",
    "    for i in range(5, isqrt(n) + 1, 6):  # Kiểm tra các số dạng 6k ± 1\n",
    "        if n % i == 0 or n % (i + 2) == 0:\n",
    "            return False\n",
    "    return True\n",
    "\n",
    "'''Hàm is_prime đã được tối ưu hóa bằng cách:\n",
    "Trả về False cho tất cả số nhỏ hơn 2 và True cho 2 và 3.\n",
    "Bỏ qua tất cả các số chẵn và các bội của 3, chỉ kiểm tra các số dạng \n",
    "6𝑘 ± 1. Điều này giảm đáng kể số lần cần kiểm tra.\n",
    "'''\n",
    "if __name__ == '__main__':\n",
    "    # Đọc tất cả các số từ đầu vào\n",
    "    a = list(map(int, sys.stdin.read().split()))\n",
    "    \n",
    "    # Sử dụng Counter để đếm tần suất\n",
    "    cnt = Counter()\n",
    "    \n",
    "    # Đếm số lần xuất hiện của số nguyên tố\n",
    "    for x in a:\n",
    "        if is_prime(x):\n",
    "            cnt[x] += 1  # Tăng tần suất của số nguyên tố\n",
    "\n",
    "    # In ra kết quả theo thứ tự xuất hiện ban đầu\n",
    "    for key in cnt:\n",
    "        print(key, cnt[key])\n"
   ]
  },
  {
   "cell_type": "code",
   "execution_count": null,
   "id": "20d9f0c2-0726-4644-9cc9-b260c64b414e",
   "metadata": {},
   "outputs": [],
   "source": [
    "#liet ke va dem , dem so khong giam \n",
    "import sys\n",
    "from math import*\n",
    "def check(n):\n",
    "    r = n%10\n",
    "    n // =10\n",
    "    while n != 0:\n",
    "        if r < n% 10:\n",
    "            return 0\n",
    "        r = n %10\n",
    "        n //=10\n",
    "    return 1\n",
    "if __name__ == '__main__':\n",
    "    d= dict({})\n",
    "    a = list(map(int, sys.stdin.read().split()))\n",
    "    for x in a:\n",
    "        if check(x):\n",
    "            if x in d:\n",
    "                d[x] +=1\n",
    "            else: d[x] = 1\n",
    "    d = list(d.items())\n",
    "    # Sắp xếp theo tần suất giảm dần, sau đó theo giá trị tăng dần\n",
    "    d.sort(key = lambda x: (-x[1], x[0]))\n",
    "    for x, y in d:\n",
    "        print(x,y)"
   ]
  }
 ],
 "metadata": {
  "kernelspec": {
   "display_name": "Python 3 (ipykernel)",
   "language": "python",
   "name": "python3"
  },
  "language_info": {
   "codemirror_mode": {
    "name": "ipython",
    "version": 3
   },
   "file_extension": ".py",
   "mimetype": "text/x-python",
   "name": "python",
   "nbconvert_exporter": "python",
   "pygments_lexer": "ipython3",
   "version": "3.12.4"
  }
 },
 "nbformat": 4,
 "nbformat_minor": 5
}
