{
 "cells": [
  {
   "cell_type": "code",
   "execution_count": 4,
   "id": "25c929a0-21c3-4629-bd94-94388e1a4934",
   "metadata": {},
   "outputs": [],
   "source": [
    "import pandas as pd\n",
    "import numpy as np \n",
    "from matplotlib import pyplot as plt\n",
    "%matplotlib inline\n",
    "import matplotlib\n",
    "matplotlib.rcParams[\"figure.figsize\"] = (20,10)"
   ]
  },
  {
   "cell_type": "code",
   "execution_count": null,
   "id": "73e3a0ac-ce62-46a8-82a5-933cfd93b9c2",
   "metadata": {},
   "outputs": [],
   "source": []
  },
  {
   "cell_type": "markdown",
   "id": "d3cc5305-d92a-470b-9eb5-d1c33d538b3b",
   "metadata": {},
   "source": [
    "## READ DATA "
   ]
  },
  {
   "cell_type": "code",
   "execution_count": 16,
   "id": "46b1afcc-0e38-45c4-8ec1-4452b87c9dba",
   "metadata": {},
   "outputs": [
    {
     "name": "stderr",
     "output_type": "stream",
     "text": [
      "<>:1: SyntaxWarning: invalid escape sequence '\\s'\n",
      "<>:1: SyntaxWarning: invalid escape sequence '\\s'\n",
      "C:\\Users\\quynh\\AppData\\Local\\Temp\\ipykernel_2028\\835435763.py:1: SyntaxWarning: invalid escape sequence '\\s'\n",
      "  df1 = pd.read_csv('D:\\study\\TTCS\\Data\\Total.csv', encoding='latin1')\n"
     ]
    },
    {
     "data": {
      "text/html": [
       "<div>\n",
       "<style scoped>\n",
       "    .dataframe tbody tr th:only-of-type {\n",
       "        vertical-align: middle;\n",
       "    }\n",
       "\n",
       "    .dataframe tbody tr th {\n",
       "        vertical-align: top;\n",
       "    }\n",
       "\n",
       "    .dataframe thead th {\n",
       "        text-align: right;\n",
       "    }\n",
       "</style>\n",
       "<table border=\"1\" class=\"dataframe\">\n",
       "  <thead>\n",
       "    <tr style=\"text-align: right;\">\n",
       "      <th></th>\n",
       "      <th>STT</th>\n",
       "      <th>Country</th>\n",
       "      <th>Continents</th>\n",
       "      <th>Rate of users\\nInternet (%)</th>\n",
       "      <th>Mobile device usage (%)</th>\n",
       "      <th>Revenue of e-commerce platforms (billion USD)</th>\n",
       "      <th>Revenue of IT industry (billion USD)</th>\n",
       "      <th>Funding in digital infrastructure (billion USD)</th>\n",
       "      <th>Foreign investment capital (million USD)</th>\n",
       "      <th>CREDIT and BANKING digital transformation ratio(%)</th>\n",
       "      <th>Number of Enterprises Applying Digital Transformation (bussiness)</th>\n",
       "      <th>Economic Growth Rate of Education (% GDP)</th>\n",
       "      <th>Number of technology start up businesses</th>\n",
       "      <th>Year</th>\n",
       "    </tr>\n",
       "  </thead>\n",
       "  <tbody>\n",
       "    <tr>\n",
       "      <th>0</th>\n",
       "      <td>1</td>\n",
       "      <td>Algeria</td>\n",
       "      <td>Africa</td>\n",
       "      <td>22.0</td>\n",
       "      <td>98.0</td>\n",
       "      <td>0.60</td>\n",
       "      <td>0.85</td>\n",
       "      <td>0.10</td>\n",
       "      <td>-0.54</td>\n",
       "      <td>0.0</td>\n",
       "      <td>15,000</td>\n",
       "      <td>4.2</td>\n",
       "      <td>850</td>\n",
       "      <td>2015</td>\n",
       "    </tr>\n",
       "    <tr>\n",
       "      <th>1</th>\n",
       "      <td>2</td>\n",
       "      <td>Angola</td>\n",
       "      <td>Africa</td>\n",
       "      <td>18.0</td>\n",
       "      <td>49.0</td>\n",
       "      <td>0.30</td>\n",
       "      <td>0.38</td>\n",
       "      <td>0.10</td>\n",
       "      <td>10.03</td>\n",
       "      <td>0.0</td>\n",
       "      <td>20,000</td>\n",
       "      <td>3.6</td>\n",
       "      <td>200</td>\n",
       "      <td>2015</td>\n",
       "    </tr>\n",
       "    <tr>\n",
       "      <th>2</th>\n",
       "      <td>3</td>\n",
       "      <td>Benin</td>\n",
       "      <td>Africa</td>\n",
       "      <td>15.0</td>\n",
       "      <td>61.2</td>\n",
       "      <td>0.15</td>\n",
       "      <td>0.08</td>\n",
       "      <td>0.11</td>\n",
       "      <td>0.15</td>\n",
       "      <td>0.0</td>\n",
       "      <td>12,000</td>\n",
       "      <td>3.6</td>\n",
       "      <td>90</td>\n",
       "      <td>2015</td>\n",
       "    </tr>\n",
       "    <tr>\n",
       "      <th>3</th>\n",
       "      <td>4</td>\n",
       "      <td>Botswana</td>\n",
       "      <td>Africa</td>\n",
       "      <td>24.0</td>\n",
       "      <td>80.0</td>\n",
       "      <td>0.25</td>\n",
       "      <td>0.22</td>\n",
       "      <td>0.08</td>\n",
       "      <td>0.38</td>\n",
       "      <td>0.0</td>\n",
       "      <td>22,000</td>\n",
       "      <td>6.1</td>\n",
       "      <td>300</td>\n",
       "      <td>2015</td>\n",
       "    </tr>\n",
       "    <tr>\n",
       "      <th>4</th>\n",
       "      <td>5</td>\n",
       "      <td>Burkina Faso</td>\n",
       "      <td>Africa</td>\n",
       "      <td>5.5</td>\n",
       "      <td>71.0</td>\n",
       "      <td>0.12</td>\n",
       "      <td>0.11</td>\n",
       "      <td>0.07</td>\n",
       "      <td>0.23</td>\n",
       "      <td>0.0</td>\n",
       "      <td>10,000</td>\n",
       "      <td>4.1</td>\n",
       "      <td>65</td>\n",
       "      <td>2015</td>\n",
       "    </tr>\n",
       "  </tbody>\n",
       "</table>\n",
       "</div>"
      ],
      "text/plain": [
       "   STT       Country Continents  Rate of users\\nInternet (%)  \\\n",
       "0    1       Algeria   Africa                           22.0   \n",
       "1    2        Angola   Africa                           18.0   \n",
       "2    3         Benin   Africa                           15.0   \n",
       "3    4      Botswana   Africa                           24.0   \n",
       "4    5  Burkina Faso   Africa                            5.5   \n",
       "\n",
       "   Mobile device usage (%)  Revenue of e-commerce platforms (billion USD)  \\\n",
       "0                     98.0                                           0.60   \n",
       "1                     49.0                                           0.30   \n",
       "2                     61.2                                           0.15   \n",
       "3                     80.0                                           0.25   \n",
       "4                     71.0                                           0.12   \n",
       "\n",
       "   Revenue of IT industry (billion USD)  \\\n",
       "0                                  0.85   \n",
       "1                                  0.38   \n",
       "2                                  0.08   \n",
       "3                                  0.22   \n",
       "4                                  0.11   \n",
       "\n",
       "   Funding in digital infrastructure (billion USD)  \\\n",
       "0                                             0.10   \n",
       "1                                             0.10   \n",
       "2                                             0.11   \n",
       "3                                             0.08   \n",
       "4                                             0.07   \n",
       "\n",
       "   Foreign investment capital (million USD)  \\\n",
       "0                                     -0.54   \n",
       "1                                     10.03   \n",
       "2                                      0.15   \n",
       "3                                      0.38   \n",
       "4                                      0.23   \n",
       "\n",
       "   CREDIT and BANKING digital transformation ratio(%)  \\\n",
       "0                                                0.0    \n",
       "1                                                0.0    \n",
       "2                                                0.0    \n",
       "3                                                0.0    \n",
       "4                                                0.0    \n",
       "\n",
       "   Number of Enterprises Applying Digital Transformation (bussiness)   \\\n",
       "0                                             15,000                    \n",
       "1                                             20,000                    \n",
       "2                                             12,000                    \n",
       "3                                             22,000                    \n",
       "4                                             10,000                    \n",
       "\n",
       "   Economic Growth Rate of Education (% GDP)  \\\n",
       "0                                        4.2   \n",
       "1                                        3.6   \n",
       "2                                        3.6   \n",
       "3                                        6.1   \n",
       "4                                        4.1   \n",
       "\n",
       "   Number of technology start up businesses   Year  \n",
       "0                                        850  2015  \n",
       "1                                        200  2015  \n",
       "2                                         90  2015  \n",
       "3                                        300  2015  \n",
       "4                                         65  2015  "
      ]
     },
     "execution_count": 16,
     "metadata": {},
     "output_type": "execute_result"
    }
   ],
   "source": [
    "df1 = pd.read_csv('D:\\study\\TTCS\\Data\\Total.csv', encoding='latin1')\n",
    "df1.head()"
   ]
  },
  {
   "cell_type": "code",
   "execution_count": 30,
   "id": "4699135b-e646-45ed-a045-15f3528a5289",
   "metadata": {},
   "outputs": [
    {
     "data": {
      "text/plain": [
       "(1280, 14)"
      ]
     },
     "execution_count": 30,
     "metadata": {},
     "output_type": "execute_result"
    }
   ],
   "source": [
    "df1.shape"
   ]
  },
  {
   "cell_type": "code",
   "execution_count": 26,
   "id": "31cd8571-413c-48bd-acb1-d977c8540b2b",
   "metadata": {},
   "outputs": [
    {
     "data": {
      "text/plain": [
       "Index(['STT', 'Country', 'Continents', 'Rate of users\\nInternet (%)',\n",
       "       'Mobile device usage (%)',\n",
       "       'Revenue of e-commerce platforms (billion USD)',\n",
       "       'Revenue of IT industry (billion USD)',\n",
       "       'Funding in digital infrastructure (billion USD)',\n",
       "       'Foreign investment capital (million USD)',\n",
       "       'CREDIT and BANKING digital transformation ratio(%)',\n",
       "       ' Number of Enterprises Applying Digital Transformation (bussiness) ',\n",
       "       'Economic Growth Rate of Education (% GDP)',\n",
       "       ' Number of technology start up businesses ', 'Year'],\n",
       "      dtype='object')"
      ]
     },
     "execution_count": 26,
     "metadata": {},
     "output_type": "execute_result"
    }
   ],
   "source": [
    "df1.columns"
   ]
  },
  {
   "cell_type": "code",
   "execution_count": 38,
   "id": "f623ec4c-794e-429b-9a97-20693bb997f7",
   "metadata": {},
   "outputs": [
    {
     "data": {
      "text/plain": [
       "array(['Algeria', 'Angola', 'Benin', 'Botswana', 'Burkina Faso',\n",
       "       'Burundi', 'Cabo Verde (Cape Verde)', 'Cameroon',\n",
       "       'Central African Republic', 'Chad', 'Comoros',\n",
       "       'Congo, Democratic Republic of the (DR Congo)',\n",
       "       'Congo, Republic of the (Republic of the Congo)', 'Djibouti',\n",
       "       'Egypt', 'Equatorial Guinea', 'Eritrea', 'Eswatini (Swaziland)',\n",
       "       'Ethiopia', 'Gabon', 'Gambia', 'Ghana', 'Guinea', 'Guinea-Bissau',\n",
       "       \"Ivory Coast (Côte d'Ivoire)\", 'Kenya', 'Lesotho', 'Liberia',\n",
       "       'Libya', 'Madagascar', 'Malawi', 'Mali', 'Mauritania', 'Mauritius',\n",
       "       'Morocco', 'Mozambique', 'Namibia', 'Niger', 'Nigeria', 'Rwanda',\n",
       "       'Sao Tome and Principe', 'Senegal', 'Seychelles', 'Sierra Leone',\n",
       "       'Somalia', 'South Africa', 'South Sudan', 'Sudan', 'Tanzania',\n",
       "       'Togo', 'Tunisia', 'Uganda', 'Zambia', 'Zimbabwe', 'Canada',\n",
       "       'The United States', 'Mexico', 'Belize', 'Costa Rica',\n",
       "       'El Salvador', 'Guatemala', 'Honduras', 'Nicaragua', 'Panama',\n",
       "       'Antigua and Barbuda', 'Bahamas', 'Barbados', 'Cuba', 'Dominica',\n",
       "       'Dominican Republic', 'Grenada', 'Haiti', 'Jamaica',\n",
       "       'Saint Kitts and Nevis', 'Saint Lucia',\n",
       "       'Saint Vincent and Grenadines', 'Trinidad and Tobago', 'Argentina',\n",
       "       'Bolivia', 'Brazil', 'Chile', 'Colombia', 'Ecuador', 'Guyana',\n",
       "       'Paraguay', 'Peru', 'Suriname', 'Uruguay', 'Venezuela', 'The UK',\n",
       "       'France', 'Spain', 'Albania', 'Austria', 'Belarus', 'Belgium',\n",
       "       'Bulgaria', 'Croatia', 'Czech Republic', 'Denmark', 'Estonia',\n",
       "       'Germany', 'Greece', 'Hungary', 'Italy', 'Luxembourg',\n",
       "       'Netherlands', 'Bac Macedonia', 'China', 'Japan', 'South Korea',\n",
       "       'India', 'Qatar', 'Saudi Arabia', 'Iran', 'Iraq', 'Nepal', 'Syria',\n",
       "       'Jordan', 'Israel', 'Palestine', 'Türkiye', 'Sri Lanka',\n",
       "       'Uzbekistan', 'Bahrain', 'Oman', 'Singapore', 'VietNam'],\n",
       "      dtype=object)"
      ]
     },
     "execution_count": 38,
     "metadata": {},
     "output_type": "execute_result"
    }
   ],
   "source": [
    "df1['Country'].unique()"
   ]
  },
  {
   "cell_type": "code",
   "execution_count": 40,
   "id": "ec8459d9-f336-4332-8c93-9e755716c446",
   "metadata": {},
   "outputs": [
    {
     "data": {
      "text/plain": [
       "Country\n",
       "Algeria       10\n",
       "Angola        10\n",
       "Belarus       10\n",
       "Austria       10\n",
       "Albania       10\n",
       "              ..\n",
       "Niger         10\n",
       "Namibia       10\n",
       "Mozambique    10\n",
       "Morocco       10\n",
       "VietNam       10\n",
       "Name: count, Length: 128, dtype: int64"
      ]
     },
     "execution_count": 40,
     "metadata": {},
     "output_type": "execute_result"
    }
   ],
   "source": [
    "df1['Country'].value_counts()"
   ]
  },
  {
   "cell_type": "markdown",
   "id": "c39f7e72-f7c0-4e60-becf-a268284a4df1",
   "metadata": {},
   "source": [
    "## Data cleanning"
   ]
  },
  {
   "cell_type": "code",
   "execution_count": 5,
   "id": "4a0c98ea-5a16-48fc-9eb4-09451cf93fb4",
   "metadata": {},
   "outputs": [
    {
     "ename": "NameError",
     "evalue": "name 'df1' is not defined",
     "output_type": "error",
     "traceback": [
      "\u001b[1;31m---------------------------------------------------------------------------\u001b[0m",
      "\u001b[1;31mNameError\u001b[0m                                 Traceback (most recent call last)",
      "Cell \u001b[1;32mIn[5], line 1\u001b[0m\n\u001b[1;32m----> 1\u001b[0m df1\u001b[38;5;241m.\u001b[39mdrop(\u001b[38;5;124m'\u001b[39m\u001b[38;5;124mSTT\u001b[39m\u001b[38;5;124m'\u001b[39m,axis \u001b[38;5;241m=\u001b[39m \u001b[38;5;124m'\u001b[39m\u001b[38;5;124mcolumns\u001b[39m\u001b[38;5;124m'\u001b[39m)\n",
      "\u001b[1;31mNameError\u001b[0m: name 'df1' is not defined"
     ]
    }
   ],
   "source": [
    "df1.drop('STT',axis = 'columns')"
   ]
  },
  {
   "cell_type": "code",
   "execution_count": 7,
   "id": "0364f24a-f75f-43ba-953d-b7fca34d790b",
   "metadata": {},
   "outputs": [
    {
     "ename": "NameError",
     "evalue": "name 'df1' is not defined",
     "output_type": "error",
     "traceback": [
      "\u001b[1;31m---------------------------------------------------------------------------\u001b[0m",
      "\u001b[1;31mNameError\u001b[0m                                 Traceback (most recent call last)",
      "Cell \u001b[1;32mIn[7], line 2\u001b[0m\n\u001b[0;32m      1\u001b[0m \u001b[38;5;66;03m#check null \u001b[39;00m\n\u001b[1;32m----> 2\u001b[0m null_values \u001b[38;5;241m=\u001b[39m df1\u001b[38;5;241m.\u001b[39misnull()\u001b[38;5;241m.\u001b[39msum()\n\u001b[0;32m      4\u001b[0m \u001b[38;5;66;03m# Value = 0\u001b[39;00m\n\u001b[0;32m      5\u001b[0m zero_values \u001b[38;5;241m=\u001b[39m (df1 \u001b[38;5;241m==\u001b[39m \u001b[38;5;241m0\u001b[39m)\u001b[38;5;241m.\u001b[39msum()\n",
      "\u001b[1;31mNameError\u001b[0m: name 'df1' is not defined"
     ]
    }
   ],
   "source": [
    "#check null \n",
    "null_values = df1.isnull().sum()\n",
    "\n",
    "# Value = 0\n",
    "zero_values = (df1 == 0).sum()\n",
    "\n",
    "print(\"The numbers is null:\\n\", null_values)\n",
    "print(\"\\n Equal 0 :\\n\", zero_values)"
   ]
  },
  {
   "cell_type": "code",
   "execution_count": null,
   "id": "2e10a017-8517-493c-ad1a-41410603d7f4",
   "metadata": {},
   "outputs": [],
   "source": []
  }
 ],
 "metadata": {
  "kernelspec": {
   "display_name": "Python 3 (ipykernel)",
   "language": "python",
   "name": "python3"
  },
  "language_info": {
   "codemirror_mode": {
    "name": "ipython",
    "version": 3
   },
   "file_extension": ".py",
   "mimetype": "text/x-python",
   "name": "python",
   "nbconvert_exporter": "python",
   "pygments_lexer": "ipython3",
   "version": "3.12.4"
  }
 },
 "nbformat": 4,
 "nbformat_minor": 5
}
