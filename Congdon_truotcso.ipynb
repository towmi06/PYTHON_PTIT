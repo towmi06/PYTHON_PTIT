{
 "cells": [
  {
   "cell_type": "markdown",
   "id": "04580971-fa09-4ba4-b88f-65537eeccfe6",
   "metadata": {},
   "source": [
    "SÀNG SỐ NGUYÊN TỐ: O (N *log(logN)) "
   ]
  },
  {
   "cell_type": "markdown",
   "id": "b106d4a3-25cb-4304-a5bf-014022857de9",
   "metadata": {},
   "source": [
    "B1: Coi tất các số từ 0 -> n là số nguyên tố: prime[i] = true\n",
    "\n",
    "\n",
    "B2: Bội của i không là số nto và đánh dấu = fasle"
   ]
  },
  {
   "cell_type": "code",
   "execution_count": 5,
   "id": "ec467428-d2c0-47e1-a84b-b2463be3e35b",
   "metadata": {},
   "outputs": [
    {
     "name": "stdin",
     "output_type": "stream",
     "text": [
      " 6\n",
      " 1 6 5 9 4 5\n"
     ]
    },
    {
     "name": "stdout",
     "output_type": "stream",
     "text": [
      "2 3 5 7 11 13 17 19 23 29 31 37 41 43 47 53 59 61 67 71 73 79 83 89 97 "
     ]
    }
   ],
   "source": [
    "from math import*\n",
    "\n",
    "prime = [True]*(10**6 +1)\n",
    "\n",
    "def sieve():\n",
    "    prime[0], prime[1] = False, False\n",
    "    for i in range (2, isqrt(10**6) +1):\n",
    "        if prime[i]:\n",
    "            #duyet boi dau tien la i^ 2\n",
    "            for j in range(i *i, 10**6 + 1, i):\n",
    "                prime[j] = False\n",
    "\n",
    "if __name__ == '__main__':\n",
    "    #n = int(input())\n",
    "    #a = list(map(int,input().split()))\n",
    "    sieve()\n",
    "    for i in range (100):\n",
    "        if prime[i]: # O(1)\n",
    "            print(i, end = ' ')"
   ]
  },
  {
   "cell_type": "code",
   "execution_count": 15,
   "id": "6b01edc5-8d87-4e96-8921-148fd5e6defe",
   "metadata": {},
   "outputs": [
    {
     "name": "stdin",
     "output_type": "stream",
     "text": [
      " 1\n",
      " 11\n"
     ]
    },
    {
     "name": "stdout",
     "output_type": "stream",
     "text": [
      "39916800\n"
     ]
    }
   ],
   "source": [
    "from math import*\n",
    "\n",
    "if __name__ == '__main__':\n",
    "    t = int(input())\n",
    "    while t > 0:\n",
    "        n = int(input())\n",
    "        print(factorial(n )% (10**9 + 7))\n",
    "        t -=1"
   ]
  },
  {
   "cell_type": "code",
   "execution_count": 7,
   "id": "ec3a0958-eda3-493b-8c54-a6f0db8829cc",
   "metadata": {},
   "outputs": [
    {
     "name": "stdin",
     "output_type": "stream",
     "text": [
      " 1\n",
      " 6\n"
     ]
    },
    {
     "name": "stdout",
     "output_type": "stream",
     "text": [
      "720\n"
     ]
    }
   ],
   "source": [
    "#tinh giai thua\n",
    "from math import*\n",
    "F = [0] * (10 ** 6 + 1)\n",
    "def init():\n",
    "    F[0] = 1\n",
    "    for i in range(1, 10 **6 +1):\n",
    "        F[i] = F[i -1] * i\n",
    "        F[i] %= (10** 9 +7)\n",
    "        \n",
    "if __name__ == '__main__':\n",
    "    init()\n",
    "    t = int(input())\n",
    "    for _ in range(t):\n",
    "        n = int(input())\n",
    "        print(F[n])\n",
    "        "
   ]
  },
  {
   "cell_type": "code",
   "execution_count": 5,
   "id": "2b4b9586-fa2b-48e8-8ceb-2fedc6674d09",
   "metadata": {},
   "outputs": [
    {
     "name": "stdin",
     "output_type": "stream",
     "text": [
      " 1\n",
      " 109\n"
     ]
    },
    {
     "name": "stdout",
     "output_type": "stream",
     "text": [
      "42837731\n"
     ]
    }
   ],
   "source": [
    "from math import*\n",
    "\n",
    "F = [0] * (10**6 +1)\n",
    "def fibo():\n",
    "    F[0] = 0\n",
    "    F[1] = 1\n",
    "    for i in range (2, 10**6 +1):\n",
    "        F[i] = (F[i-1] + F[i-2] ) %(10**9+7)\n",
    "if __name__ == '__main__':\n",
    "    fibo()\n",
    "    t = int(input())\n",
    "    for _ in range(t):\n",
    "        n = int(input())\n",
    "        print(F[n])"
   ]
  },
  {
   "cell_type": "code",
   "execution_count": null,
   "id": "f8fc055a-461a-4269-9b94-06c746dafec5",
   "metadata": {},
   "outputs": [],
   "source": [
    "from math import*\n",
    "\n",
    "F = [0] * (10**6+1)\n",
    "def tribo():\n",
    "    F[0] = 0\n",
    "    F[1] = 0\n",
    "    F[2] = 1\n",
    "    for i in range (3, (10**6) +1):\n",
    "        F[i] = (F[i-1] + F[i-2] + F[i-3])% (10**9 +7)\n",
    "if __name__ == '__main__':\n",
    "    tribo()\n",
    "    t = int(input())\n",
    "    for _ in range(t):\n",
    "        n = int(input())\n",
    "        print(F[n])\n"
   ]
  },
  {
   "cell_type": "code",
   "execution_count": 15,
   "id": "54e28721-e0ea-45a1-891b-815d35b8cab0",
   "metadata": {},
   "outputs": [
    {
     "name": "stdin",
     "output_type": "stream",
     "text": [
      " 5\n",
      " 39\n"
     ]
    },
    {
     "name": "stdout",
     "output_type": "stream",
     "text": [
      "12\n"
     ]
    },
    {
     "name": "stdin",
     "output_type": "stream",
     "text": [
      " 26\n"
     ]
    },
    {
     "name": "stdout",
     "output_type": "stream",
     "text": [
      "9\n"
     ]
    },
    {
     "name": "stdin",
     "output_type": "stream",
     "text": [
      " 68\n"
     ]
    },
    {
     "name": "stdout",
     "output_type": "stream",
     "text": [
      "19\n"
     ]
    },
    {
     "name": "stdin",
     "output_type": "stream",
     "text": [
      " 87\n"
     ]
    },
    {
     "name": "stdout",
     "output_type": "stream",
     "text": [
      "23\n"
     ]
    },
    {
     "name": "stdin",
     "output_type": "stream",
     "text": [
      " 6\n"
     ]
    },
    {
     "name": "stdout",
     "output_type": "stream",
     "text": [
      "3\n"
     ]
    }
   ],
   "source": [
    "#CAch 1: so luong so nguyen to tu 0 -> n\n",
    "from math import*\n",
    "\n",
    "prime = [True]*(10**6 +1)\n",
    "F = [0] * (10**6+1)\n",
    "def sieves():\n",
    "    prime[0] = False\n",
    "    prime[1] = False\n",
    "    for i in range (2, isqrt(10**6) +1):\n",
    "        if prime[i]:\n",
    "            for j in range (i* i, 10**6 +1 , i):\n",
    "                prime[j] = False\n",
    "for i in range(1, 10**6 + 1):\n",
    "    prime_count[i] = prime_count[i - 1] + prime[i] \n",
    "    \n",
    "if __name__ == '__main__':\n",
    "    sieves()\n",
    "    F[0] , F[1] = 0,0\n",
    "    dem = 0\n",
    "    for i in range(1, 10**6+1):\n",
    "        if prime[i] :\n",
    "            dem +=1\n",
    "        F[i] = dem\n",
    "        \n",
    "    t = int(input())\n",
    "    for _ in range(t):\n",
    "        n = int(input())\n",
    "        print(F[n])"
   ]
  },
  {
   "cell_type": "code",
   "execution_count": 17,
   "id": "c41b4d91-7506-4890-b53a-a5dbd789f54e",
   "metadata": {},
   "outputs": [
    {
     "name": "stdin",
     "output_type": "stream",
     "text": [
      " 5\n",
      " 36\n"
     ]
    },
    {
     "name": "stdout",
     "output_type": "stream",
     "text": [
      "11\n"
     ]
    },
    {
     "name": "stdin",
     "output_type": "stream",
     "text": [
      " 39\n"
     ]
    },
    {
     "name": "stdout",
     "output_type": "stream",
     "text": [
      "12\n"
     ]
    },
    {
     "name": "stdin",
     "output_type": "stream",
     "text": [
      " 26\n"
     ]
    },
    {
     "name": "stdout",
     "output_type": "stream",
     "text": [
      "9\n"
     ]
    },
    {
     "name": "stdin",
     "output_type": "stream",
     "text": [
      " 98\n"
     ]
    },
    {
     "name": "stdout",
     "output_type": "stream",
     "text": [
      "25\n"
     ]
    },
    {
     "name": "stdin",
     "output_type": "stream",
     "text": [
      " 56\n"
     ]
    },
    {
     "name": "stdout",
     "output_type": "stream",
     "text": [
      "16\n"
     ]
    }
   ],
   "source": [
    "#cach2\n",
    "from math import *\n",
    "\n",
    "prime = [True] * (10**6 + 1)\n",
    "prime_count = [0] * (10**6 + 1)  # Mảng tích lũy đếm số lượng số nguyên tố\n",
    "\n",
    "def sieves():\n",
    "    prime[0] = False \n",
    "    prime[1] = False \n",
    "    \n",
    "    for i in range(2, isqrt(10**6) + 1):\n",
    "        if prime[i]:\n",
    "            for j in range(i * i, 10**6 + 1, i):\n",
    "                prime[j] = False\n",
    "    # Xây dựng mảng prime_count, trong đó prime_count[i] lưu số lượng số nguyên tố <= i\n",
    "    for i in range(1, 10**6 + 1):\n",
    "        prime_count[i] = prime_count[i - 1] + prime[i]\n",
    "\n",
    "# Hàm đếm số lượng số nguyên tố <= n\n",
    "def count_primes(n):\n",
    "    return prime_count[n]\n",
    "\n",
    "if __name__ == '__main__':\n",
    "    sieves()  \n",
    "    t = int(input()) \n",
    "    for _ in range(t):\n",
    "        n = int(input())  \n",
    "        print(count_primes(n))  \n"
   ]
  },
  {
   "cell_type": "code",
   "execution_count": null,
   "id": "d2af1a15-df3f-49dd-8ac1-eb76b17007a7",
   "metadata": {},
   "outputs": [],
   "source": [
    "#Dem so nguyen to tu L den R\n",
    "from math import*\n",
    "F = [0] * (10**6 +1)\n",
    "prime = [True] * (10**6 +1)\n",
    "\n",
    "def sieve():\n",
    "    prime[0], prime[1] = False, False\n",
    "    for i in range (2, isqrt(10**6) + 1):\n",
    "        if prime[i] :\n",
    "            for j in range ( i*i, 10**6 +1,i):\n",
    "                prime[j] = False\n",
    "        \n",
    "if __name__ == '__main__':\n",
    "    sieve()\n",
    "    F[0], F[1] = 0,0\n",
    "    dem = 0\n",
    "    for i in range(1, 10**6+1):\n",
    "        if prime[i] :\n",
    "            dem +=1\n",
    "        F[i] = dem\n",
    "        \n",
    "    t = int(input())\n",
    "    for _ in range (t):\n",
    "        l,r = map(int,input().split())\n",
    "        if l == 0:\n",
    "            print (F[r])\n",
    "        else: \n",
    "            print(F[r] - F[l-1])"
   ]
  },
  {
   "cell_type": "code",
   "execution_count": 3,
   "id": "dd51da9d-1eb1-48d4-b0a0-d63b301d5067",
   "metadata": {},
   "outputs": [
    {
     "name": "stdin",
     "output_type": "stream",
     "text": [
      " 5\n",
      " 20\n"
     ]
    },
    {
     "name": "stdout",
     "output_type": "stream",
     "text": [
      "9699690\n"
     ]
    },
    {
     "name": "stdin",
     "output_type": "stream",
     "text": [
      " 16\n"
     ]
    },
    {
     "name": "stdout",
     "output_type": "stream",
     "text": [
      "30030\n"
     ]
    },
    {
     "name": "stdin",
     "output_type": "stream",
     "text": [
      " 10\n"
     ]
    },
    {
     "name": "stdout",
     "output_type": "stream",
     "text": [
      "210\n"
     ]
    },
    {
     "name": "stdin",
     "output_type": "stream",
     "text": [
      " 22\n"
     ]
    },
    {
     "name": "stdout",
     "output_type": "stream",
     "text": [
      "9699690\n"
     ]
    },
    {
     "name": "stdin",
     "output_type": "stream",
     "text": [
      " 29\n"
     ]
    },
    {
     "name": "stdout",
     "output_type": "stream",
     "text": [
      "469693188\n"
     ]
    }
   ],
   "source": [
    "# tich cac so nto tu 0 -> n\n",
    "from math import*\n",
    "F = [0] * (10**6 +1)\n",
    "prime = [True] * (10**6 +1)\n",
    "\n",
    "def sieve():\n",
    "    prime[0], prime[1] = False, False\n",
    "    for i in range (2, isqrt(10**6) + 1):\n",
    "        if prime[i] :\n",
    "            for j in range ( i*i, 10**6 +1,i):\n",
    "                prime[j] = False\n",
    "        \n",
    "if __name__ == '__main__':\n",
    "    sieve()\n",
    "    F[0], F[1] = 0,0\n",
    "    F[2] = 2\n",
    "    dem = 0\n",
    "    mod = 10**9 +7\n",
    "    for i in range(3, 10**6+1):\n",
    "        if prime[i] :\n",
    "            F[i] = (F[i-1] *i)%mod\n",
    "        else:\n",
    "            F[i] = F[i-1] % mod\n",
    "        \n",
    "    t = int(input())\n",
    "    for _ in range (t):\n",
    "        n = int(input())\n",
    "        print (F[n])"
   ]
  },
  {
   "cell_type": "code",
   "execution_count": 5,
   "id": "70e4b2f3-9ade-435b-ae53-70f41914548e",
   "metadata": {},
   "outputs": [
    {
     "name": "stdout",
     "output_type": "stream",
     "text": [
      "[2, 3, 1, 3, 4, 1]\n",
      "[2, 1, 3, 4, 1]\n"
     ]
    }
   ],
   "source": [
    "a= [1, 2 , 3 , 1 ,3,4,1]\n",
    "a.remove(1)\n",
    "print(a)\n",
    "a.remove(3)\n",
    "print(a)"
   ]
  },
  {
   "cell_type": "code",
   "execution_count": null,
   "id": "db204690-0b23-451e-8e0f-56cd3be2dca3",
   "metadata": {},
   "outputs": [],
   "source": []
  }
 ],
 "metadata": {
  "kernelspec": {
   "display_name": "Python 3 (ipykernel)",
   "language": "python",
   "name": "python3"
  },
  "language_info": {
   "codemirror_mode": {
    "name": "ipython",
    "version": 3
   },
   "file_extension": ".py",
   "mimetype": "text/x-python",
   "name": "python",
   "nbconvert_exporter": "python",
   "pygments_lexer": "ipython3",
   "version": "3.12.4"
  }
 },
 "nbformat": 4,
 "nbformat_minor": 5
}
