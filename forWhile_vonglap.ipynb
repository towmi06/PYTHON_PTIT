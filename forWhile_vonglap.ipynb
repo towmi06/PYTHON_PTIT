{
 "cells": [
  {
   "cell_type": "code",
   "execution_count": 5,
   "id": "a2b5542e-aaae-40b9-b922-7d01206d144b",
   "metadata": {},
   "outputs": [
    {
     "name": "stdout",
     "output_type": "stream",
     "text": [
      "1 4 7 "
     ]
    }
   ],
   "source": [
    "for i in range(1, 10, 3):\n",
    "    print (i, end = ' ')\n"
   ]
  },
  {
   "cell_type": "code",
   "execution_count": 25,
   "id": "83b5d1a6-86b9-4a4d-8ab7-c4cb0b32af9f",
   "metadata": {},
   "outputs": [
    {
     "name": "stdout",
     "output_type": "stream",
     "text": [
      "Do dai cua n: 4\n",
      "So chu so cua n:  4\n",
      "Tong cac chu so cua n la:  10\n"
     ]
    }
   ],
   "source": [
    "#dem chu so n, tong cac chu so n, tinh tong chu so chan/ le, chu so nguyen to, so thuan nghich, loc phat,..\n",
    "n = 1234\n",
    "dem = 0\n",
    "tong = 0\n",
    "#C1: muon tinh so ki tu co cach khac\n",
    "print('Do dai cua n:', len(str(n)))\n",
    "\n",
    "#C2:\n",
    "while n != 0:\n",
    "    dem += 1\n",
    "    tong += n% 10  # lay so cuoi\n",
    "    n //= 10   #bo di so cuoi \n",
    "print ('So chu so cua n: ', dem)\n",
    "print ('Tong cac chu so cua n la: ', tong )\n"
   ]
  },
  {
   "cell_type": "code",
   "execution_count": 27,
   "id": "fb2f15bf-d5de-4d7a-93cb-0a99ba6074a8",
   "metadata": {},
   "outputs": [
    {
     "name": "stdout",
     "output_type": "stream",
     "text": [
      "4321\n"
     ]
    }
   ],
   "source": [
    "# kiem tra so thuan nghich, lat nguoc lai \n",
    "i = 1234\n",
    "lat = 0\n",
    "while i != 0:\n",
    "    lat = lat *10 + i% 10\n",
    "    i //= 10\n",
    "print (lat)"
   ]
  },
  {
   "cell_type": "code",
   "execution_count": 31,
   "id": "119e223d-ba9f-4457-b331-1b3b857d7d83",
   "metadata": {},
   "outputs": [
    {
     "name": "stdin",
     "output_type": "stream",
     "text": [
      " 6\n"
     ]
    },
    {
     "name": "stdout",
     "output_type": "stream",
     "text": [
      "21\n"
     ]
    }
   ],
   "source": [
    "# tong sn = 1+2+...+ n\n",
    "n = int(input())\n",
    "s = 0\n",
    "for i in range(1, n + 1):\n",
    "    s+= i\n",
    "print (s)\n",
    "\n",
    "# Tính tổng S(n) = 1^2 + 2^2 + 3^2 + 4^2 + ... + n^2\n",
    "for i in range(1, n + 1):\n",
    "    s+= i*i\n",
    "print (s)\n",
    "\n",
    "# Tính tổng các số chia hết cho 3 từ 3 đến n\n",
    "for i in range(3, n + 1, 3):\n",
    "    s += i\n",
    "print(s)\n",
    "\n",
    "#S(n) =1+1/2+1/3+1/4+….+1/n\n",
    "for i in range (1, n + 1):\n",
    "    s+= 1.000/i\n",
    "print (f\"{s:.3f}\")\n",
    "\n",
    "#Tính tổng : S(n) = 1/2 + 1/4 + 1/6 + 1/8 +…….+ 1/(2n)\n",
    "for i in range (2, 2*n + 1, 2):\n",
    "    s+= 1.0/i\n",
    "print (f\"{s:.5f}\")"
   ]
  },
  {
   "cell_type": "code",
   "execution_count": 71,
   "id": "8cb1fd19-7207-4ce1-89ef-4f41881d9ff5",
   "metadata": {},
   "outputs": [
    {
     "name": "stdin",
     "output_type": "stream",
     "text": [
      " 28\n"
     ]
    },
    {
     "name": "stdout",
     "output_type": "stream",
     "text": [
      "56\n"
     ]
    }
   ],
   "source": [
    "\n",
    "#tính tổng các ước của một số nguyên dương n voi muc toi uu nhat \n",
    "import math\n",
    "N = int(input())\n",
    "s= 0\n",
    "# Duyệt qua tất cả các số từ 1 đến sqrt(N)\n",
    "for i in range(1, int(math.sqrt(N)) + 1):\n",
    "    if N % i == 0:\n",
    "        s+= i\n",
    "        if i != N // i: # Nếu i không phải là căn bậc hai của N \n",
    "            s += N // i\n",
    "print(s)\n",
    "'''\n",
    "C2:\n",
    "s= n\n",
    "for i in range (1,n // 2 + 1): \n",
    "    if(n % i == 0):\n",
    "        s +=i\n",
    "print(s)\n",
    "'''"
   ]
  },
  {
   "cell_type": "code",
   "execution_count": 86,
   "id": "38de7306-b814-4cc1-88ec-7efd955a84c0",
   "metadata": {},
   "outputs": [
    {
     "name": "stdin",
     "output_type": "stream",
     "text": [
      " 28\n"
     ]
    },
    {
     "name": "stdout",
     "output_type": "stream",
     "text": [
      "6\n",
      "1 2 4 7 14 28 "
     ]
    }
   ],
   "source": [
    "# dem va liet ke cac uoc cua 1 so \n",
    "import math\n",
    "N = int(input())\n",
    "dem=0\n",
    "for i in range(1, int(math.sqrt(N)) + 1):\n",
    "    if N % i == 0:\n",
    "        dem += 1\n",
    "        if i != N // i:\n",
    "            dem += 1\n",
    "print(dem)\n",
    "for i in range(1, N+ 1):\n",
    "    if N % i == 0:\n",
    "        print(i, end = ' ')"
   ]
  },
  {
   "cell_type": "code",
   "execution_count": 90,
   "id": "71bd1382-c00d-4209-9d1a-c34f64c80965",
   "metadata": {},
   "outputs": [
    {
     "name": "stdin",
     "output_type": "stream",
     "text": [
      " 50\n"
     ]
    },
    {
     "name": "stdout",
     "output_type": "stream",
     "text": [
      "1 4 9 16 25 36 49 "
     ]
    }
   ],
   "source": [
    "from math import*\n",
    "n = int(input())\n",
    "for i in range (1, int(sqrt(n)) + 1):\n",
    "    print(i**2, end = ' ')"
   ]
  },
  {
   "cell_type": "code",
   "execution_count": 96,
   "id": "f28eab5e-1a11-4215-ac72-30b6d1ab8be5",
   "metadata": {},
   "outputs": [
    {
     "name": "stdin",
     "output_type": "stream",
     "text": [
      " 10\n"
     ]
    },
    {
     "name": "stdout",
     "output_type": "stream",
     "text": [
      "100\n"
     ]
    }
   ],
   "source": [
    "# dem va liet ke cac uoc cua 1 so \n",
    "N = int(input())\n",
    "tich = 1\n",
    "for i in range(1, N+ 1):\n",
    "    if N % i == 0:\n",
    "        tich *= i\n",
    "print(tich)"
   ]
  },
  {
   "cell_type": "code",
   "execution_count": 1,
   "id": "7420ffc7-11f9-4cfb-812a-8a48c5d58ab9",
   "metadata": {},
   "outputs": [
    {
     "name": "stdin",
     "output_type": "stream",
     "text": [
      " 3\n",
      " 2021 2022 2023\n"
     ]
    },
    {
     "name": "stdout",
     "output_type": "stream",
     "text": [
      "YES\n"
     ]
    }
   ],
   "source": [
    "# Nhập số lượng số nguyên sẽ nhập\n",
    "N = int(input())\n",
    "\n",
    "# Nhập N số nguyên, cách nhau bởi khoảng trắng\n",
    "numbers = list(map(int, input().split()))\n",
    "\n",
    "# Kiểm tra xem số 2022 có trong danh sách numbers hay không\n",
    "if 2022 in numbers:\n",
    "    print(\"YES\")\n",
    "else:\n",
    "    print(\"NO\")\n"
   ]
  },
  {
   "cell_type": "code",
   "execution_count": 4,
   "id": "8b12477b-38f6-4590-8ee3-2960f6450831",
   "metadata": {},
   "outputs": [
    {
     "name": "stdin",
     "output_type": "stream",
     "text": [
      " 7\n"
     ]
    },
    {
     "name": "stdout",
     "output_type": "stream",
     "text": [
      "-4\n"
     ]
    }
   ],
   "source": [
    "#  S(n) = -1 + 2 - 3 + 4 - 5 + ...... + (-1)^n*n\n",
    "n = int(input())\n",
    "s = 0\n",
    "for i in range(1, n+1):\n",
    "    if i % 2 == 0:\n",
    "        s+= i\n",
    "    else:\n",
    "        s -= i\n",
    "print (s)\n",
    "\n",
    "#S =2+4+6+8+.....+2*n\n",
    "n = int(input())\n",
    "s = 0\n",
    "for i in range (2, 2*n + 1, 2):\n",
    "    s+= i\n",
    "print (s)\n",
    "\n",
    "#. S = 1+3+5+7+.....+2*n-1\n",
    "n = int(input())\n",
    "s = 0\n",
    "for i in range (1, 2*n, 2):\n",
    "    s+= i\n",
    "print (s)\n",
    "\n",
    "#S = 1+3+5+7+.....+2*n-1\n",
    "n = int(input())\n",
    "s = 0\n",
    "for i in range (1, 2*n, 2):\n",
    "    s+= i\n",
    "print (s)\n",
    "\n",
    "# S =1^3+2^3+3^3+4^3+……+n^3.\n",
    "from math import*\n",
    "n = int(input())\n",
    "s = 0\n",
    "for i in range (1, n+1):\n",
    "    s+= int(pow(i, 3))\n",
    "print (s)\n",
    "\n",
    "#S(n) = 1 + 1.2 + 1.2.3 + 1.2.3.4 + ... + 1.2.3....n\n",
    "from math import*\n",
    "n = int(input())\n",
    "s = 0\n",
    "\n",
    "for i in range (1, n+1):\n",
    "    s+= factorial(i)\n",
    "print(s)\n",
    "\n",
    "# n!\n",
    "n = int(input())\n",
    "s = 1\n",
    "while n != 0:\n",
    "    s*=n\n",
    "    n-= 1\n",
    "print (s)\n",
    "\n",
    "#Kiem tra cac chu so cua n co la so nguyen to hay khong \n",
    "n = int(input())\n",
    "nto = 0\n",
    "\n",
    "while n > 0:\n",
    "    digit = n % 10  # Lấy chữ số cuối cùng của n\n",
    "    if digit in {2, 3, 5, 7}:  # Kiểm tra nếu chữ số là số nguyên tố\n",
    "        nto += 1\n",
    "    n //= 10  # Loại bỏ chữ số cuối cùng\n",
    "\n",
    "print(nto)\n"
   ]
  },
  {
   "cell_type": "code",
   "execution_count": 7,
   "id": "e3fe0007-d519-4805-8e7b-0191f20230f1",
   "metadata": {},
   "outputs": [
    {
     "name": "stdin",
     "output_type": "stream",
     "text": [
      " 138\n"
     ]
    },
    {
     "name": "stdout",
     "output_type": "stream",
     "text": [
      "5\n"
     ]
    }
   ],
   "source": [
    "n = int(input())\n",
    "bia = n // 28  # Số chai bia mua được bằng tiền\n",
    "vo = bia  # Số vỏ chai ban đầu\n",
    "\n",
    "while vo >= 3:\n",
    "    doi = vo // 3  # Số chai bia đổi được từ vỏ chai\n",
    "    bia += doi\n",
    "    vo = vo % 3 + doi  # Số vỏ chai còn lại sau khi đổi\n",
    "\n",
    "print(bia)\n"
   ]
  },
  {
   "cell_type": "code",
   "execution_count": 25,
   "id": "73b07bda-ad5d-46cf-b56e-1ede2e5025ab",
   "metadata": {},
   "outputs": [
    {
     "name": "stdin",
     "output_type": "stream",
     "text": [
      " 5\n"
     ]
    },
    {
     "name": "stdout",
     "output_type": "stream",
     "text": [
      "2\n",
      "2 3\n"
     ]
    }
   ],
   "source": [
    "# liet ke cac chu so nto tao thanh n voi so hang max\n",
    "n = int(input())\n",
    "\n",
    "if n < 2:\n",
    "    print(-1)\n",
    "elif n % 2 == 0:\n",
    "    # Nếu n chẵn, dùng toàn bộ số 2\n",
    "    print(n // 2)\n",
    "    print('2 ' * (n // 2))\n",
    " ''' Phép toán nhân chuỗi * trong Python\n",
    " lặp lại chuỗi '2 ' một số lần được chỉ định bởi (n // 2)'''\n",
    "else:\n",
    "    # Nếu n lẻ, dùng một số 3 và phần còn lại là số 2\n",
    "    print(n // 2)\n",
    "    print('2 ' * ((n - 3) // 2) +'3')\n"
   ]
  },
  {
   "cell_type": "code",
   "execution_count": 18,
   "id": "23c8c88c-dbae-45a8-a8f3-bfb3e0a16dd2",
   "metadata": {},
   "outputs": [
    {
     "name": "stdin",
     "output_type": "stream",
     "text": [
      " 5\n"
     ]
    },
    {
     "name": "stdout",
     "output_type": "stream",
     "text": [
      "*****\n",
      "*****\n",
      "*****\n",
      "*****\n",
      "*****\n",
      "\n",
      "*****\n",
      "*   *\n",
      "*   *\n",
      "*   *\n",
      "*****\n",
      "\n",
      "*****\n",
      "*###*\n",
      "*###*\n",
      "*###*\n",
      "*****\n",
      "\n",
      "*****\n",
      "*###*\n",
      "*###*\n",
      "*###*\n",
      "*****\n",
      "\n",
      "1 1 1 1 1 \n",
      "2       2\n",
      "3       3\n",
      "4       4\n",
      "5 5 5 5 5 \n",
      "1 1 1 1 1 \n",
      "2       2 \n",
      "3       3 \n",
      "4       4 \n",
      "5 5 5 5 5 \n"
     ]
    }
   ],
   "source": [
    "n = int(input())\n",
    "\n",
    "# Hình vuông đầy sao\n",
    "for _ in range(n):\n",
    "    print('*' * n)\n",
    "print()  \n",
    "\n",
    "# Hình vuông có viền sao\n",
    "print('*' * n)\n",
    "for _ in range(n - 2):\n",
    "    print('*' + ' ' * (n - 2) + '*')\n",
    "print('*' * n)\n",
    "print() \n",
    "\n",
    "# Hình vuông có viền sao và dấu #\n",
    "print('*' * n)\n",
    "for _ in range(n - 2):\n",
    "    print('*' + '#' * (n - 2) + '*')\n",
    "print('*' * n)\n",
    "print() \n",
    "# c2\n",
    "for i in range(n):\n",
    "    for j in range (n):\n",
    "        if i == 0 or i == n-1 or j == 0 or j == n-1:\n",
    "            print('*', end = '')\n",
    "        else:\n",
    "            print('#', end ='')\n",
    "    print()\n",
    "print()\n",
    "\n",
    "# Hình chữ nhật số\n",
    "for i in range(1, n + 1):\n",
    "    if i == 1 or i == n  :\n",
    "        print((str(i) + ' ') * n)\n",
    "    else:\n",
    "        print(str(i) + ' ' * (2 * (n - 2) +1) + str(i))\n",
    "# C2\n",
    "# Hình chữ nhật số\n",
    "for i in range(1, n + 1):\n",
    "    for j in range (1, n+1):\n",
    "        if i == 1 or i == n or j == 1 or j == n :\n",
    "            print(i, end = ' ')\n",
    "        else:\n",
    "            print(' ', end =' ')\n",
    "    print()"
   ]
  },
  {
   "cell_type": "code",
   "execution_count": 119,
   "id": "ca5e2914-b453-4236-88d0-190f0cffec86",
   "metadata": {},
   "outputs": [
    {
     "name": "stdin",
     "output_type": "stream",
     "text": [
      " 5\n"
     ]
    },
    {
     "name": "stdout",
     "output_type": "stream",
     "text": [
      "*\n",
      "**\n",
      "***\n",
      "****\n",
      "*****\n",
      "\n",
      "*****\n",
      "****\n",
      "***\n",
      "**\n",
      "*\n",
      "\n",
      "    *\n",
      "   **\n",
      "  ***\n",
      " ****\n",
      "*****\n",
      "\n",
      "*****\n",
      " ****\n",
      "  ***\n",
      "   **\n",
      "    *\n",
      "\n",
      "*\n",
      "**\n",
      "* *\n",
      "*  *\n",
      "*****\n"
     ]
    }
   ],
   "source": [
    "n = int(input())\n",
    "# tam giac xuoi\n",
    "for i in range (1, n+1):\n",
    "    print ('*'*i)\n",
    "print()\n",
    "\n",
    "# lat lai tam giac xuoi\n",
    "for i in range (n, 0, -1):\n",
    "    print('*'*i)\n",
    "print ()\n",
    "\n",
    "# Hình tam giác vuông phải\n",
    "for i in range(1, n + 1):\n",
    "    print(' ' * (n - i) + '*' * i)\n",
    "print()\n",
    "\n",
    "# Hình tam giác ngược phải\n",
    "for i in range(n):\n",
    "    print(' ' * i + '*' * (n - i))\n",
    "print()\n",
    "\n",
    "#hinh tam giac sao = i\n",
    "'''\n",
    "for i in range(n):, vòng lặp sẽ lặp từ i = 0 đến i = n-1.\n",
    "range(n) tạo ra một dãy số bắt đầu từ 0 và kết thúc ở n-1.\n",
    "'''\n",
    "for i in range(n):\n",
    "    for j in range(i + 1):\n",
    "        if i == j or j == 0 or i == n - 1:\n",
    "            print('*', end='')\n",
    "        else:\n",
    "            print(' ', end='')\n",
    "    print()    "
   ]
  },
  {
   "cell_type": "code",
   "execution_count": 151,
   "id": "b82eb5f7-d772-4a8b-8ca2-330b5e4b6d39",
   "metadata": {},
   "outputs": [
    {
     "name": "stdin",
     "output_type": "stream",
     "text": [
      " 5\n"
     ]
    },
    {
     "name": "stdout",
     "output_type": "stream",
     "text": [
      "1 2 3 4 5 \n",
      "6 7 8 9 10 \n",
      "11 12 13 14 15 \n",
      "16 17 18 19 20 \n",
      "21 22 23 24 25 \n",
      "\n",
      "1 2 3 4 5 \n",
      "2 3 4 5 6 \n",
      "3 4 5 6 7 \n",
      "4 5 6 7 8 \n",
      "5 6 7 8 9 \n",
      "\n",
      "~~~~1\n",
      "~~~22\n",
      "~~333\n",
      "~4444\n",
      "55555\n",
      "\n",
      "1 \n",
      "2 6 \n",
      "3 7 10 \n",
      "4 8 11 13 \n",
      "5 9 12 14 15 \n"
     ]
    }
   ],
   "source": [
    "n = int(input())\n",
    "k = 1\n",
    "\n",
    "#hinh 1, ma tran so tang dan \n",
    "for i in range(n):  # Lặp qua từng hàng của ma trận (i từ 0 đến n-1)\n",
    "    for j in range(n):  # Lặp qua từng cột trong hàng (j từ 0 đến n-1)\n",
    "        print(k, end=' ')  # In giá trị của k và giữ con trỏ ở cùng dòng\n",
    "        k += 1  # Tăng giá trị của k lên 1\n",
    "    print()  # Xuống dòng sau khi in hết các cột trong hàng\n",
    "print() \n",
    "\n",
    "#hinh 2\n",
    "for i in range(n):  # Lặp qua từng hàng của ma trận (i từ 0 đến n-1)\n",
    "    for j in range(n):  # Lặp qua từng cột trong hàng (j từ 0 đến n-1)\n",
    "        print(k, end=' ')  # In giá trị của k và giữ con trỏ ở cùng dòng\n",
    "        k += 1  # Tăng giá trị của k lên 1\n",
    "    print()  # Xuống dòng sau khi in hết các cột trong hàng\n",
    "print() \n",
    "\n",
    "#hinh 3\n",
    "for i in range(1, n + 1):\n",
    "        print('~' * (n - i) + str(i) * i)\n",
    "print()\n",
    "\n",
    "#hinh 4\n",
    "for i in range(n):  # Lặp qua từng hàng từ 0 đến n-1\n",
    "    cur = num \n",
    "    for j in range(i + 1):  # Lặp qua các số trong hàng (từ 0 đến i)\n",
    "        print(cur, end=' ')  # In giá trị của cur và giữ con trỏ ở cùng dòng\n",
    "        cur += n - j - 1  # Tăng giá trị của cur với bước nhảy là n - j - 1\n",
    "    num += 1  # Tăng giá trị của num lên 1 cho hàng tiếp theo\n",
    "    print() "
   ]
  },
  {
   "cell_type": "code",
   "execution_count": 157,
   "id": "45b50bf8-9119-468f-87eb-78ba83b6d325",
   "metadata": {},
   "outputs": [
    {
     "name": "stdin",
     "output_type": "stream",
     "text": [
      " 3 500000000\n"
     ]
    },
    {
     "name": "stdout",
     "output_type": "stream",
     "text": [
      "6\n"
     ]
    }
   ],
   "source": [
    "#UCLN cua a! va b!\n",
    "from math import*\n",
    "a,b = map(int,input().split())\n",
    "k = min(a,b)\n",
    "print (factorial(k))"
   ]
  },
  {
   "cell_type": "code",
   "execution_count": 173,
   "id": "cd637760-26a1-4882-b6fe-11ca6d5fe651",
   "metadata": {},
   "outputs": [
    {
     "name": "stdin",
     "output_type": "stream",
     "text": [
      " 4\n"
     ]
    },
    {
     "name": "stdout",
     "output_type": "stream",
     "text": [
      "2.667\n"
     ]
    }
   ],
   "source": [
    "from math import*\n",
    "n = int(input())\n",
    "s = 0\n",
    "\n",
    "for i in range(n):\n",
    "    s+= 1/factorial(i)\n",
    "print (f\"{s:.4f}\")"
   ]
  },
  {
   "cell_type": "code",
   "execution_count": 181,
   "id": "96c219d2-59e0-4e83-91c0-6736c226e707",
   "metadata": {},
   "outputs": [
    {
     "name": "stdin",
     "output_type": "stream",
     "text": [
      " 4\n",
      " 1 2 3 4\n"
     ]
    },
    {
     "name": "stdout",
     "output_type": "stream",
     "text": [
      "6\n"
     ]
    }
   ],
   "source": [
    "n = int(input())\n",
    "s = 0\n",
    "\n",
    "for k in map(int, input().split()): # lap qua tung so trong chuoi duoc nhap\n",
    "    if  k% 2== 0:\n",
    "        s+= k\n",
    "print (s)"
   ]
  },
  {
   "cell_type": "code",
   "execution_count": 187,
   "id": "e3ed04f2-382b-46c7-8483-004d459bbbf1",
   "metadata": {},
   "outputs": [
    {
     "name": "stdin",
     "output_type": "stream",
     "text": [
      " 1\n",
      " 3\n"
     ]
    },
    {
     "name": "stdout",
     "output_type": "stream",
     "text": [
      "ODD\n"
     ]
    }
   ],
   "source": [
    "from math import*\n",
    "t = int(input())\n",
    "\n",
    "while t != 0:\n",
    "    n = int(input())\n",
    "    if n% 2 == 0:\n",
    "        print('EVEN')\n",
    "    else:\n",
    "        print('ODD')\n",
    "    t-=1"
   ]
  },
  {
   "cell_type": "code",
   "execution_count": 5,
   "id": "10862cd5-3035-47f9-a4f9-5a7338ab7b51",
   "metadata": {},
   "outputs": [
    {
     "name": "stdin",
     "output_type": "stream",
     "text": [
      " 999991020\n"
     ]
    },
    {
     "name": "stdout",
     "output_type": "stream",
     "text": [
      "3\n"
     ]
    }
   ],
   "source": [
    "n = int(input())\n",
    "\n",
    "# Tính tổng các chữ số của n\n",
    "s = 0\n",
    "temp = n  # Giữ giá trị của n không bị thay đổi trong quá trình tính toán\n",
    "while temp > 0:\n",
    "    s += temp % 10\n",
    "    temp //= 10\n",
    "\n",
    "# Nếu tổng các chữ số còn lớn hơn hoặc bằng 10, tiếp tục tính tổng các chữ số của tổng này\n",
    "while s >= 10:\n",
    "    sum = 0\n",
    "    temp = s\n",
    "    while temp > 0:\n",
    "        sum += temp % 10\n",
    "        temp //= 10\n",
    "    s = sum\n",
    "\n",
    "print(s)\n"
   ]
  },
  {
   "cell_type": "code",
   "execution_count": 13,
   "id": "74881faf-2fc5-43a8-b9c4-9f0e98482141",
   "metadata": {},
   "outputs": [
    {
     "name": "stdin",
     "output_type": "stream",
     "text": [
      " 7 10 16\n"
     ]
    },
    {
     "name": "stdout",
     "output_type": "stream",
     "text": [
      "NO\n"
     ]
    }
   ],
   "source": [
    "'''\n",
    "xác định Pt: ax + by = n có tồn tại cặp nghiệm (x, y) >0 ?\n",
    "'''\n",
    "a,b,n = map(int,input().split())\n",
    "\n",
    "for x in range(n//a + 1):\n",
    "    if (n - a* x) %b == 0:\n",
    "        print('YES')\n",
    "        break\n",
    "else:\n",
    "    print('NO')"
   ]
  },
  {
   "cell_type": "code",
   "execution_count": null,
   "id": "b2cb7bcf-1d42-4d5c-aedb-119cd0754f64",
   "metadata": {},
   "outputs": [],
   "source": [
    "from math import*\n"
   ]
  },
  {
   "cell_type": "code",
   "execution_count": null,
   "id": "324efc08-98d0-466a-921c-f79c8671555e",
   "metadata": {},
   "outputs": [],
   "source": []
  }
 ],
 "metadata": {
  "kernelspec": {
   "display_name": "Python 3 (ipykernel)",
   "language": "python",
   "name": "python3"
  },
  "language_info": {
   "codemirror_mode": {
    "name": "ipython",
    "version": 3
   },
   "file_extension": ".py",
   "mimetype": "text/x-python",
   "name": "python",
   "nbconvert_exporter": "python",
   "pygments_lexer": "ipython3",
   "version": "3.12.4"
  }
 },
 "nbformat": 4,
 "nbformat_minor": 5
}
