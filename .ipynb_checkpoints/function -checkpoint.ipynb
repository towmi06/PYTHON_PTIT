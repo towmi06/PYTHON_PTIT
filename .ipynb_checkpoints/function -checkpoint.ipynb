{
 "cells": [
  {
   "cell_type": "code",
   "execution_count": null,
   "id": "80aa1724-afef-4994-9429-63f04e4620d0",
   "metadata": {},
   "outputs": [],
   "source": [
    "#function \n",
    "def name_funtion( đối số/ tham số hình thức: parameter ):\n",
    "    code \n",
    "    return giá trị sau khi thực hiện hàm \n",
    "\n",
    "print (name_function(truyền giá trị tương ứng))\n",
    "# các giá trị được thực hiện trên tham số hình thức và đối số không thay đổi\n",
    "\n",
    "# code để chạy chương trình \n",
    "if __name__ == '__main__':\n",
    "    # code\n",
    "    # có thể dung keyName để sử dụng không cần theo thứ tự "
   ]
  },
  {
   "cell_type": "code",
   "execution_count": 4,
   "id": "05b89d67-ac3b-40a0-8c9a-4a1e7cc748f2",
   "metadata": {},
   "outputs": [
    {
     "name": "stdin",
     "output_type": "stream",
     "text": [
      " 100 4446\n"
     ]
    },
    {
     "name": "stdout",
     "output_type": "stream",
     "text": [
      "4546\n"
     ]
    }
   ],
   "source": [
    "def tong(a,b):# a, b nay la tham so (hinh thuc): parameter\n",
    "    res = a+ b\n",
    "    return res\n",
    "x,y= map(int,input().split()) # khong nhat thiet can phai giong bien trong ham \n",
    "print(tong(x,y)) # x,y nay la tham so chinh thuc hay con goi la doi so : argument "
   ]
  },
  {
   "cell_type": "code",
   "execution_count": 7,
   "id": "f838d218-4ad5-48a4-b8bc-284658bbcea3",
   "metadata": {},
   "outputs": [
    {
     "name": "stdin",
     "output_type": "stream",
     "text": [
      " 5\n"
     ]
    },
    {
     "name": "stdout",
     "output_type": "stream",
     "text": [
      "NO\n"
     ]
    }
   ],
   "source": [
    "#kiem tra 1 so chia het cho 5 vua chia het cho 3\n",
    "#nhap n tu ban phim va kiem tra\n",
    "# khi ham def gap return se lap tuc dung lai \n",
    "def check(n):\n",
    "    if n % 3== 0 and n % 5 == 0:\n",
    "        return True # co the return ve nhieu gia tri hon \n",
    "    else:\n",
    "        return False\n",
    "if __name__ == '__main__':\n",
    "    n = int(input())\n",
    "    if check(n):\n",
    "        print ('YES')\n",
    "    else:\n",
    "        print ('NO')"
   ]
  },
  {
   "cell_type": "code",
   "execution_count": 13,
   "id": "b398cfca-7b5c-450a-9d4b-af0d3ab8287e",
   "metadata": {},
   "outputs": [
    {
     "name": "stdin",
     "output_type": "stream",
     "text": [
      " 4\n"
     ]
    },
    {
     "name": "stdout",
     "output_type": "stream",
     "text": [
      "(3, 4)\n"
     ]
    }
   ],
   "source": [
    "# Tinh tong uoc va dem uoc \n",
    "def uoc(n):\n",
    "    cnt, tong = 0, 0\n",
    "    for i in range(1, n+1):\n",
    "        if n % i == 0:\n",
    "            cnt += 1\n",
    "            tong =+ i\n",
    "    return cnt, tong \n",
    "if __name__ == '__main__':\n",
    "    n= int(input())\n",
    "    cnt, tong = uoc(n)\n",
    "    print(cnt, tong))\n",
    "\n",
    "# cach toi uu nhat \n",
    "\n",
    "from math import*\n",
    "def dem_uoc(n):\n",
    "    cnt = 0\n",
    "    for i in range (1, isqrt(n)+1):\n",
    "        if n % i == 0:\n",
    "            cnt += 1\n",
    "            if i != n// i:\n",
    "                cnt += 1\n",
    "    return cnt\n",
    "def tong_uoc(n):\n",
    "    tong = 0\n",
    "    for i in range (1, isqrt(n)+1):\n",
    "        if n % i == 0:\n",
    "            tong += i \n",
    "            if i != n // i:\n",
    "                tong += n //i\n",
    "    return tong\n",
    "if __name__ == '__main__':\n",
    "    n = int(input())\n",
    "    print(dem_uoc(n))\n",
    "    print (tong_uoc())"
   ]
  },
  {
   "cell_type": "code",
   "execution_count": 37,
   "id": "d80e1650-db9f-447d-ae99-58e92a92d66c",
   "metadata": {},
   "outputs": [
    {
     "name": "stdin",
     "output_type": "stream",
     "text": [
      " 100\n"
     ]
    },
    {
     "name": "stdout",
     "output_type": "stream",
     "text": [
      "2 3 5 7 11 13 17 19 23 29 31 37 41 43 47 53 59 61 67 71 73 79 83 89 97 "
     ]
    }
   ],
   "source": [
    "from math import*\n",
    "def snt(n):\n",
    "    if n < 2:\n",
    "        return False\n",
    "    for i in range(2, isqrt(n)+1):\n",
    "        if n % i == 0:\n",
    "            return False\n",
    "    return True\n",
    "#liet ke cac snt cua 1 -> n \n",
    "if __name__ == '__main__':\n",
    "    n = int(input())\n",
    "    for i in range (1, n+1):\n",
    "       if snt(i):\n",
    "           print(i, end =' ')\n",
    "    "
   ]
  },
  {
   "cell_type": "code",
   "execution_count": 3,
   "id": "4d9e5a34-7337-41a0-ab4e-ef64e740cc4d",
   "metadata": {},
   "outputs": [
    {
     "name": "stdin",
     "output_type": "stream",
     "text": [
      " 17\n"
     ]
    },
    {
     "name": "stdout",
     "output_type": "stream",
     "text": [
      "17\n"
     ]
    }
   ],
   "source": [
    "from math import*\n",
    "def ts(n):\n",
    "    for i in range (2, isqrt(n)+1):\n",
    "        # i: thua so nto \n",
    "        if n % i == 0:\n",
    "            while n% i == 0:\n",
    "                print (i, end = ' ')\n",
    "                n //= i\n",
    "    # neu n chinh la so nguyen to\n",
    "    if n > 1:\n",
    "        print(n)\n",
    "if __name__ == '__main__':\n",
    "    n = int(input())\n",
    "    ts(n)"
   ]
  },
  {
   "cell_type": "code",
   "execution_count": 10,
   "id": "c30c6c03-f8f9-4e4d-8d2f-32c50d0e712e",
   "metadata": {},
   "outputs": [
    {
     "name": "stdin",
     "output_type": "stream",
     "text": [
      " 100\n"
     ]
    },
    {
     "name": "stdout",
     "output_type": "stream",
     "text": [
      "NO\n"
     ]
    }
   ],
   "source": [
    "#kiem tra so chinh phuong va lap phuong \n",
    "#isqrt: chinh phuong \n",
    "from math import*\n",
    "def cp(n):\n",
    "    can2 = sqrt(n)\n",
    "    return can2 * can2 == n\n",
    "'''bac 3 khong co ham san nen check 2 can gan nhat va\n",
    "cho 1 can +1 va sd ham pow\n",
    "\n",
    "int thuong se lam tron xuong '''\n",
    "def lp(n):\n",
    "    can3 = int(pow(n, 1/3))\n",
    "    return pow(can3, 3) == n or pow((can3 + 1), 3) == n\n",
    "\n",
    "if __name__=='__main__':\n",
    "    n = int(input())\n",
    "    if lp(n) :\n",
    "        print ('YES')\n",
    "    else: \n",
    "        print('NO')"
   ]
  },
  {
   "cell_type": "code",
   "execution_count": 28,
   "id": "320cdba3-b39b-4dd5-a6df-7178a174fae9",
   "metadata": {},
   "outputs": [
    {
     "name": "stdin",
     "output_type": "stream",
     "text": [
      " 143\n"
     ]
    },
    {
     "name": "stdout",
     "output_type": "stream",
     "text": [
      "0 1 1 2 3 5 8 13 21 34 55 89 144 233 377 610 987 1597 2584 4181 6765 10946 17711 28657 46368 75025 121393 196418 317811 514229 832040 1346269 2178309 3524578 5702887 9227465 14930352 24157817 39088169 63245986 102334155 165580141 267914296 433494437 701408733 1134903170 1836311903 2971215073 4807526976 7778742049 12586269025 20365011074 32951280099 53316291173 86267571272 139583862445 225851433717 365435296162 591286729879 956722026041 1548008755920 2504730781961 4052739537881 6557470319842 10610209857723 17167680177565 27777890035288 44945570212853 72723460248141 117669030460994 190392490709135 308061521170129 498454011879264 806515533049393 1304969544928657 2111485077978050 3416454622906707 5527939700884757 8944394323791464 14472334024676221 23416728348467685 37889062373143906 61305790721611591 99194853094755497 160500643816367088 259695496911122585 420196140727489673 679891637638612258 1100087778366101931 1779979416004714189 2880067194370816120 4660046610375530309 7540113804746346429 12200160415121876738 19740274219868223167 31940434634990099905 51680708854858323072 83621143489848422977 135301852344706746049 218922995834555169026 354224848179261915075 573147844013817084101 927372692193078999176 1500520536206896083277 2427893228399975082453 3928413764606871165730 6356306993006846248183 10284720757613717413913 16641027750620563662096 26925748508234281076009 43566776258854844738105 70492524767089125814114 114059301025943970552219 184551825793033096366333 298611126818977066918552 483162952612010163284885 781774079430987230203437 1264937032042997393488322 2046711111473984623691759 3311648143516982017180081 5358359254990966640871840 8670007398507948658051921 14028366653498915298923761 22698374052006863956975682 36726740705505779255899443 59425114757512643212875125 96151855463018422468774568 155576970220531065681649693 251728825683549488150424261 407305795904080553832073954 659034621587630041982498215 1066340417491710595814572169 1725375039079340637797070384 2791715456571051233611642553 4517090495650391871408712937 7308805952221443105020355490 11825896447871834976429068427 19134702400093278081449423917 30960598847965113057878492344 50095301248058391139327916261 81055900096023504197206408605 131151201344081895336534324866 212207101440105399533740733471 \n",
      "False\n",
      "343358302784187294870275058337\n"
     ]
    }
   ],
   "source": [
    "#Fibonacci start: 0, 1,..\n",
    "#in ra n so fibo dau tien: in tu 0 -> n-1 \n",
    "def fibo(n):\n",
    "    print('0 1', end = ' ')\n",
    "    fn1,fn2 = 1, 0\n",
    "    for i in range(2, n):\n",
    "        fn = fn1+ fn2\n",
    "        print(fn, end  = ' ')\n",
    "        fn2, fn1 = fn1, fn # dich chuyen no sang ben phai \n",
    "def check_fibo(n):\n",
    "    #chi can sinh ra 92 so dau tien \n",
    "    if n == 0 or n == 1:\n",
    "        return True\n",
    "    fn1, fn2 = 1, 0\n",
    "    for i in range (2, 93):\n",
    "        fn = fn1 + fn2\n",
    "        if fn == n:\n",
    "            return True\n",
    "        fn2 , fn1 = fn1, fn\n",
    "    return False \n",
    "\n",
    "def print_fibo(n):\n",
    "    if n == 0 or n == 1:\n",
    "        return n\n",
    "    fn1, fn2 = 1, 0\n",
    "    for i in range (2, n+1):\n",
    "        fn = fn1 + fn2\n",
    "        fn2,fn1 = fn1, fn\n",
    "    return fn\n",
    "    \n",
    "if __name__ == '__main__':\n",
    "    n = int(input())\n",
    "    fibo(n)\n",
    "    print()\n",
    "    print(check_fibo(n))\n",
    "    print(print_fibo(n))"
   ]
  },
  {
   "cell_type": "code",
   "execution_count": 48,
   "id": "06324ef6-39d8-49ad-a648-4b6348147dfb",
   "metadata": {},
   "outputs": [
    {
     "name": "stdin",
     "output_type": "stream",
     "text": [
      " 12321\n"
     ]
    },
    {
     "name": "stdout",
     "output_type": "stream",
     "text": [
      "True\n",
      "YES\n"
     ]
    }
   ],
   "source": [
    "#check thuan nghich, dx\n",
    "def palin(n):\n",
    "    rev = 0\n",
    "    tmp = n\n",
    "    while n != 0: # gia tri cua n = 0 sau vong while \n",
    "        rev = rev *10 + n%10\n",
    "        n //= 10\n",
    "    return rev == tmp\n",
    "if __name__ == '__main__':\n",
    "    n = int(input())\n",
    "    print(palin(n))\n",
    "    if palin(n) ==  True:\n",
    "        print('YES')\n",
    "    else:\n",
    "        print('NO')"
   ]
  },
  {
   "cell_type": "code",
   "execution_count": 102,
   "id": "eec78f3d-359f-4c79-8ba5-39a663ef5fc6",
   "metadata": {},
   "outputs": [
    {
     "name": "stdin",
     "output_type": "stream",
     "text": [
      " 8\n"
     ]
    },
    {
     "name": "stdout",
     "output_type": "stream",
     "text": [
      "So thu  6\n",
      "So thu  28\n",
      "So thu  496\n",
      "So thu  8128\n",
      "So thu  33550336\n",
      "So thu  8589869056\n",
      "So thu  137438691328\n",
      "So thu  2305843008139952128\n",
      "False\n",
      "So thu  6\n",
      "So thu  28\n",
      "So thu  496\n",
      "So thu  8128\n",
      "So thu  33550336\n",
      "So thu  8589869056\n",
      "So thu  137438691328\n",
      "So thu  2305843008139952128\n",
      "NO\n"
     ]
    }
   ],
   "source": [
    "#so hoan hao : tong cac uoc < n bang chinh no \n",
    "# vd: 28 = 1 + 2+ 4 + 7 + 14\n",
    "from math import*\n",
    "#C1\n",
    "def per(n):\n",
    "    sum_uoc = 1\n",
    "    for i in range ( 2, isqrt(n) +1):\n",
    "        if n % i == 0:\n",
    "            sum_uoc += i\n",
    "            if i != n // i:\n",
    "                sum_uoc += n// i\n",
    "    return sum_uoc\n",
    "\n",
    "\n",
    "#C2: so hoan hao: dinh li Euclid- Euler:\n",
    "'''\n",
    "Nếu p là số nguyên tố và 2^p - 1 cũng là snt\n",
    "=> (2^p -1) * 2^(p-1) =>  số hoàn hảo \n",
    "tich tren gan bang 2 ^2p: duyet tu 1 -> 31 la dc (lon hon cx dc)\n",
    "'''\n",
    "def  prime(n): #check snt \n",
    "    if n < 2 :\n",
    "        return False \n",
    "    for i in range(2, isqrt(n) + 1):\n",
    "        if n % i == 0:\n",
    "            return False\n",
    "    return True \n",
    "def perf(n):\n",
    "    for p in range(2, 35):\n",
    "        if prime(p):\n",
    "            if prime(2**p - 1):\n",
    "                print('So thu ', ( 2**p - 1) * 2**(p-1))\n",
    "                if ( ( 2**p - 1) * 2**(p-1) )== n:\n",
    "                    return True\n",
    "    return False \n",
    "if __name__== '__main__':\n",
    "    n = int(input())\n",
    "    print(perf(n))\n",
    "    if perf(n):\n",
    "        print('YES')\n",
    "    else:\n",
    "        print ('NO')\n"
   ]
  },
  {
   "cell_type": "markdown",
   "id": "e5189cc8-edac-4536-9ab9-8eb09e66057f",
   "metadata": {},
   "source": [
    "# Lí thuyết đồng dư\n"
   ]
  },
  {
   "cell_type": "code",
   "execution_count": 124,
   "id": "062f114e-1a30-4058-9342-47c319ce5ca7",
   "metadata": {},
   "outputs": [
    {
     "name": "stdin",
     "output_type": "stream",
     "text": [
      " 24\n"
     ]
    },
    {
     "name": "stdout",
     "output_type": "stream",
     "text": [
      "657629300\n",
      "\n"
     ]
    },
    {
     "name": "stdin",
     "output_type": "stream",
     "text": [
      " 3 4 5\n"
     ]
    },
    {
     "name": "stdout",
     "output_type": "stream",
     "text": [
      "1\n"
     ]
    }
   ],
   "source": [
    "# Lí thuyết đồng dư\n",
    "'''\n",
    "Khi btoan yc chia du cho 1 so thi tinh den dau % den day \n",
    "(A + B) % C = ((A % C) + (B % C)) % C\n",
    "(A - B) % C = ((A % C) - (B % C) +  C) % C\n",
    "(A * B) % C = ((A % C) * (B % C)) % C\n",
    "(A / B) % C = ((A % C) + (B^-1 % C)) % C : Nền tảng module của B dưới module \n",
    " '''\n",
    "# tinh n! % 10^9 + 7 ( mod)\n",
    "\n",
    "from math import*\n",
    "n = int(input())\n",
    "res, re= 1, 1\n",
    "mod = 10** 9 + 7\n",
    "for i in range(1, n+1):\n",
    "    res *= i\n",
    "    res %= mod \n",
    "print (res% mod)\n",
    "print()\n",
    "# hay tinh a^ b % c\n",
    "a,b,c = map(int, input().split())\n",
    "for i in range(n):\n",
    "    re *= a\n",
    "    re %= c \n",
    "print (re)"
   ]
  },
  {
   "cell_type": "code",
   "execution_count": 36,
   "id": "ecd3ae01-c821-43b8-9da1-c48edf6f35af",
   "metadata": {},
   "outputs": [
    {
     "name": "stdin",
     "output_type": "stream",
     "text": [
      " 990\n"
     ]
    },
    {
     "name": "stdout",
     "output_type": "stream",
     "text": [
      "False\n",
      "18\n",
      "0\n",
      "0\n",
      "99\n",
      "4\n",
      "11\n",
      "0\n",
      "0\n",
      "725761\n",
      "0\n",
      "0\n",
      "1458\n"
     ]
    }
   ],
   "source": [
    "from math import*\n",
    "\n",
    "def prime(n):\n",
    "    if n < 2:\n",
    "        return False\n",
    "    for i in range (2, isqrt(n)+1):\n",
    "        if n % i == 0:\n",
    "            return False \n",
    "    return True \n",
    "\n",
    "#tinh tong chu so cua n \n",
    "\n",
    "def sumN(n):\n",
    "    sum = 0\n",
    "    while n != 0:\n",
    "        sum += n % 10\n",
    "        n //= 10 \n",
    "    return sum \n",
    "\n",
    "# tong chu so chan cua n\n",
    "def sumC(n):\n",
    "    sum = 0\n",
    "    while n != 0:\n",
    "        if n % 10 % 2 == 0:\n",
    "            sum += n% 10\n",
    "        n //=10\n",
    "    return sum \n",
    "\n",
    "#tong chu so cua n la so nguyen to \n",
    "def tongNto(n):\n",
    "    sum = 0\n",
    "    while n != 0:\n",
    "        r = n% 10\n",
    "        if prime(r):\n",
    "            sum += r\n",
    "        n //= 10\n",
    "    return sum \n",
    "\n",
    "#in ra so lat nguoc cua n \n",
    "def lat(n):\n",
    "    rev = 0\n",
    "    while n != 0:\n",
    "        rev = rev *  10 + n % 10\n",
    "        n //= 10\n",
    "    return rev\n",
    "\n",
    "#in ra so luong uoc cua n la snt \n",
    "# thuc chat la dem thua so ngto\n",
    "# uoc nto cua 1 so n luon la so cuoi cung\n",
    "\n",
    "def thsnto(n):\n",
    "    cnt = 0\n",
    "    for i in range (2, isqrt(n)+1):\n",
    "        if n % i == 0: #i la 1 thua so nguyen to\n",
    "            cnt +=1\n",
    "            while n % i == 0:\n",
    "                n //=i\n",
    "    if n > 1:\n",
    "        cnt += 1\n",
    "    return cnt\n",
    "#uoc nto lon nhat cua n \n",
    "def uoc_max(n):\n",
    "    res = -1\n",
    "    for i in range (2, isqrt(n)+1):\n",
    "        if n % i == 0:\n",
    "            res = i #gap thua so nao thi gan no bang i luon \n",
    "            while n % i == 0:\n",
    "                n //= i \n",
    "    if n > 1:\n",
    "        res = n\n",
    "    return res\n",
    "\n",
    "def check6(n):\n",
    "    while n != 0:\n",
    "        if n == 6: \n",
    "            return 1\n",
    "        n //= 10\n",
    "    return 0\n",
    "\n",
    "def sum8(n):\n",
    "    sum = 0\n",
    "    while n != 0:\n",
    "        sum += n % 10\n",
    "        n //= 10\n",
    "    if sum % 8 == 0:\n",
    "        return 1\n",
    "    return 0\n",
    "\n",
    "#tinh tong giai thua cac so cua n \n",
    "def sumgt(n):\n",
    "    sum = 0\n",
    "    while n != 0:\n",
    "        sum += factorial(n %10)\n",
    "        n //= 10\n",
    "    return sum\n",
    "\n",
    "#kiem tra xem n duoc tao boi 1 chu so hay khong \n",
    "# vd  22222\n",
    "\n",
    "def checkn(n):\n",
    "    dvi = n%10\n",
    "    while n != 0:\n",
    "        if n%10 != dvi:\n",
    "            return 0\n",
    "        n //= 10\n",
    "    return 1\n",
    "\n",
    "#kiem tra tat ca chu so cua n nho hon chu so cuoi cung \n",
    "\n",
    "def checkcc(n):\n",
    "    dvi = n% 10\n",
    "    while n != 0:\n",
    "        if n% 10 > dvi:\n",
    "            return 0\n",
    "        n //= 10\n",
    "    return 1\n",
    "\n",
    "# tinh tong luy thua cua n voi so mu la so chu so cua n\n",
    "# vd 123 -> 1^ 3 + 2^3 + 3^3\n",
    "\n",
    "def lthua(n):\n",
    "    mu = 0\n",
    "    m = n \n",
    "    sum= 0\n",
    "    while n != 0:\n",
    "        mu +=1\n",
    "        n //= 10\n",
    "    while m != 0:\n",
    "        sum += (m% 10)**mu\n",
    "        m //= 10\n",
    "    return sum\n",
    "    \n",
    "\n",
    "if __name__== '__main__':\n",
    "    n = int(input())\n",
    "    print(prime(n))\n",
    "    print(sumN(n))\n",
    "    print(sumC(n))\n",
    "    print(tongNto(n))\n",
    "    print(lat(n))\n",
    "    print(thsnto(n))\n",
    "    print(uoc_max(n))\n",
    "    print(check6(n))\n",
    "    print(sum8(n))\n",
    "    print(sumgt(n))\n",
    "    print(checkn(n))\n",
    "    print(checkcc(n))\n",
    "    print(lthua(n))"
   ]
  },
  {
   "cell_type": "code",
   "execution_count": 1,
   "id": "e0a44d3b-b1d5-4fd2-a8f4-e985259061db",
   "metadata": {},
   "outputs": [
    {
     "name": "stdin",
     "output_type": "stream",
     "text": [
      " 30\n"
     ]
    },
    {
     "name": "stdout",
     "output_type": "stream",
     "text": [
      "1\n"
     ]
    }
   ],
   "source": [
    "from math import*\n",
    "\n",
    "def sphenic(n):\n",
    "    cnt = 0  #  đếm số lượng thừa số nguyên tố khác nhau\n",
    "    i = 2  # Bắt đầu với số nguyên tố nhỏ nhất là 2\n",
    "    \n",
    "    # Vòng lặp để duyệt qua tất cả các số từ 2 đến căn bậc hai của n\n",
    "    while i <= isqrt(n):\n",
    "        if n % i == 0:  # Nếu i là ước của n\n",
    "            mu = 0  # Biến này đếm số lần i chia hết cho n\n",
    "            while n % i == 0:  # Liên tục chia n cho i để loại bỏ hết thừa số i\n",
    "                mu += 1  # Tăng giá trị mu mỗi khi i chia hết cho n\n",
    "                n //= i  # Cập nhật n bằng cách chia n cho i\n",
    "            if mu >= 2:  # Nếu i chia hết cho n nhiều hơn một lần, n không phải là số Sphenic\n",
    "                return False\n",
    "            cnt += 1  # Tăng số lượng thừa số nguyên tố khác nhau\n",
    "        i += 1  # Chuyển sang số tiếp theo\n",
    "    \n",
    "    if n > 1:  # Nếu còn lại một thừa số nguyên tố lớn hơn căn bậc hai của n\n",
    "        cnt += 1  # Tính thêm thừa số này là một thừa số nguyên tố khác nhau\n",
    "    \n",
    "    return cnt == 3  # Trả về True nếu có đúng 3 thừa số nguyên tố khác nhau\n",
    "\n",
    "if __name__ == '__main__':\n",
    "    n = int(input())  \n",
    "    if sphenic(n):  \n",
    "        print('1') \n",
    "    else:\n",
    "        print('0') "
   ]
  },
  {
   "cell_type": "code",
   "execution_count": 19,
   "id": "1cf61e59-c5d9-48ab-823d-0a1e22518fef",
   "metadata": {},
   "outputs": [
    {
     "name": "stdin",
     "output_type": "stream",
     "text": [
      " 1\n",
      " 20\n"
     ]
    },
    {
     "name": "stdout",
     "output_type": "stream",
     "text": [
      "3 17\n",
      "7 13\n"
     ]
    }
   ],
   "source": [
    "#Goldback onjecture\n",
    "#Số nguyên dương chẵn N >=4 .\n",
    "#Hãy liệt kê các cặp số nguyên tố p, q có tổng đúng bằng N.\n",
    "from math import isqrt\n",
    "\n",
    "# Hàm kiểm tra số nguyên tố\n",
    "def is_prime(n):\n",
    "    if n < 2:\n",
    "        return False\n",
    "    for i in range(2, isqrt(n) + 1):  # Bắt đầu từ 2 để kiểm tra các ước của n\n",
    "        if n % i == 0:\n",
    "            return False\n",
    "    return True\n",
    "\n",
    "\n",
    "if __name__ == '__main__':\n",
    "    t = int(input())  \n",
    "    for _ in range(t):\n",
    "        n = int(input())  \n",
    "        for i in range( 2, n //2 + 1):\n",
    "            if is_prime(i) and is_prime(n -i ):\n",
    "               print (i, n - i)\n"
   ]
  },
  {
   "cell_type": "code",
   "execution_count": 17,
   "id": "a889d83f-8cf8-4ccb-ba5c-b852093c1b8e",
   "metadata": {},
   "outputs": [
    {
     "name": "stdin",
     "output_type": "stream",
     "text": [
      " 2345 6789\n"
     ]
    },
    {
     "name": "stdout",
     "output_type": "stream",
     "text": [
      "15\n"
     ]
    }
   ],
   "source": [
    "# Số thuần nguyên \n",
    "from math import*\n",
    "\n",
    "def prime(n):\n",
    "    if n < 2:\n",
    "        return False\n",
    "    for i in range (2, isqrt(n)+1):\n",
    "        if n % i == 0:\n",
    "            return False\n",
    "    return True\n",
    "\n",
    "def thuan_nto(n):\n",
    "    sum = 0\n",
    "    while n != 0:\n",
    "        r = n% 10\n",
    "        if  r != 2 and r != 3 and r != 5 and r!= 7:\n",
    "            return False\n",
    "        sum +=  r\n",
    "        n //= 10\n",
    "    return prime(sum)\n",
    "\n",
    "if __name__== '__main__':\n",
    "    a,b = map(int, input().split())\n",
    "    cnt = 0\n",
    "    for i in range(a, b+1):\n",
    "        if thuan_nto(i) and prime(i):\n",
    "            cnt +=1\n",
    "    print (cnt)\n",
    "    \n",
    "    "
   ]
  },
  {
   "cell_type": "code",
   "execution_count": 10,
   "id": "95d9e953-25b1-4e41-92a7-91598acbab12",
   "metadata": {},
   "outputs": [
    {
     "name": "stdin",
     "output_type": "stream",
     "text": [
      " 1 1000\n"
     ]
    },
    {
     "name": "stdout",
     "output_type": "stream",
     "text": [
      "66 222 252 282 414 434 444 474 494 525 555 585 595 606 616 636 646 666 696 777 828 858 868 888 969 "
     ]
    }
   ],
   "source": [
    "# Số thuận nghịch có 3 uóc số nto khác nhau \n",
    "#ước nguyên tố : thừa số nto khác nhau \n",
    "from math import*\n",
    "def thnghich(n):\n",
    "    m = n \n",
    "    rev = 0\n",
    "    while n != 0:\n",
    "        rev = rev* 10 + n % 10\n",
    "        n //= 10\n",
    "    return rev == m\n",
    "def check (n):\n",
    "    cnt = 0\n",
    "    for i in range ( 2 , isqrt(n)+ 1):\n",
    "        if n % i == 0:\n",
    "            cnt += 1\n",
    "            while n % i == 0: # de no bo qua tso nguyen to nay \n",
    "                n //= i \n",
    "    if n != 1:\n",
    "        cnt += 1\n",
    "    return cnt >= 3\n",
    "\n",
    "if __name__ == '__main__':\n",
    "    a,b = map(int,input().split())\n",
    "    cnt = 0\n",
    "    for i in range (a, b  + 1 ):\n",
    "        if thnghich(i) and check(i):\n",
    "            print (i, end= ' ')\n",
    "            cnt += 1\n",
    "    if cnt == 0:\n",
    "        print (-1)"
   ]
  },
  {
   "cell_type": "code",
   "execution_count": 6,
   "id": "fe79e46d-ad6e-4a27-98f1-ba12eb8eba45",
   "metadata": {},
   "outputs": [
    {
     "name": "stdin",
     "output_type": "stream",
     "text": [
      " 22\n"
     ]
    },
    {
     "name": "stdout",
     "output_type": "stream",
     "text": [
      "NO\n"
     ]
    }
   ],
   "source": [
    "# So Smith \n",
    "from math import*\n",
    "\n",
    "# Hàm tính tổng các chữ số của một số\n",
    "def digit(n):\n",
    "    total = 0\n",
    "    while n > 0:\n",
    "        total += n % 10\n",
    "        n //= 10\n",
    "    return total\n",
    "\n",
    "# Hàm kiểm tra số Smith\n",
    "def check(n):\n",
    "    digit_o = digit(n)\n",
    "    sum = 0\n",
    "    m = n\n",
    "    for i in range(2, isqrt(n) + 1):\n",
    "        if n % i == 0:\n",
    "            while n % i == 0:\n",
    "                sum += digit(i)\n",
    "                n //= i\n",
    "    if m == n:\n",
    "        return False #snt \n",
    "    if m > 1:\n",
    "        sum += digit(m)\n",
    "    return digit_o == sum\n",
    "\n",
    "if __name__ == '__main__':\n",
    "    n = int(input())\n",
    "    if check(n):\n",
    "        print('YES')\n",
    "    else:\n",
    "        print('NO')\n"
   ]
  },
  {
   "cell_type": "code",
   "execution_count": 37,
   "id": "529dd13a-49ae-4cae-8e99-8028765a4ff3",
   "metadata": {},
   "outputs": [
    {
     "name": "stdin",
     "output_type": "stream",
     "text": [
      " 2\n",
      " 10\n"
     ]
    },
    {
     "name": "stdout",
     "output_type": "stream",
     "text": [
      "5\n"
     ]
    },
    {
     "name": "stdin",
     "output_type": "stream",
     "text": [
      " 17\n"
     ]
    },
    {
     "name": "stdout",
     "output_type": "stream",
     "text": [
      "17\n"
     ]
    }
   ],
   "source": [
    "#uoc so nguyen to lon nhat \n",
    "from math import*\n",
    "\n",
    "def uocntoMax(n):\n",
    "    ans = -1\n",
    "    for i in range (2, isqrt(n) +1):\n",
    "        if n % i == 0:\n",
    "            ans = i \n",
    "            while n % i == 0:\n",
    "                n //= i\n",
    "    if n > 1:\n",
    "        ans = n\n",
    "    return ans \n",
    "\n",
    "if __name__ == '__main__':\n",
    "    t = int(input())\n",
    "    while t != 0:\n",
    "        n = int(input())\n",
    "        print(uocntoMax(n))\n",
    "        t -= 1\n"
   ]
  },
  {
   "cell_type": "code",
   "execution_count": 36,
   "id": "f25f1e5f-54d8-4c6a-933d-a6a1552f7af5",
   "metadata": {},
   "outputs": [
    {
     "name": "stdin",
     "output_type": "stream",
     "text": [
      " 3 50\n"
     ]
    },
    {
     "name": "stdout",
     "output_type": "stream",
     "text": [
      "4 8 9 12 16 18 20 24 25 27 28 32 36 40 44 45 48 49 50 "
     ]
    }
   ],
   "source": [
    "#binh phuong nto: tso nguyen to cua no co 1 cai mu >= 2\n",
    "\n",
    "from math import *\n",
    "def bpNto(n):\n",
    "    for i in range(2, isqrt(n) + 1):\n",
    "        if n% i == 0:  \n",
    "            cnt = 0\n",
    "            while n % i == 0:\n",
    "                cnt += 1\n",
    "                n //= i\n",
    "            if cnt >= 2:  \n",
    "                return True\n",
    "    return False\n",
    "\n",
    "if __name__ == \"__main__\":\n",
    "    a, b = map(int, input().split())\n",
    "    for i in range(a, b + 1):\n",
    "        if bpNto(i):\n",
    "            print(i, end=' ')\n"
   ]
  },
  {
   "cell_type": "code",
   "execution_count": 38,
   "id": "a821111e-dd6b-4b45-9307-356e31cd9b53",
   "metadata": {},
   "outputs": [
    {
     "name": "stdin",
     "output_type": "stream",
     "text": [
      " 3 49\n"
     ]
    },
    {
     "name": "stdout",
     "output_type": "stream",
     "text": [
      "4 8 9 16 25 27 32 36 49 "
     ]
    }
   ],
   "source": [
    "from math import *\n",
    "\n",
    "def bpNto(n):\n",
    "    \n",
    "    for i in range(2, isqrt(n) + 1):\n",
    "        if n % i == 0:  \n",
    "            mu = 0\n",
    "            while n % i == 0:\n",
    "                mu += 1\n",
    "                n //= i\n",
    "            if mu == 1:\n",
    "                return False\n",
    "    if n != 1:\n",
    "        return False \n",
    "    return True\n",
    "if __name__ == \"__main__\":\n",
    "    a, b = map(int, input().split())\n",
    "    for i in range(a, b + 1):\n",
    "        if bpNto(i):\n",
    "            print(i, end=' ')\n"
   ]
  },
  {
   "cell_type": "code",
   "execution_count": 61,
   "id": "0f57ad46-c5ab-4378-9157-571989115b96",
   "metadata": {},
   "outputs": [
    {
     "name": "stdin",
     "output_type": "stream",
     "text": [
      " 20 50\n"
     ]
    },
    {
     "name": "stdout",
     "output_type": "stream",
     "text": [
      "10 100\n"
     ]
    }
   ],
   "source": [
    "from math import*\n",
    "#UCLN v BCNN\n",
    "a, b = map (int,input().split())\n",
    "print(gcd(a,b), a//gcd(a,b) * b)"
   ]
  },
  {
   "cell_type": "code",
   "execution_count": 8,
   "id": "e2bd9df4-9861-4470-b309-2470d907c9e4",
   "metadata": {},
   "outputs": [
    {
     "name": "stdin",
     "output_type": "stream",
     "text": [
      " 1 100\n"
     ]
    },
    {
     "name": "stdout",
     "output_type": "stream",
     "text": [
      "1 4 9 16 25 36 49 64 81 100 "
     ]
    }
   ],
   "source": [
    "# so chinh phuong trong doan \n",
    "from math import*\n",
    "\n",
    "a,b= map(int,input().split())\n",
    "canA, canB = isqrt(a), isqrt(b)\n",
    "if canA * canA 1= a:\n",
    "    canA += 1\n",
    "for i in range(canA,canB + 1):\n",
    "    print(i * i, end=\" \")\n"
   ]
  },
  {
   "cell_type": "code",
   "execution_count": 16,
   "id": "ac5acf61-952d-47eb-9b3d-e5d98522f2e9",
   "metadata": {},
   "outputs": [
    {
     "name": "stdin",
     "output_type": "stream",
     "text": [
      " 1 1000000000\n"
     ]
    },
    {
     "name": "stdout",
     "output_type": "stream",
     "text": [
      "31622\n"
     ]
    }
   ],
   "source": [
    "from math import*\n",
    "a,b = map(int,input().split())\n",
    "can1, can2 = isqrt(a), isqrt(b)\n",
    "if can1 * can1 != a:\n",
    "    can1 +=1\n",
    "if (can2 + 1) *( can2+ 1) == b:\n",
    "    can2 += 1\n",
    "print(can2 - can1 + 1)\n"
   ]
  },
  {
   "cell_type": "code",
   "execution_count": 83,
   "id": "0d5eba52-550b-4fbc-9761-15a90345e69c",
   "metadata": {},
   "outputs": [
    {
     "name": "stdin",
     "output_type": "stream",
     "text": [
      " 1 10\n"
     ]
    },
    {
     "name": "stdout",
     "output_type": "stream",
     "text": [
      "3\n"
     ]
    }
   ],
   "source": [
    "from math import*\n",
    "\n",
    "def count(a, b):\n",
    "    cnt = 0\n",
    "    start = isqrt(a)\n",
    "    if start * start < a:\n",
    "        start += 1\n",
    "    end = isqrt(b)\n",
    "    if start > end:\n",
    "        return 0\n",
    "    for i in range(start, end + 1):\n",
    "        cnt += 1\n",
    "    return cnt\n",
    "\n",
    "a, b = map(int, input().split())\n",
    "print(count(a,b))"
   ]
  },
  {
   "cell_type": "code",
   "execution_count": 85,
   "id": "2dabeccb-982c-46a3-92bb-29dc4f71e690",
   "metadata": {},
   "outputs": [
    {
     "name": "stdin",
     "output_type": "stream",
     "text": [
      " 1 10\n"
     ]
    },
    {
     "name": "stdout",
     "output_type": "stream",
     "text": [
      "3\n"
     ]
    }
   ],
   "source": [
    "from math import*\n",
    "\n",
    "def count(a, b):\n",
    "    cnt = 0\n",
    "    start = isqrt(a)\n",
    "    if start * start < a:\n",
    "        start += 1\n",
    "    end = isqrt(b)\n",
    "    if start > end:\n",
    "        return 0\n",
    "    for i in range(start, end + 1):\n",
    "        cnt += 1\n",
    "    return cnt\n",
    "\n",
    "a, b = map(int, input().split())\n",
    "print(count(a,b))"
   ]
  },
  {
   "cell_type": "code",
   "execution_count": 93,
   "id": "d9fec4da-d92f-472c-9297-9a564b5b3cda",
   "metadata": {},
   "outputs": [
    {
     "name": "stdin",
     "output_type": "stream",
     "text": [
      " 100\n"
     ]
    },
    {
     "name": "stdout",
     "output_type": "stream",
     "text": [
      "217\n"
     ]
    }
   ],
   "source": [
    "'''\n",
    "chỉ cần kiểm tra từ 1 đến sqrt(n), vì mỗi ước số i \n",
    "trong khoảng này sẽ có một ước số đối ứng n // i\n",
    "'''\n",
    "from math import*\n",
    "\n",
    "def sumUoc(n):\n",
    "    sum = 0\n",
    "    for i in range (1, isqrt(n)+1):\n",
    "        if n % i == 0:\n",
    "            sum += i\n",
    "            if i != n // i:\n",
    "                sum += n // i\n",
    "    return sum \n",
    "n = int(input())\n",
    "print(sumUoc(n))"
   ]
  },
  {
   "cell_type": "code",
   "execution_count": 103,
   "id": "7cb196e0-ba78-475e-9801-fc5ec11d5445",
   "metadata": {},
   "outputs": [
    {
     "name": "stdin",
     "output_type": "stream",
     "text": [
      " 4\n"
     ]
    },
    {
     "name": "stdout",
     "output_type": "stream",
     "text": [
      "YES\n"
     ]
    }
   ],
   "source": [
    "# So luong uoc la so le:\n",
    "# chinh la ktra so do co phia so chinh phuong khong \n",
    "from math import*\n",
    "def check(n):\n",
    "    k = isqrt(n)\n",
    "    if k * k != n:\n",
    "        print('NO')\n",
    "    else:\n",
    "        print('YES')\n",
    "n = int(input())\n",
    "check(n)"
   ]
  },
  {
   "cell_type": "code",
   "execution_count": 133,
   "id": "73b8a94a-de43-44d0-b32a-d558240865f1",
   "metadata": {},
   "outputs": [
    {
     "name": "stdin",
     "output_type": "stream",
     "text": [
      " 60806\n"
     ]
    },
    {
     "name": "stdout",
     "output_type": "stream",
     "text": [
      "1\n"
     ]
    }
   ],
   "source": [
    "#kiem tra so loc phat\n",
    "def locPhat(n):\n",
    "    if n == 0:\n",
    "        return True\n",
    "    while n != 0:\n",
    "        k = n % 10\n",
    "        if k not in ( 0, 6, 8):\n",
    "            return False\n",
    "        n//=10\n",
    "    return True\n",
    "\n",
    "if __name__ == '__main__':\n",
    "    n= int(input())\n",
    "    if locPhat(n):\n",
    "        print(1)\n",
    "    else:\n",
    "        print(0)"
   ]
  },
  {
   "cell_type": "code",
   "execution_count": 198,
   "id": "5142543b-9b53-43f5-9341-b38eab5c5291",
   "metadata": {},
   "outputs": [
    {
     "name": "stdin",
     "output_type": "stream",
     "text": [
      " 7\n"
     ]
    },
    {
     "name": "stdout",
     "output_type": "stream",
     "text": [
      "NO\n"
     ]
    }
   ],
   "source": [
    "#Số hoàn hảo là số có tổng các ước thực sự \n",
    "#(Không tính chính nó) bằng chính số đó.\n",
    "#Nếu p là số nguyên tố và 2^p - 1 \n",
    "#cũng là số nguyên tố thì : 2^(p-1) * (2^p - 1) sẽ là một số hoàn hảo.\n",
    "from math import*\n",
    "\n",
    "def is_prime(n):\n",
    "    if n < 2:\n",
    "        return False\n",
    "    for i in range(2, isqrt(n) + 1):\n",
    "        if n % i == 0:\n",
    "            return False\n",
    "    return True\n",
    "\n",
    "def is_perfect(n):\n",
    "    for i in range(2, 33):  # Kiểm tra số nguyên tố nhỏ hơn 33\n",
    "        if is_prime(i):\n",
    "            t1 = 2**i - 1\n",
    "            if is_prime(t1):\n",
    "                t2 = 2**(i - 1)\n",
    "                if t2 * t1 == n:\n",
    "                    return True\n",
    "    return False\n",
    "\n",
    "if __name__ == '__main__':\n",
    "    n = int(input())\n",
    "    if is_perfect(n):\n",
    "        print('YES')\n",
    "    else:\n",
    "        print('NO')\n"
   ]
  },
  {
   "cell_type": "code",
   "execution_count": 210,
   "id": "c11dad6b-f27b-4102-b3d3-592be0d8e824",
   "metadata": {},
   "outputs": [
    {
     "name": "stdin",
     "output_type": "stream",
     "text": [
      " 3 5 7 2\n"
     ]
    },
    {
     "name": "stdout",
     "output_type": "stream",
     "text": [
      "-1\n"
     ]
    }
   ],
   "source": [
    "from math import*\n",
    "'''\n",
    "Cho 4 số nguyên dương x, y, z, n. \n",
    "Tìm số nguyên dương nhỏ nhất có n chữ số chia hết cho cả x, y, và z.\n",
    "\n",
    "Gợi ý : Tìm BCNN của 3 số x, y, z\n",
    "=> Tìm số nhỏ nhất có n chữ số chia hết cho BCNN đó.\n",
    "'''\n",
    "# Hàm tìm số nhỏ nhất có n chữ số chia hết cho x, y, z\n",
    "def snn(x, y, z, n):\n",
    "    k = lcm(lcm(x, y), z) \n",
    "    # Số nhỏ nhất có n chữ số\n",
    "    m = 10**(n-1)\n",
    "    \n",
    "# Nếu m không chia hết cho k, thì tìm số tiếp theo chia hết cho k\n",
    "    if m % k != 0:\n",
    "        m += (k - m % k)\n",
    "    # Kiểm tra nếu m có n chữ số\n",
    "    if m < 10**n:\n",
    "        return m\n",
    "    else:\n",
    "        return -1\n",
    "\n",
    "if __name__ == '__main__':\n",
    "    x, y, z, n = map(int, input().split())\n",
    "    result = snn(x, y, z, n)\n",
    "    print(result)"
   ]
  },
  {
   "cell_type": "code",
   "execution_count": 18,
   "id": "8b8e4225-778a-4dc5-8aec-57f2bb9a4d3a",
   "metadata": {},
   "outputs": [
    {
     "name": "stdin",
     "output_type": "stream",
     "text": [
      " 1 400\n"
     ]
    },
    {
     "name": "stdout",
     "output_type": "stream",
     "text": [
      "161 "
     ]
    }
   ],
   "source": [
    "#so thuan nghich loc phat \n",
    "'''\n",
    "Một số được coi là số đẹp nếu nó là số thuận nghịch, có chứa ít nhất một chữ số 6, \n",
    "và tổng các chữ số của nó có chữ số cuối cùng là 8.\n",
    "\n",
    "'''\n",
    "from math import*\n",
    "\n",
    "def thnghich(n):\n",
    "    m = n\n",
    "    rev = 0\n",
    "    sum = 0\n",
    "    ok = False\n",
    "    while n != 0:\n",
    "        r = n % 10\n",
    "        rev = rev * 10 + r\n",
    "        if r == 6:\n",
    "            ok = True\n",
    "        sum += r \n",
    "        n //= 10\n",
    "    return ok and (rev == m) and (sum % 10 == 8)\n",
    "\n",
    "if __name__ == '__main__':\n",
    "    a,b = map(int,input().split())\n",
    "    for i in range (a, b+ 1):\n",
    "        if thnghich(i):\n",
    "            print(i, end= ' ')\n",
    "        "
   ]
  },
  {
   "cell_type": "code",
   "execution_count": 20,
   "id": "fb9377de-1eb6-45a9-accf-76228dc2b682",
   "metadata": {},
   "outputs": [
    {
     "name": "stdin",
     "output_type": "stream",
     "text": [
      " 200\n"
     ]
    },
    {
     "name": "stdout",
     "output_type": "stream",
     "text": [
      "2 3 5 7 11 13 17 19 23 29 37 47 59 67 79 89 101 103 107 109 113 127 137 139 149 157 167 179 199 \n",
      "29\n"
     ]
    }
   ],
   "source": [
    "#Chu so cuoi cung lon nhat\n",
    "def check(n):\n",
    "    dvi = n % 10\n",
    "    while n!= 0:\n",
    "        if n% 10 > dvi:\n",
    "            return False\n",
    "        n //= 10\n",
    "    return True\n",
    "\n",
    "def nt(n):\n",
    "    if n < 2: \n",
    "        return 0\n",
    "    for i in range ( 2, isqrt(n) + 1):\n",
    "        if n % i == 0:\n",
    "            return 0\n",
    "    return 1\n",
    "\n",
    "if __name__ == '__main__':\n",
    "    n = int(input())\n",
    "    cnt = 0\n",
    "    for i in range (1, n + 1):\n",
    "        if check(i) and nt(i):\n",
    "            print ( i ,end = ' ')\n",
    "            cnt += 1\n",
    "    print ('\\n', cnt, sep = '')"
   ]
  },
  {
   "cell_type": "code",
   "execution_count": 26,
   "id": "f6cef9a1-7281-41eb-a0ab-a994579cb1c8",
   "metadata": {},
   "outputs": [
    {
     "name": "stdin",
     "output_type": "stream",
     "text": [
      " 122222\n"
     ]
    },
    {
     "name": "stdout",
     "output_type": "stream",
     "text": [
      "YES\n"
     ]
    }
   ],
   "source": [
    "#so gan thuan nghic \n",
    "'''\n",
    "Một số được coi là đẹp nếu chữ số đầu gấp đôi chữ số cuối \n",
    "hoặc ngược lại, đồng thời các chữ số từ vị trí thứ 2 đến \n",
    "gần cuối thỏa mãn là một số thuận nghịch.\n",
    "Ví dụ : các số 36788766; 12345654322 là các số đẹp.\n",
    "\n",
    "'''\n",
    "from math import*\n",
    "\n",
    "def tn(n):\n",
    "    rev = 0\n",
    "    m = n\n",
    "    while n != 0:\n",
    "        rev = rev * 10 + n % 10\n",
    "        n //= 10\n",
    "    return m == rev\n",
    "\n",
    "def check(n):\n",
    "    last = n% 10\n",
    "    m = 0\n",
    "    n //= 10\n",
    "    while n >= 10:\n",
    "        m = m * 10 + n % 10\n",
    "        n //= 10\n",
    "    return ((last * 2 == n) or (n * 2 == last ))and tn(m)\n",
    "\n",
    "if __name__ == '__main__':\n",
    "    n = int(input())\n",
    "    if check(n):\n",
    "        print('YES')\n",
    "    else:\n",
    "        print('NO')"
   ]
  },
  {
   "cell_type": "code",
   "execution_count": 30,
   "id": "da8c211a-fdaa-483f-b88e-fa742e98311d",
   "metadata": {},
   "outputs": [
    {
     "name": "stdin",
     "output_type": "stream",
     "text": [
      " 144\n"
     ]
    },
    {
     "name": "stdout",
     "output_type": "stream",
     "text": [
      "YES\n"
     ]
    }
   ],
   "source": [
    "#Bieu dien so bang cac so 1, tong chu so bang n \n",
    "#11a + 111b = x: kiem tra co ng nguyen khong am \n",
    "\n",
    "from math import*\n",
    "\n",
    "def check(n):\n",
    "    for i in range ( 0, n // 111 + 1):\n",
    "        if (n - i * 111) % 11 == 0:\n",
    "            return 1\n",
    "    return 0\n",
    "\n",
    "if __name__ == '__main__':\n",
    "    n = int(input())\n",
    "    if check (n):\n",
    "        print ('YES')\n",
    "    else:\n",
    "        print ('NO')"
   ]
  },
  {
   "cell_type": "code",
   "execution_count": 4,
   "id": "629ef9d5-9c9c-4d31-b63c-61fc421acfa6",
   "metadata": {},
   "outputs": [
    {
     "name": "stdin",
     "output_type": "stream",
     "text": [
      " 60\n"
     ]
    },
    {
     "name": "stdout",
     "output_type": "stream",
     "text": [
      "2^2 * 3^1 * 5^1"
     ]
    }
   ],
   "source": [
    "from math import*\n",
    "def pt(n):\n",
    "    for i in range (2, isqrt(n)+1):\n",
    "        if n % i == 0:\n",
    "            mu = 0\n",
    "            while n % i == 0:\n",
    "                mu += 1\n",
    "                n //= i\n",
    "            print( i, mu,sep = '^', end = '' )\n",
    "            if n != 1:\n",
    "                print (' * ',end = '')\n",
    "    if n > 1:\n",
    "       print (n, 1,sep = '^')\n",
    "n = int(input())\n",
    "pt(n)\n",
    "\n",
    "#C2:\n",
    "def prime_factors(n):\n",
    "    factors = []\n",
    "    for i in range(2, isqrt(n) + 1):\n",
    "        if n % i == 0:\n",
    "            count = 0\n",
    "            while n % i == 0:\n",
    "                n //= i\n",
    "                count += 1\n",
    "            factors.append((i, count))\n",
    "    # Nếu n còn lại lớn hơn 1 thì nó là một số nguyên tố\n",
    "    if n > 1:\n",
    "        factors.append((n, 1))\n",
    "    return factors\n",
    "\n",
    "n = int(input())\n",
    "factors = prime_factors(n)\n",
    "result = ' * '.join(f\"{i}^{mu}\" for i, mu in factors)\n",
    "print(result)"
   ]
  },
  {
   "cell_type": "code",
   "execution_count": 242,
   "id": "36959d53-0978-47ba-8e28-59878dd3aa29",
   "metadata": {},
   "outputs": [
    {
     "name": "stdin",
     "output_type": "stream",
     "text": [
      " 4 8\n"
     ]
    },
    {
     "name": "stdout",
     "output_type": "stream",
     "text": [
      "(4,5)\n",
      "(4,7)\n",
      "(5,6)\n",
      "(5,7)\n",
      "(5,8)\n",
      "(6,7)\n",
      "(7,8)\n"
     ]
    }
   ],
   "source": [
    "from math import*\n",
    "#2 số được coi là nguyên tố cùng nhau nếu ước chung lớn nhất là 1.\n",
    "a,b = map(int,input().split())\n",
    "for i in range (a, b + 1):\n",
    "    for j in range ( i + 1, b + 1):\n",
    "        if gcd(i,j) == 1:\n",
    "            print (f\"({i},{j})\")"
   ]
  },
  {
   "cell_type": "code",
   "execution_count": 25,
   "id": "8527b0d8-e69d-40ae-8082-08110fdf2bb5",
   "metadata": {},
   "outputs": [
    {
     "name": "stdin",
     "output_type": "stream",
     "text": [
      " 5\n"
     ]
    },
    {
     "name": "stdout",
     "output_type": "stream",
     "text": [
      "2\n"
     ]
    }
   ],
   "source": [
    "def fibo(n, mod=1000000007):\n",
    "    if n == 1:\n",
    "        return 0\n",
    "    elif n == 2:\n",
    "        return 1\n",
    "    f1 = 0\n",
    "    f2 = 1\n",
    "    for _ in range(3, n + 1):\n",
    "        fn = (f1 + f2) % mod\n",
    "        f1, f2 = f2, fn\n",
    "        \n",
    "    return f2\n",
    "\n",
    "n = int(input().strip())\n",
    "\n",
    "print(fibo(n))\n"
   ]
  },
  {
   "cell_type": "code",
   "execution_count": 31,
   "id": "65a0f058-421c-42a1-b918-4a43ebd10db0",
   "metadata": {},
   "outputs": [
    {
     "name": "stdin",
     "output_type": "stream",
     "text": [
      " 18636\n"
     ]
    },
    {
     "name": "stdout",
     "output_type": "stream",
     "text": [
      "NO\n"
     ]
    }
   ],
   "source": [
    "def is_fibonacci(n):\n",
    "    if n < 0:\n",
    "        return False\n",
    "    # 0 và 1 là số Fibonacci đầu tiên\n",
    "    if n == 0 or n == 1:\n",
    "        return True\n",
    "    # Khởi tạo các số Fibonacci đầu tiên\n",
    "    fn1, fn2 = 0, 1\n",
    "    # Tiếp tục tính các số Fibonacci cho đến khi số hiện tại lớn hơn hoặc bằng n\n",
    "    while fn2 < n:\n",
    "        # Cập nhật các số Fibonacci: fn2 trở thành số Fibonacci tiếp theo, fn1 trở thành số Fibonacci hiện tại\n",
    "        fn1, fn2 = fn2, fn1 + fn2\n",
    "    # Kiểm tra nếu fn2 (số Fibonacci hiện tại) bằng n\n",
    "    return fn2 == n\n",
    "\n",
    "#Cach khac\n",
    "def check (n):\n",
    "    if n == 0 or n == 1:\n",
    "        return True \n",
    "    fn1, fn2 = 1, 0\n",
    "    for  i in range ( 2, 100):\n",
    "        fn = fn1 + fn2\n",
    "        if fn == n :\n",
    "            return True\n",
    "        fn2, fn1 = fn1, fn\n",
    "    return False\n",
    "    \n",
    "n = int(input())\n",
    "if is_fibonacci(n):\n",
    "    print('YES')\n",
    "else:\n",
    "    print('NO')\n"
   ]
  },
  {
   "cell_type": "code",
   "execution_count": 42,
   "id": "fe298e5f-4c8c-4e21-9412-2689cdd52dbe",
   "metadata": {},
   "outputs": [
    {
     "name": "stdin",
     "output_type": "stream",
     "text": [
      " 12\n"
     ]
    },
    {
     "name": "stdout",
     "output_type": "stream",
     "text": [
      "13\n"
     ]
    }
   ],
   "source": [
    "# tim so thuoc day Fibo <= n.so dau tien cua day la 1 1 2 3 4 8 13\n",
    "def fibo3(n):\n",
    "    fn1, fn2 = 1, 0\n",
    "    for i in range( 2, 100):\n",
    "        fn = fn1 + fn2\n",
    "        if fn >= n:\n",
    "            return fn \n",
    "        fn2 , fn1 = fn1, fn\n",
    "    return -1\n",
    "\n",
    "if __name__ == '__main__':\n",
    "    n = int(input())\n",
    "    print(fibo3(n))"
   ]
  },
  {
   "cell_type": "code",
   "execution_count": 48,
   "id": "49e907ea-66b3-4fd0-b5f8-ef3aaa4a3f3d",
   "metadata": {},
   "outputs": [
    {
     "name": "stdin",
     "output_type": "stream",
     "text": [
      " 114\n"
     ]
    },
    {
     "name": "stdout",
     "output_type": "stream",
     "text": [
      "2 3 5 11 17 23 41 53 67 71 101 107 113 "
     ]
    }
   ],
   "source": [
    "# lke snto <= n va tong la so fibonaci\n",
    "\n",
    "from math import*\n",
    "def nto(n):\n",
    "    if n < 2:\n",
    "        return 0\n",
    "    for i in range ( 2, isqrt(n) + 1):\n",
    "        if n % i == 0:\n",
    "            return 0\n",
    "    return 1\n",
    "\n",
    "def fibo4(n):\n",
    "    if n == 1:\n",
    "        return 1\n",
    "    fn1, fn2 = 1, 1\n",
    "    for i in range ( 2, 20):\n",
    "        fn = fn1 + fn2\n",
    "        if fn == n :\n",
    "            return 1\n",
    "        fn2 , fn1 = fn1, fn\n",
    "    return 0\n",
    "\n",
    "def tong (n):\n",
    "    s = 0\n",
    "    while n != 0:\n",
    "        s += n% 10\n",
    "        n //= 10\n",
    "    return s\n",
    "\n",
    "if __name__ == '__main__':\n",
    "    n = int(input())\n",
    "    for i in range (n):\n",
    "        if nt(i) and fibo4(tong(i)):\n",
    "            print( i , end = ' ')\n",
    "        "
   ]
  },
  {
   "cell_type": "code",
   "execution_count": null,
   "id": "ca86a1f3-7f3d-4514-b900-d619d0cb8963",
   "metadata": {},
   "outputs": [],
   "source": []
  },
  {
   "cell_type": "code",
   "execution_count": 50,
   "id": "3ecc357b-1dd6-4187-9b58-52f92bb3d5f3",
   "metadata": {},
   "outputs": [
    {
     "name": "stdin",
     "output_type": "stream",
     "text": [
      " 28 3\n"
     ]
    },
    {
     "name": "stdout",
     "output_type": "stream",
     "text": [
      "7\n"
     ]
    }
   ],
   "source": [
    "#Thua so nguyen to thu K\n",
    "\n",
    "from math import*\n",
    "\n",
    "def solve(n,k):\n",
    "    cnt = 0\n",
    "    for i in range (2, isqrt(n) + 1):\n",
    "        if n % i == 0:\n",
    "            while n% i == 0:\n",
    "                cnt += 1\n",
    "                if cnt == k:\n",
    "                    return i\n",
    "                n //= i\n",
    "    if n != 1:\n",
    "        cnt += 1\n",
    "    if cnt == k :\n",
    "        return n\n",
    "    return -1\n",
    "\n",
    "n, k = map (int,input().split())\n",
    "print (solve(n,k))"
   ]
  },
  {
   "cell_type": "code",
   "execution_count": null,
   "id": "31edcb47-99ff-44f0-a143-6c6bcf4d9a36",
   "metadata": {},
   "outputs": [],
   "source": []
  }
 ],
 "metadata": {
  "kernelspec": {
   "display_name": "Python 3 (ipykernel)",
   "language": "python",
   "name": "python3"
  },
  "language_info": {
   "codemirror_mode": {
    "name": "ipython",
    "version": 3
   },
   "file_extension": ".py",
   "mimetype": "text/x-python",
   "name": "python",
   "nbconvert_exporter": "python",
   "pygments_lexer": "ipython3",
   "version": "3.12.4"
  }
 },
 "nbformat": 4,
 "nbformat_minor": 5
}
