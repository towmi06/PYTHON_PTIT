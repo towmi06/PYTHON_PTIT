{
 "cells": [
  {
   "cell_type": "code",
   "execution_count": 5,
   "id": "a2b5542e-aaae-40b9-b922-7d01206d144b",
   "metadata": {},
   "outputs": [
    {
     "name": "stdout",
     "output_type": "stream",
     "text": [
      "1 4 7 "
     ]
    }
   ],
   "source": [
    "for i in range(1, 10, 3):\n",
    "    print (i, end = ' ')\n"
   ]
  },
  {
   "cell_type": "code",
   "execution_count": 25,
   "id": "83b5d1a6-86b9-4a4d-8ab7-c4cb0b32af9f",
   "metadata": {},
   "outputs": [
    {
     "name": "stdout",
     "output_type": "stream",
     "text": [
      "Do dai cua n: 4\n",
      "So chu so cua n:  4\n",
      "Tong cac chu so cua n la:  10\n"
     ]
    }
   ],
   "source": [
    "#dem chu so n, tong cac chu so n, tinh tong chu so chan/ le, chu so nguyen to, so thuan nghich, loc phat,..\n",
    "n = 1234\n",
    "dem = 0\n",
    "tong = 0\n",
    "#C1: muon tinh so ki tu co cach khac\n",
    "print('Do dai cua n:', len(str(n)))\n",
    "\n",
    "#C2:\n",
    "while n != 0:\n",
    "    dem += 1\n",
    "    tong += n% 10  # lay so cuoi\n",
    "    n //= 10   #bo di so cuoi \n",
    "print ('So chu so cua n: ', dem)\n",
    "print ('Tong cac chu so cua n la: ', tong )\n"
   ]
  },
  {
   "cell_type": "code",
   "execution_count": 27,
   "id": "fb2f15bf-d5de-4d7a-93cb-0a99ba6074a8",
   "metadata": {},
   "outputs": [
    {
     "name": "stdout",
     "output_type": "stream",
     "text": [
      "4321\n"
     ]
    }
   ],
   "source": [
    "# kiem tra so thuan nghich, lat nguoc lai \n",
    "i = 1234\n",
    "lat = 0\n",
    "while i != 0:\n",
    "    lat = lat *10 + i% 10\n",
    "    i //= 10\n",
    "print (lat)"
   ]
  },
  {
   "cell_type": "code",
   "execution_count": 31,
   "id": "119e223d-ba9f-4457-b331-1b3b857d7d83",
   "metadata": {},
   "outputs": [
    {
     "name": "stdin",
     "output_type": "stream",
     "text": [
      " 6\n"
     ]
    },
    {
     "name": "stdout",
     "output_type": "stream",
     "text": [
      "21\n"
     ]
    }
   ],
   "source": [
    "# tong sn = 1+2+...+ n\n",
    "n = int(input())\n",
    "s = 0\n",
    "for i in range(1, n + 1):\n",
    "    s+= i\n",
    "print (s)\n",
    "\n",
    "# Tính tổng S(n) = 1^2 + 2^2 + 3^2 + 4^2 + ... + n^2\n",
    "for i in range(1, n + 1):\n",
    "    s+= i*i\n",
    "print (s)\n",
    "\n",
    "# Tính tổng các số chia hết cho 3 từ 3 đến n\n",
    "for i in range(3, n + 1, 3):\n",
    "    s += i\n",
    "print(s)\n",
    "\n",
    "#S(n) =1+1/2+1/3+1/4+….+1/n\n",
    "for i in range (1, n + 1):\n",
    "    s+= 1.000/i\n",
    "print (f\"{s:.3f}\")\n",
    "\n",
    "#Tính tổng : S(n) = 1/2 + 1/4 + 1/6 + 1/8 +…….+ 1/(2n)\n",
    "for i in range (2, 2*n + 1, 2):\n",
    "    s+= 1.0/i\n",
    "print (f\"{s:.5f}\")"
   ]
  },
  {
   "cell_type": "code",
   "execution_count": 71,
   "id": "8cb1fd19-7207-4ce1-89ef-4f41881d9ff5",
   "metadata": {},
   "outputs": [
    {
     "name": "stdin",
     "output_type": "stream",
     "text": [
      " 28\n"
     ]
    },
    {
     "name": "stdout",
     "output_type": "stream",
     "text": [
      "56\n"
     ]
    }
   ],
   "source": [
    "\n",
    "#tính tổng các ước của một số nguyên dương n voi muc toi uu nhat \n",
    "import math\n",
    "N = int(input())\n",
    "s= 0\n",
    "# Duyệt qua tất cả các số từ 1 đến sqrt(N)\n",
    "for i in range(1, int(math.sqrt(N)) + 1):\n",
    "    if N % i == 0:\n",
    "        s+= i\n",
    "        if i != N // i: # Nếu i không phải là căn bậc hai của N \n",
    "            s += N // i\n",
    "print(s)\n",
    "'''\n",
    "C2:\n",
    "s= n\n",
    "for i in range (1,n // 2 + 1): \n",
    "    if(n % i == 0):\n",
    "        s +=i\n",
    "print(s)\n",
    "'''"
   ]
  },
  {
   "cell_type": "code",
   "execution_count": 86,
   "id": "38de7306-b814-4cc1-88ec-7efd955a84c0",
   "metadata": {},
   "outputs": [
    {
     "name": "stdin",
     "output_type": "stream",
     "text": [
      " 28\n"
     ]
    },
    {
     "name": "stdout",
     "output_type": "stream",
     "text": [
      "6\n",
      "1 2 4 7 14 28 "
     ]
    }
   ],
   "source": [
    "# dem va liet ke cac uoc cua 1 so \n",
    "import math\n",
    "N = int(input())\n",
    "dem=0\n",
    "for i in range(1, int(math.sqrt(N)) + 1):\n",
    "    if N % i == 0:\n",
    "        dem += 1\n",
    "        if i != N // i:\n",
    "            dem += 1\n",
    "print(dem)\n",
    "for i in range(1, N+ 1):\n",
    "    if N % i == 0:\n",
    "        print(i, end = ' ')"
   ]
  },
  {
   "cell_type": "code",
   "execution_count": 90,
   "id": "71bd1382-c00d-4209-9d1a-c34f64c80965",
   "metadata": {},
   "outputs": [
    {
     "name": "stdin",
     "output_type": "stream",
     "text": [
      " 50\n"
     ]
    },
    {
     "name": "stdout",
     "output_type": "stream",
     "text": [
      "1 4 9 16 25 36 49 "
     ]
    }
   ],
   "source": [
    "from math import*\n",
    "n = int(input())\n",
    "for i in range (1, int(sqrt(n)) + 1):\n",
    "    print(i**2, end = ' ')"
   ]
  },
  {
   "cell_type": "code",
   "execution_count": 96,
   "id": "f28eab5e-1a11-4215-ac72-30b6d1ab8be5",
   "metadata": {},
   "outputs": [
    {
     "name": "stdin",
     "output_type": "stream",
     "text": [
      " 10\n"
     ]
    },
    {
     "name": "stdout",
     "output_type": "stream",
     "text": [
      "100\n"
     ]
    }
   ],
   "source": [
    "# dem va liet ke cac uoc cua 1 so \n",
    "N = int(input())\n",
    "tich = 1\n",
    "for i in range(1, N+ 1):\n",
    "    if N % i == 0:\n",
    "        tich *= i\n",
    "print(tich)"
   ]
  },
  {
   "cell_type": "code",
   "execution_count": 1,
   "id": "7420ffc7-11f9-4cfb-812a-8a48c5d58ab9",
   "metadata": {},
   "outputs": [
    {
     "name": "stdin",
     "output_type": "stream",
     "text": [
      " 3\n",
      " 2021 2022 2023\n"
     ]
    },
    {
     "name": "stdout",
     "output_type": "stream",
     "text": [
      "YES\n"
     ]
    }
   ],
   "source": [
    "# Nhập số lượng số nguyên sẽ nhập\n",
    "N = int(input())\n",
    "\n",
    "# Nhập N số nguyên, cách nhau bởi khoảng trắng\n",
    "numbers = list(map(int, input().split()))\n",
    "\n",
    "# Kiểm tra xem số 2022 có trong danh sách numbers hay không\n",
    "if 2022 in numbers:\n",
    "    print(\"YES\")\n",
    "else:\n",
    "    print(\"NO\")\n"
   ]
  },
  {
   "cell_type": "code",
   "execution_count": null,
   "id": "8b12477b-38f6-4590-8ee3-2960f6450831",
   "metadata": {},
   "outputs": [],
   "source": []
  },
  {
   "cell_type": "code",
   "execution_count": null,
   "id": "e3fe0007-d519-4805-8e7b-0191f20230f1",
   "metadata": {},
   "outputs": [],
   "source": []
  }
 ],
 "metadata": {
  "kernelspec": {
   "display_name": "Python 3 (ipykernel)",
   "language": "python",
   "name": "python3"
  },
  "language_info": {
   "codemirror_mode": {
    "name": "ipython",
    "version": 3
   },
   "file_extension": ".py",
   "mimetype": "text/x-python",
   "name": "python",
   "nbconvert_exporter": "python",
   "pygments_lexer": "ipython3",
   "version": "3.12.4"
  }
 },
 "nbformat": 4,
 "nbformat_minor": 5
}
