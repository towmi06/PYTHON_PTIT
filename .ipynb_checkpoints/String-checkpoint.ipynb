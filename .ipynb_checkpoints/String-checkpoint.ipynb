{
 "cells": [
  {
   "cell_type": "markdown",
   "id": "b22d0b79-88b8-4109-ad8d-a775073770dd",
   "metadata": {},
   "source": [
    "## String: ' ' or \" \" \n",
    "\n",
    "neu nhieu dong thi  '''    '''\n",
    "- co the unpacking va slicing nhu list\n",
    "- vd: t = s[ :  : ] or s [: : -1]....\n",
    "- string is immutable : khong the thay doi cac ki tu trong no\n",
    "- khong lam thay doi xau ban dau\n",
    "1. **REPALCE** tra ve xau moi va khong lam thay doi xau ban dau s.replace( 'cu' , 'moi')\n",
    "2. **SPLIT() VA JOIN()**\n",
    "3. chuyen doi ki tu case converesion:\n",
    "   - **upper()**: chuyen in hoa\n",
    "   - **lower()**: chuyen in thuong\n",
    "   - **capitalize**(): Viet hoa dau xau\n",
    "   - **swapcase()**: chuyen hoa -> thuong va ngc lai\n",
    "   - **title()**: Dau Moi Chu Viet Hoa\n",
    "   - **isalpha()/isdigit()**: kiem tra ki tu la chu cai or so\n",
    "     \n",
    "4. Kiem tra xau con dung **in**  hoac dung **find()** : tra ve chi so dau tien  cua no va neu k tim thay se tra ve -1\n",
    "5. Ham **Chr()**: chuyen ascii sang ki tu\n",
    "   \n",
    "   va **Ord()**: chuyen ki tu sang ma ascii"
   ]
  },
  {
   "cell_type": "code",
   "execution_count": 17,
   "id": "e150269b-d879-4c34-8f28-a2166365886d",
   "metadata": {},
   "outputs": [
    {
     "name": "stdout",
     "output_type": "stream",
     "text": [
      "['thom', 'ne']\n",
      "thom -  xinh - dep\n",
      "Hi\n",
      "0\n",
      "0\n"
     ]
    }
   ],
   "source": [
    "s = 'thom,ne'\n",
    "k = s.replace(',' , ' ')\n",
    "\n",
    "#tach theo dau cach \n",
    "a = k.split()\n",
    "print (a)\n",
    "\n",
    "\n",
    "b = ['thom', ' xinh' , 'dep']\n",
    "\n",
    "print(' - '.join(b))\n",
    "\n",
    "if 'thom' in s: print ('Hi')\n",
    "\n",
    "# tim vi tri  trong list b\n",
    "print(b.index('thom'))\n",
    "\n",
    "# trong xau s\n",
    "print (s.find('thom'))"
   ]
  },
  {
   "cell_type": "markdown",
   "id": "a7621b1d-4d75-4c57-8e25-55b9874c6abc",
   "metadata": {},
   "source": [
    "## Dang bai 1: Tan suat xuat hien cua cac ki tu trong xau \n",
    "1.  dictionary\n",
    "2. mang danh dau\n",
    "3. counter"
   ]
  },
  {
   "cell_type": "code",
   "execution_count": 45,
   "id": "746e239f-36c8-476f-b2e0-20314fa5f6e8",
   "metadata": {},
   "outputs": [
    {
     "name": "stdout",
     "output_type": "stream",
     "text": [
      "  4\n",
      "Q 1\n",
      "T 3\n",
      "a 1\n",
      "h 3\n",
      "i 1\n",
      "m 1\n",
      "n 2\n",
      "o 1\n",
      "r 1\n",
      "u 1\n",
      "y 1\n",
      "\n",
      "  4\n",
      "\n",
      "T 3\n",
      "r 1\n",
      "a 1\n",
      "n 2\n",
      "  4\n",
      "h 3\n",
      "i 1\n",
      "Q 1\n",
      "u 1\n",
      "y 1\n",
      "o 1\n",
      "m 1\n"
     ]
    }
   ],
   "source": [
    "# Dang mang danh dau \n",
    "#ascii 0 -> 225 ki tu \n",
    "if __name__ == '__main__':\n",
    "    s = 'Tran Thi Quynh Thom '\n",
    "    cnt = [0] * 256\n",
    "    for x in s:\n",
    "        cnt[ord(x)] +=1\n",
    "    for i in range (256):\n",
    "        if cnt[i] != 0:\n",
    "            # in theo tu dien tang dan \n",
    "            print (chr(i), cnt[i])\n",
    "    print()\n",
    "    for i  in range (256):\n",
    "            # thu tu xh :\n",
    "        if cnt[ord(x)] != 0:\n",
    "            print (x, cnt[ord(x)])\n",
    "            cnt[ord(x)] = 0\n",
    "    print()\n",
    "\n",
    "# Cach 2: dictionary , sorted: sort key thoi\n",
    "    \n",
    "    d = dict({})\n",
    "    for x in s:\n",
    "        if x in d: d[x] += 1\n",
    "        else: d[x] = 1\n",
    "            # theo thu tuu xh\n",
    "    for x,y in d.items():\n",
    "        print(x,y)\n",
    "        #theo tu dien tang dan\n",
    "    for x in sorted(d):\n",
    "        print (x, d[x])"
   ]
  },
  {
   "cell_type": "code",
   "execution_count": 53,
   "id": "a48fdfda-80ca-4c6d-82d9-ebd07068ad0f",
   "metadata": {},
   "outputs": [
    {
     "name": "stdout",
     "output_type": "stream",
     "text": [
      "Counter({' ': 4, 'T': 3, 'h': 3, 'n': 2, 'r': 1, 'a': 1, 'i': 1, 'Q': 1, 'u': 1, 'y': 1, 'o': 1, 'm': 1})\n",
      "{'T': 3, 'r': 1, 'a': 1, 'n': 2, ' ': 4, 'h': 3, 'i': 1, 'Q': 1, 'u': 1, 'y': 1, 'o': 1, 'm': 1}\n"
     ]
    }
   ],
   "source": [
    "from collections import Counter\n",
    "c = Counter(s)\n",
    "print (c)\n",
    "# in theo thu tu xh :\n",
    "v = dict(c.items())\n",
    "print (v)"
   ]
  },
  {
   "cell_type": "markdown",
   "id": "7ed8a882-ea35-45e9-8922-6d66edd75df1",
   "metadata": {},
   "source": [
    "## Dang 2: Tach tu => Den tan xuat, sap xep ,...\n"
   ]
  },
  {
   "cell_type": "code",
   "execution_count": 57,
   "id": "f6dce62c-609e-493d-a1a7-0664d77fef9e",
   "metadata": {},
   "outputs": [
    {
     "name": "stdout",
     "output_type": "stream",
     "text": [
      "4\n"
     ]
    }
   ],
   "source": [
    "if __name__ == '__main__':\n",
    "    s = 'Tran Thi Quynh Thom '\n",
    "    a = s.split()\n",
    "    # So kis tu khac nhau\n",
    "    print (len(set(a)))\n",
    "    #\n",
    "    b = set(a)"
   ]
  },
  {
   "cell_type": "code",
   "execution_count": 73,
   "id": "e63798f3-4e99-4e02-9dd6-59d9ccd7fe53",
   "metadata": {},
   "outputs": [
    {
     "name": "stdout",
     "output_type": "stream",
     "text": [
      "Tran Thi Quynh Thom \n",
      "Tran Thi Quynh Thom \n",
      "Tran Thi Quynh Thom \n",
      "Tran Thi Quynh Thom \n",
      "Tran Thi Quynh Thom \n",
      "Tran Thi Quynh Thom \n",
      "['Tran', 'Thi', 'Quynh', 'Thom']\n"
     ]
    }
   ],
   "source": [
    "delim =' . ? !' # Tach theo nhieu ki tu khav nhau \n",
    "for x in delim:\n",
    "    u = s.replace(x, ' ')\n",
    "    print(u)\n",
    "print(u.split())"
   ]
  },
  {
   "cell_type": "markdown",
   "id": "85223ce0-1e11-4389-9b14-ae2888c2751c",
   "metadata": {},
   "source": [
    "# Dang 3: so nguyen lon "
   ]
  },
  {
   "cell_type": "code",
   "execution_count": 1,
   "id": "75bad388-c1af-4b41-a4cc-7534619684ef",
   "metadata": {},
   "outputs": [
    {
     "name": "stdin",
     "output_type": "stream",
     "text": [
      " 154654876256689\n"
     ]
    },
    {
     "name": "stdout",
     "output_type": "stream",
     "text": [
      "82\n"
     ]
    }
   ],
   "source": [
    "if __name__ == '__main__':\n",
    "    s = input()\n",
    "    tong = 0;\n",
    "    for x in s:\n",
    "        tong += int(x)\n",
    "    print(tong)\n",
    "    "
   ]
  },
  {
   "cell_type": "code",
   "execution_count": 4,
   "id": "752c2c4a-97af-4e05-bd5b-489c396c5bfb",
   "metadata": {},
   "outputs": [
    {
     "name": "stdin",
     "output_type": "stream",
     "text": [
      " abcd123 $%^ a\n"
     ]
    },
    {
     "name": "stdout",
     "output_type": "stream",
     "text": [
      "5 3 5\n"
     ]
    }
   ],
   "source": [
    "#dem so loai ki tu \n",
    "if __name__ == '__main__':\n",
    "    s = input()\n",
    "    a,d, sp = 0,0, 0\n",
    "    cnt = []\n",
    "    for x in s:\n",
    "        if x.isdigit():\n",
    "            d +=1\n",
    "        elif x.isalpha():\n",
    "            a +=1\n",
    "        else: sp += 1\n",
    "    print ( a, d, sp, sep = ' ')\n",
    "            \n",
    "    "
   ]
  },
  {
   "cell_type": "code",
   "execution_count": null,
   "id": "e7a13d8d-7aa4-441d-8e9e-644257e62fef",
   "metadata": {},
   "outputs": [],
   "source": [
    "   d = dict({})\n",
    "    for x in s:\n",
    "        if x in d: d[x] += 1\n",
    "        else: d[x] = 1\n",
    "            # theo thu tu xh\n",
    "    for x,y in d.items():\n",
    "        print(x,y)\n",
    "        #theo tu dien tang dan\n",
    "    for x in sorted(d):\n",
    "        print (x, d[x])"
   ]
  },
  {
   "cell_type": "code",
   "execution_count": 6,
   "id": "41ec35a7-36eb-4250-83a2-ee29385ff091",
   "metadata": {},
   "outputs": [
    {
     "name": "stdin",
     "output_type": "stream",
     "text": [
      " abcd ABCD\n"
     ]
    },
    {
     "name": "stdout",
     "output_type": "stream",
     "text": [
      "ABCD ABCD\n",
      "abcd abcd\n"
     ]
    }
   ],
   "source": [
    "if __name__ == '__main__':\n",
    "    s = input()\n",
    "    print(s.upper())\n",
    "    print(s.lower())\n",
    "        "
   ]
  },
  {
   "cell_type": "code",
   "execution_count": 12,
   "id": "e902b2bf-a674-48b2-8685-4e6e8b9d5c89",
   "metadata": {},
   "outputs": [
    {
     "name": "stdin",
     "output_type": "stream",
     "text": [
      " abcdabcdA\n"
     ]
    },
    {
     "name": "stdout",
     "output_type": "stream",
     "text": [
      "A 1\n",
      "a 2\n",
      "b 2\n",
      "c 2\n",
      "d 2\n",
      "\n",
      "a 2\n",
      "b 2\n",
      "c 2\n",
      "d 2\n",
      "A 1\n"
     ]
    }
   ],
   "source": [
    "if __name__ == '__main__':\n",
    "    s = input()\n",
    "    d = dict({})\n",
    "    for x in s: \n",
    "        if x in d: d[x] +=1\n",
    "        else: d[x] = 1\n",
    "\n",
    "    #in theo thu tu tang dan\n",
    "    for x in sorted(d):\n",
    "        print(x, d[x])\n",
    "    print()\n",
    "\n",
    "    # in theo thu tu xuat hien \n",
    "    for x, y in d.items():\n",
    "        print(x,y)\n",
    "\n",
    "    "
   ]
  },
  {
   "cell_type": "code",
   "execution_count": 18,
   "id": "3f3cb4f9-fe03-49c6-b595-1e812ca01b8d",
   "metadata": {},
   "outputs": [
    {
     "name": "stdin",
     "output_type": "stream",
     "text": [
      " 28tech28techtech\n"
     ]
    },
    {
     "name": "stdout",
     "output_type": "stream",
     "text": [
      "t 3\n",
      "8 2\n"
     ]
    }
   ],
   "source": [
    "#in ra kí tu co so lan xh nhieu nhat , it nhat, và neu cung so lan thi in theo thu tu tu dien \n",
    "if __name__ == '__main__':\n",
    "    s = input()\n",
    "    d = dict({})\n",
    "    for x in s:\n",
    "        if x in d: d[x] += 1\n",
    "        else: d[x] = 1\n",
    "    minf, maxf = 10**18,0\n",
    "    # luu ki tu xhien nhieu nhat va it nhat\n",
    "    res1, res = ' ', ' '\n",
    "    for k in sorted(d):\n",
    "        if d[k] >= maxf:\n",
    "            maxf = d[k]\n",
    "            res1 = k\n",
    "        if  d[k] <= minf:\n",
    "            minf = d[k]\n",
    "            res = k\n",
    "    print(res1, maxf)\n",
    "    print (res, minf)"
   ]
  },
  {
   "cell_type": "code",
   "execution_count": 36,
   "id": "c18a9c2f-aa13-4c19-8e3f-83ba8ab48a0b",
   "metadata": {},
   "outputs": [
    {
     "name": "stdin",
     "output_type": "stream",
     "text": [
      " 28tech\n",
      " 29techdsa\n"
     ]
    },
    {
     "name": "stdout",
     "output_type": "stream",
     "text": [
      "2ceht\n",
      "289acdehst\n"
     ]
    }
   ],
   "source": [
    "if __name__ == '__main__':\n",
    "    s1 = input()\n",
    "    s2 = input()\n",
    "    a = []\n",
    "    for x in s1:\n",
    "        if x in s2: a.append(x)\n",
    "    print(*sorted(a), sep = '')\n",
    "\n",
    "    # in xh ca 2 xau  theo thu tu tu dien \n",
    "    s = s1 + s2\n",
    "    b = sorted(set(s))\n",
    "    print(*b, sep = '')\n",
    "\n",
    "#cach 2:\n",
    "if __name__ == '__main__':\n",
    "    s1 = input()\n",
    "    s2 = input()\n",
    "    set1 = set(s1)\n",
    "    set2 = set(s2)\n",
    "    giao = set1.intersection(set2)\n",
    "    hop = set1.union(set2)\n",
    "    print (*sorted(giao), sep = '')\n",
    "    print(*sorted(hop), sep = '')"
   ]
  },
  {
   "cell_type": "code",
   "execution_count": 50,
   "id": "1c2511c1-27c3-4934-bed0-f60f61eb9852",
   "metadata": {},
   "outputs": [
    {
     "name": "stdin",
     "output_type": "stream",
     "text": [
      " fAOxTUeAIs\n",
      " aVUkULeRYw\n"
     ]
    },
    {
     "name": "stdout",
     "output_type": "stream",
     "text": [
      "AIOTfsx\n",
      "LRVYakw\n"
     ]
    }
   ],
   "source": [
    "#d1: xuat hien s1, khong s2 va d2 ngc lai \n",
    "if __name__ == '__main__':\n",
    "    s1 = input()\n",
    "    s2 = input()\n",
    "    set1 = set(s1)\n",
    "    set2 = set(s2)\n",
    "    d1 = set1 - set2\n",
    "    d2 = set2 - set1\n",
    "    print(*sorted(d1), sep = '')\n",
    "    print(*sorted(d2),sep = '')"
   ]
  },
  {
   "cell_type": "code",
   "execution_count": 66,
   "id": "7057c211-7dd3-4466-b2b9-6ca1c1d7f85f",
   "metadata": {},
   "outputs": [
    {
     "name": "stdin",
     "output_type": "stream",
     "text": [
      " 123546kj\n"
     ]
    },
    {
     "name": "stdout",
     "output_type": "stream",
     "text": [
      "NO\n"
     ]
    }
   ],
   "source": [
    "#Xau doi xung\n",
    "if __name__ == '__main__':\n",
    "    S = input().strip()\n",
    "    if S == S[::-1]:\n",
    "        print(\"YES\")\n",
    "    else:\n",
    "        print(\"NO\")\n"
   ]
  },
  {
   "cell_type": "code",
   "execution_count": 86,
   "id": "3dcd3e4f-886d-41ee-b260-5470e2d54dfe",
   "metadata": {},
   "outputs": [
    {
     "name": "stdin",
     "output_type": "stream",
     "text": [
      " abcdefghijklmnopqrstuvwxyZ\n"
     ]
    },
    {
     "name": "stdout",
     "output_type": "stream",
     "text": [
      "YES\n"
     ]
    }
   ],
   "source": [
    "#Kiem tra chuoi pangram: chuoi ki tu chu day du khong phan biet hoa thg \n",
    "if __name__ == '__main__':\n",
    "    k = input()\n",
    "    s = set(k.lower())\n",
    "    alphabet_set = set(\"abcdefghijklmnopqrstuvwxyz\")  # Tập hợp các chữ cái từ 'a' đến 'z'\n",
    "\n",
    "    # Kiểm tra nếu `alphabet_set` là tập con của `s`\n",
    "    print('YES' if alphabet_set.issubset(s) else 'NO')"
   ]
  },
  {
   "cell_type": "code",
   "execution_count": 88,
   "id": "022dae86-03df-47ce-9d38-7b8768816450",
   "metadata": {},
   "outputs": [
    {
     "name": "stdin",
     "output_type": "stream",
     "text": [
      " ngon ngu lap trinh java, python\n"
     ]
    },
    {
     "name": "stdout",
     "output_type": "stream",
     "text": [
      "6\n"
     ]
    }
   ],
   "source": [
    "# Dem tu trong xau\n",
    "s = input()\n",
    "a = s.split()\n",
    "print(len(a))"
   ]
  },
  {
   "cell_type": "code",
   "execution_count": 90,
   "id": "bd75cff9-b8ec-4cca-b278-1b25d2461381",
   "metadata": {},
   "outputs": [
    {
     "name": "stdin",
     "output_type": "stream",
     "text": [
      " python java php php java python\n"
     ]
    },
    {
     "name": "stdout",
     "output_type": "stream",
     "text": [
      "java php python\n",
      "python java php "
     ]
    }
   ],
   "source": [
    "# Liet ke cac tu khac nhau trong xau\n",
    "\n",
    "s = input()\n",
    "a= s.split()\n",
    "k = set(a)\n",
    "#in theo thu tu tang dan\n",
    "se = sorted(k)\n",
    "print(' '.join(se))\n",
    "\n",
    "#in theo thu tu xh \n",
    "for x in a:\n",
    "    if x in k:\n",
    "        print(x, end= ' ')\n",
    "        k.remove(x)"
   ]
  },
  {
   "cell_type": "code",
   "execution_count": 92,
   "id": "33d9158a-ef57-4c6d-9248-9330d62d7170",
   "metadata": {},
   "outputs": [
    {
     "name": "stdin",
     "output_type": "stream",
     "text": [
      " hoc lap trinh php 28tech\n"
     ]
    },
    {
     "name": "stdout",
     "output_type": "stream",
     "text": [
      "28tech hoc lap php trinh\n",
      "hoc lap php trinh 28tech\n"
     ]
    }
   ],
   "source": [
    "\n",
    "s = input()\n",
    "a = s.split()\n",
    "a.sort()\n",
    "print (' '.join(a))\n",
    "# Sắp xếp theo độ dài và từ điển\n",
    "a.sort(key = lambda x : (len(x), x))\n",
    "print(' '.join(a))"
   ]
  },
  {
   "cell_type": "code",
   "execution_count": 98,
   "id": "212706c2-9bd0-4198-a995-4706e3ae767e",
   "metadata": {},
   "outputs": [
    {
     "name": "stdin",
     "output_type": "stream",
     "text": [
      " php aba aaaa nguyen huu hoc pop\n"
     ]
    },
    {
     "name": "stdout",
     "output_type": "stream",
     "text": [
      "php aba pop aaaa\n"
     ]
    }
   ],
   "source": [
    "#thuan nghich khac nhau stable_sort\n",
    "'''\n",
    "ắp xếp các từ thuận nghịch khác nhau trong xâu theo thứ tự từ chiều dài tăng dần,\n",
    "nếu 2 từ thuận nghịch có cùng chiều dài thì từ nào xuất hiện trước sẽ được in ra trước.\n",
    "'''\n",
    "def check(s):\n",
    "    t = s[::-1]\n",
    "    return s == t\n",
    "\n",
    "if __name__ == '__main__':\n",
    "    s = input()\n",
    "    a = s.split()\n",
    "    se = set({})\n",
    "    b = []\n",
    "    for x in a:\n",
    "        if check(x) and x not in se:\n",
    "            b.append(x)\n",
    "            se.add(x)\n",
    "    b.sort(key = lambda x : (len(x)))\n",
    "    print (' '.join(b))"
   ]
  },
  {
   "cell_type": "code",
   "execution_count": 120,
   "id": "13bef333-fceb-48fb-b68f-5802a1976d88",
   "metadata": {},
   "outputs": [
    {
     "name": "stdin",
     "output_type": "stream",
     "text": [
      " bb aa bb cc aa bb cc 28tech\n"
     ]
    },
    {
     "name": "stdout",
     "output_type": "stream",
     "text": [
      "28tech 1\n",
      "aa 2\n",
      "bb 3\n",
      "cc 2\n",
      "\n",
      "bb 3\n",
      "aa 2\n",
      "cc 2\n",
      "28tech 1\n"
     ]
    }
   ],
   "source": [
    "\n",
    "if __name__ == '__main__':\n",
    "    s = input()\n",
    "    a = s.split()\n",
    "    d = dict({})\n",
    "    for x in a:\n",
    "        if x in d: d[x] +=1\n",
    "        else: d[x] = 1\n",
    "    #thu thu tang dan      \n",
    "    for x in sorted(d):\n",
    "        print (x, d[x])\n",
    "\n",
    "    print()\n",
    "\n",
    "#thu tu xh \n",
    "    for x, y in d.items():\n",
    "        print (x, y)"
   ]
  },
  {
   "cell_type": "code",
   "execution_count": null,
   "id": "e53a4c92-6899-45b3-9d0f-bc5cfa8327fe",
   "metadata": {},
   "outputs": [],
   "source": [
    "#in ra kí tu co so lan xh nhieu nhat , it nhat, và neu cung so lan thi in theo thu tu tu dien \n",
    "if __name__ == '__main__':\n",
    "    s = input()\n",
    "    d = dict({})\n",
    "    for x in s:\n",
    "        if x in d: d[x] += 1\n",
    "        else: d[x] = 1\n",
    "    minf, maxf = 10**18,0\n",
    "    # luu ki tu xhien nhieu nhat va it nhat\n",
    "    res1, res = ' ', ' '\n",
    "    for k in sorted(d):\n",
    "        if d[k] >= maxf:\n",
    "            maxf = d[k]\n",
    "            res1 = k\n",
    "        if  d[k] <= minf:\n",
    "            minf = d[k]\n",
    "            res = k\n",
    "    print(res1, maxf)\n",
    "    print (res, minf)"
   ]
  },
  {
   "cell_type": "code",
   "execution_count": 122,
   "id": "b8d84ebf-0fc3-4ed6-86f2-bf211af2d212",
   "metadata": {},
   "outputs": [
    {
     "name": "stdin",
     "output_type": "stream",
     "text": [
      " aa bb cc aa bb aa aa cc 28tech tech28\n"
     ]
    },
    {
     "name": "stdout",
     "output_type": "stream",
     "text": [
      "aa 4\n",
      "tech28 1\n"
     ]
    }
   ],
   "source": [
    "if __name__ == '__main__':\n",
    "    s =input()\n",
    "    a= s.split()\n",
    "    d = dict({})\n",
    "    for x in a:\n",
    "        if x in d: d[x] +=1\n",
    "        else: d[x] = 1\n",
    "    minf, maxf = 10 ** 18 , 0\n",
    "    resM, resM = ' ' , ' '\n",
    "    for k in sorted(d):\n",
    "        if d[k] >= maxf:\n",
    "            maxf = d[k]\n",
    "            resM = k\n",
    "        if d[k] <= minf:\n",
    "            minf = d[k]\n",
    "            resm = k\n",
    "    print(resM,maxf)\n",
    "    print(resm,minf)\n",
    "    "
   ]
  },
  {
   "cell_type": "code",
   "execution_count": 132,
   "id": "760519cb-7d3a-4525-b62e-6bb403f4003f",
   "metadata": {},
   "outputs": [
    {
     "name": "stdin",
     "output_type": "stream",
     "text": [
      " 28tech.com.vn tech28\n",
      " 28tech\n"
     ]
    },
    {
     "name": "stdout",
     "output_type": "stream",
     "text": [
      "NO\n"
     ]
    }
   ],
   "source": [
    "s = input()\n",
    "t = input()\n",
    "a = set(s.split())\n",
    "b = set(t.split())  # Sửa lỗi chính tả ở đây\n",
    "print('YES' if b.issubset(a) else 'NO')\n"
   ]
  },
  {
   "cell_type": "code",
   "execution_count": 136,
   "id": "670b119b-2edf-47c0-a55e-7df15a99e213",
   "metadata": {},
   "outputs": [
    {
     "name": "stdin",
     "output_type": "stream",
     "text": [
      " 28tech.com.vn tech28\n",
      " 28tech\n"
     ]
    },
    {
     "name": "stdout",
     "output_type": "stream",
     "text": [
      "YES\n"
     ]
    }
   ],
   "source": [
    "if __name__ == '__main__':\n",
    "    s = input()\n",
    "    t = input()\n",
    "    if t in s:\n",
    "        print(\"YES\")\n",
    "    else:\n",
    "        print(\"NO\")\n"
   ]
  },
  {
   "cell_type": "code",
   "execution_count": 144,
   "id": "d8410e5d-69cb-4c2a-9696-12eeccfb0cfa",
   "metadata": {},
   "outputs": [
    {
     "name": "stdin",
     "output_type": "stream",
     "text": [
      " tran thi \n",
      " 12/1/2024\n"
     ]
    },
    {
     "name": "stdout",
     "output_type": "stream",
     "text": [
      "Tran Thi \n",
      "12/01/2024\n"
     ]
    }
   ],
   "source": [
    "from datetime import datetime\n",
    "\n",
    "if __name__ == '__main__':\n",
    "    s1 = input()\n",
    "    s2 = input().strip()\n",
    "    print (s1.title())\n",
    "    dateOb = datetime.strptime(s2,'%d/%m/%Y')\n",
    "    reshape = dateOb.strftime('%d/%m/%Y')\n",
    "    print (reshape)"
   ]
  },
  {
   "cell_type": "code",
   "execution_count": 198,
   "id": "d9e8fb02-9db1-46e0-a9be-a1c83fb078db",
   "metadata": {},
   "outputs": [
    {
     "ename": "SyntaxError",
     "evalue": "cannot use starred expression here (3964624566.py, line 10)",
     "output_type": "error",
     "traceback": [
      "\u001b[1;36m  Cell \u001b[1;32mIn[198], line 10\u001b[1;36m\u001b[0m\n\u001b[1;33m    firstName = (*firstName)\u001b[0m\n\u001b[1;37m                 ^\u001b[0m\n\u001b[1;31mSyntaxError\u001b[0m\u001b[1;31m:\u001b[0m cannot use starred expression here\n"
     ]
    }
   ],
   "source": [
    "\n",
    "if __name__ == '__main__':\n",
    "    s =input().title()\n",
    "    a = s.split()\n",
    "    firstName = []\n",
    "    lastName=  []\n",
    "    for x in range(len(a)):\n",
    "        if x == len(a)-1:\n",
    "            firstName.append(a[len(a)-1])\n",
    "        else: lastName.append(a[x]) \n",
    "\n",
    "    print(f'{lastName},{firstName}')\n",
    "    print(f' {firstName}, {lastName}')"
   ]
  },
  {
   "cell_type": "code",
   "execution_count": 208,
   "id": "2b75b967-3d90-4541-a38a-c45570267941",
   "metadata": {},
   "outputs": [
    {
     "name": "stdin",
     "output_type": "stream",
     "text": [
      " tran thi quynh thom\n"
     ]
    },
    {
     "name": "stdout",
     "output_type": "stream",
     "text": [
      "Tran Thi Quynh,THOM\n",
      "THOM, Tran Thi Quynh\n"
     ]
    }
   ],
   "source": [
    "if __name__ == '__main__':\n",
    "    s = input().title()  # Chuyển đổi xâu thành Title Case\n",
    "    a = s.split()  # Tách xâu thành danh sách các từ\n",
    "    \n",
    "    lastName = ' '.join(a[0: len(a)-1])  # Các phần còn lại là tên\n",
    "    firstName = a[len(a)-1]  # Từ đầu tiên là họ\n",
    "\n",
    "    # In theo yêu cầu\n",
    "    print(f'{lastName}, {firstName.upper()}')  # Họ, Tên in hoa\n",
    "    print(f'{firstName.upper()}, {lastName}')  # Tên in hoa, Họ\n"
   ]
  },
  {
   "cell_type": "code",
   "execution_count": 214,
   "id": "0663cbbd-3886-42f4-b6f9-782ff04c8325",
   "metadata": {},
   "outputs": [
    {
     "name": "stdin",
     "output_type": "stream",
     "text": [
      " 2\n",
      " le   thi   HONG nHUNG 30/07/1991\n"
     ]
    },
    {
     "name": "stdout",
     "output_type": "stream",
     "text": [
      "nhunglth@xyz.edu.vn\n",
      "3071991"
     ]
    },
    {
     "name": "stdin",
     "output_type": "stream",
     "text": [
      " nguyen   van   nam 20/07/1993\n"
     ]
    },
    {
     "name": "stdout",
     "output_type": "stream",
     "text": [
      "namnv@xyz.edu.vn\n",
      "2071993"
     ]
    }
   ],
   "source": [
    "#Tao email\n",
    "if __name__ == '__main__':\n",
    "    n = int(input())\n",
    "    while n > 0:\n",
    "        s = input().lower()\n",
    "        a = s.split()\n",
    "        ns = a[-1] # ngay sinh \n",
    "        print(a[-2], end = '') # ten that\n",
    "        #ho va ten dem\n",
    "        for i in range(0, len(a)-2):\n",
    "            print(a[i][0], end = '')# in ra chu cai dau tien cua ho vaf dem\n",
    "        print ('@xyz.edu.vn')\n",
    "\n",
    "        #mat khau: ghep ngay sinh \n",
    "        b = ns.split('/')\n",
    "        for x in b:\n",
    "            print(int(x), end = '')\n",
    "        print()\n",
    "        n -=1"
   ]
  },
  {
   "cell_type": "code",
   "execution_count": 220,
   "id": "76cc1f1c-3be6-40bc-b140-efc06aa6bade",
   "metadata": {},
   "outputs": [
    {
     "name": "stdin",
     "output_type": "stream",
     "text": [
      " 2\n",
      " ngo Vang Long 20/12/2002\n"
     ]
    },
    {
     "name": "stdout",
     "output_type": "stream",
     "text": [
      "longnv@xyz.edu.vn\n",
      "20122002\n"
     ]
    },
    {
     "name": "stdin",
     "output_type": "stream",
     "text": [
      " nguyen   van LONg 20/10/2002\n"
     ]
    },
    {
     "name": "stdout",
     "output_type": "stream",
     "text": [
      "longnv2@xyz.edu.vn\n",
      "20102002\n"
     ]
    }
   ],
   "source": [
    "#Tao email\n",
    "if __name__ == '__main__':\n",
    "    n = int(input())\n",
    "    d = dict({})\n",
    "    while n > 0:\n",
    "        s = input().lower()\n",
    "        a = s.split()\n",
    "        ns = a[-1] # ngay sinh \n",
    "        #ten \n",
    "        email = a[-2]\n",
    "        #ho va ten dem\n",
    "        for i in range(0, len(a)-2):\n",
    "            email +=a[i][0]\n",
    "        if email in d:\n",
    "            d[email]+=1\n",
    "            print(email, d[email], '@xyz.edu.vn', sep = '')\n",
    "        else:\n",
    "            d[email] = 1\n",
    "            print(email,'@xyz.edu.vn', sep = '')# in ra chu cai dau tien cua ho vaf dem\n",
    "        \n",
    "\n",
    "        #mat khau: ghep ngay sinh \n",
    "        b = ns.split('/')\n",
    "        for x in b:\n",
    "            print(int(x), end = '')\n",
    "        print()\n",
    "        n -=1"
   ]
  },
  {
   "cell_type": "code",
   "execution_count": 1,
   "id": "7fac072a-bf58-44e6-a24c-4e17f9f7486b",
   "metadata": {},
   "outputs": [
    {
     "name": "stdin",
     "output_type": "stream",
     "text": [
      " py2j228techtechttthnnnon\n"
     ]
    },
    {
     "name": "stdout",
     "output_type": "stream",
     "text": [
      "YES\n",
      "NO\n"
     ]
    }
   ],
   "source": [
    "if __name__ == '__main__':\n",
    "    s = input()  \n",
    "    t = 'python'  \n",
    "    idx = 0  # Vị trí kiểm tra trong xâu t\n",
    "\n",
    "    for x in s:\n",
    "        if x == t[idx]:  \n",
    "            idx += 1\n",
    "        if idx == len(t):  \n",
    "            print('YES')\n",
    "            break\n",
    "    else:  \n",
    "        print('NO')\n"
   ]
  },
  {
   "cell_type": "code",
   "execution_count": 5,
   "id": "d7a98649-fc68-4519-9ef8-e4974cc0808d",
   "metadata": {},
   "outputs": [
    {
     "name": "stdin",
     "output_type": "stream",
     "text": [
      " abc abc abcd abcd AB 28TeCH\n",
      " abC CD ZAH abd ABcD 28tech\n"
     ]
    },
    {
     "name": "stdout",
     "output_type": "stream",
     "text": [
      "28tech abc abcd "
     ]
    }
   ],
   "source": [
    "# giao cua 2 xau \n",
    "if __name__ == '__main__':\n",
    "    s = input().lower()\n",
    "    t = input().lower()\n",
    "    set1 = set(s.split())\n",
    "    set2 = set(t.split())\n",
    "    idx = 0\n",
    "\n",
    "    for x in sorted(set1):\n",
    "        if x in sorted(set2):\n",
    "            print(x, end = ' ')\n",
    "    #Cach 2:\n",
    "    giao = set1.intersection(set2)\n",
    "    print(sorted(giao))"
   ]
  },
  {
   "cell_type": "code",
   "execution_count": 8,
   "id": "64deeca9-1ea8-41d2-985c-502583dcf068",
   "metadata": {},
   "outputs": [
    {
     "ename": "IndentationError",
     "evalue": "unexpected indent (1481146095.py, line 13)",
     "output_type": "error",
     "traceback": [
      "\u001b[1;36m  Cell \u001b[1;32mIn[8], line 13\u001b[1;36m\u001b[0m\n\u001b[1;33m    d = set1.difference(set2)\u001b[0m\n\u001b[1;37m    ^\u001b[0m\n\u001b[1;31mIndentationError\u001b[0m\u001b[1;31m:\u001b[0m unexpected indent\n"
     ]
    }
   ],
   "source": [
    "#tap tu rieng cua 2 xau \n",
    "if __name__ == '__main__':\n",
    "    s = input().lower()\n",
    "    t = input().lower()\n",
    "    set1 = set(s.split())\n",
    "    set2 = set(t.split())\n",
    "    idx = 0\n",
    "\n",
    "    for x in sorted(set1):\n",
    "        if x not in sorted(set2):\n",
    "            print(x, end = ' ')\n",
    "    #cach 2:\n",
    "    # Xuat hien xau 1 khong co trg xau 2\n",
    "if __name__ == '__main__':\n",
    "    s = input().lower()\n",
    "    t = input().lower()\n",
    "    set1 = set(s.split())\n",
    "    set2 = set(t.split())\n",
    "    d = set1.difference(set2)\n",
    "    print(*sorted(d))"
   ]
  },
  {
   "cell_type": "code",
   "execution_count": 12,
   "id": "0ccc6787-efe6-458f-aae4-651c99c5b6ad",
   "metadata": {},
   "outputs": [
    {
     "name": "stdin",
     "output_type": "stream",
     "text": [
      " tran thi quynh thom\n",
      " tran thi lan anh\n"
     ]
    },
    {
     "name": "stdout",
     "output_type": "stream",
     "text": [
      "quynh thom\n"
     ]
    }
   ],
   "source": [
    "# Xuat hien xau 1 khong co trg xau 2\n",
    "if __name__ == '__main__':\n",
    "    s = input().lower()\n",
    "    t = input().lower()\n",
    "    set1 = set(s.split())\n",
    "    set2 = set(t.split())\n",
    "    d = set1.difference(set2)\n",
    "    print(*sorted(d))"
   ]
  },
  {
   "cell_type": "code",
   "execution_count": 21,
   "id": "4705175e-373f-4f51-ac6d-21d331fefa0c",
   "metadata": {},
   "outputs": [
    {
     "name": "stdin",
     "output_type": "stream",
     "text": [
      " 4\n",
      "  28tech dsa cpp learn\n"
     ]
    },
    {
     "name": "stdout",
     "output_type": "stream",
     "text": [
      "learndsacpp28tech\n"
     ]
    }
   ],
   "source": [
    "# noi 2 xau theo tu dien tang dan \n",
    "# phai su dung cmp thay vi sorted ngc laij vi \n",
    "# VD: ch 2 xau : bca vs bc: thu tu sai: bcabc, thu tu dung bcbac\n",
    "#CACH 1\n",
    "if __name__ == '__main__':\n",
    "    n = int(input())\n",
    "    a = input().split()\n",
    "\n",
    "    # Sắp xếp danh sách dựa trên tổ hợp nối x+y và y+x\n",
    "    a.sort(key=lambda x: x * 1000, reverse=True)\n",
    "'''\n",
    "x * 1000: Nhân chuỗi lên nhiều lần để tạo thành chuỗi dài, đảm bảo so sánh đúng thứ tự nối.\n",
    "reverse=True: Đảo ngược kết quả để sắp xếp giảm dần (từ lớn đến nhỏ).\n",
    "'''\n",
    "    # Ghép nối các từ đã sắp xếp thành chuỗi cuối\n",
    "    result = ''.join(a)\n",
    "    print(result)\n"
   ]
  },
  {
   "cell_type": "code",
   "execution_count": 20,
   "id": "59e181b5-840d-4335-ab10-5248d38bb360",
   "metadata": {},
   "outputs": [
    {
     "name": "stdin",
     "output_type": "stream",
     "text": [
      " 2\n",
      " bca bc\n"
     ]
    },
    {
     "name": "stdout",
     "output_type": "stream",
     "text": [
      "bcbca\n"
     ]
    }
   ],
   "source": [
    "from functools import cmp_to_key\n",
    "\n",
    "def ss(a,b):\n",
    "    ab = a+b\n",
    "    ba = b + a\n",
    "    if ab> ba:\n",
    "        return -1\n",
    "    else:\n",
    "        return 1\n",
    "        \n",
    "if __name__ == '__main__':\n",
    "    n = int(input())\n",
    "    a = input().split()\n",
    "    a.sort(key =cmp_to_key(ss))\n",
    "    print(''.join(a))"
   ]
  },
  {
   "cell_type": "code",
   "execution_count": 45,
   "id": "a1d11f03-ca11-451d-8269-a629b2224238",
   "metadata": {},
   "outputs": [
    {
     "name": "stdin",
     "output_type": "stream",
     "text": [
      " abcdaa\n"
     ]
    },
    {
     "name": "stdout",
     "output_type": "stream",
     "text": [
      "6\n"
     ]
    }
   ],
   "source": [
    "#c1: \n",
    "from math import comb\n",
    "\n",
    "if __name__ == \"__main__\":\n",
    "    s = input()\n",
    "    d = {}\n",
    "    \n",
    "    # Đếm tần suất xuất hiện của mỗi ký tự\n",
    "    for x in s:\n",
    "        d[x] = d.get(x, 0) + 1\n",
    "    \n",
    "    # Tính tổng số xâu con\n",
    "    result = 0\n",
    "    for freq in d.values():\n",
    "        result += freq * (freq + 1) // 2  # Tính tổng số xâu con với ký tự đầu và cuối giống nhau\n",
    "    \n",
    "    print(result)\n"
   ]
  },
  {
   "cell_type": "code",
   "execution_count": 33,
   "id": "30b3fd54-527a-498e-9bfb-4fe08092af56",
   "metadata": {},
   "outputs": [
    {
     "data": {
      "text/plain": [
       "10"
      ]
     },
     "execution_count": 33,
     "metadata": {},
     "output_type": "execute_result"
    }
   ],
   "source": [
    "from math import *\n",
    "comb(5,2)"
   ]
  },
  {
   "cell_type": "code",
   "execution_count": 34,
   "id": "6cf6c3b6-e970-4000-9e52-327a8cbd4528",
   "metadata": {},
   "outputs": [
    {
     "name": "stdin",
     "output_type": "stream",
     "text": [
      " abcdaa\n"
     ]
    },
    {
     "name": "stdout",
     "output_type": "stream",
     "text": [
      "9\n"
     ]
    }
   ],
   "source": [
    "#c2\n",
    "#CO DAU CUOI KI TU GIONG NHAU \n",
    "from math import*\n",
    "if __name__ == '__main__':\n",
    "    s = input()\n",
    "    cnt = [0] *256\n",
    "    for x in s:\n",
    "        cnt[ord(x)] +=1\n",
    "    ans = len(s)\n",
    "    for i in range(256):\n",
    "        if cnt[i] >1:\n",
    "            ans += comb(cnt[i],2)\n",
    "            #ans = cnt[i] * (cnt[[i] -1) // 2\n",
    "    print(ans)"
   ]
  },
  {
   "cell_type": "code",
   "execution_count": 36,
   "id": "1bde65c6-5491-4c00-8a6b-94dc1fea791a",
   "metadata": {},
   "outputs": [
    {
     "name": "stdin",
     "output_type": "stream",
     "text": [
      " 4 16\n"
     ]
    },
    {
     "name": "stdout",
     "output_type": "stream",
     "text": [
      "1069\n",
      "9700\n"
     ]
    }
   ],
   "source": [
    "#m la so luong chu so , s la tong mà moi chu so cua m co the tao duoc\n",
    "from math import*\n",
    "\n",
    "if __name__ == '__main__':\n",
    "    m,s = map(int,input().split())\n",
    "    lon, be = [0]*m, [0]*m\n",
    "    if s > 9 * m or ( s == 0 and m > 1):\n",
    "        print('NOT FOUND')\n",
    "    else:\n",
    "        t = s\n",
    "        for i in range(m):\n",
    "            if s >= 9:\n",
    "                lon[i] = 9\n",
    "                s -= 9\n",
    "            else:\n",
    "                lon[i] = s\n",
    "                s = 0\n",
    "        #tinh so be, vi so be nhat phai bat dau bang 1 nen de danh 1 dv\n",
    "        t-=1\n",
    "        for i in range (m-1, 0,-1):\n",
    "            if t >= 9:\n",
    "                be[i]=9\n",
    "                t -=9\n",
    "            else:\n",
    "                be[i] = t\n",
    "                t = 0\n",
    "        be[0] = t + 1\n",
    "        print(*be, sep = '')\n",
    "        print(*lon,sep ='')\n"
   ]
  },
  {
   "cell_type": "code",
   "execution_count": 44,
   "id": "afe539ae-b531-4958-8661-a318cbbfa336",
   "metadata": {},
   "outputs": [
    {
     "name": "stdin",
     "output_type": "stream",
     "text": [
      " aaabcdzzz\n"
     ]
    },
    {
     "name": "stdout",
     "output_type": "stream",
     "text": [
      "zzz\n"
     ]
    }
   ],
   "source": [
    "# xau lien ke co do dai lon nhat \n",
    "s = input()\n",
    "s+= '#' # ki tu lon  ngoai chu cai \n",
    "dem, t = 1, s[0]  # Bắt đầu từ ký tự đầu tiên\n",
    "res, ans = 1, s[0]  # Kết quả ban đầu\n",
    "\n",
    "for i in range(1, len(s)):\n",
    "    if s[i] == s[i - 1]:  # Nếu ký tự giống ký tự trước đó\n",
    "        dem += 1\n",
    "        t += s[i]\n",
    "    else:  # Ký tự khác ký tự trước đó\n",
    "        if dem > res or (dem == res and t > ans):  # Cập nhật kết quả nếu cần\n",
    "            res = dem\n",
    "            ans = t\n",
    "        dem = 1  # Reset đếm\n",
    "        t = s[i]  # Reset chuỗi con\n",
    "\n",
    "# Xử lý chuỗi cuối cùng\n",
    "if dem > res or (dem == res and t > ans):\n",
    "    ans = t\n",
    "\n",
    "print(ans)\n"
   ]
  },
  {
   "cell_type": "code",
   "execution_count": 48,
   "id": "0612a85b-6d7e-4fcd-802a-2424c55b6220",
   "metadata": {},
   "outputs": [
    {
     "name": "stdin",
     "output_type": "stream",
     "text": [
      " zzaabcc28tech\n"
     ]
    },
    {
     "name": "stdout",
     "output_type": "stream",
     "text": [
      "c28tech\n"
     ]
    }
   ],
   "source": [
    "# cac ki tu canh nhau khoac nhau\n",
    "s = input()\n",
    "s += s[-1] # ki tu nho  ngoai chu cai \n",
    "dem , t = 1, s[0]\n",
    "res, ans = 1, s[0]\n",
    "for i in range (1, len(s)):\n",
    "    if s[i] != s[i -1 ]: \n",
    "        dem += 1\n",
    "        t +=s[i]\n",
    "    else:\n",
    "        if dem > res:\n",
    "            res = dem \n",
    "            ans = t\n",
    "        elif dem == res:\n",
    "            if t > ans : ans = t\n",
    "        dem = 1\n",
    "        t = s[i]\n",
    "print(ans)\n"
   ]
  },
  {
   "cell_type": "code",
   "execution_count": 54,
   "id": "5876eda9-7b53-4b77-88e0-4fcd626e5256",
   "metadata": {},
   "outputs": [
    {
     "name": "stdin",
     "output_type": "stream",
     "text": [
      " abc123bba567ajsj50kkf099x28tech\n"
     ]
    },
    {
     "name": "stdout",
     "output_type": "stream",
     "text": [
      "567\n"
     ]
    }
   ],
   "source": [
    "# so lon nhat xuat hien trong xau , neu co so 0 ow trc thi loai bo cac chu 0 do \n",
    "\n",
    "if __name__ == '__main__':\n",
    "    s = input()\n",
    "    t = ''\n",
    "    for x in s:\n",
    "        if x.isalpha(): t += ' '\n",
    "        else:  t+= x\n",
    "    a = list(map(int,t.split()))\n",
    "    print(max(a))\n"
   ]
  },
  {
   "cell_type": "code",
   "execution_count": 80,
   "id": "5a430cb2-74d8-4d93-be3a-3126dd55d286",
   "metadata": {},
   "outputs": [
    {
     "name": "stdin",
     "output_type": "stream",
     "text": [
      " abcd123aad22a05\n"
     ]
    },
    {
     "name": "stdout",
     "output_type": "stream",
     "text": [
      "[123, 22, 5]\n",
      "150\n"
     ]
    }
   ],
   "source": [
    "#tong cac so trong xau\n",
    "s = input()\n",
    "t = ''\n",
    "\n",
    "for x in s:\n",
    "    if not x.isalpha():\n",
    "        t += x\n",
    "    else: t += ' '\n",
    "\n",
    "a = list(map(int, t.split()))\n",
    "#print(a)\n",
    "ans = sum(a)\n",
    "print(ans)\n"
   ]
  },
  {
   "cell_type": "code",
   "execution_count": 94,
   "id": "391e3d47-dfe1-47b6-a90c-addd3eeb68d8",
   "metadata": {},
   "outputs": [
    {
     "name": "stdin",
     "output_type": "stream",
     "text": [
      " 123abcda234kkf11tech28\n"
     ]
    },
    {
     "name": "stdout",
     "output_type": "stream",
     "text": [
      "2823412311\n"
     ]
    }
   ],
   "source": [
    "# ghep duoc thanh so lon nhat:\n",
    "#vd: 123 234 11 28 thi phai la 28 234 123 11\n",
    "# chu khong phai 234 123 28 11 nen k soterd ngc lai dc\n",
    "from functools import cmp_to_key\n",
    "def ss(a,b):\n",
    "    ab = a+ b\n",
    "    ba = b + a\n",
    "    if ab > ba: return -1\n",
    "    else: return 1\n",
    "        \n",
    "s = input()\n",
    "t = ''\n",
    "for x in s:\n",
    "    if x.isalpha(): t += ' '\n",
    "    else:  t += x\n",
    "a = list(map(int,t.split()))\n",
    "b= list(map(str,a))\n",
    "b.sort(key = cmp_to_key(ss))\n",
    "print(*b, sep='') "
   ]
  },
  {
   "cell_type": "code",
   "execution_count": 100,
   "id": "acb94768-2161-4819-a827-d98398714cb3",
   "metadata": {},
   "outputs": [
    {
     "name": "stdin",
     "output_type": "stream",
     "text": [
      " 123456789\n"
     ]
    },
    {
     "name": "stdout",
     "output_type": "stream",
     "text": [
      "45\n"
     ]
    }
   ],
   "source": [
    "#tong cac chu so nguyen lon \n",
    "n = input()\n",
    "s = 0\n",
    "for x in n:\n",
    "    s += int(x)\n",
    "print(s)"
   ]
  },
  {
   "cell_type": "code",
   "execution_count": 132,
   "id": "01d38d69-27ec-46be-b9b4-a047b9f81da9",
   "metadata": {},
   "outputs": [
    {
     "name": "stdin",
     "output_type": "stream",
     "text": [
      " 142\n"
     ]
    },
    {
     "name": "stdout",
     "output_type": "stream",
     "text": [
      "NO\n"
     ]
    }
   ],
   "source": [
    "#chu so va tong la chu so nguyen to \n",
    "from math import isqrt\n",
    "def nto(n):\n",
    "    if n < 2: return False\n",
    "    for i in range(2, isqrt(n) + 1):\n",
    "        if n % i == 0:\n",
    "            return False\n",
    "    return True\n",
    "\n",
    "if __name__ == '__main__':\n",
    "    n = input()\n",
    "    s = 0  \n",
    "    ok = 1\n",
    "    for x in n:\n",
    "        ok = 0\n",
    "        x = int(x)\n",
    "        if  nto(x):\n",
    "            s += x\n",
    "            ok = 1\n",
    "        else:\n",
    "            break\n",
    "    print(\"YES\" if ok and nto(s) else \"NO\")\n"
   ]
  },
  {
   "cell_type": "code",
   "execution_count": null,
   "id": "2847a977-6cf4-4c88-a079-00cf566360da",
   "metadata": {},
   "outputs": [],
   "source": []
  }
 ],
 "metadata": {
  "kernelspec": {
   "display_name": "Python 3 (ipykernel)",
   "language": "python",
   "name": "python3"
  },
  "language_info": {
   "codemirror_mode": {
    "name": "ipython",
    "version": 3
   },
   "file_extension": ".py",
   "mimetype": "text/x-python",
   "name": "python",
   "nbconvert_exporter": "python",
   "pygments_lexer": "ipython3",
   "version": "3.12.4"
  }
 },
 "nbformat": 4,
 "nbformat_minor": 5
}
