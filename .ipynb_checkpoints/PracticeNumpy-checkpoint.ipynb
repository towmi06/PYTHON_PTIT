{
 "cells": [
  {
   "cell_type": "markdown",
   "id": "bb263bda-8304-400f-951c-02df8d085a4d",
   "metadata": {},
   "source": [
    "**ex1: tao ma tran full 0 va 1**\n"
   ]
  },
  {
   "cell_type": "code",
   "execution_count": 32,
   "id": "55b9bcea-c802-4233-80d2-98dc840c2010",
   "metadata": {},
   "outputs": [
    {
     "name": "stdin",
     "output_type": "stream",
     "text": [
      " 5 5\n"
     ]
    },
    {
     "name": "stdout",
     "output_type": "stream",
     "text": [
      "[[0. 0. 0. 0. 0.]\n",
      " [0. 1. 1. 1. 0.]\n",
      " [0. 1. 1. 1. 0.]\n",
      " [0. 1. 1. 1. 0.]\n",
      " [0. 0. 0. 0. 0.]]\n",
      "\n",
      "[[0. 0. 0. 0. 0.]\n",
      " [0. 1. 1. 1. 0.]\n",
      " [0. 1. 1. 1. 0.]\n",
      " [0. 0. 0. 0. 0.]\n",
      " [0. 0. 0. 0. 0.]]\n"
     ]
    }
   ],
   "source": [
    "import numpy as np\n",
    "dong, cot = map(int, input().split())\n",
    "ar = np.ones((dong,cot))\n",
    "#c1:\n",
    "ar[0,:] = 0 # dong dau bang 0 \n",
    "ar[-1,:] = 0\n",
    "ar[:, 0] = 0\n",
    "ar[:, -1]=0\n",
    "#c2:\n",
    "a = np.zeros((dong,cot))\n",
    "a[1:-2,1:-1] = 1\n",
    "\n",
    "print(ar)\n",
    "print()\n",
    "print(a)"
   ]
  },
  {
   "cell_type": "code",
   "execution_count": 44,
   "id": "b22b88c1-cb72-4282-8dc3-170251b6a76d",
   "metadata": {},
   "outputs": [
    {
     "name": "stdin",
     "output_type": "stream",
     "text": [
      " 8 8\n"
     ]
    },
    {
     "name": "stdout",
     "output_type": "stream",
     "text": [
      "[[0. 1. 0. 1. 0. 1. 0. 1.]\n",
      " [0. 1. 0. 1. 0. 1. 0. 1.]\n",
      " [0. 1. 0. 1. 0. 1. 0. 1.]\n",
      " [0. 1. 0. 1. 0. 1. 0. 1.]\n",
      " [0. 1. 0. 1. 0. 1. 0. 1.]\n",
      " [0. 1. 0. 1. 0. 1. 0. 1.]\n",
      " [0. 1. 0. 1. 0. 1. 0. 1.]\n",
      " [1. 0. 1. 0. 1. 0. 1. 0.]]\n"
     ]
    }
   ],
   "source": [
    "#x3: viet ham bat dau tu 0 va 1 so le \n",
    "# rieng hang 8 thi 1 trc\n",
    "import numpy as np\n",
    "dong, cot = map(int,input().split())\n",
    "a = np.zeros((dong, cot))\n",
    "for i in range(a.shape[1]):#  duyet cot: shape[0]: hang; [1]: cot  \n",
    "    if i % 2 != 0: a[0: 7, i] =1\n",
    "    else: a[a.shape[0]-1,i] = 1\n",
    "print(a)"
   ]
  },
  {
   "cell_type": "code",
   "execution_count": 68,
   "id": "54f1c4be-56e7-49f9-ba49-8632d386ac58",
   "metadata": {},
   "outputs": [
    {
     "name": "stdin",
     "output_type": "stream",
     "text": [
      " 2\n",
      " 44 56\n",
      " 89 98\n"
     ]
    },
    {
     "name": "stdout",
     "output_type": "stream",
     "text": [
      "44 98\n"
     ]
    }
   ],
   "source": [
    "# xu li mang 2 chieu tim gia tri nho nhat, lon nhat \n",
    "import numpy as np\n",
    "\n",
    "n = int(input())\n",
    "a = [list(map(int,input().split())) for _ in range (n)]\n",
    "b = np.array(a)\n",
    "mi= ma  = b[0,0]\n",
    "for i in b:\n",
    "    for j in i:\n",
    "        if j < mi: mi = j\n",
    "        elif j > ma: ma = j\n",
    "print(mi, ma, sep= ' ')"
   ]
  },
  {
   "cell_type": "code",
   "execution_count": 7,
   "id": "7a3974c8-ea31-4bdc-91e2-d4800f543cb5",
   "metadata": {},
   "outputs": [
    {
     "name": "stdin",
     "output_type": "stream",
     "text": [
      " 3\n",
      " 1 2 3\n",
      " 4 5 6\n",
      " 7 8 9\n"
     ]
    },
    {
     "name": "stdout",
     "output_type": "stream",
     "text": [
      "(1, 4, 7)\n",
      "\n",
      "[[3 2 1]\n",
      " [6 5 4]\n",
      " [9 8 7]]\n"
     ]
    }
   ],
   "source": [
    " # sắp xếp và đổi vị tri\n",
    "import numpy as np\n",
    "n = int(input())\n",
    "ar = [list(map(int, input().split())) for _ in range (n)]\n",
    "a = np.array(ar)\n",
    "# doi cot t0 cho cot cuoi\n",
    "b = tuple(a[:,0])# cot dau tien lay tat ca hang \n",
    "a[:,0] = a[:,-1] \n",
    "a[:,-1] = b\n",
    "print(b)\n",
    "print()\n",
    "print(a)"
   ]
  },
  {
   "cell_type": "code",
   "execution_count": 9,
   "id": "878f7c7f-16ac-4a59-93ab-ad1a97f7392e",
   "metadata": {},
   "outputs": [
    {
     "name": "stdin",
     "output_type": "stream",
     "text": [
      " 3\n",
      " 11 2 3\n",
      " 4 5 6\n",
      " 7 8 9\n"
     ]
    },
    {
     "name": "stdout",
     "output_type": "stream",
     "text": [
      "(11, 2, 3) \n",
      "\n",
      "[[ 4  5  6]\n",
      " [11  2  3]\n",
      " [ 7  8  9]]\n"
     ]
    }
   ],
   "source": [
    "# doi cho 2 hang \n",
    "import numpy as np\n",
    "n = int(input())\n",
    "ar = [list(map(int,input().split())) for _ in range(n)]\n",
    "a = np.array(ar)\n",
    "b = tuple(a[0,:])\n",
    "a[0,:] = a[1,:]\n",
    "a[1,:] = b\n",
    "print(b, '\\n')\n",
    "print(a)"
   ]
  },
  {
   "cell_type": "code",
   "execution_count": 29,
   "id": "fb77ada6-a9c8-433a-ab8b-978dd54d18ca",
   "metadata": {},
   "outputs": [
    {
     "name": "stdin",
     "output_type": "stream",
     "text": [
      " 3\n",
      " 1 2\n",
      " 3 4\n",
      " 5 6\n"
     ]
    },
    {
     "name": "stdout",
     "output_type": "stream",
     "text": [
      "[[1. 3. 5.]\n",
      " [2. 4. 6.]]\n",
      "6.0\n",
      "3.5\n",
      "3.5\n"
     ]
    }
   ],
   "source": [
    "# ma tran chuyen vi \n",
    "import numpy as np\n",
    "\n",
    "n = int(input())\n",
    "a = [list(map(int, input().split())) for _ in range (n)]\n",
    "a = np.array(a)\n",
    "cvi = np.zeros((a.shape[1], a.shape[0]))\n",
    "cnt =0\n",
    "for row in a:\n",
    "    cvi[:, cnt] = row\n",
    "    cnt +=1\n",
    "    \n",
    "print(cvi)\n",
    "print(cvi.max())\n",
    "print(np.median(cvi))\n",
    "print(cvi.mean())"
   ]
  },
  {
   "cell_type": "code",
   "execution_count": null,
   "id": "67a38293-e188-4d4f-a7ec-0806bbf9239a",
   "metadata": {},
   "outputs": [],
   "source": []
  }
 ],
 "metadata": {
  "kernelspec": {
   "display_name": "Python 3 (ipykernel)",
   "language": "python",
   "name": "python3"
  },
  "language_info": {
   "codemirror_mode": {
    "name": "ipython",
    "version": 3
   },
   "file_extension": ".py",
   "mimetype": "text/x-python",
   "name": "python",
   "nbconvert_exporter": "python",
   "pygments_lexer": "ipython3",
   "version": "3.12.4"
  }
 },
 "nbformat": 4,
 "nbformat_minor": 5
}
