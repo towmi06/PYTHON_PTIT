{
 "cells": [
  {
   "cell_type": "code",
   "execution_count": null,
   "id": "b77c821e-e03a-4e52-890b-f697f6810aa5",
   "metadata": {},
   "outputs": [],
   "source": [
    "#list in python \n",
    "a = [10, 20, 30, 40, 50, 60, 70, 80]\n",
    "a[2: 5] = [100]  => OUTPUT[10, 20, 100, 60,70, 80]\n",
    "a[2: 5] = [1,2, 3] => OUTPUT [10, 20, 1, 2, 3, 60, 70, 80]\n",
    "a[2, 5] = [ ] => OUTPUT [10, 20, 60, 70, 80]"
   ]
  },
  {
   "cell_type": "code",
   "execution_count": null,
   "id": "f9ecf69e-aa01-4bcc-98e0-b2a3693ec4f5",
   "metadata": {},
   "outputs": [],
   "source": [
    "a = [10, 20, 30, 40, 50, 60, 70, 80]\n",
    "a[: 0] = [1, 2, 3] # chen vao vi tri dau tien \n",
    "a[len[a]: ] = [1,2,3] # chen vao vi tri cuoi cung sau 80\n"
   ]
  },
  {
   "cell_type": "code",
   "execution_count": 2,
   "id": "6abab4cd-53e7-4e15-b8d7-addb81bf1f52",
   "metadata": {},
   "outputs": [],
   "source": [
    "#lambda function: de dinh nghia ham trg PY\n",
    "# la 1 cach de dinh nghia ham vo danh, ham k can ten \n",
    "# duowc dung khi xd nhung ham chi bao gom 1 cau len -> deung def qua dai dong va thua \n",
    "# cu phap: lambda parameters (tham so): expression (cau lenh) \n",
    "\n",
    "func = lambda x: x *2\n",
    "print(func(10))\n",
    "res = (lambda x : x **2)(10) # 10: truyen 10 vao x\n",
    "print(res)"
   ]
  },
  {
   "cell_type": "code",
   "execution_count": null,
   "id": "71618f72-9df9-499f-9c03-9605f8a03d11",
   "metadata": {},
   "outputs": [],
   "source": [
    "#list comprehension \n",
    "a = [1,2,3,4,5,6]\n",
    "b = [x + 3 for x in a]\n",
    "print (b)"
   ]
  },
  {
   "cell_type": "code",
   "execution_count": 20,
   "id": "80647913-1f65-4d68-860f-6d4c8ca2a6c4",
   "metadata": {},
   "outputs": [
    {
     "name": "stdout",
     "output_type": "stream",
     "text": [
      " 1\n",
      " 3\n"
     ]
    },
    {
     "name": "stdout",
     "output_type": "stream",
     "text": [
      "3 "
     ]
    }
   ],
   "source": [
    "#Liệt kê, đem các phần tử thỏa mãn tính chất nào đó trong list\n",
    "#Dang 1: kiem tra cac phan tử trong list thỏa mãn dk \n",
    "#Dạng 2: tìm min, max: O(n)\n",
    "#Dang 3: Kiem tra cac cap phan tu trong list thoa man dk gi do \n",
    "\n",
    "from math import*\n",
    "#1:\n",
    "def nto(n):\n",
    "    if n <2:\n",
    "        return 0\n",
    "    for i in range ( 2, isqrt(n) + 1):\n",
    "        if n % i == 0:\n",
    "            return 0\n",
    "    return 1\n",
    "\n",
    "if __name__ == '__main__':\n",
    "    n = int(input())\n",
    "    a = list(map(int,input().split()))\n",
    "    for x in a :\n",
    "        if nto(x):\n",
    "            print(x, end=' ')\n",
    "    \n",
    "# dang 2: min max: co the sd ham co san \n",
    "if __name__ == '__main__':\n",
    "    n = int(input())\n",
    "    a = list(map(int,input().split()))\n",
    "    min_value = 10 ** 18\n",
    "    max_value = -10**18\n",
    "    for x in a:\n",
    "        if x < min_value: min_value = x \n",
    "        if x > max_value: max_value = x\n",
    "    print(min_value, max_value)\n",
    "\n",
    "#Dang 3: Kiem tra cac cap phan tu trong list thoa man dk gi do\n",
    "# vd: cac cap co UCLN = 1,..; uoc ngto cx nhau,...\n",
    "# Dung 2 vong for long nhau \n",
    "# VD: 3 8 4: DUYET 3: (3,8), ( 3,4); DUYET 8 (8,4)\n",
    "\n",
    "if __name__ == '__main__':\n",
    "    n = int(input())\n",
    "    a = list(map(int,input().split()))\n",
    "    dem = 0\n",
    "    for i in range (n):\n",
    "        #d oi voi moi chi so i => duyet cac chi so i + 1 den n-1\n",
    "        for j in range(i +1, n):\n",
    "            # nguyen to cung nhau\n",
    "            if gcd(a[i], a[j]) == 1:\n",
    "                dem += 1\n",
    "    print (dem)"
   ]
  },
  {
   "cell_type": "markdown",
   "id": "9d75ad86-92b3-4828-b494-a298ab5c66c0",
   "metadata": {},
   "source": [
    "Mảng đánh dấu "
   ]
  },
  {
   "cell_type": "code",
   "execution_count": 52,
   "id": "524c57ca-30be-470e-ae03-93e6c7386169",
   "metadata": {},
   "outputs": [
    {
     "name": "stdout",
     "output_type": "stream",
     "text": [
      " 9\n",
      " 9 8 6 5 2 1 6 7 9\n"
     ]
    },
    {
     "name": "stdout",
     "output_type": "stream",
     "text": [
      "1 1\n",
      "2 1\n",
      "5 1\n",
      "6 2\n",
      "7 1\n",
      "8 1\n",
      "9 2\n",
      "\n",
      "9 2\n",
      "8 1\n",
      "6 2\n",
      "5 1\n",
      "2 1\n",
      "1 1\n",
      "7 1\n"
     ]
    }
   ],
   "source": [
    "# bai toan lquan den gtri khac nhau torng mang: tim so luowng ptu khac nhau , liet ke\n",
    "# tan suat xh\n",
    "# chi ap dung voi nhung phan tu 0 <= x <= 10**17\n",
    "# vd: cho mang a[n], dem moi ptu trong mang xh bao nhieu lan \n",
    "\n",
    "if __name__ == '__main__':\n",
    "    a = int(input())\n",
    "    a = list(map(int,input().split()))\n",
    "    cnt =[0] * 10000001 # 0=> 10^7\n",
    "    for x in a:\n",
    "        cnt[x] += 1\n",
    "    left, right = min(a), max(a)\n",
    "    for i in range ( left, right +1):\n",
    "        if cnt [i] != 0:\n",
    "            print(i, cnt[i])\n",
    "    print()\n",
    "    # in theo thu tu xh:\n",
    "    for x in a:\n",
    "        if cnt[x] != 0:\n",
    "            print (x, cnt[x])\n",
    "            cnt[x] = 0"
   ]
  },
  {
   "cell_type": "code",
   "execution_count": 84,
   "id": "386e483c-c6a3-46f1-8f88-7900eb2f980c",
   "metadata": {},
   "outputs": [
    {
     "name": "stdout",
     "output_type": "stream",
     "text": [
      " 6\n",
      "  1 3 5 1 4 3\n"
     ]
    },
    {
     "name": "stdout",
     "output_type": "stream",
     "text": [
      "4\n",
      "1 3 4 5 \n",
      "1 3 5 4 \n"
     ]
    }
   ],
   "source": [
    "# mang danh dau kiem tra ptu nao xuat hien hay khong \n",
    "if __name__ == '__main__':\n",
    "    n = int(input())\n",
    "    a = list(map(int, input().split()))\n",
    "    cnt = [0] * 10000007\n",
    "    for x in a:\n",
    "        cnt [x] = 1 # x da xh \n",
    "    l, r = min(a), max(a)\n",
    "     # Đếm số các số khác nhau\n",
    "    dem = 0\n",
    "    for i in range(l, r + 1):\n",
    "        if cnt[i] != 0:\n",
    "            dem += 1\n",
    "    print(dem)\n",
    "    # In các số khác nhau theo thứ tự từ nhỏ đến lớn\n",
    "    for i in range(l, r + 1):\n",
    "        if cnt[i] == 1:\n",
    "            print(i, end=' ')\n",
    "    print()\n",
    "    # In các số khác nhau theo thứ tự xuất hiện\n",
    "    for x in a:\n",
    "        if cnt[x] != 0:\n",
    "            print(x, end=' ')\n",
    "            cnt[x] = 0  # Đảm bảo mỗi số chỉ được in một lần\n",
    "    print() "
   ]
  },
  {
   "cell_type": "markdown",
   "id": "7ad164f3-0377-41ff-9661-47335222e5a2",
   "metadata": {},
   "source": [
    "Luyen code "
   ]
  },
  {
   "cell_type": "code",
   "execution_count": 89,
   "id": "6b65c35f-dd15-4dec-a46c-12be60081bd9",
   "metadata": {},
   "outputs": [
    {
     "name": "stdout",
     "output_type": "stream",
     "text": [
      " 6\n",
      " -711 327 372 779 451 -864\n"
     ]
    },
    {
     "name": "stdout",
     "output_type": "stream",
     "text": [
      "2\n",
      "4\n",
      "-492\n",
      "846\n"
     ]
    }
   ],
   "source": [
    "#tinh chan le \n",
    "\n",
    "if __name__ == '__main__':\n",
    "    n = int(input())\n",
    "    a = list(map(int,input().split()))\n",
    "    chan, le, tongChan, tongLe = 0, 0, 0 ,0\n",
    "    for i in a:\n",
    "        if i % 2 == 0:\n",
    "            chan += 1\n",
    "            tongChan += i\n",
    "        else:\n",
    "            le += 1;\n",
    "            tongLe+= i\n",
    "    print(chan, le, tongChan, tongLe, sep = '\\n')"
   ]
  },
  {
   "cell_type": "code",
   "execution_count": 99,
   "id": "405ded35-91e4-4109-96bf-8fa8cce560a1",
   "metadata": {},
   "outputs": [
    {
     "name": "stdout",
     "output_type": "stream",
     "text": [
      " 3\n",
      " 1 2 5\n"
     ]
    },
    {
     "name": "stdout",
     "output_type": "stream",
     "text": [
      "3.500\n"
     ]
    }
   ],
   "source": [
    "# TBC nto\n",
    "from math import*\n",
    "def nt(n):\n",
    "    if n < 2: return 0\n",
    "    for i in range ( 2, isqrt(n) + 1):\n",
    "       if n % i == 0:\n",
    "           return 0\n",
    "    return 1\n",
    "\n",
    "if __name__ == '__main__':\n",
    "    n = int(input())\n",
    "    a = list(map(int,input().split()))\n",
    "    dem = 0\n",
    "    sum = 0\n",
    "    for i in a:\n",
    "        if nt(i):\n",
    "            dem += 1\n",
    "            sum += i\n",
    "    print ( f\"{(sum/dem):.3f}\")"
   ]
  },
  {
   "cell_type": "code",
   "execution_count": 4,
   "id": "43488fe3-5e7e-4faf-b690-c190c8acdd94",
   "metadata": {},
   "outputs": [
    {
     "name": "stdout",
     "output_type": "stream",
     "text": [
      " 6\n",
      " 1 2 3 1 1 6\n"
     ]
    },
    {
     "name": "stdout",
     "output_type": "stream",
     "text": [
      "3\n",
      "3\n"
     ]
    }
   ],
   "source": [
    "n = int(input())\n",
    "a = list(map(int,input().split()))\n",
    "dem = 0\n",
    "# c1\n",
    "print(a.count(min(a)))\n",
    "#c2:\n",
    "for i in a:\n",
    "    if i == min(a):\n",
    "        dem += 1\n",
    "print(dem)"
   ]
  },
  {
   "cell_type": "code",
   "execution_count": 9,
   "id": "f353b956-3faa-40e0-aea5-6abea6024e9d",
   "metadata": {},
   "outputs": [
    {
     "name": "stdout",
     "output_type": "stream",
     "text": [
      " 5\n",
      " -798 183 434 850 555 \n",
      " 135\n"
     ]
    },
    {
     "name": "stdout",
     "output_type": "stream",
     "text": [
      "1\n",
      "4\n"
     ]
    }
   ],
   "source": [
    "from math import*\n",
    "\n",
    "if __name__ == '__main__':\n",
    "    n = int(input())\n",
    "    a = list(map(int,input().split()))\n",
    "    x = int(input())\n",
    "    lon, be = 0,0\n",
    "    for i in a:\n",
    "        if i < x: be += 1\n",
    "        if i > x: lon += 1\n",
    "    print(be, lon, sep = '\\n')"
   ]
  },
  {
   "cell_type": "code",
   "execution_count": 19,
   "id": "9ee953b4-c441-4544-86d1-be76fdeb674e",
   "metadata": {},
   "outputs": [
    {
     "name": "stdout",
     "output_type": "stream",
     "text": [
      " 5\n",
      " -971 107 458 222 200\n"
     ]
    },
    {
     "name": "stdout",
     "output_type": "stream",
     "text": [
      "458 200 "
     ]
    }
   ],
   "source": [
    "n = int(input())\n",
    "a = list(map(int, input().split()))\n",
    "\n",
    "found = False #danh dau xem co cai nao thoa mam k \n",
    "\n",
    "for i in range(n):\n",
    "    # Kiểm tra nếu phần tử là số chẵn và có chỉ số chẵn\n",
    "    if i % 2 == 0 and a[i] % 2 == 0:\n",
    "        print(a[i], end=' ')\n",
    "        found = True\n",
    "if not found:\n",
    "    print(\"NONE\")\n"
   ]
  },
  {
   "cell_type": "code",
   "execution_count": 37,
   "id": "62142440-afb3-4559-97ce-25f3d53562f6",
   "metadata": {},
   "outputs": [
    {
     "name": "stdout",
     "output_type": "stream",
     "text": [
      " 5\n",
      " 1 2 3 1 2\n",
      " 3\n"
     ]
    },
    {
     "name": "stdout",
     "output_type": "stream",
     "text": [
      "4\n"
     ]
    }
   ],
   "source": [
    "#dem cap so 1\n",
    "if __name__ == '__main__':\n",
    "    n = int(input())\n",
    "    a = list(map(int,input().split()))\n",
    "    k = int(input())\n",
    "    dem = 0\n",
    "    for i in range(n):\n",
    "        for j in range ( i + 1, n):\n",
    "            if a[i] + a[j] == k:\n",
    "                dem += 1\n",
    "    print(dem)"
   ]
  },
  {
   "cell_type": "code",
   "execution_count": 41,
   "id": "21bad738-a3ce-4ad6-8c20-72284923846d",
   "metadata": {},
   "outputs": [
    {
     "name": "stdout",
     "output_type": "stream",
     "text": [
      " 8\n",
      " 69 96 93 27 84 32 78 56\n"
     ]
    },
    {
     "name": "stdout",
     "output_type": "stream",
     "text": [
      "3\n"
     ]
    }
   ],
   "source": [
    "# tìm độ chênh lệch nhỏ nhất giữa 2 phần tử trong mảng.\n",
    "from math import*\n",
    "if __name__ == '__main__':\n",
    "    n = int(input())\n",
    "    a = list(map(int,input().split()))\n",
    "    minV = 100000007\n",
    "    for i in range (n):\n",
    "        for j in range ( i +1, n):\n",
    "            m = fabs(a[j] - a[i])\n",
    "            if m < minV: minV = m\n",
    "    print(int(minV))"
   ]
  },
  {
   "cell_type": "code",
   "execution_count": 13,
   "id": "e636691a-fb3b-44f4-9750-c2a1e301aefd",
   "metadata": {},
   "outputs": [
    {
     "name": "stdout",
     "output_type": "stream",
     "text": [
      " 5\n",
      " 53 5 69 47 19\n"
     ]
    },
    {
     "name": "stdout",
     "output_type": "stream",
     "text": [
      "3 "
     ]
    }
   ],
   "source": [
    "#Can bang nguyen to \n",
    "from math import*\n",
    "def nt(n):\n",
    "    if n < 2:\n",
    "        return 0\n",
    "    for i in range ( 2, isqrt(n) +1):\n",
    "        if n % i == 0: return 0\n",
    "    return 1\n",
    "\n",
    "if __name__ == '__main__':\n",
    "    n = int(input())\n",
    "    a = list(map(int, input().split()))\n",
    "\n",
    "    for i in range(n):\n",
    "        sumL, sumR = 0, 0\n",
    "        # Tính tổng bên trái\n",
    "        for k in range(0, i):\n",
    "            sumL += a[k]\n",
    "        # Tính tổng bên phải\n",
    "        for k in range(i + 1, n):\n",
    "            sumR += a[k]\n",
    "        \n",
    "        if nt(sumL) and nt(sumR):\n",
    "            print(i, end=' ')\n",
    "        "
   ]
  },
  {
   "cell_type": "code",
   "execution_count": 2,
   "id": "4e39741c-f0d8-4e02-b76e-24bffc036631",
   "metadata": {},
   "outputs": [
    {
     "name": "stdout",
     "output_type": "stream",
     "text": [
      " 9\n",
      " 1 2 3 4 1 2 3 4 5\n"
     ]
    },
    {
     "name": "stdout",
     "output_type": "stream",
     "text": [
      "1 2 3 4 5 "
     ]
    }
   ],
   "source": [
    "#liet ke cac so khac nhau:\n",
    "\n",
    "n = int(input())\n",
    "a = list(map(int,input().split()))\n",
    "cnt = [0] * 10000001\n",
    "for x in a:\n",
    "    if cnt[x] == 0:\n",
    "        print (x, end =' ')\n",
    "        cnt[x]=1"
   ]
  },
  {
   "cell_type": "markdown",
   "id": "f029c8ac-a066-4858-96c7-d70fde2a2956",
   "metadata": {},
   "source": [
    "QUY HOACH DONG"
   ]
  },
  {
   "cell_type": "code",
   "execution_count": 9,
   "id": "082de683-fd4b-4777-b9ed-70f6f525227f",
   "metadata": {},
   "outputs": [
    {
     "name": "stdout",
     "output_type": "stream",
     "text": [
      " 5\n",
      " 1597 25358 7318 5878 0 2634\n"
     ]
    },
    {
     "name": "stdout",
     "output_type": "stream",
     "text": [
      "1597 0 "
     ]
    }
   ],
   "source": [
    "#so fibo lke va dem \n",
    "F = [0] *100\n",
    "#sinh ra cac so fibo dau tien \n",
    "#su dung quy hoach dong\n",
    "def fibo():\n",
    "    F[0] = 0\n",
    "    F[1] = 1\n",
    "    for i in range (2, 100):\n",
    "        F[i] = F[i-1] + F[i-2]\n",
    "\n",
    "if __name__ == '__main__':\n",
    "    n = int(input())\n",
    "    a = list(map(int, input().split()))\n",
    "    fibo()\n",
    "    check = 0\n",
    "    for i in a:\n",
    "        if i in F:\n",
    "            print(i, end=' ')\n",
    "            check = 1\n",
    "    if not check:\n",
    "        print ('NONE')\n",
    "\n",
    "\n",
    "#C2:\n",
    "def fibo(max_value):\n",
    "    \"\"\"Tạo danh sách các số Fibonacci không vượt quá max_value.\"\"\"\n",
    "    F = [0, 1]\n",
    "    while True:\n",
    "        next_fib = F[-1] + F[-2]\n",
    "        if next_fib > max_value:\n",
    "            break\n",
    "        F.append(next_fib)\n",
    "    return set(F)  # Sử dụng tập hợp để kiểm tra nhanh\n",
    "\n",
    "if __name__ == '__main__':\n",
    "    n = int(input())\n",
    "    a = list(map(int, input().split()))\n",
    "    \n",
    "    # Xác định giá trị lớn nhất trong mảng để giới hạn phạm vi tạo số Fibonacci\n",
    "    max_value = max(a) if a else 0\n",
    "    \n",
    "    # Sinh ra các số Fibonacci\n",
    "    fib_set = fibo(max_value)\n",
    "    \n",
    "    check = False\n",
    "    for i in a:\n",
    "        if i in fib_set:\n",
    "            print(i, end=' ')\n",
    "            check = True\n",
    "            \n",
    "    if not check:\n",
    "        print('NONE')\n"
   ]
  },
  {
   "cell_type": "code",
   "execution_count": 12,
   "id": "e6c947e2-8ef1-47fe-b4fb-810831fadee4",
   "metadata": {},
   "outputs": [
    {
     "name": "stdout",
     "output_type": "stream",
     "text": [
      " 5\n",
      " 1597 25358 7318 5878 0 2634\n"
     ]
    },
    {
     "name": "stdout",
     "output_type": "stream",
     "text": [
      "1597 0 "
     ]
    }
   ],
   "source": [
    "#kem tra so fibo \n",
    "from math import*\n",
    "cp = lambda x: isqrt(x)** 2 == x\n",
    "fibo = lambda n: cp(5 * n * n + 4) or cp(5 * n * n - 4)\n",
    "\n",
    "if __name__ == '__main__':\n",
    "    n = int(input())\n",
    "    a = list(map(int,input().split()))\n",
    "    for i in a:\n",
    "        if fibo(i): print (i, end = ' ')"
   ]
  },
  {
   "cell_type": "code",
   "execution_count": 13,
   "id": "79498dff-0a90-4dab-8c67-2bc9959e0caa",
   "metadata": {},
   "outputs": [
    {
     "name": "stdout",
     "output_type": "stream",
     "text": [
      " 9\n",
      " 936 234 471 168 834 82 280 674 881936 234 471 168 834 82 280 674 881\n"
     ]
    },
    {
     "name": "stdout",
     "output_type": "stream",
     "text": [
      "13 8\n"
     ]
    }
   ],
   "source": [
    "#for i, val in enumerate(a):\n",
    "#i là chỉ số và val là giá trị của phần tử tại chỉ số i trong danh sách a.\n",
    "if __name__ == '__main__':\n",
    "    n = int(input())\n",
    "    a = list(map(int, input().split()))\n",
    "    \n",
    "    minV = min(a) \n",
    "    maxV = max(a) \n",
    "    \n",
    "    min_pos = -1   # Vị trí cuối cùng của giá trị nhỏ nhất\n",
    "    max_pos = -1   # Vị trí đầu tiên của giá trị lớn nhất\n",
    "    \n",
    "    for i, val in enumerate(a):\n",
    "        if val == minV:\n",
    "            min_pos = i  # Cập nhật vị trí cuối cùng của giá trị nhỏ nhất\n",
    "        if val == maxV and max_pos == -1: # Kiem tra xem neu no la so lon nhat va la -1 thi cap nhat vi tri luc do cho i \n",
    "            max_pos = i  # Lưu vị trí đầu tiên của giá trị lớn nhất\n",
    "    \n",
    "    print(min_pos, max_pos)\n"
   ]
  },
  {
   "cell_type": "code",
   "execution_count": 38,
   "id": "88d24283-be78-485e-84fd-169c8b793857",
   "metadata": {},
   "outputs": [
    {
     "name": "stdout",
     "output_type": "stream",
     "text": [
      " 6\n",
      " 997893 995053 997553 996212 998316 992144\n"
     ]
    },
    {
     "name": "stdout",
     "output_type": "stream",
     "text": [
      "5977171\n",
      "436766709\n"
     ]
    }
   ],
   "source": [
    "from math import*\n",
    "if __name__ =='__main__':\n",
    "    n = int(input())\n",
    "    a = list(map(int,input().split()))\n",
    "    mod = 10**9 + 7\n",
    "    s,t = 0,1\n",
    "    for i in a:\n",
    "        s = (s + i) % mod  # lấy dư ngay sau mỗi lần cộng\n",
    "        t = (t * i) % mod  # lấy dư ngay sau mỗi\n",
    "    print (s,t, sep = '\\n')"
   ]
  },
  {
   "cell_type": "code",
   "execution_count": 7,
   "id": "9c8d7d15-d641-400f-81ac-5448b7682962",
   "metadata": {},
   "outputs": [
    {
     "name": "stdout",
     "output_type": "stream",
     "text": [
      " 12\n",
      " 994626 994448 996097 995790 999692 993222 991401 999038 997163 990016 993004 990549\n"
     ]
    },
    {
     "name": "stdout",
     "output_type": "stream",
     "text": [
      "1\n"
     ]
    }
   ],
   "source": [
    "from math import*\n",
    "from functools import*\n",
    "\n",
    "ggcd = lambda arr : reduce(gcd, arr)\n",
    "if __name__ == '__main__':\n",
    "    n = int(input())\n",
    "    a = list(map(int, input().split()))\n",
    "    \n",
    "    result = ggcd(a)\n",
    "    print(result)\n",
    "#Cach 2: dug mang danh dau \n",
    "\n",
    "def find(a):\n",
    "    ggcd = a[0]\n",
    "    for i in a[1:]:\n",
    "        ggcd = gcd(ggcd, i)\n",
    "        if ggcd == 1:\n",
    "            break\n",
    "    return ggcd\n",
    "\n",
    "if __name__ == '__main__':\n",
    "    n = int(input())\n",
    "    a = list(map(int,input().split()))\n",
    "    print (find(a))\n",
    "     #cach khac:\n",
    "    res = 0\n",
    "    for x in a:\n",
    "        res = gcd(res,x)\n",
    "    print (res)"
   ]
  },
  {
   "cell_type": "code",
   "execution_count": 15,
   "id": "d1e2b6a2-5549-49be-b54b-097968a2d8e4",
   "metadata": {},
   "outputs": [
    {
     "name": "stdout",
     "output_type": "stream",
     "text": [
      " 5\n",
      " 1 5 5 4 5\n"
     ]
    },
    {
     "name": "stdout",
     "output_type": "stream",
     "text": [
      "5 5\n"
     ]
    }
   ],
   "source": [
    "#so lon nhat, lon thu 2\n",
    "from math import*\n",
    "\n",
    "if __name__ == '__main__':\n",
    "    n = int(input())\n",
    "    a =list(map(int,input().split()))\n",
    "    b = sorted(a)\n",
    "    print ( b[n-1],b[n -2])"
   ]
  },
  {
   "cell_type": "code",
   "execution_count": 25,
   "id": "50ad969c-bfbe-4142-814d-85b2a3987ce4",
   "metadata": {},
   "outputs": [
    {
     "name": "stdout",
     "output_type": "stream",
     "text": [
      " 6\n",
      " 4 1682 5972 6331 9872 3956\n"
     ]
    },
    {
     "name": "stdout",
     "output_type": "stream",
     "text": [
      "0\n",
      "1\n",
      "1\n",
      "4\n"
     ]
    }
   ],
   "source": [
    "from math import*\n",
    "\n",
    "def nto(n):\n",
    "    if n < 2:\n",
    "        return 0\n",
    "    for i in range(2, isqrt(n) + 1):\n",
    "        if n % i == 0:\n",
    "            return 0\n",
    "    return 1\n",
    "\n",
    "if __name__ == '__main__':\n",
    "    n = int(input())\n",
    "    a = list(map(int, input().split()))\n",
    "    cnt1, cnt2, cnt3, cnt4 = 0, 0, 0, 0\n",
    "    \n",
    "    for i in a:\n",
    "        # Kiểm tra số nguyên tố\n",
    "        if nto(i):\n",
    "            cnt1 += 1\n",
    "        \n",
    "        # Kiểm tra số đối xứng (số thuận nghịch)\n",
    "        str_i = str(i)  # Chuyển số i thành chuỗi để dễ kiểm tra đối xứng\n",
    "        if str_i == str_i[::-1]:  # So sánh chuỗi với chuỗi đảo ngược của nó\n",
    "            cnt2 += 1  # Tăng biến đếm nếu i là số đối xứng\n",
    "        \n",
    "        # Kiểm tra số chính phương\n",
    "        if isqrt(i) ** 2 == i:\n",
    "            cnt3 += 1\n",
    "        \n",
    "        # Tính tổng chữ số và kiểm tra số nguyên tố\n",
    "        s = sum(int(digit) for digit in str(i))\n",
    "        if nto(s):\n",
    "            cnt4 += 1\n",
    "    \n",
    "    print(cnt1, cnt2, cnt3, cnt4, sep='\\n')\n"
   ]
  },
  {
   "cell_type": "code",
   "execution_count": 31,
   "id": "27f2ccca-3750-4498-a24f-f5f437c06e18",
   "metadata": {},
   "outputs": [
    {
     "name": "stdout",
     "output_type": "stream",
     "text": [
      " 5\n",
      " 1 2 3 2 1\n"
     ]
    },
    {
     "name": "stdout",
     "output_type": "stream",
     "text": [
      "YES\n"
     ]
    }
   ],
   "source": [
    "#Mang doi xung \n",
    "from math import*\n",
    "n = int(input())\n",
    "a = list(map(int, input().split()))\n",
    "b = a[::-1]\n",
    "#khog dung reverse vi se thay doi mang a \n",
    "print('YES' if b == a else 'NO')"
   ]
  },
  {
   "cell_type": "code",
   "execution_count": 37,
   "id": "169dc7f6-b6ee-42b5-ace4-d2fe4e39db67",
   "metadata": {},
   "outputs": [
    {
     "name": "stdout",
     "output_type": "stream",
     "text": [
      " 10\n",
      " 1 2 -3 -4 5 -6 7 8 9 10\n"
     ]
    },
    {
     "name": "stdout",
     "output_type": "stream",
     "text": [
      "2 -3 -4 5 -6 7\n"
     ]
    }
   ],
   "source": [
    "if __name__ == '__main__':\n",
    "    n = int(input())\n",
    "    a = list(map(int, input().split()))\n",
    "    b = []\n",
    "\n",
    "    for i in range(n):\n",
    "        # Kiểm tra số bên trái\n",
    "        if i > 0 and a[i - 1] * a[i] < 0:\n",
    "            if a[i] not in b:\n",
    "                b.append(a[i])\n",
    "        # Kiểm tra số bên phải\n",
    "        if i < n - 1 and a[i] * a[i + 1] < 0:\n",
    "            if a[i] not in b:\n",
    "                b.append(a[i])\n",
    "    for i in b:\n",
    "        print( i, sep = ' ' )\n"
   ]
  },
  {
   "cell_type": "code",
   "execution_count": 5,
   "id": "65e3b625-d8a2-4f9a-80cb-f116d5fe7ed8",
   "metadata": {},
   "outputs": [
    {
     "name": "stdout",
     "output_type": "stream",
     "text": [
      " 5\n",
      " 1 2 3 4 5\n"
     ]
    },
    {
     "name": "stdout",
     "output_type": "stream",
     "text": [
      "5 4 3 2 1 "
     ]
    }
   ],
   "source": [
    "from math import*\n",
    "n = int(input())\n",
    "a = list(map(int,input().split()))\n",
    "a.reverse()\n",
    "for i in a:\n",
    "    print(i, end = ' ' )"
   ]
  },
  {
   "cell_type": "code",
   "execution_count": 13,
   "id": "883d8e9c-40b7-4730-a4e5-6b413f0cb008",
   "metadata": {},
   "outputs": [
    {
     "name": "stdout",
     "output_type": "stream",
     "text": [
      " 7\n",
      " 341 607 986 616 131 857 234\n"
     ]
    },
    {
     "name": "stdout",
     "output_type": "stream",
     "text": [
      "986 857 "
     ]
    }
   ],
   "source": [
    "from math import*\n",
    "if __name__ == '__main__':\n",
    "    n = int(input())\n",
    "    a = list(map(int,input().split()))\n",
    "    for i in range(1, n - 1):\n",
    "        if a[i - 1] < a[i] > a[i + 1]:\n",
    "            print(a[i], end=' ')\n"
   ]
  },
  {
   "cell_type": "code",
   "execution_count": 25,
   "id": "e80751e0-35d6-4221-9762-588b9da7a89a",
   "metadata": {},
   "outputs": [
    {
     "name": "stdout",
     "output_type": "stream",
     "text": [
      " 10 28 5\n",
      " 1 2 3 4 5 6 7 8 9 10\n"
     ]
    },
    {
     "name": "stdout",
     "output_type": "stream",
     "text": [
      "1 2 3 4 5 6 28 7 8 9 10 "
     ]
    }
   ],
   "source": [
    "from math import*\n",
    "if __name__ == '__main__':\n",
    "    n, x, k = map(int,input().split())\n",
    "    a = list(map(int,input().split()))\n",
    "    a.insert(k - 1, x)\n",
    "    for i in a:\n",
    "        print( i, end = ' ')"
   ]
  },
  {
   "cell_type": "code",
   "execution_count": 37,
   "id": "d6a35b84-0896-4812-96f4-83ea365d25a4",
   "metadata": {},
   "outputs": [
    {
     "name": "stdout",
     "output_type": "stream",
     "text": [
      " 5 3\n",
      " 1 3 3 2 5\n"
     ]
    },
    {
     "name": "stdout",
     "output_type": "stream",
     "text": [
      "1 3 2 5 "
     ]
    }
   ],
   "source": [
    "if __name__ == '__main__':\n",
    "    n, x = map(int, input().split())\n",
    "    a = list(map(int, input().split()))\n",
    "    \n",
    "    if x not in a:\n",
    "        print('NOT FOUND')\n",
    "    else:\n",
    "        # Tìm chỉ số của giá trị x trong danh sách a\n",
    "        index = a.index(x)\n",
    "        a.pop(index)  # Xóa phần tử tại chỉ số index\n",
    "        \n",
    "        # In các phần tử còn lại\n",
    "        for i in a:\n",
    "            print(i, end=' ')\n",
    "        print()  # In dòng mới sau khi in tất cả các phần tử\n"
   ]
  },
  {
   "cell_type": "markdown",
   "id": "00af6074-1be6-48b6-8587-650a6c271922",
   "metadata": {},
   "source": [
    "NHÂP KHÔNG GIỚI HẠN SỐ LƯỢNG PHẦN TỬ MẢNG SYS _ STDIN"
   ]
  },
  {
   "cell_type": "code",
   "execution_count": 17,
   "id": "99f4f3fa-6908-4dce-9561-39c10bf4cf55",
   "metadata": {},
   "outputs": [
    {
     "name": "stdout",
     "output_type": "stream",
     "text": [
      "CHANLE\n"
     ]
    }
   ],
   "source": [
    "from math import *\n",
    "from sys import stdin  # Đọc nhiều dòng\n",
    "\n",
    "if __name__ == '__main__':\n",
    "    cntC, cntL = 0, 0\n",
    "    a = []\n",
    "    \n",
    "    for s in stdin:  # Đọc luồng vào chuẩn (nhiều dòng)\n",
    "        a += list(map(int, s.split()))  # Tách các số trong từng dòng và thêm vào mảng a\n",
    "\n",
    "    # Duyệt qua các phần tử trong mảng a\n",
    "    for i in a:\n",
    "        if i % 2 == 0:  cntC += 1\n",
    "        else: cntL += 1\n",
    "\n",
    "    if cntC > cntL: print('CHAN')\n",
    "    elif cntL > cntC: print('LE')\n",
    "    else: print('CHANLE')\n"
   ]
  },
  {
   "cell_type": "code",
   "execution_count": 35,
   "id": "8d7c560d-29b2-43fe-a0ce-6a7e3b2dee61",
   "metadata": {},
   "outputs": [
    {
     "name": "stdout",
     "output_type": "stream",
     "text": [
      " 10 3\n",
      " 1 2 3 4 5 6 7 8 9 10\n"
     ]
    },
    {
     "name": "stdout",
     "output_type": "stream",
     "text": [
      "4 5 6 7 8 9 10 1 2 3\n"
     ]
    }
   ],
   "source": [
    "from math import *\n",
    "\n",
    "if __name__ == '__main__':\n",
    "    n, k = map(int, input().split())\n",
    "    a = list(map(int, input().split()))\n",
    "\n",
    "    # Chuyển k phần tử đầu tiên xuống cuối\n",
    "    k = k % n  # Đảm bảo rằng k không vượt quá n\n",
    "    a = a[k:] + a[:k]\n",
    "    print(*a)\n",
    "'''  # Chuyển k phần tử cuối lên đầu\n",
    "    k = k % n  # Đảm bảo rằng k không vượt quá n\n",
    "    a = a[-k:] + a[:-k]\n",
    "\n",
    "    print(*a)\n",
    "'''"
   ]
  },
  {
   "cell_type": "code",
   "execution_count": 41,
   "id": "916aa862-ed84-4922-94d2-7caf3cd729a0",
   "metadata": {},
   "outputs": [
    {
     "name": "stdout",
     "output_type": "stream",
     "text": [
      " 3 3 0\n",
      " 1 2 3\n",
      " 4 5 6\n"
     ]
    },
    {
     "name": "stdout",
     "output_type": "stream",
     "text": [
      "4 5 6 1 2 3\n"
     ]
    }
   ],
   "source": [
    "from math import *\n",
    "if __name__ =='__main__':\n",
    "    n,m,p = map(int,input().split())\n",
    "    a = list(map(int,input().split()))\n",
    "    # slicing chèn toàn bộ b vào vị trí p trong a mà\n",
    "    # không ghi đè lên phần tử nào trong a.\n",
    "    b = list(map(int,input().split()))\n",
    "    a[p:p] = b\n",
    "    print(*a)"
   ]
  },
  {
   "cell_type": "code",
   "execution_count": 67,
   "id": "4ad27e30-aaf0-4033-bf43-90dcdc2e3905",
   "metadata": {},
   "outputs": [
    {
     "name": "stdout",
     "output_type": "stream",
     "text": [
      " 7\n",
      " 2 1 4 4 1 2 1 \n",
      " 2 2 2 1 2 1\n"
     ]
    },
    {
     "name": "stdout",
     "output_type": "stream",
     "text": [
      "-7\n"
     ]
    }
   ],
   "source": [
    "from math import*\n",
    "if __name__ =='__main__':\n",
    "    n = int(input())\n",
    "    a = list(map(int,input().split()))\n",
    "    b = list(map(int,input().split()))\n",
    "    s = a[0]\n",
    "    for i in range(n - 1):\n",
    "        if b[i] == 1:\n",
    "            s += a[i + 1]\n",
    "        elif b[i] == 2:\n",
    "            s -= a[i + 1]\n",
    "    print (s)"
   ]
  },
  {
   "cell_type": "code",
   "execution_count": 79,
   "id": "c95a7861-f736-4378-8617-1236a4b66195",
   "metadata": {},
   "outputs": [
    {
     "name": "stdout",
     "output_type": "stream",
     "text": [
      " 15\n",
      " -3097 3584 4443 2088 1173 4029 5756 1436 4038 8538 -2054 2890 2376 3745 2684\n"
     ]
    },
    {
     "name": "stdout",
     "output_type": "stream",
     "text": [
      "0 6\n",
      "1 3\n",
      "2 6\n",
      "3 9\n",
      "4 10\n",
      "5 6\n",
      "6 4\n",
      "7 5\n",
      "8 8\n",
      "9 3\n"
     ]
    }
   ],
   "source": [
    "#Số lần xuất hiện của cac chữ số trong tung so \n",
    "from math import*\n",
    "def so(x, cnt):\n",
    "    x = abs(x)\n",
    "    while x > 0:\n",
    "        cnt[x % 10] += 1   \n",
    "        x //=10\n",
    "if __name__ == '__main__':\n",
    "    n = int(input())\n",
    "    a = list(map(int,input().split()))\n",
    "    cnt = [0] * 100\n",
    "    for i in a:\n",
    "        if i == 0: \n",
    "            cnt[0] += 1\n",
    "        else: \n",
    "            so(i,cnt)\n",
    "    for i in range(100):\n",
    "        if cnt[i] > 0: \n",
    "            print(i, cnt[i])"
   ]
  },
  {
   "cell_type": "code",
   "execution_count": 107,
   "id": "897b799a-a076-4886-89a3-91d7ddd0e36f",
   "metadata": {},
   "outputs": [
    {
     "name": "stdout",
     "output_type": "stream",
     "text": [
      " 3\n",
      " 28 28 28\n"
     ]
    },
    {
     "name": "stdout",
     "output_type": "stream",
     "text": [
      "EMPTY\n"
     ]
    }
   ],
   "source": [
    "from math import*\n",
    "if __name__ == '__main__':\n",
    "    n = int(input())\n",
    "    a = list(map(int,input().split()))\n",
    "    for i in range(len(a) - 1, -1, -1):\n",
    "        if a[i] == 28:\n",
    "            del a[i]\n",
    "    # cach 2:  a = [x for x in a if x != 28] : tao mang moi vs khong co si 28\n",
    "    if len(a) > 0:  print(*a)\n",
    "    else: print('EMPTY')\n",
    "\n",
    "\n"
   ]
  },
  {
   "cell_type": "code",
   "execution_count": 117,
   "id": "6889590a-7f6e-4087-b365-715cee33e92c",
   "metadata": {},
   "outputs": [
    {
     "name": "stdout",
     "output_type": "stream",
     "text": [
      " 10\n",
      "  1 0 0 0 0 0 1 1 0 1\n"
     ]
    },
    {
     "name": "stdout",
     "output_type": "stream",
     "text": [
      "1 2 1\n",
      "5 1\n"
     ]
    }
   ],
   "source": [
    "if __name__ == '__main__':\n",
    "    n = int(input())\n",
    "    a = list(map(int, input().split()))\n",
    "    # Danh sách để lưu độ dài các dãy liên tiếp của 1 và 0\n",
    "    cnt1, cnt2 = [], []\n",
    "    # Biến theo dõi độ dài của dãy liên tiếp hiện tại\n",
    "    cur = 1\n",
    "    \n",
    "    for i in range(1, n):\n",
    "        if a[i] == a[i - 1]:\n",
    "            cur += 1\n",
    "        else:\n",
    "            # Nếu dãy hiện tại kết thúc, thêm độ dài vào danh sách tương ứng\n",
    "            if a[i - 1] == 1:\n",
    "                cnt1.append(cur)\n",
    "            else:\n",
    "                cnt2.append(cur)\n",
    "            # Đặt lại độ dài dãy liên tiếp\n",
    "            cur = 1\n",
    "    \n",
    "    # Thêm độ dài của dãy liên tiếp cuối cùng\n",
    "    if a[-1] == 1:\n",
    "        cnt1.append(cur)\n",
    "    else:\n",
    "        cnt2.append(cur)\n",
    "    \n",
    "    # In kết quả\n",
    "    print(*cnt1)\n",
    "    print(*cnt2)\n"
   ]
  },
  {
   "cell_type": "code",
   "execution_count": 151,
   "id": "284f0d90-1bc2-4d82-b246-161689483706",
   "metadata": {},
   "outputs": [
    {
     "name": "stdout",
     "output_type": "stream",
     "text": [
      " 25\n",
      " n 2 a w 1 a j c t n 1 i i 2 i j 3 e 8 e l i a 2 w\n"
     ]
    },
    {
     "name": "stdout",
     "output_type": "stream",
     "text": [
      "HCET82\n"
     ]
    }
   ],
   "source": [
    "from math import *\n",
    "\n",
    "if __name__ == '__main__':\n",
    "    n = int(input())  \n",
    "    a = input().split() \n",
    "    target = \"28tech\"  \n",
    "    s = list(target)\n",
    "    k = list(result)\n",
    "    result = \"\"  \n",
    "    for i in range(0, n, 2):  \n",
    "        result += a[i]  # Ghép các ký tự ở chỉ số chẵn vào chuỗi kết quả\n",
    "    \n",
    "    # Kiểm tra chuỗi kết quả có khớp với \"28tech\" không\n",
    "    if s == k:\n",
    "        print(\"28TECH\")\n",
    "    else:\n",
    "        print(\"HCET82\")\n"
   ]
  },
  {
   "cell_type": "code",
   "execution_count": 159,
   "id": "cc869aff-966c-4a71-8ee4-7bf2e5ff8c4c",
   "metadata": {},
   "outputs": [
    {
     "name": "stdout",
     "output_type": "stream",
     "text": [
      " 9\n",
      " 2 41 21 28 27 3 49 22 2 \n",
      " 5\n",
      " 3\n"
     ]
    },
    {
     "name": "stdout",
     "output_type": "stream",
     "text": [
      "YES\n"
     ]
    },
    {
     "name": "stdout",
     "output_type": "stream",
     "text": [
      " 27\n"
     ]
    },
    {
     "name": "stdout",
     "output_type": "stream",
     "text": [
      "YES\n"
     ]
    },
    {
     "name": "stdout",
     "output_type": "stream",
     "text": [
      " 15\n"
     ]
    },
    {
     "name": "stdout",
     "output_type": "stream",
     "text": [
      "NO\n"
     ]
    },
    {
     "name": "stdout",
     "output_type": "stream",
     "text": [
      " 15\n"
     ]
    },
    {
     "name": "stdout",
     "output_type": "stream",
     "text": [
      "NO\n"
     ]
    },
    {
     "name": "stdout",
     "output_type": "stream",
     "text": [
      " 19\n"
     ]
    },
    {
     "name": "stdout",
     "output_type": "stream",
     "text": [
      "NO\n"
     ]
    }
   ],
   "source": [
    "\n",
    "if __name__ == '__main__':\n",
    "    n = int(input())\n",
    "    a = set(map(int, input().split()))\n",
    "    t = int(input())\n",
    "    \n",
    "    for _ in range(t):\n",
    "        x = int(input())\n",
    "        if x in a:  # Kiểm tra sự tồn tại của X trong set\n",
    "            print('YES')\n",
    "        else:\n",
    "            print('NO')\n",
    "        "
   ]
  },
  {
   "cell_type": "code",
   "execution_count": 192,
   "id": "bcff00b5-811e-49b3-ba7d-f949f04b0b89",
   "metadata": {},
   "outputs": [
    {
     "name": "stdout",
     "output_type": "stream",
     "text": [
      " 5\n",
      " 1 2 9 0 9\n"
     ]
    },
    {
     "name": "stdout",
     "output_type": "stream",
     "text": [
      "4\n"
     ]
    }
   ],
   "source": [
    "if __name__ == '__main__':\n",
    "    a = int(input())\n",
    "    a = list(map(int,input().split()))\n",
    "    c = 0\n",
    "    cnt =[0] * 10000001\n",
    "    for x in a:\n",
    "        cnt[x] = 1\n",
    "    for x in a:\n",
    "        if cnt[x] == 1:\n",
    "            c += 1\n",
    "            cnt[x] = 0\n",
    "    print(c)"
   ]
  },
  {
   "cell_type": "code",
   "execution_count": 194,
   "id": "0e520f01-277b-4379-aa04-bd3741d4cf9b",
   "metadata": {},
   "outputs": [
    {
     "name": "stdout",
     "output_type": "stream",
     "text": [
      " 5\n",
      " 9 4 0 4 5\n"
     ]
    },
    {
     "name": "stdout",
     "output_type": "stream",
     "text": [
      "4 2\n"
     ]
    }
   ],
   "source": [
    "if __name__ == '__main__':\n",
    "    a = int(input())\n",
    "    a = list(map(int,input().split()))\n",
    "    cnt =[0] * 10000001 # 0=> 10^7\n",
    "    for x in a:\n",
    "        cnt[x] += 1\n",
    "    left, right = min(a), max(a)\n",
    "    for i in range ( left, right +1):\n",
    "        if cnt [i] != 0 and cnt[i] == max(cnt):\n",
    "            print(i, cnt[i])"
   ]
  },
  {
   "cell_type": "code",
   "execution_count": 196,
   "id": "f4d71252-e341-43c6-bee3-8c526e677c48",
   "metadata": {},
   "outputs": [
    {
     "name": "stdout",
     "output_type": "stream",
     "text": [
      " 5\n",
      " 9 4 0 4 5\n"
     ]
    },
    {
     "name": "stdout",
     "output_type": "stream",
     "text": [
      "4 2\n"
     ]
    }
   ],
   "source": [
    "if __name__ == '__main__':\n",
    "    n = int(input())\n",
    "    a = list(map(int, input().split()))\n",
    "\n",
    "    # Xác định giá trị nhỏ nhất và lớn nhất trong mảng\n",
    "    left, right = min(a), max(a)\n",
    "    \n",
    "    # Tạo mảng đánh dấu với kích thước đủ lớn\n",
    "    cnt_size = right - left + 1\n",
    "    cnt = [0] * cnt_size\n",
    "\n",
    "    # Đếm số lần xuất hiện của từng giá trị\n",
    "    for x in a:\n",
    "        cnt[x - left] += 1\n",
    "    # Tìm số lần xuất hiện nhiều nhất\n",
    "    max_count = max(cnt)\n",
    "    # Tìm giá trị nhỏ nhất có số lần xuất hiện nhiều nhất\n",
    "    for i in range(cnt_size):\n",
    "        if cnt[i] == max_count:\n",
    "            min_value = i + left\n",
    "            break\n",
    "\n",
    "    print(min_value, max_count)\n"
   ]
  },
  {
   "cell_type": "code",
   "execution_count": null,
   "id": "d2c8f1f2-3d88-4bcb-a736-9960a239ddd0",
   "metadata": {},
   "outputs": [],
   "source": [
    "if __name__ == '__main__':\n",
    "    n = int(input())\n",
    "    a = list(map(int, input().split()))\n",
    "\n",
    "    # Đếm số lần xuất hiện của từng giá trị\n",
    "    count = {}\n",
    "    for value in a:\n",
    "        if value in count:\n",
    "            count[value] += 1\n",
    "        else:\n",
    "            count[value] = 1\n",
    "\n",
    "    # Tìm giá trị có số lần xuất hiện nhiều nhất\n",
    "    max_count = -1\n",
    "    result_value = None\n",
    "    for value in a:\n",
    "        if count[value] > max_count:\n",
    "            max_count = count[value]\n",
    "            result_value = value\n",
    "\n",
    "    print(result_value)\n"
   ]
  }
 ],
 "metadata": {
  "kernelspec": {
   "display_name": "Python 3 (ipykernel)",
   "language": "python",
   "name": "python3"
  },
  "language_info": {
   "codemirror_mode": {
    "name": "ipython",
    "version": 3
   },
   "file_extension": ".py",
   "mimetype": "text/x-python",
   "name": "python",
   "nbconvert_exporter": "python",
   "pygments_lexer": "ipython3",
   "version": "3.12.4"
  }
 },
 "nbformat": 4,
 "nbformat_minor": 5
}
