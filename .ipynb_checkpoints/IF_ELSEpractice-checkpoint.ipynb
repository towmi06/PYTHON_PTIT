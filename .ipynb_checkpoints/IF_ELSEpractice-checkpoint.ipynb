{
 "cells": [
  {
   "cell_type": "code",
   "execution_count": 9,
   "id": "35e79ff7-2213-4073-92f9-48d6596ca5af",
   "metadata": {},
   "outputs": [
    {
     "name": "stdin",
     "output_type": "stream",
     "text": [
      " d\n"
     ]
    },
    {
     "name": "stdout",
     "output_type": "stream",
     "text": [
      "e\n"
     ]
    }
   ],
   "source": [
    "s = input()\n",
    "if s == 'z' or s == 'Z':\n",
    "    print('a')\n",
    "elif 'A' <= s <= 'Z':\n",
    "    t = ord(s) + 32\n",
    "   # print(chr(t+ 1))\n",
    "    # hoặc cos cách khác là \n",
    "    k = chr(ord(s) + 1 ).lower()\n",
    "    print (k)\n",
    "else:\n",
    "    print(chr(ord(s) + 1))\n",
    "    "
   ]
  },
  {
   "cell_type": "code",
   "execution_count": 29,
   "id": "f496269f-9034-47e8-b6aa-b25911423149",
   "metadata": {},
   "outputs": [
    {
     "name": "stdin",
     "output_type": "stream",
     "text": [
      " 614\n",
      " 999999999999990528\n",
      " G\n",
      " 19.088\n",
      " 2.9648\n"
     ]
    },
    {
     "name": "stdout",
     "output_type": "stream",
     "text": [
      "614\n",
      "999999999999990528\n",
      "G\n",
      "19.09\n",
      "2.964800000\n"
     ]
    }
   ],
   "source": [
    "x = int(input())\n",
    "y = int(input())\n",
    "c = input()\n",
    "F = float(input())\n",
    "d = float(input())\n",
    "\n",
    "print(x, y, c, sep='\\n')\n",
    "print(f\"{F:.2f}\")\n",
    "print(f\"{d:.9f}\")\n"
   ]
  },
  {
   "cell_type": "code",
   "execution_count": 33,
   "id": "95b4db66-dd7d-4bf7-b8d4-51d5af3105a9",
   "metadata": {},
   "outputs": [
    {
     "name": "stdin",
     "output_type": "stream",
     "text": [
      " 999999999999993728\n"
     ]
    },
    {
     "name": "stdout",
     "output_type": "stream",
     "text": [
      "999999999999993\n"
     ]
    }
   ],
   "source": [
    "n = int(input())\n",
    "print (n // 1000)"
   ]
  },
  {
   "cell_type": "code",
   "execution_count": 38,
   "id": "b8415f07-4f9f-4a16-9462-1b675f039465",
   "metadata": {},
   "outputs": [
    {
     "name": "stdin",
     "output_type": "stream",
     "text": [
      " 806 605\n"
     ]
    },
    {
     "name": "stdout",
     "output_type": "stream",
     "text": [
      "201\n"
     ]
    }
   ],
   "source": [
    "a,b = map(int,input().split())\n",
    "print( a% b)"
   ]
  },
  {
   "cell_type": "code",
   "execution_count": 46,
   "id": "aa945cb0-b965-4f9b-9705-2c39a3ba44ea",
   "metadata": {},
   "outputs": [
    {
     "name": "stdin",
     "output_type": "stream",
     "text": [
      " 15 6\n"
     ]
    },
    {
     "name": "stdout",
     "output_type": "stream",
     "text": [
      "SO VO MUA DUOC LA: 2!!!!!\n"
     ]
    }
   ],
   "source": [
    "# Bai mua vo \n",
    "a, b = map(int, input().split())\n",
    "k = a // b\n",
    "print(f'SO VO MUA DUOC LA : {k} !!!!!')\n",
    "# cach khac\n",
    "a, b = map(int, input().split())\n",
    "k = a // b\n",
    "print('SO VO MUA DUOC LA: ' + str(k) + '!!!!!')\n"
   ]
  },
  {
   "cell_type": "code",
   "execution_count": 54,
   "id": "3cadb31c-bfcc-4cb7-90aa-8207146c5f9c",
   "metadata": {},
   "outputs": [
    {
     "name": "stdin",
     "output_type": "stream",
     "text": [
      " Z\n"
     ]
    },
    {
     "name": "stdout",
     "output_type": "stream",
     "text": [
      "UPPER\n"
     ]
    }
   ],
   "source": [
    "# kiem tra ki tu, ki tu dac biet hay hoa thuong, so \n",
    "c = input()\n",
    "if c.islower():\n",
    "    print('LOWER')\n",
    "elif c.isupper():\n",
    "    print('UPPER')\n",
    "elif c.isdigit():\n",
    "    print('DIGIT')\n",
    "else:\n",
    "    print ('SPECIAL')"
   ]
  },
  {
   "cell_type": "code",
   "execution_count": 52,
   "id": "9b783585-07c8-4684-938c-aa74fae12420",
   "metadata": {},
   "outputs": [
    {
     "name": "stdin",
     "output_type": "stream",
     "text": [
      " 31 3\n"
     ]
    },
    {
     "name": "stdout",
     "output_type": "stream",
     "text": [
      "18\n"
     ]
    }
   ],
   "source": [
    "\"\"\" doremon leo cau thang \n",
    "    n buoc, moi lan leo co the 1-2 buoc\n",
    "    thoa man di het n bac va chia het cho m\n",
    "\"\"\"\n",
    "# xac dinh so luong buoc toi thieu va toi da de di het n bac\n",
    "n,m = map(int, input().split())\n",
    "min_step, max_step = 0, n\n",
    "if n % 2 == 0:\n",
    "    min_step = n // 2\n",
    "else:\n",
    "    min_step = n // 2 + 1\n",
    "k = (min_step + m - 1 ) // m * m\n",
    "if k <= max_step:\n",
    "    print (k)\n",
    "else:\n",
    "    print (-1)\n"
   ]
  },
  {
   "cell_type": "code",
   "execution_count": 54,
   "id": "cb7823fd-57a9-404f-a360-d829c3ddfb35",
   "metadata": {},
   "outputs": [
    {
     "name": "stdin",
     "output_type": "stream",
     "text": [
      " 832 56 273\n"
     ]
    },
    {
     "name": "stdout",
     "output_type": "stream",
     "text": [
      "658\n"
     ]
    }
   ],
   "source": [
    "# duong di ngan nhat \n",
    "d1, d2, d3 = map(int, input().split())\n",
    "print (min(d1+d2+d3, 2*(d1+d2), 2*(d1+d3), 2*(d2 + d3)))\n"
   ]
  },
  {
   "cell_type": "code",
   "execution_count": 72,
   "id": "5f48abc1-6bae-4a9d-9b93-d0e1864feb8d",
   "metadata": {},
   "outputs": [
    {
     "name": "stdin",
     "output_type": "stream",
     "text": [
      " 3455\n"
     ]
    },
    {
     "name": "stdout",
     "output_type": "stream",
     "text": [
      "38\n"
     ]
    }
   ],
   "source": [
    "# doi tien \n",
    "n = int(input())\n",
    "\n",
    "ans = n // 100 # tính số lượng tờ tiền 100 cần thiết và lưu vào ans.\n",
    "n %= 100 #lấy phần còn lại của n sau khi đã chia cho 100.\n",
    "\n",
    "ans += n //20\n",
    "n %= 20\n",
    "\n",
    "ans += n // 10\n",
    "n %= 10\n",
    "\n",
    "ans += n // 5\n",
    "n %=5\n",
    "\n",
    "ans += n # Số tiền còn lại n chính là số tờ tiền mệnh giá 1 cần thiết và thêm vào ans.\n",
    "print (ans)\n"
   ]
  },
  {
   "cell_type": "code",
   "execution_count": 2,
   "id": "24ea45a5-41a7-4113-b7d0-fc608bb7b344",
   "metadata": {},
   "outputs": [
    {
     "name": "stdin",
     "output_type": "stream",
     "text": [
      " 2\n"
     ]
    },
    {
     "name": "stdout",
     "output_type": "stream",
     "text": [
      "23\n"
     ]
    }
   ],
   "source": [
    "x = int(input())\n",
    "a = x**3 + 3*x**2 + x + 1\n",
    "print (a)"
   ]
  },
  {
   "cell_type": "code",
   "execution_count": null,
   "id": "0ac400bd-8bf1-40d2-b8fb-8d126f95280f",
   "metadata": {},
   "outputs": [],
   "source": [
    "a,b,c = map(int,input().split())\n",
    "S = a(b+c)+b(a+c)"
   ]
  },
  {
   "cell_type": "code",
   "execution_count": 17,
   "id": "60348747-521e-486a-8a57-7e67f71d3f09",
   "metadata": {},
   "outputs": [
    {
     "name": "stdin",
     "output_type": "stream",
     "text": [
      " 24\n"
     ]
    },
    {
     "name": "stdout",
     "output_type": "stream",
     "text": [
      "75.20\n"
     ]
    }
   ],
   "source": [
    "c = int(input())\n",
    "F = (c*9/5)+32\n",
    "print(f\"{F:.2f}\")"
   ]
  },
  {
   "cell_type": "code",
   "execution_count": 37,
   "id": "bfd8db25-7bf3-469b-b864-59518920e3eb",
   "metadata": {},
   "outputs": [
    {
     "name": "stdin",
     "output_type": "stream",
     "text": [
      " 10\n"
     ]
    },
    {
     "name": "stdout",
     "output_type": "stream",
     "text": [
      "62.8000 31400000000.0000\n"
     ]
    }
   ],
   "source": [
    "p = 3.14\n",
    "r = int(input())\n",
    "cvi = 2*p*r\n",
    "dtich =   p*r**r\n",
    "print(f\"{cvi:.4f} {dtich:.4f}\")"
   ]
  },
  {
   "cell_type": "code",
   "execution_count": 39,
   "id": "4ad02ad2-8ae9-4ea2-84fc-d9859e699f79",
   "metadata": {},
   "outputs": [
    {
     "name": "stdin",
     "output_type": "stream",
     "text": [
      " 10\n"
     ]
    },
    {
     "name": "stdout",
     "output_type": "stream",
     "text": [
      "62.8000 314.0000\n"
     ]
    }
   ],
   "source": [
    "pi = 3.14\n",
    "r = int(input())\n",
    "\n",
    "circumference = 2 * pi * r\n",
    "area = pi * r * r\n",
    "\n",
    "print(f\"{circumference:.4f} {area:.4f}\")\n"
   ]
  },
  {
   "cell_type": "code",
   "execution_count": 4,
   "id": "6bd13f55-7e39-4d3c-b254-471b891c279a",
   "metadata": {},
   "outputs": [
    {
     "name": "stdin",
     "output_type": "stream",
     "text": [
      " 1 4 4 8\n"
     ]
    },
    {
     "name": "stdout",
     "output_type": "stream",
     "text": [
      "5.00\n"
     ]
    }
   ],
   "source": [
    "from math import*\n",
    "x1, y1, x2, y2 = map(int,input().split())\n",
    "d = sqrt((x1-x2)**2 + (y1 -y2)**2)\n",
    "print (f\"{d:.2f}\")"
   ]
  },
  {
   "cell_type": "code",
   "execution_count": 20,
   "id": "30831c63-e5db-4c55-9c30-0332fc5659d0",
   "metadata": {},
   "outputs": [
    {
     "name": "stdin",
     "output_type": "stream",
     "text": [
      " 36\n"
     ]
    },
    {
     "name": "stdout",
     "output_type": "stream",
     "text": [
      "YES\n",
      "NO\n",
      "YES\n",
      "YES\n",
      "YES\n",
      "YES\n",
      "NO\n",
      "NO\n",
      "YES\n",
      "YES\n"
     ]
    }
   ],
   "source": [
    "n = int(input())\n",
    "\n",
    "# Kiểm tra nếu n là số chẵn\n",
    "if n % 2 == 0:\n",
    "    print(\"YES\")\n",
    "else:\n",
    "    print(\"NO\")\n",
    "\n",
    "# Kiểm tra nếu n vừa chia hết cho 3 vừa chia hết cho 5\n",
    "if n % 3 == 0 and n % 5 == 0:\n",
    "    print(\"YES\")\n",
    "else:\n",
    "    print(\"NO\")\n",
    "\n",
    "# Kiểm tra nếu n chia hết cho 3 nhưng không chia hết cho 7\n",
    "if n % 3 == 0 and n % 7 != 0:\n",
    "    print(\"YES\")\n",
    "else:\n",
    "    print(\"NO\")\n",
    "\n",
    "# Kiểm tra nếu n chia hết cho 3 hoặc 7\n",
    "if n % 3 == 0 or n % 7 == 0:\n",
    "    print(\"YES\")\n",
    "else:\n",
    "    print(\"NO\")\n",
    "\n",
    "# Kiểm tra nếu n lớn hơn 30 và nhỏ hơn 50\n",
    "if n > 30 and n < 50:\n",
    "    print(\"YES\")\n",
    "else:\n",
    "    print(\"NO\")\n",
    "\n",
    "# Kiểm tra nếu n không nhỏ hơn 30 và chia hết cho ít nhất một trong các số 2, 3, 5\n",
    "if n >= 30 and (n % 2 == 0 or n % 3 == 0 or n % 5 == 0):\n",
    "    print(\"YES\")\n",
    "else:\n",
    "    print(\"NO\")\n",
    "\n",
    "# Kiểm tra nếu n là số có 2 chữ số và chữ số cuối là 2, 3, 5 hoặc 7\n",
    "if 10 <= n <= 99:\n",
    "    last_digit = n % 10\n",
    "    if last_digit in [2, 3, 5, 7]:\n",
    "        print(\"YES\")\n",
    "    else:\n",
    "        print(\"NO\")\n",
    "else:\n",
    "    print(\"NO\")\n",
    "\n",
    "# Kiểm tra nếu n không vượt quá 100 và chia hết cho 23\n",
    "if n <= 100 and n % 23 == 0:\n",
    "    print(\"YES\")\n",
    "else:\n",
    "    print(\"NO\")\n",
    "\n",
    "# Kiểm tra nếu n không thuộc đoạn [10, 20]\n",
    "if n < 10 or n > 20:\n",
    "    print(\"YES\")\n",
    "else:\n",
    "    print(\"NO\")\n",
    "\n",
    "# Kiểm tra nếu chữ số cuối của n là bội số của 3\n",
    "last_digit = n % 10\n",
    "if last_digit % 3 == 0:\n",
    "    print(\"YES\")\n",
    "else:\n",
    "    print(\"NO\")\n"
   ]
  },
  {
   "cell_type": "code",
   "execution_count": 28,
   "id": "926ee869-13f2-43b7-bf90-e6e40260df69",
   "metadata": {},
   "outputs": [
    {
     "name": "stdin",
     "output_type": "stream",
     "text": [
      " 2 2024\n"
     ]
    },
    {
     "name": "stdout",
     "output_type": "stream",
     "text": [
      "29\n"
     ]
    }
   ],
   "source": [
    "m, y = map(int, input().split())\n",
    "if (  1<= m <= 12 and y > 0):\n",
    "    if m in [1, 3, 5, 7, 8,10, 12]:\n",
    "        print (31)\n",
    "    elif m in [4, 6, 9, 11]:\n",
    "        print (30)\n",
    "    else:\n",
    "        if(y % 4 == 0 and y % 100 != 0) or (y % 400 == 0): print (29)\n",
    "        else: print (28)\n",
    "else: print('INVALID')"
   ]
  },
  {
   "cell_type": "code",
   "execution_count": 32,
   "id": "394fa298-f82c-4b84-9b53-132e3004e9b6",
   "metadata": {},
   "outputs": [
    {
     "name": "stdin",
     "output_type": "stream",
     "text": [
      " 0 0 0\n"
     ]
    },
    {
     "name": "stdout",
     "output_type": "stream",
     "text": [
      "NO\n"
     ]
    }
   ],
   "source": [
    "a,b,c = map(int, input().split())\n",
    "if(a >0) and b >0 and c > 0 and a+b>c and a+c >b and b+c >a:\n",
    "    print (\"YES\")\n",
    "else: print ('NO')"
   ]
  },
  {
   "cell_type": "code",
   "execution_count": 38,
   "id": "0e1f3efe-2a8e-4724-8cec-dd72ae9cfb85",
   "metadata": {},
   "outputs": [
    {
     "name": "stdin",
     "output_type": "stream",
     "text": [
      " 3 10\n"
     ]
    },
    {
     "name": "stdout",
     "output_type": "stream",
     "text": [
      "0 10\n"
     ]
    }
   ],
   "source": [
    "n, m = map(int, input().split())\n",
    "k = (n // m) * m\n",
    "l = ( n // m + 1)* m\n",
    "print (k , l)"
   ]
  },
  {
   "cell_type": "code",
   "execution_count": 52,
   "id": "a86fcc73-8dab-4499-a707-6859770240f1",
   "metadata": {},
   "outputs": [
    {
     "name": "stdin",
     "output_type": "stream",
     "text": [
      " 9794 1282\n"
     ]
    },
    {
     "name": "stdout",
     "output_type": "stream",
     "text": [
      "11076\n",
      "8512\n",
      "12555908\n",
      "7.6396\n"
     ]
    }
   ],
   "source": [
    "a, b = map(int, input().split())\n",
    "\n",
    "print (a + b)\n",
    "print (a-b)\n",
    "print (a * b)\n",
    "if ( b != 0):\n",
    "    k = a / b\n",
    "    print (f\"{k:.4f}\")\n",
    "else: print(\"INVALID\")"
   ]
  },
  {
   "cell_type": "code",
   "execution_count": 66,
   "id": "e55f5168-eb53-4528-bb33-8c92193686fb",
   "metadata": {},
   "outputs": [
    {
     "name": "stdin",
     "output_type": "stream",
     "text": [
      " 5 7 6.5 5\n"
     ]
    },
    {
     "name": "stdout",
     "output_type": "stream",
     "text": [
      "TRUNG BINH\n"
     ]
    }
   ],
   "source": [
    "from math import*\n",
    "\n",
    "a, b, c, d = map(float, input().split())\n",
    "k = (a + b + c*2 + d*3) / 7\n",
    "\n",
    "if k >= 8:\n",
    "    print('GIOI')\n",
    "elif 6.5 <= k < 8:\n",
    "    print('KHA')\n",
    "elif 5 <= k < 6.5:\n",
    "    print('TRUNG BINH')\n",
    "else:\n",
    "    print('YEU')\n"
   ]
  },
  {
   "cell_type": "code",
   "execution_count": 70,
   "id": "5ec798fd-fb9c-48dc-8a7a-8037f1f187c1",
   "metadata": {},
   "outputs": [
    {
     "name": "stdin",
     "output_type": "stream",
     "text": [
      " @\n"
     ]
    },
    {
     "name": "stdout",
     "output_type": "stream",
     "text": [
      "@\n"
     ]
    }
   ],
   "source": [
    "s = input()\n",
    "if s .islower():\n",
    "    print(s.upper())\n",
    "elif s.isupper():\n",
    "    print(s.lower())\n",
    "else: \n",
    "    print (s)"
   ]
  },
  {
   "cell_type": "code",
   "execution_count": 76,
   "id": "6c0ef48a-14bd-4afb-99e7-a0fc5efd4823",
   "metadata": {},
   "outputs": [
    {
     "name": "stdin",
     "output_type": "stream",
     "text": [
      " 546 272 839 508\n"
     ]
    },
    {
     "name": "stdout",
     "output_type": "stream",
     "text": [
      "839 272\n"
     ]
    }
   ],
   "source": [
    "from math import*\n",
    "a,b,c,d = map(int,input().split())\n",
    "print(max(a,b,c,d), min(a,b,c,d))\n"
   ]
  },
  {
   "cell_type": "code",
   "execution_count": 78,
   "id": "6f03accb-4b84-44a5-99a7-c7654ea1569c",
   "metadata": {},
   "outputs": [
    {
     "name": "stdin",
     "output_type": "stream",
     "text": [
      " 15.2\n"
     ]
    },
    {
     "name": "stdout",
     "output_type": "stream",
     "text": [
      "15\n"
     ]
    }
   ],
   "source": [
    "a = float(input())\n",
    "print(round(a))"
   ]
  },
  {
   "cell_type": "code",
   "execution_count": 82,
   "id": "fa2a0157-66cc-40ea-b303-b8ee1089f68f",
   "metadata": {},
   "outputs": [
    {
     "name": "stdin",
     "output_type": "stream",
     "text": [
      " 3 4 5\n"
     ]
    },
    {
     "name": "stdout",
     "output_type": "stream",
     "text": [
      "18\n"
     ]
    }
   ],
   "source": [
    "# Tinh tong cap so cong \n",
    "n, u1, d = map(int, input().split())\n",
    "\n",
    "# Tính phần tử cuối cùng của cấp số cộng\n",
    "un = u1 + (n - 1) * d\n",
    "\n",
    "# Tính tổng của cấp số cộng\n",
    "Sn = n * (u1 + un) // 2\n",
    "\n",
    "# In ra tổng của cấp số cộng\n",
    "print(Sn)\n"
   ]
  },
  {
   "cell_type": "code",
   "execution_count": 86,
   "id": "d5ef82ec-02ad-43a2-a2f4-ac63abc98d13",
   "metadata": {},
   "outputs": [
    {
     "name": "stdin",
     "output_type": "stream",
     "text": [
      " 2 4 8 16\n"
     ]
    },
    {
     "name": "stdout",
     "output_type": "stream",
     "text": [
      "YES\n"
     ]
    }
   ],
   "source": [
    "# Kiem tra cap so nhan \n",
    "a, b, c, d = map(int, input().split())\n",
    "\n",
    "# Kiểm tra xem b có chia hết cho a hay không\n",
    "if b % a == 0:\n",
    "    # Tìm công bội r\n",
    "    r = b // a\n",
    "    \n",
    "    # Kiểm tra xem c có bằng b * r hay không và d có bằng c * r hay không\n",
    "    if b * r == c and c * r == d:\n",
    "        print(\"YES\")\n",
    "    else:\n",
    "        print(\"NO\")\n",
    "else:\n",
    "    print(\"NO\")\n",
    "   \n"
   ]
  },
  {
   "cell_type": "code",
   "execution_count": 88,
   "id": "1af839f4-4962-481f-84dc-1652ae6f1285",
   "metadata": {},
   "outputs": [
    {
     "name": "stdin",
     "output_type": "stream",
     "text": [
      " 4\n"
     ]
    },
    {
     "name": "stdout",
     "output_type": "stream",
     "text": [
      "6\n"
     ]
    }
   ],
   "source": [
    "# to hop chap 2 cua n \n",
    "n = int(input())\n",
    "c = n * (n -1) // 2\n",
    "print ( c)"
   ]
  },
  {
   "cell_type": "code",
   "execution_count": 14,
   "id": "bd1c457e-7a64-4f02-9459-49ef9e7605ee",
   "metadata": {},
   "outputs": [
    {
     "name": "stdin",
     "output_type": "stream",
     "text": [
      " 46 76 52 40 60 67  11\n"
     ]
    },
    {
     "name": "stdout",
     "output_type": "stream",
     "text": [
      "NO\n"
     ]
    }
   ],
   "source": [
    "'''Tính tổng số cúp => tìm số kệ đựng cúp (chia hết cho 5 hay ko), ví dụ 12 cúp => 3 kệ, 10 cúp => 2 kệ\n",
    "Tính tổng số huy chương => tìm kệ đựng huy chương (chia hết cho 10 hay ko)\n",
    "Nếu tổng kệ <= n thì in YES'''\n",
    "from math import*\n",
    "a1, a2, a3, b1, b2, b3  = map(int, input().split())\n",
    "n = int(input())\n",
    "cup_total = a1 + a2 + a3\n",
    "medal_total = b1 + b2 + b3\n",
    "\n",
    "cup = ceil(cup_total / 5)\n",
    "medal = ceil(medal_total / 10)\n",
    "total= cup + medal\n",
    "if total <= n:\n",
    "    print(\"YES\")\n",
    "else:\n",
    "    print(\"NO\")\n"
   ]
  },
  {
   "cell_type": "code",
   "execution_count": 38,
   "id": "27811aea-0a70-411c-963c-73e99c1808d8",
   "metadata": {},
   "outputs": [
    {
     "name": "stdin",
     "output_type": "stream",
     "text": [
      " 5 1 3 4\n"
     ]
    },
    {
     "name": "stdout",
     "output_type": "stream",
     "text": [
      "800\n"
     ]
    }
   ],
   "source": [
    "# Ghep cac chu so sao cho tong tao thanh lon nhat\n",
    "k2, k3, k5, k6 = map(int, input().split())\n",
    "k256 = min (k2, k5, k6)\n",
    "\n",
    "h2 = k2-k256\n",
    "k32 = min( k3, h2)\n",
    "total =  (k256 * 256) + (k32 * 32)\n",
    "print (total)\n"
   ]
  },
  {
   "cell_type": "code",
   "execution_count": 44,
   "id": "77b35452-1df0-426c-8adf-27570391fff1",
   "metadata": {},
   "outputs": [
    {
     "name": "stdin",
     "output_type": "stream",
     "text": [
      " 1 1 9 1\n"
     ]
    },
    {
     "name": "stdout",
     "output_type": "stream",
     "text": [
      "NO\n"
     ]
    }
   ],
   "source": [
    "# chia tien de tong so tien 3 ng co sau khi chia bang nhau\n",
    "a, b, c, n = map(int, input().split())\n",
    "\n",
    "# Tính tổng số xu\n",
    "total_coins = a + b + c + n\n",
    "\n",
    "if total_coins % 3 != 0:\n",
    "    print(\"NO\")\n",
    "else:\n",
    "    max_coins = max(a, b, c)\n",
    "    if total_coins // 3 >= max_coins:\n",
    "        print(\"YES\")\n",
    "    else:\n",
    "        print(\"NO\")\n"
   ]
  },
  {
   "cell_type": "code",
   "execution_count": 48,
   "id": "9ec6ab24-c7c8-4cf9-8980-f5fa37e5d29c",
   "metadata": {},
   "outputs": [
    {
     "name": "stdin",
     "output_type": "stream",
     "text": [
      " 5 3 2 8\n"
     ]
    },
    {
     "name": "stdout",
     "output_type": "stream",
     "text": [
      "YES\n"
     ]
    }
   ],
   "source": [
    "# Đọc đầu vào\n",
    "a, b, c, n = map(int, input().split())\n",
    "\n",
    "# Tính tổng số xu\n",
    "total_coins = a + b + c + n\n",
    "\n",
    "# Kiểm tra điều kiện cần\n",
    "if total_coins % 3 != 0:\n",
    "    print(\"NO\")\n",
    "else:\n",
    "    # Kiểm tra điều kiện đủ\n",
    "    max_coins = max(a, b, c)\n",
    "    if total_coins // 3 >= max_coins:\n",
    "        print(\"YES\")\n",
    "    else:\n",
    "        print(\"NO\")\n"
   ]
  },
  {
   "cell_type": "code",
   "execution_count": 52,
   "id": "3b1ba02f-26de-4dc6-9daa-e1fea703f578",
   "metadata": {},
   "outputs": [
    {
     "name": "stdin",
     "output_type": "stream",
     "text": [
      " 22 0\n"
     ]
    },
    {
     "name": "stdout",
     "output_type": "stream",
     "text": [
      "120\n"
     ]
    }
   ],
   "source": [
    "# countdowns nam moi \n",
    "h,m = map(int,input().split())\n",
    "if 0<= h <= 24 and 0 <= m <= 60:\n",
    "    m_day = 60 * 24\n",
    "    countdowns = m_day - (m + h*60)\n",
    "    print(countdowns)"
   ]
  },
  {
   "cell_type": "code",
   "execution_count": 54,
   "id": "0381e0f2-b81d-420c-b129-f5074cee1e00",
   "metadata": {},
   "outputs": [
    {
     "name": "stdin",
     "output_type": "stream",
     "text": [
      " 2 5 4 0 4\n"
     ]
    },
    {
     "name": "stdout",
     "output_type": "stream",
     "text": [
      "3\n"
     ]
    }
   ],
   "source": [
    "# Cuoc tien hao phong\n",
    "c1, c2, c3, c4, c5 = map(int, input().split())\n",
    "\n",
    "c = c1 + c2 + c3 + c4 + c5\n",
    "if c % 5 == 0:\n",
    "    if c // 5 != 0:\n",
    "        print(c // 5)\n",
    "    else:\n",
    "        print(-1)\n",
    "else:\n",
    "    print(-1)\n"
   ]
  },
  {
   "cell_type": "code",
   "execution_count": null,
   "id": "3859feec-4586-4720-83c1-9737271bd643",
   "metadata": {},
   "outputs": [],
   "source": []
  }
 ],
 "metadata": {
  "kernelspec": {
   "display_name": "Python 3 (ipykernel)",
   "language": "python",
   "name": "python3"
  },
  "language_info": {
   "codemirror_mode": {
    "name": "ipython",
    "version": 3
   },
   "file_extension": ".py",
   "mimetype": "text/x-python",
   "name": "python",
   "nbconvert_exporter": "python",
   "pygments_lexer": "ipython3",
   "version": "3.12.4"
  }
 },
 "nbformat": 4,
 "nbformat_minor": 5
}
