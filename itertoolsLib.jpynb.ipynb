{
 "cells": [
  {
   "cell_type": "markdown",
   "metadata": {},
   "source": [
    "### **Intertools**: thu vien chuan py3: xu li cac vong lap, duyet tuan tu : __iter__() va __next__()"
   ]
  },
  {
   "cell_type": "markdown",
   "metadata": {},
   "source": [
    "interable: khong co index, du lieu vo han, vd for i in a\n",
    "\n",
    "interator: duyet tra ve cac ki tu ke tiep interable or stopIteration : duyet qua pham vi \n"
   ]
  },
  {
   "cell_type": "code",
   "execution_count": 10,
   "metadata": {},
   "outputs": [
    {
     "name": "stdout",
     "output_type": "stream",
     "text": [
      "h\n"
     ]
    }
   ],
   "source": [
    "text = 'hello'\n",
    "iterator = iter(text) # chuyen tu dang chuoi ve dang iter de co the dung next\n",
    "print(next(iterator))"
   ]
  },
  {
   "cell_type": "code",
   "execution_count": 11,
   "metadata": {},
   "outputs": [
    {
     "name": "stdout",
     "output_type": "stream",
     "text": [
      "e\n"
     ]
    }
   ],
   "source": [
    "print(next(iterator))"
   ]
  },
  {
   "cell_type": "markdown",
   "metadata": {},
   "source": [
    "1. `count(start, step)`: Độ phức tạp là O(1) cho mỗi lần lặp, vì nó chỉ tăng giá trị hiện tại.\n",
    "2. `cycle(iterable)`: Độ phức tạp là O(n) cho mỗi chu kỳ, với n là số phần tử trong iterable.\n",
    "3. `repeat(object, times)`: Độ phức tạp là O(1) cho mỗi lần lặp, vì nó chỉ lặp lại cùng một đối tượng.\n",
    "4. `combinations(iterable, r)`: n là số phần tử trong iterable và r là số phần tử trong mỗi **tổ hợp**.\n",
    "5. `permutations(iterable, r)`: Độ phức tạp là O(nPr), với n là số phần tử trong iterable và r là số phần tử trong mỗi **Tạo ra tất cả các hoán vị của r phần tử từ iterable**\n",
    "6. `product(*iterables, repeat=1)`: Độ phức tạp là O(k^n), với k là số phần tử trong mỗi iterable và n là số iterable.**Tạo ra tích Descartes của các iterables.**\n",
    "7. `chain(iterable)`:  được sử dụng để nối nhiều iterable lại với nhau thành một iterable duy nhất. Điều này rất hữu ích khi bạn cần lặp qua nhiều danh sách hoặc các iterable khác mà không cần phải lồng các vòng lặp.\n"
   ]
  },
  {
   "cell_type": "markdown",
   "metadata": {},
   "source": [
    "from itertools import product\n",
    "\n",
    "powers_2 = [2 ** i for i in range(4)]  # [1, 2, 4, 8]\n",
    "powers_3 = [3 ** i for i in range(3)]  # [1, 3, 9]\n",
    "powers_5 = [5 ** i for i in range(2)]  # [1, 5]\n",
    "\n",
    "for hamming_number in product(powers_2, powers_3, powers_5):\n",
    "    print(hamming_number[0] * hamming_number[1] * hamming_number[2])\n"
   ]
  },
  {
   "cell_type": "code",
   "execution_count": 20,
   "metadata": {},
   "outputs": [
    {
     "name": "stdout",
     "output_type": "stream",
     "text": [
      "1 5 3 15 9 45 2 10 6 30 18 90 4 20 12 60 36 180 8 40 24 120 72 360 "
     ]
    }
   ],
   "source": [
    "from itertools import product\n",
    "\n",
    "powers_2 = [2 ** i for i in range(4)]  # [1, 2, 4, 8]\n",
    "powers_3 = [3 ** i for i in range(3)]  # [1, 3, 9]\n",
    "powers_5 = [5 ** i for i in range(2)]  # [1, 5]\n",
    "\n",
    "for hamming_number in product(powers_2, powers_3, powers_5):\n",
    "    print(hamming_number[0] * hamming_number[1] * hamming_number[2], end = ' ')\n"
   ]
  },
  {
   "cell_type": "code",
   "execution_count": 12,
   "metadata": {},
   "outputs": [
    {
     "name": "stdout",
     "output_type": "stream",
     "text": [
      "10 12 14 16 18 20 "
     ]
    }
   ],
   "source": [
    "import itertools\n",
    "for i in itertools.count(10, 2):\n",
    "    if i > 20: break\n",
    "    print(i, end = ' ')"
   ]
  },
  {
   "cell_type": "code",
   "execution_count": 13,
   "metadata": {},
   "outputs": [
    {
     "name": "stdout",
     "output_type": "stream",
     "text": [
      "A B A B A B A B "
     ]
    }
   ],
   "source": [
    "cnt = 0\n",
    "for i in itertools.cycle('AB'):\n",
    "    if cnt > 7: break\n",
    "    print(i, end = ' ')\n",
    "    cnt += 1"
   ]
  },
  {
   "cell_type": "code",
   "execution_count": 14,
   "metadata": {},
   "outputs": [
    {
     "name": "stdout",
     "output_type": "stream",
     "text": [
      "Thom Thom Thom 5 5 5 "
     ]
    }
   ],
   "source": [
    "for i in itertools.repeat('Thom', 3):\n",
    "    print(i, end = ' ')\n",
    "for k in itertools.repeat(5, 3):\n",
    "    print(k, end = ' ')"
   ]
  },
  {
   "cell_type": "code",
   "execution_count": 15,
   "metadata": {},
   "outputs": [
    {
     "name": "stdout",
     "output_type": "stream",
     "text": [
      "A B C D\n",
      "A B D C\n",
      "A C B D\n",
      "A C D B\n",
      "A D B C\n",
      "A D C B\n",
      "B A C D\n",
      "B A D C\n",
      "B C A D\n",
      "B C D A\n",
      "B D A C\n",
      "B D C A\n",
      "C A B D\n",
      "C A D B\n",
      "C B A D\n",
      "C B D A\n",
      "C D A B\n",
      "C D B A\n",
      "D A B C\n",
      "D A C B\n",
      "D B A C\n",
      "D B C A\n",
      "D C A B\n",
      "D C B A\n"
     ]
    }
   ],
   "source": [
    "for hvi in itertools.permutations('ABCD'):# or itertools.permutations('ABCD',4)\n",
    "    print(*hvi)"
   ]
  },
  {
   "cell_type": "code",
   "execution_count": 16,
   "metadata": {},
   "outputs": [
    {
     "name": "stdout",
     "output_type": "stream",
     "text": [
      "A B - A C - A D - B C - B D - C D - "
     ]
    }
   ],
   "source": [
    "for tohop in itertools.combinations('ABCD',2):\n",
    "    print(*tohop, end = ' - ')"
   ]
  },
  {
   "cell_type": "code",
   "execution_count": 17,
   "metadata": {},
   "outputs": [
    {
     "name": "stdout",
     "output_type": "stream",
     "text": [
      "('A', 'A')|('A', 'B')|('A', 'C')|('A', 'D')|('B', 'A')|('B', 'B')|('B', 'C')|('B', 'D')|('C', 'A')|('C', 'B')|('C', 'C')|('C', 'D')|('D', 'A')|('D', 'B')|('D', 'C')|('D', 'D')|"
     ]
    }
   ],
   "source": [
    "for x in itertools.product('ABCD', repeat = 2):\n",
    "    print(x, end = '|')"
   ]
  },
  {
   "cell_type": "code",
   "execution_count": 18,
   "metadata": {},
   "outputs": [
    {
     "name": "stdout",
     "output_type": "stream",
     "text": [
      "1 2 3 a b c True False "
     ]
    }
   ],
   "source": [
    "import itertools\n",
    "list1 = [1, 2, 3]\n",
    "list2 = ['a', 'b', 'c']\n",
    "list3 = [True, False]\n",
    "\n",
    "# Sử dụng chain để nối các danh sách\n",
    "combined = itertools.chain(list1, list2, list3)\n",
    "\n",
    "# In ra các phần tử trong combined\n",
    "for item in combined:\n",
    "    print(item, end = ' ')"
   ]
  },
  {
   "cell_type": "code",
   "execution_count": null,
   "metadata": {},
   "outputs": [],
   "source": []
  }
 ],
 "metadata": {
  "kernelspec": {
   "display_name": "base",
   "language": "python",
   "name": "python3"
  },
  "language_info": {
   "codemirror_mode": {
    "name": "ipython",
    "version": 3
   },
   "file_extension": ".py",
   "mimetype": "text/x-python",
   "name": "python",
   "nbconvert_exporter": "python",
   "pygments_lexer": "ipython3",
   "version": "3.12.4"
  }
 },
 "nbformat": 4,
 "nbformat_minor": 2
}
