{
 "cells": [
  {
   "cell_type": "markdown",
   "id": "6c3e4a53-9922-415c-8810-d2c638ec22b1",
   "metadata": {},
   "source": [
    "## Mang 2 chieu: list chua list (ma tran)\n",
    "\n",
    "moi list con chua 1 dong cua ma tran\n",
    "\n",
    "**truy cap bang chi so**\n",
    "\n",
    "i hang j cot \n",
    "\n",
    "1. Tim phan tu lan nhat, nho nhat trong mang: duyet qua tung dong\n",
    "2. Flatten mang 2 chieu thanh 1 chieu\n",
    "3. Tinh tong cac phan tu tren 1 hang hay 1 cot\n",
    "4. \n"
   ]
  },
  {
   "cell_type": "code",
   "execution_count": 13,
   "id": "154eb0d8-63af-454b-930a-705a3484edd2",
   "metadata": {},
   "outputs": [
    {
     "name": "stdout",
     "output_type": "stream",
     "text": [
      " 2 3\n",
      " 1 2 3 \n",
      " 4 5 6\n"
     ]
    },
    {
     "name": "stdout",
     "output_type": "stream",
     "text": [
      "1 2 3 \n",
      "4 5 6 \n",
      "[[1, 2, 3], [4, 5, 6]]\n"
     ]
    }
   ],
   "source": [
    "n, m = map(int,input().split())\n",
    "a = [] # tao 1 list\n",
    "for i in range(n):\n",
    "    b = list(map(int,input().split()))\n",
    "    a.append(b)\n",
    "#duyet mang \n",
    "for i in range (n):\n",
    "    # a[i] : dong thu i \n",
    "    # j la cot \n",
    "    for j in range (m):\n",
    "        print (a[i][j], end = ' ')\n",
    "    print()\n",
    "print(a)"
   ]
  },
  {
   "cell_type": "code",
   "execution_count": 8,
   "id": "d1caaf9e-e558-433b-a414-e0993b310576",
   "metadata": {},
   "outputs": [
    {
     "name": "stdout",
     "output_type": "stream",
     "text": [
      " 4 5\n"
     ]
    },
    {
     "name": "stdout",
     "output_type": "stream",
     "text": [
      "[[0, 0, 0, 0, 0], [0, 0, 0, 0, 0], [0, 0, 0, 0, 0], [0, 0, 0, 0, 0]]\n"
     ]
    }
   ],
   "source": [
    "#dung list comprehension \n",
    "n, m = map(int,input().split())\n",
    "a = [[0 for _ in range(m)] for _ in range (n)]\n",
    "print (a)"
   ]
  },
  {
   "cell_type": "code",
   "execution_count": 41,
   "id": "0656b8e8-fa26-4af3-85a3-ad35da32b81b",
   "metadata": {},
   "outputs": [
    {
     "name": "stdout",
     "output_type": "stream",
     "text": [
      " 2 3\n",
      " 999 150 6 9\n",
      " 0 1 5555 66\n"
     ]
    },
    {
     "name": "stdout",
     "output_type": "stream",
     "text": [
      "0 5555\n"
     ]
    }
   ],
   "source": [
    "# tim phan tu max, min \n",
    "\n",
    "if __name__ == '__main__':\n",
    "    n,m = map(int,input().split())\n",
    "    a = []\n",
    "    minV, maxV = 10**18, -10**18\n",
    "    \n",
    "    for i in range (n):\n",
    "        b = list(map(int,input().split()))\n",
    "        a.append(b)\n",
    "    for i in range (n):\n",
    "        minV = min(minV, min(a[i]))\n",
    "        maxV = max(maxV, max(a[i]))\n",
    "    print(minV,maxV)\n",
    "\n",
    "    \n",
    "''' C2: \n",
    "    for i in range (n):\n",
    "        for j in range (m):\n",
    "            minV = min(minV, a[i][j])\n",
    "            maxV = max(maxV, a[i][j])\n",
    "            '''"
   ]
  },
  {
   "cell_type": "code",
   "execution_count": 49,
   "id": "326e3be7-480e-416b-947c-797b8bf75756",
   "metadata": {},
   "outputs": [
    {
     "name": "stdout",
     "output_type": "stream",
     "text": [
      " 2 3\n",
      " 4 5 9\n",
      " 1 2 0\n"
     ]
    },
    {
     "name": "stdout",
     "output_type": "stream",
     "text": [
      "0 9\n",
      "[4, 5, 9, 1, 2, 0]\n"
     ]
    }
   ],
   "source": [
    "# Flatten mang 2 chieu thanh mang 1 chieu \n",
    "if __name__ == '__main__':\n",
    "    n,m = map(int,input().split())\n",
    "\n",
    "    a = [list(map(int, input().split())) for _ in range(n)]\n",
    "    b = [x for small_list in a  for x in small_list]\n",
    "    print(min(b), max(b))\n",
    "    print(b)\n",
    "    \n",
    "    "
   ]
  },
  {
   "cell_type": "code",
   "execution_count": 62,
   "id": "aa04fb6d-ea1e-4c0d-b578-02b1d36b4339",
   "metadata": {},
   "outputs": [
    {
     "name": "stdout",
     "output_type": "stream",
     "text": [
      " 3 4\n",
      " 1 2 3 4\n",
      " 5 6 7 8\n",
      " 1 2 3 4\n"
     ]
    },
    {
     "name": "stdout",
     "output_type": "stream",
     "text": [
      "10 26 10 \n",
      "7 10 13 16 "
     ]
    }
   ],
   "source": [
    "#Tinh tong cac phan tu tren 1 hang hay 1 cot\n",
    "\n",
    "if __name__=='__main__':\n",
    "    n,m = map(int,input().split())\n",
    "    a  = [list(map(int,input().split())) for _ in range (n)]\n",
    "    # tong theo hang \n",
    "    for i in range(n):\n",
    "        print(sum(a[i]), end = ' ')\n",
    "    print()\n",
    "    #tong duyet theo cot\n",
    "    for j in range(m):\n",
    "        tong = 0\n",
    "        for i in range(n):\n",
    "            tong += a[i][j]\n",
    "        print(tong, end = ' ')"
   ]
  },
  {
   "cell_type": "code",
   "execution_count": 70,
   "id": "a05d0f6c-c3a4-40e7-9e47-3b35604e8304",
   "metadata": {},
   "outputs": [
    {
     "name": "stdout",
     "output_type": "stream",
     "text": [
      " 2 3\n",
      " 1 2 3\n",
      " 4 5 6\n"
     ]
    },
    {
     "name": "stdout",
     "output_type": "stream",
     "text": [
      "[[1, 4], [2, 5], [3, 6]]\n"
     ]
    }
   ],
   "source": [
    "# ma tran chuyen vi \n",
    "if __name__ == '__main__':\n",
    "    n,m = map(int, input().split())\n",
    "    a= [list(map(int,input().split())) for _ in range(n)]\n",
    "    chuyenVi = [[row[i] for row in a] for i in range (len(a[0]))]\n",
    "    print(chuyenVi)"
   ]
  },
  {
   "cell_type": "markdown",
   "id": "964d958a-31ee-4122-bc01-4c9ec793ad8b",
   "metadata": {},
   "source": [
    "#### Cac phep toan trong ma tran \n",
    "\n",
    "1. cong / tru 2 ma tran\n",
    "2. nhan 2 ma tran : a[n][m] x b[m][q] = c[m][q]\n",
    "    Nhan hang + cot \n",
    "3. "
   ]
  },
  {
   "cell_type": "markdown",
   "id": "35854a42-95c5-4a96-a487-0758d846e277",
   "metadata": {},
   "source": [
    "### Duyệt các ô liền kề  trong ma trận \n",
    "\n",
    "1. Dùng 1 mảng lưu các cặp chỉ số thay đổi của các ô xung quanh nó \n",
    "2.  cho x duyệt mảng đó và i + x[0] và j + x[1]"
   ]
  },
  {
   "cell_type": "code",
   "execution_count": 5,
   "id": "2c917c8e-a7b7-46c1-9478-661d3adb2708",
   "metadata": {},
   "outputs": [
    {
     "name": "stdout",
     "output_type": "stream",
     "text": [
      "2 4 6 8 "
     ]
    }
   ],
   "source": [
    "a = [\n",
    "    [1,2,3],\n",
    "    [4,5,6],\n",
    "    [7,8,9]\n",
    "]\n",
    "path = [[-1, 0], [0, -1], [0, 1], [1, 0]]\n",
    "# i hàng j cột : hàng 1 , cột không đổi, hàng 2; 2 ô xq, hàng 3 ở dưới 1 ô\n",
    "i,j = 1,1 # ô chứa giá trị 5, hàng và cột bắt đầu từ chỉ số 0\n",
    "for x in path:\n",
    "    i1, j1 = i  + x[0] , j + x[1]\n",
    "    print( a[i1][j1], end = ' ')"
   ]
  },
  {
   "cell_type": "code",
   "execution_count": 27,
   "id": "e0366188-d265-46fa-b708-5e750d9e5594",
   "metadata": {},
   "outputs": [
    {
     "name": "stdout",
     "output_type": "stream",
     "text": [
      " 3 3\n",
      " 1 2 3 \n",
      " 4 5 6\n",
      " 7 8 9\n"
     ]
    },
    {
     "name": "stdout",
     "output_type": "stream",
     "text": [
      "2 3 \n",
      "5 \n",
      "7 \n"
     ]
    }
   ],
   "source": [
    "from math import *\n",
    "\n",
    "def prime(n):\n",
    "    if n < 2:\n",
    "        return False\n",
    "    for i in range(2, isqrt(n) + 1):\n",
    "        if n % i == 0:\n",
    "            return False\n",
    "    return True\n",
    "\n",
    "if __name__ == '__main__':\n",
    "    n, m = map(int, input().split())\n",
    "    a = [list(map(int, input().split())) for _ in range(n)]\n",
    "    for i in range(n):\n",
    "        for j in range(m):\n",
    "            if prime(a[i][j]):\n",
    "                print(a[i][j], end = ' ')\n",
    "        print()\n",
    "    \n",
    "    "
   ]
  },
  {
   "cell_type": "code",
   "execution_count": 38,
   "id": "80d46f35-d4fe-4002-8b5a-60c0ac840c64",
   "metadata": {},
   "outputs": [
    {
     "name": "stdout",
     "output_type": "stream",
     "text": [
      " 3 3\n",
      " 1 2 3\n",
      " 4 5 6\n",
      " 7 8 9\n"
     ]
    },
    {
     "name": "stdout",
     "output_type": "stream",
     "text": [
      "6 15 24 \n",
      "12 15 18 "
     ]
    }
   ],
   "source": [
    "# tong hang, tong cot \n",
    "if __name__ == '__main__':\n",
    "    n,m = map(int,input().split())\n",
    "    a = [list(map(int,input().split())) for _ in range(n)]\n",
    "    Rsum, Csum = 0, 0\n",
    "    for i in range (n):\n",
    "        for j in range (m):\n",
    "            Rsum += a[i][j]\n",
    "        print(Rsum, end= ' ')\n",
    "        Rsum = 0\n",
    "    print() \n",
    "    for j in range (m):\n",
    "         for i in range (n):\n",
    "             Csum += a[i][j]\n",
    "         print(Csum, end = ' ') \n",
    "         Csum = 0\n",
    "        "
   ]
  },
  {
   "cell_type": "code",
   "execution_count": 66,
   "id": "4cb7e0b7-b669-4cbb-a4fc-f1233cea4a91",
   "metadata": {},
   "outputs": [
    {
     "name": "stdin",
     "output_type": "stream",
     "text": [
      " 3 3\n",
      " 1 2 1\n",
      " 4 5 6\n",
      " 7 8 9\n"
     ]
    },
    {
     "name": "stdout",
     "output_type": "stream",
     "text": [
      "1\n",
      "1 1\n",
      "1 3\n",
      "9\n",
      "3 3\n"
     ]
    }
   ],
   "source": [
    "if __name__ == '__main__':\n",
    "    n, m = map(int, input().split())\n",
    "    a = [list(map(int, input().split())) for _ in range(n)]\n",
    "    \n",
    "    minV, maxV = 10**18, -10**18\n",
    "    minP, maxP = [], []\n",
    "    \n",
    "    for i in range(n):\n",
    "        for j in range(m):\n",
    "            if a[i][j] < minV:\n",
    "                minV = a[i][j]\n",
    "                minP = [(i + 1, j + 1)]  # Adjust indices to start from 1\n",
    "            elif a[i][j] == minV:\n",
    "                minP.append((i + 1, j + 1))\n",
    "                \n",
    "            if a[i][j] > maxV:\n",
    "                maxV = a[i][j]\n",
    "                maxP = [(i + 1, j + 1)]\n",
    "            elif a[i][j] == maxV:\n",
    "                maxP.append((i + 1, j + 1))\n",
    "    \n",
    "    print(minV)\n",
    "    for pos in minP:\n",
    "        print(*pos)\n",
    "    \n",
    "    print(maxV)\n",
    "    for pos in maxP:\n",
    "        print(*pos)\n"
   ]
  },
  {
   "cell_type": "code",
   "execution_count": 19,
   "id": "aa323260-e02e-46c5-aae9-078273c1b3f0",
   "metadata": {},
   "outputs": [
    {
     "name": "stdin",
     "output_type": "stream",
     "text": [
      " 3\n",
      " 1 2 3\n",
      " 22 14 56\n",
      " 76 5 4\n"
     ]
    },
    {
     "name": "stdout",
     "output_type": "stream",
     "text": [
      "4\n"
     ]
    }
   ],
   "source": [
    "def is_palindrome(n):\n",
    "    \"\"\"Kiểm tra số n có phải số thuận nghịch không.\"\"\"\n",
    "    s = str(n)\n",
    "    return s == s[::-1]\n",
    "\n",
    "if __name__ == '__main__':\n",
    "    n = int(input())\n",
    "    a = [list(map(int, input().split())) for _ in range(n)]\n",
    "    cnt = 0\n",
    "\n",
    "    for i in range(n):\n",
    "        for j in range(n):\n",
    "            if i >= j:  # Thuộc tam giác dưới\n",
    "                if is_palindrome(a[i][j]):\n",
    "                    cnt += 1\n",
    "    print(cnt)\n"
   ]
  },
  {
   "cell_type": "code",
   "execution_count": null,
   "id": "a6659932-9f3e-4df9-bfe9-6728f8c58049",
   "metadata": {},
   "outputs": [],
   "source": [
    "if __name__ == '__main__':\n",
    "    n = int(input())  # Nhập kích thước của ma trận vuông\n",
    "    a = [list(map(int, input().split())) for _ in range(n)]  # Nhập ma trận n x n\n",
    "\n",
    "    # Hình 1: Chuyển vị (Transpose)\n",
    "    print('Pattern 1:')\n",
    "    for i in range(n):\n",
    "        for j in range(n):\n",
    "            print(a[j][i], end=' ')  # In cột i trở thành hàng i\n",
    "        print()\n",
    "\n",
    "    # Hình 2: Đảo ngược hoàn toàn (rotate 180°)\n",
    "    print('Pattern 2:')\n",
    "    for i in range(n-1, -1, -1):\n",
    "        for j in range(n-1, -1, -1):\n",
    "            print(a[i][j], end=' ')  # In đảo ngược hàng và cột\n",
    "        print()\n",
    "\n",
    "    # Hình 3: Xoay 90° ngược chiều kim đồng hồ\n",
    "    print('Pattern 3:')\n",
    "    for i in range(n-1, -1, -1):\n",
    "        for j in range(n):\n",
    "            print(a[j][i], end=' ')  # In cột i từ cuối lên, tạo thành hàng mới\n",
    "        print()\n",
    "\n",
    "    # Hình 4: Xoay 90° theo chiều kim đồng hồ\n",
    "    print('Pattern 4:')\n",
    "    for i in range(n):\n",
    "        for j in range(n-1, -1, -1):\n",
    "            print(a[j][i], end=' ')  # In cột i từ đầu xuống, tạo thành hàng mới\n",
    "        print()\n"
   ]
  },
  {
   "cell_type": "code",
   "execution_count": 99,
   "id": "798c1e42-9bde-4f95-812c-9364d310dcb2",
   "metadata": {},
   "outputs": [
    {
     "name": "stdin",
     "output_type": "stream",
     "text": [
      " 3\n",
      " 1 2 3\n",
      " 4 5 6\n",
      " 7 8 9\n"
     ]
    },
    {
     "name": "stdout",
     "output_type": "stream",
     "text": [
      "3 2 1 \n",
      "4 5 6 \n",
      "9 8 7 \n"
     ]
    }
   ],
   "source": [
    "from math import*\n",
    "\n",
    "if __name__ == '__main__':\n",
    "    n = int(input())\n",
    "    a = [list(map(int,input().split())) for _ in range (n)]\n",
    "    for i in range (n):\n",
    "        for j in range (n):\n",
    "            if i == j :\n",
    "                print (a[i][n-1-i], end =' ')\n",
    "            elif j == n-1 -i :\n",
    "                print (a[i][i], end = ' ')\n",
    "            else:\n",
    "                print(a[i][j], end = ' ')\n",
    "        print()\n",
    "            "
   ]
  },
  {
   "cell_type": "code",
   "execution_count": 91,
   "id": "dbb4bea0-826f-4ad2-9399-eded7e4b06b1",
   "metadata": {},
   "outputs": [
    {
     "name": "stdout",
     "output_type": "stream",
     "text": [
      "3\n"
     ]
    }
   ],
   "source": [
    "print(ceil(5/2))"
   ]
  },
  {
   "cell_type": "code",
   "execution_count": 101,
   "id": "9f5f47c7-8d5f-4b7d-ad14-b8daa688875e",
   "metadata": {},
   "outputs": [
    {
     "name": "stdin",
     "output_type": "stream",
     "text": [
      " 3\n",
      " 1 2 3\n",
      " 4 5 6\n",
      " 7 8 9\n",
      " 1 3\n"
     ]
    },
    {
     "name": "stdout",
     "output_type": "stream",
     "text": [
      "7 8 9 \n",
      "4 5 6 \n",
      "1 2 3 \n"
     ]
    }
   ],
   "source": [
    "#Hoan vi 2 hang \n",
    "from math import *\n",
    "if __name__ == '__main__':\n",
    "    n = int(input())\n",
    "    a = [list(map(int, input().split())) for _ in range(n)]\n",
    "    u,v= map(int,input().split())\n",
    "    for i in range (n):\n",
    "        for j in range (n):\n",
    "            if i == u -1:\n",
    "                print (a[v-1][j], end = ' ')\n",
    "            elif i == v -1:\n",
    "                print (a[u-1][j], end = ' ')\n",
    "            else:\n",
    "                print(a[i][j], end = ' ')\n",
    "        print()"
   ]
  },
  {
   "cell_type": "code",
   "execution_count": 103,
   "id": "23504421-5f75-4f96-a710-1aa0776a9349",
   "metadata": {},
   "outputs": [
    {
     "name": "stdin",
     "output_type": "stream",
     "text": [
      " 3\n",
      " 1 2 3\n",
      " 4 5 6\n",
      " 7 8 9\n",
      " 1 3\n"
     ]
    },
    {
     "name": "stdout",
     "output_type": "stream",
     "text": [
      "3 2 1 \n",
      "6 5 4 \n",
      "9 8 7 \n"
     ]
    }
   ],
   "source": [
    "#Hoan vi 2 cot \n",
    "from math import *\n",
    "if __name__ == '__main__':\n",
    "    n = int(input())\n",
    "    a = [list(map(int, input().split())) for _ in range(n)]\n",
    "    u,v= map(int,input().split())\n",
    "    for i in range (n):\n",
    "        for j in range (n):\n",
    "            if j == u -1:\n",
    "                print (a[i][v-1], end = ' ')\n",
    "            elif j == v -1:\n",
    "                print (a[i][u-1], end = ' ')\n",
    "            else:\n",
    "                print(a[i][j], end = ' ')\n",
    "        print()"
   ]
  },
  {
   "cell_type": "code",
   "execution_count": 29,
   "id": "9764315a-e245-4ccf-98f3-e89f4342bd39",
   "metadata": {},
   "outputs": [
    {
     "name": "stdin",
     "output_type": "stream",
     "text": [
      " 4\n",
      " 1 2 3 4\n",
      " 5 6 7 8\n",
      " 9 10 1 2\n",
      " 2 3 5 7\n"
     ]
    },
    {
     "name": "stdout",
     "output_type": "stream",
     "text": [
      "3\n"
     ]
    }
   ],
   "source": [
    "from math import isqrt\n",
    "\n",
    "def nto(m):\n",
    "    if m < 2:\n",
    "        return False\n",
    "    for i in range(2, isqrt(m) + 1):\n",
    "        if m % i == 0:\n",
    "            return False\n",
    "    return True\n",
    "\n",
    "if __name__ == '__main__':\n",
    "    n = int(input())\n",
    "    a = [list(map(int, input().split())) for _ in range(n)]\n",
    "    cnt =0\n",
    "    for i in range(n):\n",
    "        # Đường chéo chính\n",
    "        if nto(a[i][i]):\n",
    "            cnt +=1\n",
    "        # Đường chéo phụ (khác đường chéo chính)\n",
    "        if nto(a[i][n - i - 1]):\n",
    "            cnt +=1\n",
    "    if n % 2 == 1:\n",
    "        # vi neu la n la so le thi tai a[i][j] se bi dem 2 lan\n",
    "        if nto(a[n//2][n//2]):\n",
    "            cnt-=1 \n",
    "    print(cnt)  "
   ]
  },
  {
   "cell_type": "code",
   "execution_count": 31,
   "id": "a21417d2-621e-4afe-9826-c74c88a447da",
   "metadata": {},
   "outputs": [
    {
     "name": "stdin",
     "output_type": "stream",
     "text": [
      " 3\n",
      " 3 2 3\n",
      " 4 5 6\n",
      " 7 8 9\n"
     ]
    },
    {
     "name": "stdout",
     "output_type": "stream",
     "text": [
      "3\n"
     ]
    }
   ],
   "source": [
    "from math import isqrt\n",
    "\n",
    "def nto(m):\n",
    "    \"\"\"Hàm kiểm tra số nguyên tố\"\"\"\n",
    "    if m < 2:\n",
    "        return False\n",
    "    for i in range(2, isqrt(m) + 1):  # Sửa lại phạm vi\n",
    "        if m % i == 0:\n",
    "            return False\n",
    "    return True\n",
    "\n",
    "if __name__ == '__main__':\n",
    "    n = int(input())\n",
    "    a = [list(map(int, input().split())) for _ in range(n)]\n",
    "    \n",
    "    primes = set()  # Tập hợp để lưu các số nguyên tố duy nhất\n",
    "    for i in range(n):\n",
    "        # Đường chéo chính\n",
    "        if nto(a[i][i]):\n",
    "            primes.add(a[i][i])\n",
    "        # Đường chéo phụ (khác đường chéo chính)\n",
    "        if nto(a[i][n - i - 1]):\n",
    "            primes.add(a[i][n - i - 1])\n",
    "\n",
    "    print(len(primes))\n"
   ]
  },
  {
   "cell_type": "code",
   "execution_count": 39,
   "id": "cc3f616c-ffc5-42c8-85c2-898d7c87951f",
   "metadata": {},
   "outputs": [
    {
     "name": "stdin",
     "output_type": "stream",
     "text": [
      " 2\n",
      " 6 4\n",
      " 1 8\n"
     ]
    },
    {
     "name": "stdout",
     "output_type": "stream",
     "text": [
      "4 6\n",
      "1 8\n"
     ]
    }
   ],
   "source": [
    "from math import *\n",
    "# sap xep ma tran theo hang tang dan \n",
    "if __name__ == '__main__':\n",
    "    n = int(input())\n",
    "    a = [list(map(int, input().split())) for _ in range (n)]\n",
    "    for i in a:\n",
    "        i.sort()\n",
    "    for i in a:\n",
    "        print(*i)    "
   ]
  },
  {
   "cell_type": "code",
   "execution_count": 45,
   "id": "b6de9aa2-d2ad-42e4-a38e-d22f51f3569e",
   "metadata": {},
   "outputs": [
    {
     "name": "stdin",
     "output_type": "stream",
     "text": [
      " 3\n",
      " 1 2 3\n",
      " 5 5 2\n",
      " 1 4 7\n"
     ]
    },
    {
     "name": "stdout",
     "output_type": "stream",
     "text": [
      "1 2 2 \n",
      "1 4 3 \n",
      "5 5 7 \n"
     ]
    }
   ],
   "source": [
    "# sap xep theo cot \n",
    "\n",
    "if __name__ == '__main__':\n",
    "    n = int(input())\n",
    "    a = [ list(map(int, input().split())) for _ in range(n) ]\n",
    "    chuyenVi = [ [a[j][i] for j in range (n)] for i in range(n)]\n",
    "    for row in chuyenVi:\n",
    "        row.sort()\n",
    "    for i in range(n):\n",
    "        for j in range(n):\n",
    "            print (chuyenVi[j][i], end= ' ')\n",
    "        print ()"
   ]
  },
  {
   "cell_type": "code",
   "execution_count": 53,
   "id": "86983a37-50ba-4f2c-81ef-97ba44510f8f",
   "metadata": {},
   "outputs": [
    {
     "name": "stdin",
     "output_type": "stream",
     "text": [
      " 3 4 5\n",
      " 1 2 3 4\n",
      " 5 6 7 8\n",
      " 9 10 11 12\n",
      " 1 2 3 4 5\n",
      " 6 7 8 9 10\n",
      " 11 12 13 14 15\n",
      " 16 17 18 19 20\n"
     ]
    },
    {
     "name": "stdout",
     "output_type": "stream",
     "text": [
      "110 120 130 140 150\n",
      "246 272 298 324 350\n",
      "382 424 466 508 550\n"
     ]
    }
   ],
   "source": [
    "#nhan 2 ma tran \n",
    "\n",
    "if __name__ == '__main__':\n",
    "    n,m, p = map(int,input().split())\n",
    "    a = [list(map(int,input().split())) for _ in range (n)]\n",
    "    b = [list(map(int,input().split())) for _ in range (m)]\n",
    "    c = [ [0 for _ in range (p)] for _ in range(n)]\n",
    "    for i in range (n):\n",
    "        for j in range (p):\n",
    "            c[i][j] = 0\n",
    "            for k in range (m):\n",
    "                c[i][j] += a[i][k] * b[k][j]\n",
    "    for i in c:\n",
    "        print(*i)"
   ]
  },
  {
   "cell_type": "code",
   "execution_count": 63,
   "id": "55505880-3a90-4bd5-8e10-eaef4f195069",
   "metadata": {},
   "outputs": [
    {
     "name": "stdin",
     "output_type": "stream",
     "text": [
      " 3\n"
     ]
    },
    {
     "name": "stdout",
     "output_type": "stream",
     "text": [
      "1 2 3\n",
      "8 9 4\n",
      "7 6 5\n"
     ]
    }
   ],
   "source": [
    "def matrixoan(n):\n",
    "    a = [[0] * n for _ in range(n)]  # Tạo ma trận ban đầu toàn giá trị 0\n",
    "    # Các hướng di chuyển: phải, xuống, trái, lên\n",
    "    direction = [(0, 1), (1, 0), (0, -1), (-1, 0)]\n",
    "    x, y = 0, 0  # Bắt đầu từ vị trí trên cùng bên trái (0, 0)\n",
    "    cur = 1  # Giá trị bắt đầu\n",
    "    start = 0  # Bắt đầu di chuyển sang phải\n",
    "\n",
    "    while cur <= n * n:  # Tiếp tục cho đến khi điền hết ma trận\n",
    "        a[x][y] = cur  # Gán giá trị cho vị trí (x, y)\n",
    "        cur += 1  # Tăng giá trị cần gán\n",
    "\n",
    "        # Tính toán vị trí tiếp theo\n",
    "        stepX = x + direction[start][0]\n",
    "        stepY = y + direction[start][1]\n",
    "\n",
    "        # Kiểm tra nếu vị trí tiếp theo không hợp lệ (ra ngoài ma trận hoặc đã có giá trị)\n",
    "        if not (0 <= stepX < n and 0 <= stepY < n and a[stepX][stepY] == 0):\n",
    "            # Nếu không hợp lệ, thay đổi hướng đi\n",
    "            start = (start + 1) % 4  # Chuyển sang hướng tiếp theo\n",
    "            stepX = x + direction[start][0]\n",
    "            stepY = y + direction[start][1]\n",
    "\n",
    "        # Cập nhật lại vị trí (x, y) để tiếp tục\n",
    "        x, y = stepX, stepY\n",
    "\n",
    "    return a\n",
    "\n",
    "\n",
    "if __name__ == '__main__':\n",
    "    n = int(input())  # Nhập kích thước ma trận\n",
    "    a = matrixoan(n)  # Tạo ma trận xoáy ốc\n",
    "    for row in a:\n",
    "        print(' '.join(map(str, row))) \n"
   ]
  },
  {
   "cell_type": "code",
   "execution_count": 73,
   "id": "b9b76cea-c2d6-40b6-81b0-93eabf3ae33c",
   "metadata": {},
   "outputs": [
    {
     "name": "stdin",
     "output_type": "stream",
     "text": [
      " 4 7\n",
      " 0 1 1 0 1 1 0\n",
      " 1 1 1 1 1 1 1\n",
      " 1 0 0 0 0 1 1\n",
      " 1 1 0 1 0 0 0\n"
     ]
    },
    {
     "name": "stdout",
     "output_type": "stream",
     "text": [
      "2\n"
     ]
    }
   ],
   "source": [
    "from math import *\n",
    "\n",
    "# Hàm duyệt các ô liên kết có giá trị 1\n",
    "def loang(i, j, a, n, m):\n",
    "    a[i][j] = 0  # Đánh dấu ô đã duyệt\n",
    "    # Duyệt các hướng: lên, xuống, trái, phải\n",
    "    path = [[-1, 0], [0, -1], [0, 1], [1, 0]]\n",
    "    for x, y in path:\n",
    "        i1 = i + x\n",
    "        j1 = j + y\n",
    "        # Kiểm tra nếu ô kế tiếp hợp lệ và chưa được duyệt (có giá trị 1)\n",
    "        if 0 <= i1 < n and 0 <= j1 < m and a[i1][j1] == 1:\n",
    "            loang(i1, j1, a, n, m)\n",
    "\n",
    "if __name__ == '__main__':\n",
    "    # Nhập kích thước ma trận\n",
    "    n, m = map(int, input().split())\n",
    "    # Nhập ma trận nhị phân\n",
    "    a = [list(map(int, input().split())) for _ in range(n)]\n",
    "    \n",
    "    dem = 0  # Biến đếm số miền liên thông có giá trị 1\n",
    "    # Duyệt qua tất cả các ô trong ma trận\n",
    "    for i in range(n):\n",
    "        for j in range(m):\n",
    "            if a[i][j] == 1:  # Nếu ô có giá trị 1 thì bắt đầu duyệt\n",
    "                dem += 1\n",
    "                loang(i, j, a, n, m)  # Gọi hàm loang để đánh dấu các ô liên thông\n",
    "    \n",
    "    # In ra số lượng miền\n",
    "    print(dem)\n"
   ]
  },
  {
   "cell_type": "code",
   "execution_count": 81,
   "id": "bbdb11c6-0529-4ddc-a0c1-12b0e49687ab",
   "metadata": {},
   "outputs": [
    {
     "name": "stdin",
     "output_type": "stream",
     "text": [
      " 3 3\n",
      " 1 0 1\n",
      " 0 0 1\n",
      " 1 1 0\n"
     ]
    },
    {
     "name": "stdout",
     "output_type": "stream",
     "text": [
      "2\n"
     ]
    }
   ],
   "source": [
    "from math import *\n",
    "\n",
    "# Hàm duyệt các ô chung dinh ó giá trị 1: 8 o xung quang \n",
    "def loang(i, j, a, n, m):\n",
    "    a[i][j] = 0  # Đánh dấu ô đã duyệt\n",
    "    # Duyệt các hướng: lên, xuống, trái, phải, cheo trai, cheo phai, thang \n",
    "    path = [[-1, -1], [-1, 0],[-1,1],[0,-1], [0, 1], [1, -1], [1,0], [1, 1]]\n",
    "    for x, y in path:\n",
    "        i1 = i + x\n",
    "        j1 = j + y\n",
    "        # Kiểm tra nếu ô kế tiếp hợp lệ và chưa được duyệt (có giá trị 1)\n",
    "        if 0 <= i1 < n and 0 <= j1 < m and a[i1][j1] == 1:\n",
    "            loang(i1, j1, a, n, m)\n",
    "\n",
    "if __name__ == '__main__':\n",
    "    # Nhập kích thước ma trận\n",
    "    n, m = map(int, input().split())\n",
    "    # Nhập ma trận nhị phân\n",
    "    a = [list(map(int, input().split())) for _ in range(n)]\n",
    "    \n",
    "    dem = 0  # Biến đếm số miền liên thông có giá trị 1\n",
    "    # Duyệt qua tất cả các ô trong ma trận\n",
    "    for i in range(n):\n",
    "        for j in range(m):\n",
    "            if a[i][j] == 1:  # Nếu ô có giá trị 1 thì bắt đầu duyệt\n",
    "                dem += 1\n",
    "                loang(i, j, a, n, m)  # Gọi hàm loang để đánh dấu các ô liên thông\n",
    "    \n",
    "    # In ra số lượng miền\n",
    "    print(dem)\n"
   ]
  },
  {
   "cell_type": "code",
   "execution_count": 97,
   "id": "08457c07-44e1-4e4b-a188-2b1282ec20fd",
   "metadata": {},
   "outputs": [
    {
     "name": "stdin",
     "output_type": "stream",
     "text": [
      " 5 3\n",
      " 1 1 2\n",
      " 1 1 1\n",
      " 1 1 2\n",
      " 2 2 1\n",
      " 2 1 2\n"
     ]
    },
    {
     "name": "stdout",
     "output_type": "stream",
     "text": [
      "1\n"
     ]
    }
   ],
   "source": [
    "\n",
    "# Duyệt 8 ô chung đỉnh ( lên, xuống, trái, phải và các chéo)\n",
    "path = [[-1, -1], [-1, 0], [-1, 1], [0, -1], [0, 1], [1, -1], [1, 0], [1, 1]]\n",
    "\n",
    "def check(i,j):\n",
    "    # Kiểm tra xem a[i][j] có phải là cực đại không (lớn hơn tất cả các ô xung quanh)\n",
    "    for x, y in path:\n",
    "        i1, j1 = i + x, j + y\n",
    "        # Kiểm tra nếu vị trí (i1, j1) hợp lệ trong ma trận và nếu giá trị ô xung quanh không lớn hơn hoặc bằng a[i][j]\n",
    "        if 0 <= i1 < n and 0 <= j1 < m:\n",
    "            if a[i1][j1] >= a[i][j]:\n",
    "                return False\n",
    "    return True\n",
    "\n",
    "if __name__ == '__main__':\n",
    "    # Nhập kích thước ma trận\n",
    "    n, m = map(int, input().split())\n",
    "    # Nhập ma trận\n",
    "    a = [list(map(int, input().split())) for _ in range(n)]\n",
    "    \n",
    "    cnt = 0\n",
    "    for i in range(n):\n",
    "        for j in range(m):\n",
    "            if check(i,j): \n",
    "                cnt += 1\n",
    "    \n",
    "    print(cnt)\n"
   ]
  },
  {
   "cell_type": "code",
   "execution_count": 105,
   "id": "b0a3b2ec-9e06-41da-849a-671db718cd91",
   "metadata": {},
   "outputs": [
    {
     "name": "stdin",
     "output_type": "stream",
     "text": [
      " 3 3\n",
      " 1 2 2\n",
      " 3 10 2\n",
      " 5 7 2\n"
     ]
    },
    {
     "name": "stdout",
     "output_type": "stream",
     "text": [
      "23\n"
     ]
    }
   ],
   "source": [
    "# quy hoach dong tim tong duong di lon nhat\n",
    "\n",
    "from math import *\n",
    "\n",
    "if __name__ == '__main__':\n",
    "    n, m = map(int,input().split())\n",
    "    a = [list(map(int,input().split())) for _ in range(n)]\n",
    "    f = [[0 for i in range (m)] for _ in range (n)]\n",
    "    for i in range (n):\n",
    "        for j in range (m):\n",
    "            if i == 0 and j == 0: f[0][0] = a[0][0]\n",
    "            elif i == 0: f[i][j] = f[i][j-1] + a[i][j]\n",
    "            elif j == 0: f[i][j] = f[i-1][j] + a[i][j]\n",
    "            else: f[i][j] = max(f[i-1][j], f[i][j-1]) + a[i][j]\n",
    "    print (f[n-1][m-1])"
   ]
  },
  {
   "cell_type": "code",
   "execution_count": 115,
   "id": "d9935461-b806-4475-bda5-93931e0e5eed",
   "metadata": {},
   "outputs": [
    {
     "name": "stdin",
     "output_type": "stream",
     "text": [
      " 3 5\n",
      " 1 1 3 5\n",
      " 1 0 1 0 0\n",
      " 0 1 1 1 1\n",
      " 1 0 0 0 1\n"
     ]
    },
    {
     "name": "stdout",
     "output_type": "stream",
     "text": [
      "NO\n"
     ]
    }
   ],
   "source": [
    "#tim duong di den cac o u, v \n",
    "# loang tu o s,t den u,v\n",
    "from math import *\n",
    "\n",
    "path = [ [-1,0], [0 ,-1], [0,1], [1,0]]\n",
    "def loangUV(i,j, a, n, m ):\n",
    "    a[i][j] = 0\n",
    "    for x, y in path :\n",
    "        i1 = x + i\n",
    "        j1 = y + j\n",
    "        if 0<= i1<n and 0 <= j1 < m and a[i1][j1] ==1:\n",
    "            loangUV(i1,j1, a, n , m)\n",
    "            \n",
    "if __name__ == '__main__':\n",
    "    n,m = map(int,input().split())\n",
    "    s,t,u,v = map(int,input().split())\n",
    "    s,t,u,v = s-1, t-1,u-1, v-1\n",
    "    a = [ list(map(int,input().split())) for _ in range(n) ]\n",
    "    loangUV (s,t, a, n, m)\n",
    "    print ('YES' if a[u][v] == 0 else 'NO')"
   ]
  },
  {
   "cell_type": "code",
   "execution_count": 119,
   "id": "818986e1-e4c8-40b7-9003-d88a13d531b1",
   "metadata": {},
   "outputs": [
    {
     "name": "stdin",
     "output_type": "stream",
     "text": [
      " 2\n",
      " 1 0 2 3\n",
      " 1 1 \n",
      " 0 1\n"
     ]
    },
    {
     "ename": "IndexError",
     "evalue": "list index out of range",
     "output_type": "error",
     "traceback": [
      "\u001b[1;31m---------------------------------------------------------------------------\u001b[0m",
      "\u001b[1;31mIndexError\u001b[0m                                Traceback (most recent call last)",
      "Cell \u001b[1;32mIn[119], line 21\u001b[0m\n\u001b[0;32m     19\u001b[0m a \u001b[38;5;241m=\u001b[39m [ \u001b[38;5;28mlist\u001b[39m(\u001b[38;5;28mmap\u001b[39m(\u001b[38;5;28mint\u001b[39m,\u001b[38;5;28minput\u001b[39m()\u001b[38;5;241m.\u001b[39msplit())) \u001b[38;5;28;01mfor\u001b[39;00m _ \u001b[38;5;129;01min\u001b[39;00m \u001b[38;5;28mrange\u001b[39m (n)]\n\u001b[0;32m     20\u001b[0m loang(s, t, a ,n)\n\u001b[1;32m---> 21\u001b[0m \u001b[38;5;28mprint\u001b[39m( \u001b[38;5;124m'\u001b[39m\u001b[38;5;124mYES\u001b[39m\u001b[38;5;124m'\u001b[39m \u001b[38;5;28;01mif\u001b[39;00m a[u][v] \u001b[38;5;241m==\u001b[39m \u001b[38;5;241m0\u001b[39m \u001b[38;5;28;01melse\u001b[39;00m \u001b[38;5;124m'\u001b[39m\u001b[38;5;124mNO\u001b[39m\u001b[38;5;124m'\u001b[39m)\n",
      "\u001b[1;31mIndexError\u001b[0m: list index out of range"
     ]
    }
   ],
   "source": [
    "# di chuyen quan ma tu o s,t -> u, v\n",
    "\n",
    "from math import *\n",
    "\n",
    "path = [ [-2,-1], [ -2, 1], [-1,-2], [ -1, 2], [1, -2], [1, 2], [2,-1], [2, 1] ]\n",
    "def loang ( i, j, a, n):\n",
    "    a[i][j] = 0\n",
    "    for x, y in path:\n",
    "        i1 = x + i\n",
    "        j1 = y + j\n",
    "        if (0 <= i1< n and 0 <= j1 < n ) and a[i1][j1] == 1:\n",
    "            loang(i1,j1,a,n)\n",
    "\n",
    "if __name__ == '__main__':\n",
    "    n = int(input())\n",
    "    s, t, u, v = map(int,input().split())\n",
    "    s, t, u, v = s -1, t-1, u -1, v -1\n",
    "    \n",
    "    a = [ list(map(int,input().split())) for _ in range (n)]\n",
    "    loang(s, t, a ,n)\n",
    "    print( 'YES' if a[u][v] == 0 else 'NO')\n",
    "        "
   ]
  },
  {
   "cell_type": "code",
   "execution_count": 121,
   "id": "c3b10b7b-00e9-403a-944d-4c33e81110bb",
   "metadata": {},
   "outputs": [
    {
     "name": "stdin",
     "output_type": "stream",
     "text": [
      " 3\n",
      " 1 2 3\n",
      " 4 5 6\n",
      " 7 8 9\n"
     ]
    },
    {
     "name": "stdout",
     "output_type": "stream",
     "text": [
      "1 2 3 \n",
      "6 5 4 \n",
      "7 8 9 \n"
     ]
    }
   ],
   "source": [
    "#snack \n",
    "\n",
    "\n",
    "if __name__ =='__main__':\n",
    "    n = int(input())\n",
    "    a = [ list(map(int, input().split())) for _ in range (n)]\n",
    "\n",
    "    for i in range (n):\n",
    "        if i % 2 == 0:\n",
    "            for j in range (n):\n",
    "                print (a[i][j], end = ' ')\n",
    "        else:\n",
    "            for j in range ( n -1, -1, -1):\n",
    "                print (a[i][j], end = ' ')\n",
    "        print ()"
   ]
  },
  {
   "cell_type": "code",
   "execution_count": 137,
   "id": "8e0cd506-c816-4d09-859b-425585f1c5c8",
   "metadata": {},
   "outputs": [
    {
     "name": "stdin",
     "output_type": "stream",
     "text": [
      " 3\n",
      " 1 2 3\n",
      " 4 5 6\n",
      " 7 8 9\n"
     ]
    },
    {
     "name": "stdout",
     "output_type": "stream",
     "text": [
      "1 2 3 4 6 7 8 9 "
     ]
    }
   ],
   "source": [
    "#duyet bien cua ma tran \n",
    "n = int(input())\n",
    "a = [list(map(int,input().split())) for _ in range (n)]\n",
    "for i in range (n):\n",
    "    if i == 0 or i == n-1:\n",
    "        for j in range (n):\n",
    "            print(a[i][j], end= ' ')\n",
    "    else:\n",
    "        print ( a[i][0], a[i][n-1],end = ' ')"
   ]
  },
  {
   "cell_type": "code",
   "execution_count": 139,
   "id": "faaa759f-43b3-4e5a-ab36-ba3132386905",
   "metadata": {},
   "outputs": [
    {
     "name": "stdin",
     "output_type": "stream",
     "text": [
      " 4\n",
      " 1 2 2 3\n",
      " 2 1 2 4\n",
      " 1 4 5 2\n",
      " 2 2 3 1\n"
     ]
    },
    {
     "name": "stdout",
     "output_type": "stream",
     "text": [
      "1 2\n"
     ]
    }
   ],
   "source": [
    "#phan tu xuat hien ơ moi hang va in theo thu tu tu be den lon \n",
    "if __name__ == '__main__':\n",
    "    n = int(input())\n",
    "    a = [list(map(int, input().split())) for _ in range(n)]\n",
    "    cnt = {}  \n",
    "    \n",
    "    for i in range(n):\n",
    "        d = set()  \n",
    "        for j in range(n):\n",
    "            d.add(a[i][j])  # \n",
    "        for x in d:\n",
    "            if x in cnt:\n",
    "                cnt[x] += 1  \n",
    "            else:\n",
    "                cnt[x] = 1  # Khởi tạo giá trị ban đầu\n",
    "    \n",
    "    # Tìm các phần tử xuất hiện trong mọi hàng\n",
    "    result = [key for key, value in cnt.items() if value == n]\n",
    "    \n",
    "    if result:\n",
    "        print(' '.join(map(str, sorted(result))))\n",
    "    else:\n",
    "        print('NOT FOUND')\n"
   ]
  },
  {
   "cell_type": "code",
   "execution_count": null,
   "id": "654f0e60-4f4a-4089-8918-9f9a43f1c423",
   "metadata": {},
   "outputs": [],
   "source": [
    "def dfs(x, y, n, m, matrix, visited):\n",
    "    # Các hướng đi: trên, dưới, trái, phải\n",
    "    path= [(-1, 0), (1, 0), (0, -1), (0, 1)]\n",
    "    stack = [(x, y)]  # Sử dụng stack để triển khai DFS\n",
    "    visited[x][y] = True\n",
    "    area = 1  # Bắt đầu đếm diện tích của miền\n",
    "    \n",
    "    while stack:\n",
    "        cx, cy = stack.pop()\n",
    "        for dx, dy in path:\n",
    "            nx, ny = cx + dx, cy + dy\n",
    "            # Kiểm tra nếu ô (nx, ny) hợp lệ và chưa được thăm\n",
    "            if 0 <= nx < n and 0 <= ny < m and not visited[nx][ny] and matrix[nx][ny] == 1:\n",
    "                visited[nx][ny] = True\n",
    "                stack.append((nx, ny))\n",
    "                area += 1\n",
    "    \n",
    "    return area\n",
    "\n",
    "if __name__ == \"__main__\":\n",
    "    # Nhập kích thước ma trận\n",
    "    n, m = map(int, input().split())\n",
    "    # Nhập ma trận nhị phân\n",
    "    matrix = [list(map(int, input().split())) for _ in range(n)]\n",
    "    \n",
    "    # Ma trận đánh dấu các ô đã thăm\n",
    "    visited = [[False] * m for _ in range(n)]\n",
    "    max_area = 0  # Biến lưu diện tích lớn nhất\n",
    "    \n",
    "    # Duyệt qua từng ô trong ma trận\n",
    "    for i in range(n):\n",
    "        for j in range(m):\n",
    "            if matrix[i][j] == 1 and not visited[i][j]:\n",
    "                # Tìm diện tích miền liên thông chứa ô (i, j)\n",
    "                max_area = max(max_area, dfs(i, j, n, m, matrix, visited))\n",
    "    \n",
    "    # In diện tích miền lớn nhất\n",
    "    print(max_area)\n"
   ]
  },
  {
   "cell_type": "code",
   "execution_count": 143,
   "id": "7a96b7a6-7667-43f1-b7aa-9a02c5196815",
   "metadata": {},
   "outputs": [
    {
     "name": "stdin",
     "output_type": "stream",
     "text": [
      " 5 6\n",
      " 0 1 0 1 0 1\n",
      " 0 0 0 1 1 0\n",
      " 0 1 1 0 1 1\n",
      " 0 1 1 0 0 0\n",
      " 0 0 0 0 0 0\n"
     ]
    },
    {
     "name": "stdout",
     "output_type": "stream",
     "text": [
      "5\n"
     ]
    }
   ],
   "source": [
    "n, m = 0, 0 \n",
    "a = []\n",
    "cnt = 0\n",
    "\n",
    "# Các hướng đi: lên, trái, phải, xuống\n",
    "path = [(-1, 0), (0, -1), (0, 1), (1, 0)]\n",
    "\n",
    "def loang(i, j):\n",
    "    global cnt\n",
    "    a[i][j] = 0  # Đánh dấu đã thăm\n",
    "    cnt += 1\n",
    "    for x, y in path: \n",
    "        i1 = i + x\n",
    "        j1 = j + y\n",
    "        if 0 <= i1 < n and 0 <= j1 < m and a[i1][j1] == 1:\n",
    "            loang(i1, j1)\n",
    "\n",
    "if __name__ == '__main__':\n",
    "    n, m = map(int, input().split())\n",
    "    a = [list(map(int, input().split())) for _ in range(n)]\n",
    "    ans = 0\n",
    "    for i in range(n):\n",
    "        for j in range(m):\n",
    "            if a[i][j] == 1:  # Nếu ô là 1 và chưa thăm\n",
    "                cnt = 0\n",
    "                loang(i, j)  # Tìm miền liên thông từ ô này\n",
    "                ans = max(ans, cnt)  # Cập nhật diện tích lớn nhất\n",
    "    print(ans)\n"
   ]
  },
  {
   "cell_type": "code",
   "execution_count": null,
   "id": "6a5bbc51-3bd7-4756-ad76-e18d7671db72",
   "metadata": {},
   "outputs": [],
   "source": []
  }
 ],
 "metadata": {
  "kernelspec": {
   "display_name": "Python 3 (ipykernel)",
   "language": "python",
   "name": "python3"
  },
  "language_info": {
   "codemirror_mode": {
    "name": "ipython",
    "version": 3
   },
   "file_extension": ".py",
   "mimetype": "text/x-python",
   "name": "python",
   "nbconvert_exporter": "python",
   "pygments_lexer": "ipython3",
   "version": "3.12.4"
  }
 },
 "nbformat": 4,
 "nbformat_minor": 5
}
